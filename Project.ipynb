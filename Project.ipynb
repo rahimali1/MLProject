{
 "cells": [
  {
   "cell_type": "code",
   "execution_count": 1,
   "metadata": {},
   "outputs": [],
   "source": [
    "import pandas as pd\n",
    "import numpy as np"
   ]
  },
  {
   "cell_type": "code",
   "execution_count": 2,
   "metadata": {},
   "outputs": [],
   "source": [
    "songs=pd.read_csv('/Users/syedrahimali/Desktop/spotify/track_feature.csv')"
   ]
  },
  {
   "cell_type": "code",
   "execution_count": 3,
   "metadata": {},
   "outputs": [
    {
     "data": {
      "text/html": [
       "<div>\n",
       "<style scoped>\n",
       "    .dataframe tbody tr th:only-of-type {\n",
       "        vertical-align: middle;\n",
       "    }\n",
       "\n",
       "    .dataframe tbody tr th {\n",
       "        vertical-align: top;\n",
       "    }\n",
       "\n",
       "    .dataframe thead th {\n",
       "        text-align: right;\n",
       "    }\n",
       "</style>\n",
       "<table border=\"1\" class=\"dataframe\">\n",
       "  <thead>\n",
       "    <tr style=\"text-align: right;\">\n",
       "      <th></th>\n",
       "      <th>ID</th>\n",
       "      <th>NAME</th>\n",
       "      <th>DURATION_MS</th>\n",
       "      <th>KEY</th>\n",
       "      <th>MODE</th>\n",
       "      <th>TIME_SIGNATURE</th>\n",
       "      <th>ACOUSTICNESS</th>\n",
       "      <th>DANCEABILITY</th>\n",
       "      <th>ENERGY</th>\n",
       "      <th>INSTRUMENTALNESS</th>\n",
       "      <th>LIVENESS</th>\n",
       "      <th>LOUDNESS</th>\n",
       "      <th>SPEECHINESS</th>\n",
       "      <th>VALENCE</th>\n",
       "      <th>TEMPO</th>\n",
       "      <th>PLAYLIST</th>\n",
       "      <th>CLASS</th>\n",
       "    </tr>\n",
       "  </thead>\n",
       "  <tbody>\n",
       "    <tr>\n",
       "      <th>0</th>\n",
       "      <td>4Jle0Cjj88YkM7jbAjiFjf</td>\n",
       "      <td>Nights</td>\n",
       "      <td>307151</td>\n",
       "      <td>5</td>\n",
       "      <td>0</td>\n",
       "      <td>4</td>\n",
       "      <td>0.418</td>\n",
       "      <td>0.457</td>\n",
       "      <td>0.553</td>\n",
       "      <td>0.000001</td>\n",
       "      <td>0.113</td>\n",
       "      <td>-9.345</td>\n",
       "      <td>0.162</td>\n",
       "      <td>0.448</td>\n",
       "      <td>89.905</td>\n",
       "      <td>Liked</td>\n",
       "      <td>1</td>\n",
       "    </tr>\n",
       "  </tbody>\n",
       "</table>\n",
       "</div>"
      ],
      "text/plain": [
       "                       ID    NAME  DURATION_MS  KEY  MODE  TIME_SIGNATURE  \\\n",
       "0  4Jle0Cjj88YkM7jbAjiFjf  Nights       307151    5     0               4   \n",
       "\n",
       "   ACOUSTICNESS  DANCEABILITY  ENERGY  INSTRUMENTALNESS  LIVENESS  LOUDNESS  \\\n",
       "0         0.418         0.457   0.553          0.000001     0.113    -9.345   \n",
       "\n",
       "   SPEECHINESS  VALENCE   TEMPO PLAYLIST  CLASS  \n",
       "0        0.162    0.448  89.905    Liked      1  "
      ]
     },
     "execution_count": 3,
     "metadata": {},
     "output_type": "execute_result"
    }
   ],
   "source": [
    "songs.loc[songs['NAME']=='Nights']"
   ]
  },
  {
   "cell_type": "code",
   "execution_count": 4,
   "metadata": {},
   "outputs": [],
   "source": [
    "songs=songs.drop_duplicates(subset='NAME', keep='first', inplace= False)"
   ]
  },
  {
   "cell_type": "code",
   "execution_count": 5,
   "metadata": {},
   "outputs": [
    {
     "data": {
      "text/html": [
       "<div>\n",
       "<style scoped>\n",
       "    .dataframe tbody tr th:only-of-type {\n",
       "        vertical-align: middle;\n",
       "    }\n",
       "\n",
       "    .dataframe tbody tr th {\n",
       "        vertical-align: top;\n",
       "    }\n",
       "\n",
       "    .dataframe thead th {\n",
       "        text-align: right;\n",
       "    }\n",
       "</style>\n",
       "<table border=\"1\" class=\"dataframe\">\n",
       "  <thead>\n",
       "    <tr style=\"text-align: right;\">\n",
       "      <th></th>\n",
       "      <th>ID</th>\n",
       "      <th>NAME</th>\n",
       "      <th>DURATION_MS</th>\n",
       "      <th>KEY</th>\n",
       "      <th>MODE</th>\n",
       "      <th>TIME_SIGNATURE</th>\n",
       "      <th>ACOUSTICNESS</th>\n",
       "      <th>DANCEABILITY</th>\n",
       "      <th>ENERGY</th>\n",
       "      <th>INSTRUMENTALNESS</th>\n",
       "      <th>LIVENESS</th>\n",
       "      <th>LOUDNESS</th>\n",
       "      <th>SPEECHINESS</th>\n",
       "      <th>VALENCE</th>\n",
       "      <th>TEMPO</th>\n",
       "      <th>PLAYLIST</th>\n",
       "      <th>CLASS</th>\n",
       "    </tr>\n",
       "  </thead>\n",
       "  <tbody>\n",
       "    <tr>\n",
       "      <th>118</th>\n",
       "      <td>2ohegz9maxzroKBu9YhcCM</td>\n",
       "      <td>Pilot Jones</td>\n",
       "      <td>184080</td>\n",
       "      <td>8</td>\n",
       "      <td>1</td>\n",
       "      <td>1</td>\n",
       "      <td>0.485</td>\n",
       "      <td>0.394</td>\n",
       "      <td>0.433</td>\n",
       "      <td>0.000078</td>\n",
       "      <td>0.817</td>\n",
       "      <td>-13.473</td>\n",
       "      <td>0.374</td>\n",
       "      <td>0.394</td>\n",
       "      <td>118.988</td>\n",
       "      <td>Liked</td>\n",
       "      <td>1</td>\n",
       "    </tr>\n",
       "  </tbody>\n",
       "</table>\n",
       "</div>"
      ],
      "text/plain": [
       "                         ID         NAME  DURATION_MS  KEY  MODE  \\\n",
       "118  2ohegz9maxzroKBu9YhcCM  Pilot Jones       184080    8     1   \n",
       "\n",
       "     TIME_SIGNATURE  ACOUSTICNESS  DANCEABILITY  ENERGY  INSTRUMENTALNESS  \\\n",
       "118               1         0.485         0.394   0.433          0.000078   \n",
       "\n",
       "     LIVENESS  LOUDNESS  SPEECHINESS  VALENCE    TEMPO PLAYLIST  CLASS  \n",
       "118     0.817   -13.473        0.374    0.394  118.988    Liked      1  "
      ]
     },
     "execution_count": 5,
     "metadata": {},
     "output_type": "execute_result"
    }
   ],
   "source": [
    "songs.loc[songs['NAME']=='Pilot Jones']"
   ]
  },
  {
   "cell_type": "code",
   "execution_count": 6,
   "metadata": {},
   "outputs": [
    {
     "data": {
      "text/html": [
       "<div>\n",
       "<style scoped>\n",
       "    .dataframe tbody tr th:only-of-type {\n",
       "        vertical-align: middle;\n",
       "    }\n",
       "\n",
       "    .dataframe tbody tr th {\n",
       "        vertical-align: top;\n",
       "    }\n",
       "\n",
       "    .dataframe thead th {\n",
       "        text-align: right;\n",
       "    }\n",
       "</style>\n",
       "<table border=\"1\" class=\"dataframe\">\n",
       "  <thead>\n",
       "    <tr style=\"text-align: right;\">\n",
       "      <th></th>\n",
       "      <th>ID</th>\n",
       "      <th>NAME</th>\n",
       "      <th>DURATION_MS</th>\n",
       "      <th>KEY</th>\n",
       "      <th>MODE</th>\n",
       "      <th>TIME_SIGNATURE</th>\n",
       "      <th>ACOUSTICNESS</th>\n",
       "      <th>DANCEABILITY</th>\n",
       "      <th>ENERGY</th>\n",
       "      <th>INSTRUMENTALNESS</th>\n",
       "      <th>LIVENESS</th>\n",
       "      <th>LOUDNESS</th>\n",
       "      <th>SPEECHINESS</th>\n",
       "      <th>VALENCE</th>\n",
       "      <th>TEMPO</th>\n",
       "      <th>PLAYLIST</th>\n",
       "      <th>CLASS</th>\n",
       "    </tr>\n",
       "  </thead>\n",
       "  <tbody>\n",
       "    <tr>\n",
       "      <th>0</th>\n",
       "      <td>4Jle0Cjj88YkM7jbAjiFjf</td>\n",
       "      <td>Nights</td>\n",
       "      <td>307151</td>\n",
       "      <td>5</td>\n",
       "      <td>0</td>\n",
       "      <td>4</td>\n",
       "      <td>0.418000</td>\n",
       "      <td>0.457</td>\n",
       "      <td>0.553</td>\n",
       "      <td>0.000001</td>\n",
       "      <td>0.1130</td>\n",
       "      <td>-9.345</td>\n",
       "      <td>0.1620</td>\n",
       "      <td>0.448</td>\n",
       "      <td>89.905</td>\n",
       "      <td>Liked</td>\n",
       "      <td>1</td>\n",
       "    </tr>\n",
       "    <tr>\n",
       "      <th>1</th>\n",
       "      <td>22ykS8KWpd2r4zcRZ0XMK5</td>\n",
       "      <td>Dreamcatcher (feat. Swae Lee &amp; Travis Scott)</td>\n",
       "      <td>211920</td>\n",
       "      <td>1</td>\n",
       "      <td>0</td>\n",
       "      <td>4</td>\n",
       "      <td>0.191000</td>\n",
       "      <td>0.675</td>\n",
       "      <td>0.230</td>\n",
       "      <td>0.000000</td>\n",
       "      <td>0.1040</td>\n",
       "      <td>-10.363</td>\n",
       "      <td>0.2040</td>\n",
       "      <td>0.101</td>\n",
       "      <td>173.962</td>\n",
       "      <td>Liked</td>\n",
       "      <td>1</td>\n",
       "    </tr>\n",
       "    <tr>\n",
       "      <th>2</th>\n",
       "      <td>0nbXyq5TXYPCO7pr3N8S4I</td>\n",
       "      <td>The Box</td>\n",
       "      <td>196653</td>\n",
       "      <td>10</td>\n",
       "      <td>0</td>\n",
       "      <td>4</td>\n",
       "      <td>0.104000</td>\n",
       "      <td>0.896</td>\n",
       "      <td>0.586</td>\n",
       "      <td>0.000000</td>\n",
       "      <td>0.7900</td>\n",
       "      <td>-6.687</td>\n",
       "      <td>0.0559</td>\n",
       "      <td>0.642</td>\n",
       "      <td>116.971</td>\n",
       "      <td>Liked</td>\n",
       "      <td>1</td>\n",
       "    </tr>\n",
       "    <tr>\n",
       "      <th>3</th>\n",
       "      <td>5ijr4mcVJokrKmtBy1XRPY</td>\n",
       "      <td>The Morning</td>\n",
       "      <td>312427</td>\n",
       "      <td>6</td>\n",
       "      <td>0</td>\n",
       "      <td>4</td>\n",
       "      <td>0.340000</td>\n",
       "      <td>0.656</td>\n",
       "      <td>0.555</td>\n",
       "      <td>0.000000</td>\n",
       "      <td>0.0993</td>\n",
       "      <td>-7.600</td>\n",
       "      <td>0.0374</td>\n",
       "      <td>0.224</td>\n",
       "      <td>120.096</td>\n",
       "      <td>Liked</td>\n",
       "      <td>1</td>\n",
       "    </tr>\n",
       "    <tr>\n",
       "      <th>4</th>\n",
       "      <td>7F02x6EKYIQV3VcTaTm7oN</td>\n",
       "      <td>Hey You</td>\n",
       "      <td>278441</td>\n",
       "      <td>0</td>\n",
       "      <td>1</td>\n",
       "      <td>4</td>\n",
       "      <td>0.221000</td>\n",
       "      <td>0.588</td>\n",
       "      <td>0.301</td>\n",
       "      <td>0.002360</td>\n",
       "      <td>0.1280</td>\n",
       "      <td>-14.979</td>\n",
       "      <td>0.0294</td>\n",
       "      <td>0.190</td>\n",
       "      <td>112.458</td>\n",
       "      <td>Liked</td>\n",
       "      <td>1</td>\n",
       "    </tr>\n",
       "    <tr>\n",
       "      <th>...</th>\n",
       "      <td>...</td>\n",
       "      <td>...</td>\n",
       "      <td>...</td>\n",
       "      <td>...</td>\n",
       "      <td>...</td>\n",
       "      <td>...</td>\n",
       "      <td>...</td>\n",
       "      <td>...</td>\n",
       "      <td>...</td>\n",
       "      <td>...</td>\n",
       "      <td>...</td>\n",
       "      <td>...</td>\n",
       "      <td>...</td>\n",
       "      <td>...</td>\n",
       "      <td>...</td>\n",
       "      <td>...</td>\n",
       "      <td>...</td>\n",
       "    </tr>\n",
       "    <tr>\n",
       "      <th>1459</th>\n",
       "      <td>3ZjhlM8PttdrW2gImQQ0tN</td>\n",
       "      <td>Swap Meet - Remastered</td>\n",
       "      <td>183068</td>\n",
       "      <td>2</td>\n",
       "      <td>1</td>\n",
       "      <td>4</td>\n",
       "      <td>0.000050</td>\n",
       "      <td>0.387</td>\n",
       "      <td>0.954</td>\n",
       "      <td>0.000029</td>\n",
       "      <td>0.1910</td>\n",
       "      <td>-7.143</td>\n",
       "      <td>0.0555</td>\n",
       "      <td>0.696</td>\n",
       "      <td>146.300</td>\n",
       "      <td>my old tracks.</td>\n",
       "      <td>0</td>\n",
       "    </tr>\n",
       "    <tr>\n",
       "      <th>1460</th>\n",
       "      <td>4T0OWC2ISMWVDAIdhIPXK4</td>\n",
       "      <td>About A Girl - Remastered</td>\n",
       "      <td>168429</td>\n",
       "      <td>6</td>\n",
       "      <td>0</td>\n",
       "      <td>4</td>\n",
       "      <td>0.000005</td>\n",
       "      <td>0.414</td>\n",
       "      <td>0.869</td>\n",
       "      <td>0.000650</td>\n",
       "      <td>0.1680</td>\n",
       "      <td>-7.472</td>\n",
       "      <td>0.0311</td>\n",
       "      <td>0.589</td>\n",
       "      <td>131.905</td>\n",
       "      <td>my old tracks.</td>\n",
       "      <td>0</td>\n",
       "    </tr>\n",
       "    <tr>\n",
       "      <th>1461</th>\n",
       "      <td>4zIsMAQASzCg6XK7WExT54</td>\n",
       "      <td>Negative Creep - Remastered</td>\n",
       "      <td>175745</td>\n",
       "      <td>2</td>\n",
       "      <td>1</td>\n",
       "      <td>4</td>\n",
       "      <td>0.000008</td>\n",
       "      <td>0.381</td>\n",
       "      <td>0.947</td>\n",
       "      <td>0.000164</td>\n",
       "      <td>0.0860</td>\n",
       "      <td>-7.258</td>\n",
       "      <td>0.0872</td>\n",
       "      <td>0.426</td>\n",
       "      <td>84.126</td>\n",
       "      <td>my old tracks.</td>\n",
       "      <td>0</td>\n",
       "    </tr>\n",
       "    <tr>\n",
       "      <th>1462</th>\n",
       "      <td>47iWAESq90vUl0VVPx4xLX</td>\n",
       "      <td>Blew - Remastered</td>\n",
       "      <td>174134</td>\n",
       "      <td>1</td>\n",
       "      <td>1</td>\n",
       "      <td>4</td>\n",
       "      <td>0.000005</td>\n",
       "      <td>0.407</td>\n",
       "      <td>0.877</td>\n",
       "      <td>0.016900</td>\n",
       "      <td>0.3200</td>\n",
       "      <td>-6.618</td>\n",
       "      <td>0.0565</td>\n",
       "      <td>0.533</td>\n",
       "      <td>129.852</td>\n",
       "      <td>my old tracks.</td>\n",
       "      <td>0</td>\n",
       "    </tr>\n",
       "    <tr>\n",
       "      <th>1463</th>\n",
       "      <td>3UXwWy7q9UJZKZphAb4NC7</td>\n",
       "      <td>Molly's Lips (Live at Pine Street Theatre)</td>\n",
       "      <td>135840</td>\n",
       "      <td>7</td>\n",
       "      <td>1</td>\n",
       "      <td>4</td>\n",
       "      <td>0.000057</td>\n",
       "      <td>0.284</td>\n",
       "      <td>0.965</td>\n",
       "      <td>0.092300</td>\n",
       "      <td>0.2710</td>\n",
       "      <td>-6.652</td>\n",
       "      <td>0.1040</td>\n",
       "      <td>0.399</td>\n",
       "      <td>156.558</td>\n",
       "      <td>my old tracks.</td>\n",
       "      <td>0</td>\n",
       "    </tr>\n",
       "  </tbody>\n",
       "</table>\n",
       "<p>1426 rows × 17 columns</p>\n",
       "</div>"
      ],
      "text/plain": [
       "                          ID                                          NAME  \\\n",
       "0     4Jle0Cjj88YkM7jbAjiFjf                                        Nights   \n",
       "1     22ykS8KWpd2r4zcRZ0XMK5  Dreamcatcher (feat. Swae Lee & Travis Scott)   \n",
       "2     0nbXyq5TXYPCO7pr3N8S4I                                       The Box   \n",
       "3     5ijr4mcVJokrKmtBy1XRPY                                   The Morning   \n",
       "4     7F02x6EKYIQV3VcTaTm7oN                                       Hey You   \n",
       "...                      ...                                           ...   \n",
       "1459  3ZjhlM8PttdrW2gImQQ0tN                        Swap Meet - Remastered   \n",
       "1460  4T0OWC2ISMWVDAIdhIPXK4                     About A Girl - Remastered   \n",
       "1461  4zIsMAQASzCg6XK7WExT54                   Negative Creep - Remastered   \n",
       "1462  47iWAESq90vUl0VVPx4xLX                             Blew - Remastered   \n",
       "1463  3UXwWy7q9UJZKZphAb4NC7    Molly's Lips (Live at Pine Street Theatre)   \n",
       "\n",
       "      DURATION_MS  KEY  MODE  TIME_SIGNATURE  ACOUSTICNESS  DANCEABILITY  \\\n",
       "0          307151    5     0               4      0.418000         0.457   \n",
       "1          211920    1     0               4      0.191000         0.675   \n",
       "2          196653   10     0               4      0.104000         0.896   \n",
       "3          312427    6     0               4      0.340000         0.656   \n",
       "4          278441    0     1               4      0.221000         0.588   \n",
       "...           ...  ...   ...             ...           ...           ...   \n",
       "1459       183068    2     1               4      0.000050         0.387   \n",
       "1460       168429    6     0               4      0.000005         0.414   \n",
       "1461       175745    2     1               4      0.000008         0.381   \n",
       "1462       174134    1     1               4      0.000005         0.407   \n",
       "1463       135840    7     1               4      0.000057         0.284   \n",
       "\n",
       "      ENERGY  INSTRUMENTALNESS  LIVENESS  LOUDNESS  SPEECHINESS  VALENCE  \\\n",
       "0      0.553          0.000001    0.1130    -9.345       0.1620    0.448   \n",
       "1      0.230          0.000000    0.1040   -10.363       0.2040    0.101   \n",
       "2      0.586          0.000000    0.7900    -6.687       0.0559    0.642   \n",
       "3      0.555          0.000000    0.0993    -7.600       0.0374    0.224   \n",
       "4      0.301          0.002360    0.1280   -14.979       0.0294    0.190   \n",
       "...      ...               ...       ...       ...          ...      ...   \n",
       "1459   0.954          0.000029    0.1910    -7.143       0.0555    0.696   \n",
       "1460   0.869          0.000650    0.1680    -7.472       0.0311    0.589   \n",
       "1461   0.947          0.000164    0.0860    -7.258       0.0872    0.426   \n",
       "1462   0.877          0.016900    0.3200    -6.618       0.0565    0.533   \n",
       "1463   0.965          0.092300    0.2710    -6.652       0.1040    0.399   \n",
       "\n",
       "        TEMPO        PLAYLIST  CLASS  \n",
       "0      89.905           Liked      1  \n",
       "1     173.962           Liked      1  \n",
       "2     116.971           Liked      1  \n",
       "3     120.096           Liked      1  \n",
       "4     112.458           Liked      1  \n",
       "...       ...             ...    ...  \n",
       "1459  146.300  my old tracks.      0  \n",
       "1460  131.905  my old tracks.      0  \n",
       "1461   84.126  my old tracks.      0  \n",
       "1462  129.852  my old tracks.      0  \n",
       "1463  156.558  my old tracks.      0  \n",
       "\n",
       "[1426 rows x 17 columns]"
      ]
     },
     "execution_count": 6,
     "metadata": {},
     "output_type": "execute_result"
    }
   ],
   "source": [
    "songs"
   ]
  },
  {
   "cell_type": "code",
   "execution_count": 7,
   "metadata": {},
   "outputs": [],
   "source": [
    "songs.to_csv('/Users/syedrahimali/Desktop/spotify/Final.csv')"
   ]
  },
  {
   "cell_type": "code",
   "execution_count": 8,
   "metadata": {},
   "outputs": [],
   "source": [
    "songs= songs.replace(to_replace='my old tracks.',value = 'Disliked')"
   ]
  },
  {
   "cell_type": "code",
   "execution_count": 9,
   "metadata": {},
   "outputs": [
    {
     "data": {
      "text/plain": [
       "0.29616490190743283"
      ]
     },
     "execution_count": 9,
     "metadata": {},
     "output_type": "execute_result"
    }
   ],
   "source": [
    "songs['ACOUSTICNESS'].mean()"
   ]
  },
  {
   "cell_type": "code",
   "execution_count": 10,
   "metadata": {},
   "outputs": [
    {
     "data": {
      "text/html": [
       "<div>\n",
       "<style scoped>\n",
       "    .dataframe tbody tr th:only-of-type {\n",
       "        vertical-align: middle;\n",
       "    }\n",
       "\n",
       "    .dataframe tbody tr th {\n",
       "        vertical-align: top;\n",
       "    }\n",
       "\n",
       "    .dataframe thead th {\n",
       "        text-align: right;\n",
       "    }\n",
       "</style>\n",
       "<table border=\"1\" class=\"dataframe\">\n",
       "  <thead>\n",
       "    <tr style=\"text-align: right;\">\n",
       "      <th></th>\n",
       "      <th>DURATION_MS</th>\n",
       "      <th>KEY</th>\n",
       "      <th>MODE</th>\n",
       "      <th>TIME_SIGNATURE</th>\n",
       "      <th>ACOUSTICNESS</th>\n",
       "      <th>DANCEABILITY</th>\n",
       "      <th>ENERGY</th>\n",
       "      <th>INSTRUMENTALNESS</th>\n",
       "      <th>LIVENESS</th>\n",
       "      <th>LOUDNESS</th>\n",
       "      <th>SPEECHINESS</th>\n",
       "      <th>VALENCE</th>\n",
       "      <th>TEMPO</th>\n",
       "    </tr>\n",
       "    <tr>\n",
       "      <th>CLASS</th>\n",
       "      <th></th>\n",
       "      <th></th>\n",
       "      <th></th>\n",
       "      <th></th>\n",
       "      <th></th>\n",
       "      <th></th>\n",
       "      <th></th>\n",
       "      <th></th>\n",
       "      <th></th>\n",
       "      <th></th>\n",
       "      <th></th>\n",
       "      <th></th>\n",
       "      <th></th>\n",
       "    </tr>\n",
       "  </thead>\n",
       "  <tbody>\n",
       "    <tr>\n",
       "      <th>0</th>\n",
       "      <td>259396.327343</td>\n",
       "      <td>5.297818</td>\n",
       "      <td>0.598203</td>\n",
       "      <td>3.899872</td>\n",
       "      <td>0.333215</td>\n",
       "      <td>0.513045</td>\n",
       "      <td>0.557654</td>\n",
       "      <td>0.219470</td>\n",
       "      <td>0.191510</td>\n",
       "      <td>-10.181615</td>\n",
       "      <td>0.093116</td>\n",
       "      <td>0.403993</td>\n",
       "      <td>117.40628</td>\n",
       "    </tr>\n",
       "    <tr>\n",
       "      <th>1</th>\n",
       "      <td>231995.275116</td>\n",
       "      <td>5.258114</td>\n",
       "      <td>0.551777</td>\n",
       "      <td>3.962906</td>\n",
       "      <td>0.251556</td>\n",
       "      <td>0.629594</td>\n",
       "      <td>0.610783</td>\n",
       "      <td>0.039511</td>\n",
       "      <td>0.218442</td>\n",
       "      <td>-7.189705</td>\n",
       "      <td>0.124365</td>\n",
       "      <td>0.430685</td>\n",
       "      <td>119.67791</td>\n",
       "    </tr>\n",
       "  </tbody>\n",
       "</table>\n",
       "</div>"
      ],
      "text/plain": [
       "         DURATION_MS       KEY      MODE  TIME_SIGNATURE  ACOUSTICNESS  \\\n",
       "CLASS                                                                    \n",
       "0      259396.327343  5.297818  0.598203        3.899872      0.333215   \n",
       "1      231995.275116  5.258114  0.551777        3.962906      0.251556   \n",
       "\n",
       "       DANCEABILITY    ENERGY  INSTRUMENTALNESS  LIVENESS   LOUDNESS  \\\n",
       "CLASS                                                                  \n",
       "0          0.513045  0.557654          0.219470  0.191510 -10.181615   \n",
       "1          0.629594  0.610783          0.039511  0.218442  -7.189705   \n",
       "\n",
       "       SPEECHINESS   VALENCE      TEMPO  \n",
       "CLASS                                    \n",
       "0         0.093116  0.403993  117.40628  \n",
       "1         0.124365  0.430685  119.67791  "
      ]
     },
     "execution_count": 10,
     "metadata": {},
     "output_type": "execute_result"
    }
   ],
   "source": [
    "songs.groupby('CLASS').mean()"
   ]
  },
  {
   "cell_type": "code",
   "execution_count": 11,
   "metadata": {},
   "outputs": [],
   "source": [
    "songs=songs.drop(labels=['ID', 'DURATION_MS','NAME','PLAYLIST'],axis=1)"
   ]
  },
  {
   "cell_type": "code",
   "execution_count": 12,
   "metadata": {},
   "outputs": [
    {
     "data": {
      "text/html": [
       "<div>\n",
       "<style scoped>\n",
       "    .dataframe tbody tr th:only-of-type {\n",
       "        vertical-align: middle;\n",
       "    }\n",
       "\n",
       "    .dataframe tbody tr th {\n",
       "        vertical-align: top;\n",
       "    }\n",
       "\n",
       "    .dataframe thead th {\n",
       "        text-align: right;\n",
       "    }\n",
       "</style>\n",
       "<table border=\"1\" class=\"dataframe\">\n",
       "  <thead>\n",
       "    <tr style=\"text-align: right;\">\n",
       "      <th></th>\n",
       "      <th>KEY</th>\n",
       "      <th>MODE</th>\n",
       "      <th>TIME_SIGNATURE</th>\n",
       "      <th>ACOUSTICNESS</th>\n",
       "      <th>DANCEABILITY</th>\n",
       "      <th>ENERGY</th>\n",
       "      <th>INSTRUMENTALNESS</th>\n",
       "      <th>LIVENESS</th>\n",
       "      <th>LOUDNESS</th>\n",
       "      <th>SPEECHINESS</th>\n",
       "      <th>VALENCE</th>\n",
       "      <th>TEMPO</th>\n",
       "      <th>CLASS</th>\n",
       "    </tr>\n",
       "  </thead>\n",
       "  <tbody>\n",
       "    <tr>\n",
       "      <th>0</th>\n",
       "      <td>5</td>\n",
       "      <td>0</td>\n",
       "      <td>4</td>\n",
       "      <td>0.418000</td>\n",
       "      <td>0.457</td>\n",
       "      <td>0.553</td>\n",
       "      <td>0.000001</td>\n",
       "      <td>0.1130</td>\n",
       "      <td>-9.345</td>\n",
       "      <td>0.1620</td>\n",
       "      <td>0.448</td>\n",
       "      <td>89.905</td>\n",
       "      <td>1</td>\n",
       "    </tr>\n",
       "    <tr>\n",
       "      <th>1</th>\n",
       "      <td>1</td>\n",
       "      <td>0</td>\n",
       "      <td>4</td>\n",
       "      <td>0.191000</td>\n",
       "      <td>0.675</td>\n",
       "      <td>0.230</td>\n",
       "      <td>0.000000</td>\n",
       "      <td>0.1040</td>\n",
       "      <td>-10.363</td>\n",
       "      <td>0.2040</td>\n",
       "      <td>0.101</td>\n",
       "      <td>173.962</td>\n",
       "      <td>1</td>\n",
       "    </tr>\n",
       "    <tr>\n",
       "      <th>2</th>\n",
       "      <td>10</td>\n",
       "      <td>0</td>\n",
       "      <td>4</td>\n",
       "      <td>0.104000</td>\n",
       "      <td>0.896</td>\n",
       "      <td>0.586</td>\n",
       "      <td>0.000000</td>\n",
       "      <td>0.7900</td>\n",
       "      <td>-6.687</td>\n",
       "      <td>0.0559</td>\n",
       "      <td>0.642</td>\n",
       "      <td>116.971</td>\n",
       "      <td>1</td>\n",
       "    </tr>\n",
       "    <tr>\n",
       "      <th>3</th>\n",
       "      <td>6</td>\n",
       "      <td>0</td>\n",
       "      <td>4</td>\n",
       "      <td>0.340000</td>\n",
       "      <td>0.656</td>\n",
       "      <td>0.555</td>\n",
       "      <td>0.000000</td>\n",
       "      <td>0.0993</td>\n",
       "      <td>-7.600</td>\n",
       "      <td>0.0374</td>\n",
       "      <td>0.224</td>\n",
       "      <td>120.096</td>\n",
       "      <td>1</td>\n",
       "    </tr>\n",
       "    <tr>\n",
       "      <th>4</th>\n",
       "      <td>0</td>\n",
       "      <td>1</td>\n",
       "      <td>4</td>\n",
       "      <td>0.221000</td>\n",
       "      <td>0.588</td>\n",
       "      <td>0.301</td>\n",
       "      <td>0.002360</td>\n",
       "      <td>0.1280</td>\n",
       "      <td>-14.979</td>\n",
       "      <td>0.0294</td>\n",
       "      <td>0.190</td>\n",
       "      <td>112.458</td>\n",
       "      <td>1</td>\n",
       "    </tr>\n",
       "    <tr>\n",
       "      <th>...</th>\n",
       "      <td>...</td>\n",
       "      <td>...</td>\n",
       "      <td>...</td>\n",
       "      <td>...</td>\n",
       "      <td>...</td>\n",
       "      <td>...</td>\n",
       "      <td>...</td>\n",
       "      <td>...</td>\n",
       "      <td>...</td>\n",
       "      <td>...</td>\n",
       "      <td>...</td>\n",
       "      <td>...</td>\n",
       "      <td>...</td>\n",
       "    </tr>\n",
       "    <tr>\n",
       "      <th>1459</th>\n",
       "      <td>2</td>\n",
       "      <td>1</td>\n",
       "      <td>4</td>\n",
       "      <td>0.000050</td>\n",
       "      <td>0.387</td>\n",
       "      <td>0.954</td>\n",
       "      <td>0.000029</td>\n",
       "      <td>0.1910</td>\n",
       "      <td>-7.143</td>\n",
       "      <td>0.0555</td>\n",
       "      <td>0.696</td>\n",
       "      <td>146.300</td>\n",
       "      <td>0</td>\n",
       "    </tr>\n",
       "    <tr>\n",
       "      <th>1460</th>\n",
       "      <td>6</td>\n",
       "      <td>0</td>\n",
       "      <td>4</td>\n",
       "      <td>0.000005</td>\n",
       "      <td>0.414</td>\n",
       "      <td>0.869</td>\n",
       "      <td>0.000650</td>\n",
       "      <td>0.1680</td>\n",
       "      <td>-7.472</td>\n",
       "      <td>0.0311</td>\n",
       "      <td>0.589</td>\n",
       "      <td>131.905</td>\n",
       "      <td>0</td>\n",
       "    </tr>\n",
       "    <tr>\n",
       "      <th>1461</th>\n",
       "      <td>2</td>\n",
       "      <td>1</td>\n",
       "      <td>4</td>\n",
       "      <td>0.000008</td>\n",
       "      <td>0.381</td>\n",
       "      <td>0.947</td>\n",
       "      <td>0.000164</td>\n",
       "      <td>0.0860</td>\n",
       "      <td>-7.258</td>\n",
       "      <td>0.0872</td>\n",
       "      <td>0.426</td>\n",
       "      <td>84.126</td>\n",
       "      <td>0</td>\n",
       "    </tr>\n",
       "    <tr>\n",
       "      <th>1462</th>\n",
       "      <td>1</td>\n",
       "      <td>1</td>\n",
       "      <td>4</td>\n",
       "      <td>0.000005</td>\n",
       "      <td>0.407</td>\n",
       "      <td>0.877</td>\n",
       "      <td>0.016900</td>\n",
       "      <td>0.3200</td>\n",
       "      <td>-6.618</td>\n",
       "      <td>0.0565</td>\n",
       "      <td>0.533</td>\n",
       "      <td>129.852</td>\n",
       "      <td>0</td>\n",
       "    </tr>\n",
       "    <tr>\n",
       "      <th>1463</th>\n",
       "      <td>7</td>\n",
       "      <td>1</td>\n",
       "      <td>4</td>\n",
       "      <td>0.000057</td>\n",
       "      <td>0.284</td>\n",
       "      <td>0.965</td>\n",
       "      <td>0.092300</td>\n",
       "      <td>0.2710</td>\n",
       "      <td>-6.652</td>\n",
       "      <td>0.1040</td>\n",
       "      <td>0.399</td>\n",
       "      <td>156.558</td>\n",
       "      <td>0</td>\n",
       "    </tr>\n",
       "  </tbody>\n",
       "</table>\n",
       "<p>1426 rows × 13 columns</p>\n",
       "</div>"
      ],
      "text/plain": [
       "      KEY  MODE  TIME_SIGNATURE  ACOUSTICNESS  DANCEABILITY  ENERGY  \\\n",
       "0       5     0               4      0.418000         0.457   0.553   \n",
       "1       1     0               4      0.191000         0.675   0.230   \n",
       "2      10     0               4      0.104000         0.896   0.586   \n",
       "3       6     0               4      0.340000         0.656   0.555   \n",
       "4       0     1               4      0.221000         0.588   0.301   \n",
       "...   ...   ...             ...           ...           ...     ...   \n",
       "1459    2     1               4      0.000050         0.387   0.954   \n",
       "1460    6     0               4      0.000005         0.414   0.869   \n",
       "1461    2     1               4      0.000008         0.381   0.947   \n",
       "1462    1     1               4      0.000005         0.407   0.877   \n",
       "1463    7     1               4      0.000057         0.284   0.965   \n",
       "\n",
       "      INSTRUMENTALNESS  LIVENESS  LOUDNESS  SPEECHINESS  VALENCE    TEMPO  \\\n",
       "0             0.000001    0.1130    -9.345       0.1620    0.448   89.905   \n",
       "1             0.000000    0.1040   -10.363       0.2040    0.101  173.962   \n",
       "2             0.000000    0.7900    -6.687       0.0559    0.642  116.971   \n",
       "3             0.000000    0.0993    -7.600       0.0374    0.224  120.096   \n",
       "4             0.002360    0.1280   -14.979       0.0294    0.190  112.458   \n",
       "...                ...       ...       ...          ...      ...      ...   \n",
       "1459          0.000029    0.1910    -7.143       0.0555    0.696  146.300   \n",
       "1460          0.000650    0.1680    -7.472       0.0311    0.589  131.905   \n",
       "1461          0.000164    0.0860    -7.258       0.0872    0.426   84.126   \n",
       "1462          0.016900    0.3200    -6.618       0.0565    0.533  129.852   \n",
       "1463          0.092300    0.2710    -6.652       0.1040    0.399  156.558   \n",
       "\n",
       "      CLASS  \n",
       "0         1  \n",
       "1         1  \n",
       "2         1  \n",
       "3         1  \n",
       "4         1  \n",
       "...     ...  \n",
       "1459      0  \n",
       "1460      0  \n",
       "1461      0  \n",
       "1462      0  \n",
       "1463      0  \n",
       "\n",
       "[1426 rows x 13 columns]"
      ]
     },
     "execution_count": 12,
     "metadata": {},
     "output_type": "execute_result"
    }
   ],
   "source": [
    "songs"
   ]
  },
  {
   "cell_type": "code",
   "execution_count": null,
   "metadata": {},
   "outputs": [],
   "source": []
  },
  {
   "cell_type": "code",
   "execution_count": null,
   "metadata": {},
   "outputs": [],
   "source": []
  },
  {
   "cell_type": "code",
   "execution_count": 13,
   "metadata": {},
   "outputs": [],
   "source": [
    "from sklearn.model_selection import train_test_split\n"
   ]
  },
  {
   "cell_type": "code",
   "execution_count": 14,
   "metadata": {},
   "outputs": [],
   "source": [
    "train_set_x, test_set_x,train_set_y, test_set_y = train_test_split(songs,songs['CLASS'],train_size=0.8,test_size=0.2,random_state=42, stratify=songs['CLASS'])"
   ]
  },
  {
   "cell_type": "code",
   "execution_count": 15,
   "metadata": {},
   "outputs": [
    {
     "data": {
      "text/plain": [
       "1049    0\n",
       "833     0\n",
       "136     1\n",
       "1036    0\n",
       "632     1\n",
       "       ..\n",
       "379     1\n",
       "476     1\n",
       "1172    0\n",
       "1094    0\n",
       "1310    0\n",
       "Name: CLASS, Length: 1140, dtype: int64"
      ]
     },
     "execution_count": 15,
     "metadata": {},
     "output_type": "execute_result"
    }
   ],
   "source": [
    "train_set_y"
   ]
  },
  {
   "cell_type": "code",
   "execution_count": 16,
   "metadata": {
    "scrolled": true
   },
   "outputs": [
    {
     "data": {
      "text/html": [
       "<div>\n",
       "<style scoped>\n",
       "    .dataframe tbody tr th:only-of-type {\n",
       "        vertical-align: middle;\n",
       "    }\n",
       "\n",
       "    .dataframe tbody tr th {\n",
       "        vertical-align: top;\n",
       "    }\n",
       "\n",
       "    .dataframe thead th {\n",
       "        text-align: right;\n",
       "    }\n",
       "</style>\n",
       "<table border=\"1\" class=\"dataframe\">\n",
       "  <thead>\n",
       "    <tr style=\"text-align: right;\">\n",
       "      <th></th>\n",
       "      <th>KEY</th>\n",
       "      <th>MODE</th>\n",
       "      <th>TIME_SIGNATURE</th>\n",
       "      <th>ACOUSTICNESS</th>\n",
       "      <th>DANCEABILITY</th>\n",
       "      <th>ENERGY</th>\n",
       "      <th>INSTRUMENTALNESS</th>\n",
       "      <th>LIVENESS</th>\n",
       "      <th>LOUDNESS</th>\n",
       "      <th>SPEECHINESS</th>\n",
       "      <th>VALENCE</th>\n",
       "      <th>TEMPO</th>\n",
       "      <th>CLASS</th>\n",
       "    </tr>\n",
       "  </thead>\n",
       "  <tbody>\n",
       "    <tr>\n",
       "      <th>1049</th>\n",
       "      <td>0</td>\n",
       "      <td>1</td>\n",
       "      <td>5</td>\n",
       "      <td>0.933000</td>\n",
       "      <td>0.498</td>\n",
       "      <td>0.2820</td>\n",
       "      <td>0.800000</td>\n",
       "      <td>0.2200</td>\n",
       "      <td>-16.171</td>\n",
       "      <td>0.0353</td>\n",
       "      <td>0.3190</td>\n",
       "      <td>99.976</td>\n",
       "      <td>0</td>\n",
       "    </tr>\n",
       "    <tr>\n",
       "      <th>833</th>\n",
       "      <td>4</td>\n",
       "      <td>0</td>\n",
       "      <td>4</td>\n",
       "      <td>0.477000</td>\n",
       "      <td>0.745</td>\n",
       "      <td>0.4190</td>\n",
       "      <td>0.000046</td>\n",
       "      <td>0.1120</td>\n",
       "      <td>-8.901</td>\n",
       "      <td>0.0343</td>\n",
       "      <td>0.4110</td>\n",
       "      <td>120.086</td>\n",
       "      <td>0</td>\n",
       "    </tr>\n",
       "    <tr>\n",
       "      <th>136</th>\n",
       "      <td>0</td>\n",
       "      <td>1</td>\n",
       "      <td>4</td>\n",
       "      <td>0.263000</td>\n",
       "      <td>0.200</td>\n",
       "      <td>0.7250</td>\n",
       "      <td>0.024200</td>\n",
       "      <td>0.2960</td>\n",
       "      <td>-6.742</td>\n",
       "      <td>0.0461</td>\n",
       "      <td>0.1710</td>\n",
       "      <td>154.866</td>\n",
       "      <td>1</td>\n",
       "    </tr>\n",
       "    <tr>\n",
       "      <th>1036</th>\n",
       "      <td>4</td>\n",
       "      <td>1</td>\n",
       "      <td>4</td>\n",
       "      <td>0.021200</td>\n",
       "      <td>0.493</td>\n",
       "      <td>0.5600</td>\n",
       "      <td>0.374000</td>\n",
       "      <td>0.1130</td>\n",
       "      <td>-9.100</td>\n",
       "      <td>0.0296</td>\n",
       "      <td>0.6410</td>\n",
       "      <td>95.523</td>\n",
       "      <td>0</td>\n",
       "    </tr>\n",
       "    <tr>\n",
       "      <th>632</th>\n",
       "      <td>1</td>\n",
       "      <td>1</td>\n",
       "      <td>4</td>\n",
       "      <td>0.000821</td>\n",
       "      <td>0.361</td>\n",
       "      <td>0.0851</td>\n",
       "      <td>0.391000</td>\n",
       "      <td>0.6250</td>\n",
       "      <td>-32.574</td>\n",
       "      <td>0.0981</td>\n",
       "      <td>0.0383</td>\n",
       "      <td>99.798</td>\n",
       "      <td>1</td>\n",
       "    </tr>\n",
       "    <tr>\n",
       "      <th>...</th>\n",
       "      <td>...</td>\n",
       "      <td>...</td>\n",
       "      <td>...</td>\n",
       "      <td>...</td>\n",
       "      <td>...</td>\n",
       "      <td>...</td>\n",
       "      <td>...</td>\n",
       "      <td>...</td>\n",
       "      <td>...</td>\n",
       "      <td>...</td>\n",
       "      <td>...</td>\n",
       "      <td>...</td>\n",
       "      <td>...</td>\n",
       "    </tr>\n",
       "    <tr>\n",
       "      <th>379</th>\n",
       "      <td>11</td>\n",
       "      <td>0</td>\n",
       "      <td>4</td>\n",
       "      <td>0.047000</td>\n",
       "      <td>0.224</td>\n",
       "      <td>0.4940</td>\n",
       "      <td>0.001580</td>\n",
       "      <td>0.9890</td>\n",
       "      <td>-12.241</td>\n",
       "      <td>0.0362</td>\n",
       "      <td>0.2180</td>\n",
       "      <td>123.566</td>\n",
       "      <td>1</td>\n",
       "    </tr>\n",
       "    <tr>\n",
       "      <th>476</th>\n",
       "      <td>5</td>\n",
       "      <td>1</td>\n",
       "      <td>4</td>\n",
       "      <td>0.029100</td>\n",
       "      <td>0.673</td>\n",
       "      <td>0.8780</td>\n",
       "      <td>0.477000</td>\n",
       "      <td>0.1930</td>\n",
       "      <td>-6.293</td>\n",
       "      <td>0.0312</td>\n",
       "      <td>0.0377</td>\n",
       "      <td>120.006</td>\n",
       "      <td>1</td>\n",
       "    </tr>\n",
       "    <tr>\n",
       "      <th>1172</th>\n",
       "      <td>0</td>\n",
       "      <td>0</td>\n",
       "      <td>4</td>\n",
       "      <td>0.002060</td>\n",
       "      <td>0.713</td>\n",
       "      <td>0.8680</td>\n",
       "      <td>0.000092</td>\n",
       "      <td>0.2250</td>\n",
       "      <td>-6.644</td>\n",
       "      <td>0.0305</td>\n",
       "      <td>0.6410</td>\n",
       "      <td>119.980</td>\n",
       "      <td>0</td>\n",
       "    </tr>\n",
       "    <tr>\n",
       "      <th>1094</th>\n",
       "      <td>1</td>\n",
       "      <td>0</td>\n",
       "      <td>4</td>\n",
       "      <td>0.689000</td>\n",
       "      <td>0.213</td>\n",
       "      <td>0.6640</td>\n",
       "      <td>0.134000</td>\n",
       "      <td>0.1020</td>\n",
       "      <td>-9.034</td>\n",
       "      <td>0.0642</td>\n",
       "      <td>0.2190</td>\n",
       "      <td>80.561</td>\n",
       "      <td>0</td>\n",
       "    </tr>\n",
       "    <tr>\n",
       "      <th>1310</th>\n",
       "      <td>4</td>\n",
       "      <td>1</td>\n",
       "      <td>4</td>\n",
       "      <td>0.890000</td>\n",
       "      <td>0.386</td>\n",
       "      <td>0.4330</td>\n",
       "      <td>0.977000</td>\n",
       "      <td>0.0887</td>\n",
       "      <td>-16.452</td>\n",
       "      <td>0.0399</td>\n",
       "      <td>0.0550</td>\n",
       "      <td>99.226</td>\n",
       "      <td>0</td>\n",
       "    </tr>\n",
       "  </tbody>\n",
       "</table>\n",
       "<p>1140 rows × 13 columns</p>\n",
       "</div>"
      ],
      "text/plain": [
       "      KEY  MODE  TIME_SIGNATURE  ACOUSTICNESS  DANCEABILITY  ENERGY  \\\n",
       "1049    0     1               5      0.933000         0.498  0.2820   \n",
       "833     4     0               4      0.477000         0.745  0.4190   \n",
       "136     0     1               4      0.263000         0.200  0.7250   \n",
       "1036    4     1               4      0.021200         0.493  0.5600   \n",
       "632     1     1               4      0.000821         0.361  0.0851   \n",
       "...   ...   ...             ...           ...           ...     ...   \n",
       "379    11     0               4      0.047000         0.224  0.4940   \n",
       "476     5     1               4      0.029100         0.673  0.8780   \n",
       "1172    0     0               4      0.002060         0.713  0.8680   \n",
       "1094    1     0               4      0.689000         0.213  0.6640   \n",
       "1310    4     1               4      0.890000         0.386  0.4330   \n",
       "\n",
       "      INSTRUMENTALNESS  LIVENESS  LOUDNESS  SPEECHINESS  VALENCE    TEMPO  \\\n",
       "1049          0.800000    0.2200   -16.171       0.0353   0.3190   99.976   \n",
       "833           0.000046    0.1120    -8.901       0.0343   0.4110  120.086   \n",
       "136           0.024200    0.2960    -6.742       0.0461   0.1710  154.866   \n",
       "1036          0.374000    0.1130    -9.100       0.0296   0.6410   95.523   \n",
       "632           0.391000    0.6250   -32.574       0.0981   0.0383   99.798   \n",
       "...                ...       ...       ...          ...      ...      ...   \n",
       "379           0.001580    0.9890   -12.241       0.0362   0.2180  123.566   \n",
       "476           0.477000    0.1930    -6.293       0.0312   0.0377  120.006   \n",
       "1172          0.000092    0.2250    -6.644       0.0305   0.6410  119.980   \n",
       "1094          0.134000    0.1020    -9.034       0.0642   0.2190   80.561   \n",
       "1310          0.977000    0.0887   -16.452       0.0399   0.0550   99.226   \n",
       "\n",
       "      CLASS  \n",
       "1049      0  \n",
       "833       0  \n",
       "136       1  \n",
       "1036      0  \n",
       "632       1  \n",
       "...     ...  \n",
       "379       1  \n",
       "476       1  \n",
       "1172      0  \n",
       "1094      0  \n",
       "1310      0  \n",
       "\n",
       "[1140 rows x 13 columns]"
      ]
     },
     "execution_count": 16,
     "metadata": {},
     "output_type": "execute_result"
    }
   ],
   "source": [
    "train_set_x"
   ]
  },
  {
   "cell_type": "code",
   "execution_count": 17,
   "metadata": {},
   "outputs": [],
   "source": [
    "from sklearn import model_selection, linear_model\n",
    "model = linear_model.SGDClassifier(loss='log',max_iter=10000,random_state=100)"
   ]
  },
  {
   "cell_type": "code",
   "execution_count": 18,
   "metadata": {},
   "outputs": [
    {
     "data": {
      "text/html": [
       "<div>\n",
       "<style scoped>\n",
       "    .dataframe tbody tr th:only-of-type {\n",
       "        vertical-align: middle;\n",
       "    }\n",
       "\n",
       "    .dataframe tbody tr th {\n",
       "        vertical-align: top;\n",
       "    }\n",
       "\n",
       "    .dataframe thead th {\n",
       "        text-align: right;\n",
       "    }\n",
       "</style>\n",
       "<table border=\"1\" class=\"dataframe\">\n",
       "  <thead>\n",
       "    <tr style=\"text-align: right;\">\n",
       "      <th></th>\n",
       "      <th>KEY</th>\n",
       "      <th>MODE</th>\n",
       "      <th>TIME_SIGNATURE</th>\n",
       "      <th>ACOUSTICNESS</th>\n",
       "      <th>DANCEABILITY</th>\n",
       "      <th>ENERGY</th>\n",
       "      <th>INSTRUMENTALNESS</th>\n",
       "      <th>LIVENESS</th>\n",
       "      <th>LOUDNESS</th>\n",
       "      <th>SPEECHINESS</th>\n",
       "      <th>VALENCE</th>\n",
       "      <th>TEMPO</th>\n",
       "      <th>CLASS</th>\n",
       "    </tr>\n",
       "  </thead>\n",
       "  <tbody>\n",
       "    <tr>\n",
       "      <th>1201</th>\n",
       "      <td>7</td>\n",
       "      <td>1</td>\n",
       "      <td>4</td>\n",
       "      <td>0.530000</td>\n",
       "      <td>0.781</td>\n",
       "      <td>0.667</td>\n",
       "      <td>0.000049</td>\n",
       "      <td>0.1110</td>\n",
       "      <td>-6.683</td>\n",
       "      <td>0.3540</td>\n",
       "      <td>0.623</td>\n",
       "      <td>93.418</td>\n",
       "      <td>0</td>\n",
       "    </tr>\n",
       "    <tr>\n",
       "      <th>1182</th>\n",
       "      <td>10</td>\n",
       "      <td>0</td>\n",
       "      <td>4</td>\n",
       "      <td>0.915000</td>\n",
       "      <td>0.622</td>\n",
       "      <td>0.571</td>\n",
       "      <td>0.592000</td>\n",
       "      <td>0.1020</td>\n",
       "      <td>-7.887</td>\n",
       "      <td>0.3030</td>\n",
       "      <td>0.602</td>\n",
       "      <td>95.952</td>\n",
       "      <td>0</td>\n",
       "    </tr>\n",
       "    <tr>\n",
       "      <th>216</th>\n",
       "      <td>0</td>\n",
       "      <td>1</td>\n",
       "      <td>4</td>\n",
       "      <td>0.315000</td>\n",
       "      <td>0.624</td>\n",
       "      <td>0.452</td>\n",
       "      <td>0.000010</td>\n",
       "      <td>0.3110</td>\n",
       "      <td>-8.206</td>\n",
       "      <td>0.0681</td>\n",
       "      <td>0.724</td>\n",
       "      <td>199.775</td>\n",
       "      <td>1</td>\n",
       "    </tr>\n",
       "    <tr>\n",
       "      <th>1442</th>\n",
       "      <td>7</td>\n",
       "      <td>1</td>\n",
       "      <td>4</td>\n",
       "      <td>0.000019</td>\n",
       "      <td>0.311</td>\n",
       "      <td>0.895</td>\n",
       "      <td>0.195000</td>\n",
       "      <td>0.0584</td>\n",
       "      <td>-9.401</td>\n",
       "      <td>0.0476</td>\n",
       "      <td>0.681</td>\n",
       "      <td>167.107</td>\n",
       "      <td>0</td>\n",
       "    </tr>\n",
       "    <tr>\n",
       "      <th>477</th>\n",
       "      <td>7</td>\n",
       "      <td>0</td>\n",
       "      <td>3</td>\n",
       "      <td>0.321000</td>\n",
       "      <td>0.209</td>\n",
       "      <td>0.472</td>\n",
       "      <td>0.000799</td>\n",
       "      <td>0.4500</td>\n",
       "      <td>-12.319</td>\n",
       "      <td>0.0386</td>\n",
       "      <td>0.114</td>\n",
       "      <td>144.741</td>\n",
       "      <td>1</td>\n",
       "    </tr>\n",
       "    <tr>\n",
       "      <th>...</th>\n",
       "      <td>...</td>\n",
       "      <td>...</td>\n",
       "      <td>...</td>\n",
       "      <td>...</td>\n",
       "      <td>...</td>\n",
       "      <td>...</td>\n",
       "      <td>...</td>\n",
       "      <td>...</td>\n",
       "      <td>...</td>\n",
       "      <td>...</td>\n",
       "      <td>...</td>\n",
       "      <td>...</td>\n",
       "      <td>...</td>\n",
       "    </tr>\n",
       "    <tr>\n",
       "      <th>719</th>\n",
       "      <td>9</td>\n",
       "      <td>1</td>\n",
       "      <td>4</td>\n",
       "      <td>0.017600</td>\n",
       "      <td>0.737</td>\n",
       "      <td>0.745</td>\n",
       "      <td>0.381000</td>\n",
       "      <td>0.3060</td>\n",
       "      <td>-5.944</td>\n",
       "      <td>0.0351</td>\n",
       "      <td>0.629</td>\n",
       "      <td>115.989</td>\n",
       "      <td>0</td>\n",
       "    </tr>\n",
       "    <tr>\n",
       "      <th>614</th>\n",
       "      <td>8</td>\n",
       "      <td>1</td>\n",
       "      <td>4</td>\n",
       "      <td>0.018300</td>\n",
       "      <td>0.895</td>\n",
       "      <td>0.739</td>\n",
       "      <td>0.000008</td>\n",
       "      <td>0.1020</td>\n",
       "      <td>-6.633</td>\n",
       "      <td>0.2830</td>\n",
       "      <td>0.763</td>\n",
       "      <td>140.007</td>\n",
       "      <td>1</td>\n",
       "    </tr>\n",
       "    <tr>\n",
       "      <th>308</th>\n",
       "      <td>5</td>\n",
       "      <td>0</td>\n",
       "      <td>4</td>\n",
       "      <td>0.021500</td>\n",
       "      <td>0.765</td>\n",
       "      <td>0.704</td>\n",
       "      <td>0.000000</td>\n",
       "      <td>0.2270</td>\n",
       "      <td>-4.589</td>\n",
       "      <td>0.1270</td>\n",
       "      <td>0.498</td>\n",
       "      <td>147.055</td>\n",
       "      <td>1</td>\n",
       "    </tr>\n",
       "    <tr>\n",
       "      <th>1132</th>\n",
       "      <td>6</td>\n",
       "      <td>0</td>\n",
       "      <td>4</td>\n",
       "      <td>0.674000</td>\n",
       "      <td>0.541</td>\n",
       "      <td>0.583</td>\n",
       "      <td>0.005830</td>\n",
       "      <td>0.1250</td>\n",
       "      <td>-8.886</td>\n",
       "      <td>0.0507</td>\n",
       "      <td>0.295</td>\n",
       "      <td>148.162</td>\n",
       "      <td>0</td>\n",
       "    </tr>\n",
       "    <tr>\n",
       "      <th>763</th>\n",
       "      <td>8</td>\n",
       "      <td>1</td>\n",
       "      <td>4</td>\n",
       "      <td>0.002560</td>\n",
       "      <td>0.426</td>\n",
       "      <td>0.877</td>\n",
       "      <td>0.000000</td>\n",
       "      <td>0.0842</td>\n",
       "      <td>-7.569</td>\n",
       "      <td>0.0577</td>\n",
       "      <td>0.175</td>\n",
       "      <td>112.038</td>\n",
       "      <td>0</td>\n",
       "    </tr>\n",
       "  </tbody>\n",
       "</table>\n",
       "<p>286 rows × 13 columns</p>\n",
       "</div>"
      ],
      "text/plain": [
       "      KEY  MODE  TIME_SIGNATURE  ACOUSTICNESS  DANCEABILITY  ENERGY  \\\n",
       "1201    7     1               4      0.530000         0.781   0.667   \n",
       "1182   10     0               4      0.915000         0.622   0.571   \n",
       "216     0     1               4      0.315000         0.624   0.452   \n",
       "1442    7     1               4      0.000019         0.311   0.895   \n",
       "477     7     0               3      0.321000         0.209   0.472   \n",
       "...   ...   ...             ...           ...           ...     ...   \n",
       "719     9     1               4      0.017600         0.737   0.745   \n",
       "614     8     1               4      0.018300         0.895   0.739   \n",
       "308     5     0               4      0.021500         0.765   0.704   \n",
       "1132    6     0               4      0.674000         0.541   0.583   \n",
       "763     8     1               4      0.002560         0.426   0.877   \n",
       "\n",
       "      INSTRUMENTALNESS  LIVENESS  LOUDNESS  SPEECHINESS  VALENCE    TEMPO  \\\n",
       "1201          0.000049    0.1110    -6.683       0.3540    0.623   93.418   \n",
       "1182          0.592000    0.1020    -7.887       0.3030    0.602   95.952   \n",
       "216           0.000010    0.3110    -8.206       0.0681    0.724  199.775   \n",
       "1442          0.195000    0.0584    -9.401       0.0476    0.681  167.107   \n",
       "477           0.000799    0.4500   -12.319       0.0386    0.114  144.741   \n",
       "...                ...       ...       ...          ...      ...      ...   \n",
       "719           0.381000    0.3060    -5.944       0.0351    0.629  115.989   \n",
       "614           0.000008    0.1020    -6.633       0.2830    0.763  140.007   \n",
       "308           0.000000    0.2270    -4.589       0.1270    0.498  147.055   \n",
       "1132          0.005830    0.1250    -8.886       0.0507    0.295  148.162   \n",
       "763           0.000000    0.0842    -7.569       0.0577    0.175  112.038   \n",
       "\n",
       "      CLASS  \n",
       "1201      0  \n",
       "1182      0  \n",
       "216       1  \n",
       "1442      0  \n",
       "477       1  \n",
       "...     ...  \n",
       "719       0  \n",
       "614       1  \n",
       "308       1  \n",
       "1132      0  \n",
       "763       0  \n",
       "\n",
       "[286 rows x 13 columns]"
      ]
     },
     "execution_count": 18,
     "metadata": {},
     "output_type": "execute_result"
    }
   ],
   "source": [
    "test_set_x"
   ]
  },
  {
   "cell_type": "code",
   "execution_count": 19,
   "metadata": {},
   "outputs": [],
   "source": [
    "train_set_x=train_set_x.drop(labels=['CLASS'], axis = 1)"
   ]
  },
  {
   "cell_type": "code",
   "execution_count": 20,
   "metadata": {},
   "outputs": [
    {
     "data": {
      "text/plain": [
       "SGDClassifier(alpha=0.0001, average=False, class_weight=None,\n",
       "              early_stopping=False, epsilon=0.1, eta0=0.0, fit_intercept=True,\n",
       "              l1_ratio=0.15, learning_rate='optimal', loss='log',\n",
       "              max_iter=10000, n_iter_no_change=5, n_jobs=None, penalty='l2',\n",
       "              power_t=0.5, random_state=100, shuffle=True, tol=0.001,\n",
       "              validation_fraction=0.1, verbose=0, warm_start=False)"
      ]
     },
     "execution_count": 20,
     "metadata": {},
     "output_type": "execute_result"
    }
   ],
   "source": [
    "model.fit(train_set_x,train_set_y)"
   ]
  },
  {
   "cell_type": "code",
   "execution_count": 21,
   "metadata": {},
   "outputs": [
    {
     "data": {
      "text/html": [
       "<div>\n",
       "<style scoped>\n",
       "    .dataframe tbody tr th:only-of-type {\n",
       "        vertical-align: middle;\n",
       "    }\n",
       "\n",
       "    .dataframe tbody tr th {\n",
       "        vertical-align: top;\n",
       "    }\n",
       "\n",
       "    .dataframe thead th {\n",
       "        text-align: right;\n",
       "    }\n",
       "</style>\n",
       "<table border=\"1\" class=\"dataframe\">\n",
       "  <thead>\n",
       "    <tr style=\"text-align: right;\">\n",
       "      <th></th>\n",
       "      <th>KEY</th>\n",
       "      <th>MODE</th>\n",
       "      <th>TIME_SIGNATURE</th>\n",
       "      <th>ACOUSTICNESS</th>\n",
       "      <th>DANCEABILITY</th>\n",
       "      <th>ENERGY</th>\n",
       "      <th>INSTRUMENTALNESS</th>\n",
       "      <th>LIVENESS</th>\n",
       "      <th>LOUDNESS</th>\n",
       "      <th>SPEECHINESS</th>\n",
       "      <th>VALENCE</th>\n",
       "      <th>TEMPO</th>\n",
       "    </tr>\n",
       "  </thead>\n",
       "  <tbody>\n",
       "    <tr>\n",
       "      <th>1049</th>\n",
       "      <td>0</td>\n",
       "      <td>1</td>\n",
       "      <td>5</td>\n",
       "      <td>0.933000</td>\n",
       "      <td>0.498</td>\n",
       "      <td>0.2820</td>\n",
       "      <td>0.800000</td>\n",
       "      <td>0.2200</td>\n",
       "      <td>-16.171</td>\n",
       "      <td>0.0353</td>\n",
       "      <td>0.3190</td>\n",
       "      <td>99.976</td>\n",
       "    </tr>\n",
       "    <tr>\n",
       "      <th>833</th>\n",
       "      <td>4</td>\n",
       "      <td>0</td>\n",
       "      <td>4</td>\n",
       "      <td>0.477000</td>\n",
       "      <td>0.745</td>\n",
       "      <td>0.4190</td>\n",
       "      <td>0.000046</td>\n",
       "      <td>0.1120</td>\n",
       "      <td>-8.901</td>\n",
       "      <td>0.0343</td>\n",
       "      <td>0.4110</td>\n",
       "      <td>120.086</td>\n",
       "    </tr>\n",
       "    <tr>\n",
       "      <th>136</th>\n",
       "      <td>0</td>\n",
       "      <td>1</td>\n",
       "      <td>4</td>\n",
       "      <td>0.263000</td>\n",
       "      <td>0.200</td>\n",
       "      <td>0.7250</td>\n",
       "      <td>0.024200</td>\n",
       "      <td>0.2960</td>\n",
       "      <td>-6.742</td>\n",
       "      <td>0.0461</td>\n",
       "      <td>0.1710</td>\n",
       "      <td>154.866</td>\n",
       "    </tr>\n",
       "    <tr>\n",
       "      <th>1036</th>\n",
       "      <td>4</td>\n",
       "      <td>1</td>\n",
       "      <td>4</td>\n",
       "      <td>0.021200</td>\n",
       "      <td>0.493</td>\n",
       "      <td>0.5600</td>\n",
       "      <td>0.374000</td>\n",
       "      <td>0.1130</td>\n",
       "      <td>-9.100</td>\n",
       "      <td>0.0296</td>\n",
       "      <td>0.6410</td>\n",
       "      <td>95.523</td>\n",
       "    </tr>\n",
       "    <tr>\n",
       "      <th>632</th>\n",
       "      <td>1</td>\n",
       "      <td>1</td>\n",
       "      <td>4</td>\n",
       "      <td>0.000821</td>\n",
       "      <td>0.361</td>\n",
       "      <td>0.0851</td>\n",
       "      <td>0.391000</td>\n",
       "      <td>0.6250</td>\n",
       "      <td>-32.574</td>\n",
       "      <td>0.0981</td>\n",
       "      <td>0.0383</td>\n",
       "      <td>99.798</td>\n",
       "    </tr>\n",
       "    <tr>\n",
       "      <th>...</th>\n",
       "      <td>...</td>\n",
       "      <td>...</td>\n",
       "      <td>...</td>\n",
       "      <td>...</td>\n",
       "      <td>...</td>\n",
       "      <td>...</td>\n",
       "      <td>...</td>\n",
       "      <td>...</td>\n",
       "      <td>...</td>\n",
       "      <td>...</td>\n",
       "      <td>...</td>\n",
       "      <td>...</td>\n",
       "    </tr>\n",
       "    <tr>\n",
       "      <th>379</th>\n",
       "      <td>11</td>\n",
       "      <td>0</td>\n",
       "      <td>4</td>\n",
       "      <td>0.047000</td>\n",
       "      <td>0.224</td>\n",
       "      <td>0.4940</td>\n",
       "      <td>0.001580</td>\n",
       "      <td>0.9890</td>\n",
       "      <td>-12.241</td>\n",
       "      <td>0.0362</td>\n",
       "      <td>0.2180</td>\n",
       "      <td>123.566</td>\n",
       "    </tr>\n",
       "    <tr>\n",
       "      <th>476</th>\n",
       "      <td>5</td>\n",
       "      <td>1</td>\n",
       "      <td>4</td>\n",
       "      <td>0.029100</td>\n",
       "      <td>0.673</td>\n",
       "      <td>0.8780</td>\n",
       "      <td>0.477000</td>\n",
       "      <td>0.1930</td>\n",
       "      <td>-6.293</td>\n",
       "      <td>0.0312</td>\n",
       "      <td>0.0377</td>\n",
       "      <td>120.006</td>\n",
       "    </tr>\n",
       "    <tr>\n",
       "      <th>1172</th>\n",
       "      <td>0</td>\n",
       "      <td>0</td>\n",
       "      <td>4</td>\n",
       "      <td>0.002060</td>\n",
       "      <td>0.713</td>\n",
       "      <td>0.8680</td>\n",
       "      <td>0.000092</td>\n",
       "      <td>0.2250</td>\n",
       "      <td>-6.644</td>\n",
       "      <td>0.0305</td>\n",
       "      <td>0.6410</td>\n",
       "      <td>119.980</td>\n",
       "    </tr>\n",
       "    <tr>\n",
       "      <th>1094</th>\n",
       "      <td>1</td>\n",
       "      <td>0</td>\n",
       "      <td>4</td>\n",
       "      <td>0.689000</td>\n",
       "      <td>0.213</td>\n",
       "      <td>0.6640</td>\n",
       "      <td>0.134000</td>\n",
       "      <td>0.1020</td>\n",
       "      <td>-9.034</td>\n",
       "      <td>0.0642</td>\n",
       "      <td>0.2190</td>\n",
       "      <td>80.561</td>\n",
       "    </tr>\n",
       "    <tr>\n",
       "      <th>1310</th>\n",
       "      <td>4</td>\n",
       "      <td>1</td>\n",
       "      <td>4</td>\n",
       "      <td>0.890000</td>\n",
       "      <td>0.386</td>\n",
       "      <td>0.4330</td>\n",
       "      <td>0.977000</td>\n",
       "      <td>0.0887</td>\n",
       "      <td>-16.452</td>\n",
       "      <td>0.0399</td>\n",
       "      <td>0.0550</td>\n",
       "      <td>99.226</td>\n",
       "    </tr>\n",
       "  </tbody>\n",
       "</table>\n",
       "<p>1140 rows × 12 columns</p>\n",
       "</div>"
      ],
      "text/plain": [
       "      KEY  MODE  TIME_SIGNATURE  ACOUSTICNESS  DANCEABILITY  ENERGY  \\\n",
       "1049    0     1               5      0.933000         0.498  0.2820   \n",
       "833     4     0               4      0.477000         0.745  0.4190   \n",
       "136     0     1               4      0.263000         0.200  0.7250   \n",
       "1036    4     1               4      0.021200         0.493  0.5600   \n",
       "632     1     1               4      0.000821         0.361  0.0851   \n",
       "...   ...   ...             ...           ...           ...     ...   \n",
       "379    11     0               4      0.047000         0.224  0.4940   \n",
       "476     5     1               4      0.029100         0.673  0.8780   \n",
       "1172    0     0               4      0.002060         0.713  0.8680   \n",
       "1094    1     0               4      0.689000         0.213  0.6640   \n",
       "1310    4     1               4      0.890000         0.386  0.4330   \n",
       "\n",
       "      INSTRUMENTALNESS  LIVENESS  LOUDNESS  SPEECHINESS  VALENCE    TEMPO  \n",
       "1049          0.800000    0.2200   -16.171       0.0353   0.3190   99.976  \n",
       "833           0.000046    0.1120    -8.901       0.0343   0.4110  120.086  \n",
       "136           0.024200    0.2960    -6.742       0.0461   0.1710  154.866  \n",
       "1036          0.374000    0.1130    -9.100       0.0296   0.6410   95.523  \n",
       "632           0.391000    0.6250   -32.574       0.0981   0.0383   99.798  \n",
       "...                ...       ...       ...          ...      ...      ...  \n",
       "379           0.001580    0.9890   -12.241       0.0362   0.2180  123.566  \n",
       "476           0.477000    0.1930    -6.293       0.0312   0.0377  120.006  \n",
       "1172          0.000092    0.2250    -6.644       0.0305   0.6410  119.980  \n",
       "1094          0.134000    0.1020    -9.034       0.0642   0.2190   80.561  \n",
       "1310          0.977000    0.0887   -16.452       0.0399   0.0550   99.226  \n",
       "\n",
       "[1140 rows x 12 columns]"
      ]
     },
     "execution_count": 21,
     "metadata": {},
     "output_type": "execute_result"
    }
   ],
   "source": [
    "train_set_x"
   ]
  },
  {
   "cell_type": "code",
   "execution_count": 22,
   "metadata": {},
   "outputs": [],
   "source": [
    "test_set_x=test_set_x.drop(labels=['CLASS'], axis = 1)\n"
   ]
  },
  {
   "cell_type": "code",
   "execution_count": 23,
   "metadata": {},
   "outputs": [
    {
     "data": {
      "text/plain": [
       "1201    0\n",
       "1182    0\n",
       "216     1\n",
       "1442    0\n",
       "477     1\n",
       "       ..\n",
       "719     0\n",
       "614     1\n",
       "308     1\n",
       "1132    0\n",
       "763     0\n",
       "Name: CLASS, Length: 286, dtype: int64"
      ]
     },
     "execution_count": 23,
     "metadata": {},
     "output_type": "execute_result"
    }
   ],
   "source": [
    "test_set_y"
   ]
  },
  {
   "cell_type": "code",
   "execution_count": 24,
   "metadata": {},
   "outputs": [],
   "source": [
    "y_pred=model.predict(test_set_x)"
   ]
  },
  {
   "cell_type": "code",
   "execution_count": null,
   "metadata": {},
   "outputs": [],
   "source": []
  },
  {
   "cell_type": "code",
   "execution_count": 25,
   "metadata": {},
   "outputs": [
    {
     "data": {
      "text/html": [
       "<div>\n",
       "<style scoped>\n",
       "    .dataframe tbody tr th:only-of-type {\n",
       "        vertical-align: middle;\n",
       "    }\n",
       "\n",
       "    .dataframe tbody tr th {\n",
       "        vertical-align: top;\n",
       "    }\n",
       "\n",
       "    .dataframe thead th {\n",
       "        text-align: right;\n",
       "    }\n",
       "</style>\n",
       "<table border=\"1\" class=\"dataframe\">\n",
       "  <thead>\n",
       "    <tr style=\"text-align: right;\">\n",
       "      <th></th>\n",
       "      <th>KEY</th>\n",
       "      <th>MODE</th>\n",
       "      <th>TIME_SIGNATURE</th>\n",
       "      <th>ACOUSTICNESS</th>\n",
       "      <th>DANCEABILITY</th>\n",
       "      <th>ENERGY</th>\n",
       "      <th>INSTRUMENTALNESS</th>\n",
       "      <th>LIVENESS</th>\n",
       "      <th>LOUDNESS</th>\n",
       "      <th>SPEECHINESS</th>\n",
       "      <th>VALENCE</th>\n",
       "      <th>TEMPO</th>\n",
       "    </tr>\n",
       "  </thead>\n",
       "  <tbody>\n",
       "    <tr>\n",
       "      <th>1201</th>\n",
       "      <td>7</td>\n",
       "      <td>1</td>\n",
       "      <td>4</td>\n",
       "      <td>0.530000</td>\n",
       "      <td>0.781</td>\n",
       "      <td>0.667</td>\n",
       "      <td>0.000049</td>\n",
       "      <td>0.1110</td>\n",
       "      <td>-6.683</td>\n",
       "      <td>0.3540</td>\n",
       "      <td>0.623</td>\n",
       "      <td>93.418</td>\n",
       "    </tr>\n",
       "    <tr>\n",
       "      <th>1182</th>\n",
       "      <td>10</td>\n",
       "      <td>0</td>\n",
       "      <td>4</td>\n",
       "      <td>0.915000</td>\n",
       "      <td>0.622</td>\n",
       "      <td>0.571</td>\n",
       "      <td>0.592000</td>\n",
       "      <td>0.1020</td>\n",
       "      <td>-7.887</td>\n",
       "      <td>0.3030</td>\n",
       "      <td>0.602</td>\n",
       "      <td>95.952</td>\n",
       "    </tr>\n",
       "    <tr>\n",
       "      <th>216</th>\n",
       "      <td>0</td>\n",
       "      <td>1</td>\n",
       "      <td>4</td>\n",
       "      <td>0.315000</td>\n",
       "      <td>0.624</td>\n",
       "      <td>0.452</td>\n",
       "      <td>0.000010</td>\n",
       "      <td>0.3110</td>\n",
       "      <td>-8.206</td>\n",
       "      <td>0.0681</td>\n",
       "      <td>0.724</td>\n",
       "      <td>199.775</td>\n",
       "    </tr>\n",
       "    <tr>\n",
       "      <th>1442</th>\n",
       "      <td>7</td>\n",
       "      <td>1</td>\n",
       "      <td>4</td>\n",
       "      <td>0.000019</td>\n",
       "      <td>0.311</td>\n",
       "      <td>0.895</td>\n",
       "      <td>0.195000</td>\n",
       "      <td>0.0584</td>\n",
       "      <td>-9.401</td>\n",
       "      <td>0.0476</td>\n",
       "      <td>0.681</td>\n",
       "      <td>167.107</td>\n",
       "    </tr>\n",
       "    <tr>\n",
       "      <th>477</th>\n",
       "      <td>7</td>\n",
       "      <td>0</td>\n",
       "      <td>3</td>\n",
       "      <td>0.321000</td>\n",
       "      <td>0.209</td>\n",
       "      <td>0.472</td>\n",
       "      <td>0.000799</td>\n",
       "      <td>0.4500</td>\n",
       "      <td>-12.319</td>\n",
       "      <td>0.0386</td>\n",
       "      <td>0.114</td>\n",
       "      <td>144.741</td>\n",
       "    </tr>\n",
       "    <tr>\n",
       "      <th>...</th>\n",
       "      <td>...</td>\n",
       "      <td>...</td>\n",
       "      <td>...</td>\n",
       "      <td>...</td>\n",
       "      <td>...</td>\n",
       "      <td>...</td>\n",
       "      <td>...</td>\n",
       "      <td>...</td>\n",
       "      <td>...</td>\n",
       "      <td>...</td>\n",
       "      <td>...</td>\n",
       "      <td>...</td>\n",
       "    </tr>\n",
       "    <tr>\n",
       "      <th>719</th>\n",
       "      <td>9</td>\n",
       "      <td>1</td>\n",
       "      <td>4</td>\n",
       "      <td>0.017600</td>\n",
       "      <td>0.737</td>\n",
       "      <td>0.745</td>\n",
       "      <td>0.381000</td>\n",
       "      <td>0.3060</td>\n",
       "      <td>-5.944</td>\n",
       "      <td>0.0351</td>\n",
       "      <td>0.629</td>\n",
       "      <td>115.989</td>\n",
       "    </tr>\n",
       "    <tr>\n",
       "      <th>614</th>\n",
       "      <td>8</td>\n",
       "      <td>1</td>\n",
       "      <td>4</td>\n",
       "      <td>0.018300</td>\n",
       "      <td>0.895</td>\n",
       "      <td>0.739</td>\n",
       "      <td>0.000008</td>\n",
       "      <td>0.1020</td>\n",
       "      <td>-6.633</td>\n",
       "      <td>0.2830</td>\n",
       "      <td>0.763</td>\n",
       "      <td>140.007</td>\n",
       "    </tr>\n",
       "    <tr>\n",
       "      <th>308</th>\n",
       "      <td>5</td>\n",
       "      <td>0</td>\n",
       "      <td>4</td>\n",
       "      <td>0.021500</td>\n",
       "      <td>0.765</td>\n",
       "      <td>0.704</td>\n",
       "      <td>0.000000</td>\n",
       "      <td>0.2270</td>\n",
       "      <td>-4.589</td>\n",
       "      <td>0.1270</td>\n",
       "      <td>0.498</td>\n",
       "      <td>147.055</td>\n",
       "    </tr>\n",
       "    <tr>\n",
       "      <th>1132</th>\n",
       "      <td>6</td>\n",
       "      <td>0</td>\n",
       "      <td>4</td>\n",
       "      <td>0.674000</td>\n",
       "      <td>0.541</td>\n",
       "      <td>0.583</td>\n",
       "      <td>0.005830</td>\n",
       "      <td>0.1250</td>\n",
       "      <td>-8.886</td>\n",
       "      <td>0.0507</td>\n",
       "      <td>0.295</td>\n",
       "      <td>148.162</td>\n",
       "    </tr>\n",
       "    <tr>\n",
       "      <th>763</th>\n",
       "      <td>8</td>\n",
       "      <td>1</td>\n",
       "      <td>4</td>\n",
       "      <td>0.002560</td>\n",
       "      <td>0.426</td>\n",
       "      <td>0.877</td>\n",
       "      <td>0.000000</td>\n",
       "      <td>0.0842</td>\n",
       "      <td>-7.569</td>\n",
       "      <td>0.0577</td>\n",
       "      <td>0.175</td>\n",
       "      <td>112.038</td>\n",
       "    </tr>\n",
       "  </tbody>\n",
       "</table>\n",
       "<p>286 rows × 12 columns</p>\n",
       "</div>"
      ],
      "text/plain": [
       "      KEY  MODE  TIME_SIGNATURE  ACOUSTICNESS  DANCEABILITY  ENERGY  \\\n",
       "1201    7     1               4      0.530000         0.781   0.667   \n",
       "1182   10     0               4      0.915000         0.622   0.571   \n",
       "216     0     1               4      0.315000         0.624   0.452   \n",
       "1442    7     1               4      0.000019         0.311   0.895   \n",
       "477     7     0               3      0.321000         0.209   0.472   \n",
       "...   ...   ...             ...           ...           ...     ...   \n",
       "719     9     1               4      0.017600         0.737   0.745   \n",
       "614     8     1               4      0.018300         0.895   0.739   \n",
       "308     5     0               4      0.021500         0.765   0.704   \n",
       "1132    6     0               4      0.674000         0.541   0.583   \n",
       "763     8     1               4      0.002560         0.426   0.877   \n",
       "\n",
       "      INSTRUMENTALNESS  LIVENESS  LOUDNESS  SPEECHINESS  VALENCE    TEMPO  \n",
       "1201          0.000049    0.1110    -6.683       0.3540    0.623   93.418  \n",
       "1182          0.592000    0.1020    -7.887       0.3030    0.602   95.952  \n",
       "216           0.000010    0.3110    -8.206       0.0681    0.724  199.775  \n",
       "1442          0.195000    0.0584    -9.401       0.0476    0.681  167.107  \n",
       "477           0.000799    0.4500   -12.319       0.0386    0.114  144.741  \n",
       "...                ...       ...       ...          ...      ...      ...  \n",
       "719           0.381000    0.3060    -5.944       0.0351    0.629  115.989  \n",
       "614           0.000008    0.1020    -6.633       0.2830    0.763  140.007  \n",
       "308           0.000000    0.2270    -4.589       0.1270    0.498  147.055  \n",
       "1132          0.005830    0.1250    -8.886       0.0507    0.295  148.162  \n",
       "763           0.000000    0.0842    -7.569       0.0577    0.175  112.038  \n",
       "\n",
       "[286 rows x 12 columns]"
      ]
     },
     "execution_count": 25,
     "metadata": {},
     "output_type": "execute_result"
    }
   ],
   "source": [
    "test_set_x"
   ]
  },
  {
   "cell_type": "code",
   "execution_count": 26,
   "metadata": {},
   "outputs": [
    {
     "data": {
      "text/plain": [
       "array([1, 1, 0, 0, 0, 1, 1, 1, 1, 1, 1, 0, 1, 1, 0, 1, 1, 0, 1, 1, 0, 0,\n",
       "       0, 0, 0, 1, 0, 1, 1, 0, 1, 1, 1, 1, 1, 1, 0, 1, 1, 1, 1, 1, 1, 0,\n",
       "       0, 0, 1, 0, 1, 0, 0, 0, 0, 1, 1, 0, 0, 1, 1, 1, 1, 0, 0, 0, 1, 1,\n",
       "       1, 1, 1, 1, 0, 0, 1, 1, 1, 1, 1, 0, 1, 1, 1, 0, 0, 1, 0, 1, 0, 0,\n",
       "       1, 1, 1, 0, 1, 0, 0, 0, 0, 0, 0, 1, 0, 0, 1, 1, 1, 1, 0, 0, 1, 1,\n",
       "       0, 1, 1, 1, 1, 0, 0, 0, 0, 1, 1, 1, 0, 1, 1, 0, 1, 1, 0, 0, 1, 1,\n",
       "       1, 0, 1, 1, 0, 0, 0, 1, 1, 0, 1, 1, 1, 1, 0, 1, 0, 0, 0, 1, 0, 1,\n",
       "       0, 1, 1, 1, 1, 0, 1, 0, 1, 0, 0, 1, 1, 1, 1, 1, 0, 0, 1, 0, 0, 1,\n",
       "       1, 1, 1, 1, 0, 0, 0, 1, 0, 0, 1, 1, 1, 1, 0, 0, 1, 0, 0, 1, 0, 1,\n",
       "       1, 1, 0, 1, 1, 1, 1, 1, 1, 1, 0, 1, 1, 1, 1, 1, 1, 1, 1, 1, 1, 0,\n",
       "       1, 1, 1, 0, 0, 0, 1, 0, 0, 1, 0, 0, 0, 0, 0, 1, 0, 0, 0, 1, 0, 1,\n",
       "       0, 1, 1, 1, 1, 0, 1, 1, 0, 1, 1, 1, 1, 1, 1, 1, 0, 0, 1, 0, 1, 0,\n",
       "       1, 1, 1, 0, 0, 1, 1, 1, 1, 0, 1, 1, 0, 1, 1, 1, 0, 1, 1, 1, 1, 1])"
      ]
     },
     "execution_count": 26,
     "metadata": {},
     "output_type": "execute_result"
    }
   ],
   "source": [
    "y_pred"
   ]
  },
  {
   "cell_type": "code",
   "execution_count": 27,
   "metadata": {},
   "outputs": [],
   "source": [
    "from sklearn import metrics"
   ]
  },
  {
   "cell_type": "code",
   "execution_count": 28,
   "metadata": {},
   "outputs": [
    {
     "data": {
      "text/plain": [
       "0.6188811188811189"
      ]
     },
     "execution_count": 28,
     "metadata": {},
     "output_type": "execute_result"
    }
   ],
   "source": [
    "metrics.accuracy_score(test_set_y,y_pred)"
   ]
  },
  {
   "cell_type": "code",
   "execution_count": 29,
   "metadata": {},
   "outputs": [
    {
     "data": {
      "text/plain": [
       "1201    0\n",
       "1182    0\n",
       "216     1\n",
       "1442    0\n",
       "477     1\n",
       "       ..\n",
       "719     0\n",
       "614     1\n",
       "308     1\n",
       "1132    0\n",
       "763     0\n",
       "Name: CLASS, Length: 286, dtype: int64"
      ]
     },
     "execution_count": 29,
     "metadata": {},
     "output_type": "execute_result"
    }
   ],
   "source": [
    "test_set_y"
   ]
  },
  {
   "cell_type": "code",
   "execution_count": 30,
   "metadata": {},
   "outputs": [
    {
     "data": {
      "text/plain": [
       "130"
      ]
     },
     "execution_count": 30,
     "metadata": {},
     "output_type": "execute_result"
    }
   ],
   "source": [
    "test_set_y.astype(bool).sum(axis=0)"
   ]
  },
  {
   "cell_type": "code",
   "execution_count": 31,
   "metadata": {},
   "outputs": [
    {
     "data": {
      "text/plain": [
       "286"
      ]
     },
     "execution_count": 31,
     "metadata": {},
     "output_type": "execute_result"
    }
   ],
   "source": [
    "test_set_y.count()"
   ]
  },
  {
   "cell_type": "code",
   "execution_count": 32,
   "metadata": {},
   "outputs": [
    {
     "data": {
      "text/plain": [
       "array([[80, 76],\n",
       "       [33, 97]])"
      ]
     },
     "execution_count": 32,
     "metadata": {},
     "output_type": "execute_result"
    }
   ],
   "source": [
    "from sklearn.metrics import confusion_matrix\n",
    "confusion_matrix(test_set_y,y_pred)"
   ]
  },
  {
   "cell_type": "code",
   "execution_count": 33,
   "metadata": {},
   "outputs": [
    {
     "data": {
      "text/plain": [
       "0.5606936416184971"
      ]
     },
     "execution_count": 33,
     "metadata": {},
     "output_type": "execute_result"
    }
   ],
   "source": [
    "from sklearn.metrics import precision_score, recall_score\n",
    "\n",
    "precision_score(test_set_y,y_pred)"
   ]
  },
  {
   "cell_type": "code",
   "execution_count": 34,
   "metadata": {},
   "outputs": [
    {
     "data": {
      "text/plain": [
       "0.7461538461538462"
      ]
     },
     "execution_count": 34,
     "metadata": {},
     "output_type": "execute_result"
    }
   ],
   "source": [
    "recall_score(test_set_y,y_pred)"
   ]
  },
  {
   "cell_type": "code",
   "execution_count": 35,
   "metadata": {},
   "outputs": [],
   "source": [
    "ys=model.decision_function(test_set_x)"
   ]
  },
  {
   "cell_type": "code",
   "execution_count": 36,
   "metadata": {
    "scrolled": true
   },
   "outputs": [
    {
     "data": {
      "text/plain": [
       "array([ 2.16440276e+02,  1.18066197e+02, -7.36749504e+01, -2.54006622e+02,\n",
       "       -4.12351494e+02,  8.14300511e+01,  7.86150119e+01,  2.78996006e+02,\n",
       "        1.36853934e+02,  4.34802801e+02,  1.68437234e+02, -3.45698981e+02,\n",
       "        2.96591399e+02,  8.62970724e+01, -2.57308839e+01,  3.51499140e+02,\n",
       "        3.35398748e+02, -1.43299321e+02,  2.09607009e+02,  3.31752195e+02,\n",
       "       -2.56152192e+02, -7.23470509e+02, -2.92370705e+02, -1.06990139e+02,\n",
       "       -3.82017676e+02,  4.95501585e+01, -1.17129875e+03,  3.47684352e+01,\n",
       "        5.98129325e+01, -5.19073612e+02,  3.85406070e+02,  3.80753070e+02,\n",
       "        1.59808826e+02,  1.23810853e+02,  1.21261764e+02,  2.36043642e+02,\n",
       "       -4.13668795e+02,  4.08750665e+02,  3.61495520e+02,  4.24539206e+02,\n",
       "        2.52463919e+02,  3.28725462e+02,  1.08560829e+02, -6.24373799e+01,\n",
       "       -2.42503293e+02, -6.90665945e+02,  7.93362010e+00, -4.61230908e+02,\n",
       "        1.24044216e+02, -5.20198291e+02, -6.38754327e+02, -1.56884428e+03,\n",
       "       -1.63221847e+02,  4.82995195e+02,  3.07718449e+02, -6.43729902e+02,\n",
       "       -2.77887736e+02,  5.55900205e+01,  6.43225664e+00,  1.58831338e-01,\n",
       "        2.16473311e+02, -4.14339237e+02, -2.20930711e+02, -2.82467003e+02,\n",
       "        2.22786873e+02,  2.47276964e+01,  3.91257100e+02,  2.44063867e+02,\n",
       "        4.62300578e+02,  3.87598232e+02, -5.51203100e+02, -4.07901021e+01,\n",
       "        2.54122399e+02,  2.20817847e+02,  8.90007056e+00,  4.25174650e+01,\n",
       "        1.84926777e+02, -2.51079575e+03,  1.43133295e+02,  4.60873833e+00,\n",
       "        1.65686052e+02, -3.27026476e+02, -1.50500269e+02,  5.71779749e+01,\n",
       "       -1.83394433e+02,  3.50773587e+02, -2.39085689e+02, -8.20157468e+00,\n",
       "        9.17920674e+01,  3.75137538e+02,  1.85233098e+02, -1.22209730e+03,\n",
       "        1.61611141e+02, -2.17245908e+02, -9.21669778e+01, -1.04251564e+02,\n",
       "       -1.30355971e+03, -7.78842554e+02, -2.71705296e+02,  2.92499857e+02,\n",
       "       -2.71312670e+02, -7.56703355e+01,  2.93788876e+02,  6.29733090e+01,\n",
       "        2.33688814e+01,  1.59606172e+02, -2.96075012e+01, -1.16902461e+03,\n",
       "        3.69918883e+02,  3.25697064e+02, -1.95667531e+03,  2.43121593e+02,\n",
       "        3.74309718e+02,  9.46286928e+01,  1.79124758e+02, -3.00837293e+02,\n",
       "       -6.91139904e+02, -5.06853605e+02, -1.27475243e+01,  2.31728866e+02,\n",
       "        3.70617718e+02,  2.72643889e+02, -1.37432634e+02,  1.24658151e+02,\n",
       "        6.31880749e+01, -2.71885140e+02,  2.76884197e+02,  5.16373948e+02,\n",
       "       -7.50591415e+02, -1.66122684e+02,  2.01347022e+01,  1.72478862e+02,\n",
       "        1.70050110e+02, -1.86171245e+02,  1.49503859e+02,  1.20931551e+02,\n",
       "       -2.13915654e+02, -4.86744542e+02, -1.52286239e+02,  1.59677461e+02,\n",
       "        2.18474255e+02, -4.99188273e+01,  2.01537960e+02,  4.72368259e+02,\n",
       "        5.64549772e+02,  2.59614177e+02, -2.13860531e+01,  1.09469788e+02,\n",
       "       -2.84868222e+02, -2.43280885e+02, -5.97921799e+01,  6.89443790e+01,\n",
       "       -2.40679306e+02,  2.10648260e+02, -4.89040359e+00,  5.85667950e+02,\n",
       "        8.34649155e+01,  3.35662794e+02,  2.91435775e+00, -3.75724732e+02,\n",
       "        4.11631494e+02, -4.20109939e+02,  3.62350954e+02, -1.54726293e+02,\n",
       "       -4.44600082e+02,  3.22814885e+02,  1.36941128e+02,  2.10892872e+02,\n",
       "        9.45763417e+01,  2.31203129e+02, -4.87356930e+02, -1.12788148e+03,\n",
       "        5.36571790e+02, -1.10455704e+03, -5.98412946e+02,  3.06596879e+02,\n",
       "        4.02447921e+02,  2.63051466e+02,  1.34611670e+02,  1.79065205e+02,\n",
       "       -1.76757988e+02, -2.98913969e+02, -1.96866038e+02,  4.29299825e+02,\n",
       "       -6.09989135e+02, -2.92682416e+00,  3.28230430e+02,  8.75295529e+01,\n",
       "        1.31455720e+02,  1.61071968e+02, -1.47848454e+03, -9.89826867e+01,\n",
       "        2.21255748e+02, -3.77473333e+02, -1.26007309e+03,  2.34577745e+02,\n",
       "       -4.79046233e+02,  4.06072699e+02,  4.53460306e+02,  4.84589568e+00,\n",
       "       -5.79952943e+01,  1.71819995e+02,  3.48605055e+02,  3.70082769e+02,\n",
       "        3.55966345e+02,  2.19481751e+02,  3.63555559e+02,  1.58241767e+02,\n",
       "       -1.12339335e+03,  3.30181902e+02,  2.36649109e+02,  1.46591008e+02,\n",
       "        5.38960472e+02,  3.48196342e+02,  2.12441096e+02,  4.03329491e+02,\n",
       "        9.53263151e+01,  9.08473143e+00,  1.57160204e+02, -1.95765619e+02,\n",
       "        2.11839882e+01,  1.98358718e+02,  2.27359382e+02, -7.32335220e+02,\n",
       "       -4.22249407e+02, -2.91067993e+02,  8.70875809e+01, -3.07064546e+02,\n",
       "       -5.66424235e+02,  8.57616503e+01, -6.41965832e+02, -1.19496203e+01,\n",
       "       -8.86636308e+01, -2.94121525e+01, -2.30227925e+02,  2.27627045e+02,\n",
       "       -8.05412964e+02, -3.34352736e+01, -1.65744777e+01,  1.70798311e+02,\n",
       "       -3.39766647e+01,  3.94127373e+02, -2.20807134e+02,  3.91641185e+02,\n",
       "        1.96230183e+02,  6.20472098e+01,  3.20164669e+02, -2.57511572e+01,\n",
       "        4.92565745e+01,  8.79371945e+01, -7.48286407e+02,  1.84463299e+00,\n",
       "        3.06965874e+02,  4.57337076e+02,  1.15192234e+01,  1.95198871e+02,\n",
       "        2.35372108e+02,  9.58188159e+01, -1.14801497e+03, -3.92358112e+02,\n",
       "        2.73295796e+02, -6.93930966e+02,  5.55771149e+02, -1.11408275e+02,\n",
       "        2.99652362e+02,  2.22655038e+02,  1.34090113e+02, -3.43932070e+00,\n",
       "       -1.38975174e+02,  2.18045958e+02,  5.22492389e+02,  1.72792174e+02,\n",
       "        3.15238283e+02, -5.48721106e+02,  4.69443134e+01,  1.80942126e+02,\n",
       "       -1.51307385e+02,  4.08558543e+02,  3.37787375e+02,  1.90597823e+02,\n",
       "       -2.88824060e+02,  1.71077504e+02,  1.73800643e+02,  3.92068379e+02,\n",
       "        4.12914506e+01,  3.32776738e+01])"
      ]
     },
     "execution_count": 36,
     "metadata": {},
     "output_type": "execute_result"
    }
   ],
   "source": [
    "ys"
   ]
  },
  {
   "cell_type": "code",
   "execution_count": 37,
   "metadata": {},
   "outputs": [
    {
     "data": {
      "text/plain": [
       "array([0.61315789, 0.65526316, 0.57105263])"
      ]
     },
     "execution_count": 37,
     "metadata": {},
     "output_type": "execute_result"
    }
   ],
   "source": [
    "from sklearn.model_selection import cross_val_score\n",
    "cross_val_score(\n",
    "    model,\n",
    "    train_set_x,\n",
    "    train_set_y,\n",
    "    groups=None,\n",
    "    scoring=\"accuracy\",\n",
    "    cv=3,\n",
    "    n_jobs=None,\n",
    "    verbose=0,\n",
    "    fit_params=None,\n",
    "    pre_dispatch='2*n_jobs'\n",
    "\n",
    ")"
   ]
  },
  {
   "cell_type": "code",
   "execution_count": 163,
   "metadata": {},
   "outputs": [
    {
     "data": {
      "text/plain": [
       "KNeighborsClassifier(algorithm='auto', leaf_size=40, metric='minkowski',\n",
       "                     metric_params=None, n_jobs=None, n_neighbors=50, p=2,\n",
       "                     weights='uniform')"
      ]
     },
     "execution_count": 163,
     "metadata": {},
     "output_type": "execute_result"
    }
   ],
   "source": [
    "from sklearn.neighbors import KNeighborsClassifier\n",
    "knn=KNeighborsClassifier(n_neighbors=50, leaf_size=40)\n",
    "knn.fit(train_set_x,train_set_y)"
   ]
  },
  {
   "cell_type": "code",
   "execution_count": 164,
   "metadata": {},
   "outputs": [],
   "source": [
    "y_pred=knn.predict(test_set_x)"
   ]
  },
  {
   "cell_type": "code",
   "execution_count": 165,
   "metadata": {},
   "outputs": [
    {
     "data": {
      "text/plain": [
       "0.527972027972028"
      ]
     },
     "execution_count": 165,
     "metadata": {},
     "output_type": "execute_result"
    }
   ],
   "source": [
    "metrics.accuracy_score(test_set_y, y_pred)"
   ]
  },
  {
   "cell_type": "code",
   "execution_count": 41,
   "metadata": {},
   "outputs": [
    {
     "data": {
      "text/plain": [
       "0.6923076923076923"
      ]
     },
     "execution_count": 41,
     "metadata": {},
     "output_type": "execute_result"
    }
   ],
   "source": [
    "from sklearn.tree import DecisionTreeClassifier\n",
    "m= DecisionTreeClassifier()\n",
    "m.fit(train_set_x,train_set_y)\n",
    "y_pred=m.predict(test_set_x)\n",
    "from sklearn import metrics\n",
    "metrics.accuracy_score(test_set_y, y_pred)"
   ]
  },
  {
   "cell_type": "code",
   "execution_count": 42,
   "metadata": {
    "scrolled": true
   },
   "outputs": [],
   "source": [
    "import xgboost as xgb"
   ]
  },
  {
   "cell_type": "code",
   "execution_count": 43,
   "metadata": {},
   "outputs": [],
   "source": [
    "train= xgb.DMatrix(train_set_x,label= train_set_y)\n",
    "test = xgb.DMatrix(test_set_x, label= test_set_y)"
   ]
  },
  {
   "cell_type": "code",
   "execution_count": 44,
   "metadata": {},
   "outputs": [],
   "source": [
    "param = {'max_depth' : 4,\n",
    "        'eta' : 0.3,\n",
    "        'objective': 'multi:softmax',\n",
    "        'num_class': 2 }\n",
    "epochs = 10"
   ]
  },
  {
   "cell_type": "code",
   "execution_count": 45,
   "metadata": {},
   "outputs": [],
   "source": [
    "model = xgb.train(param, train, epochs)"
   ]
  },
  {
   "cell_type": "code",
   "execution_count": 46,
   "metadata": {},
   "outputs": [],
   "source": [
    "predictions = model.predict(test)"
   ]
  },
  {
   "cell_type": "code",
   "execution_count": 47,
   "metadata": {},
   "outputs": [
    {
     "data": {
      "text/plain": [
       "array([1., 0., 1., 0., 0., 1., 1., 0., 0., 0., 1., 0., 1., 1., 0., 1., 1.,\n",
       "       0., 1., 0., 0., 0., 1., 0., 0., 0., 0., 1., 0., 1., 1., 1., 1., 0.,\n",
       "       0., 0., 0., 1., 1., 1., 0., 1., 0., 0., 0., 0., 0., 1., 0., 0., 0.,\n",
       "       0., 0., 1., 0., 0., 0., 0., 1., 0., 1., 1., 0., 0., 1., 0., 1., 1.,\n",
       "       1., 1., 0., 0., 0., 1., 1., 0., 1., 0., 1., 1., 1., 0., 0., 1., 0.,\n",
       "       1., 0., 1., 1., 1., 0., 0., 1., 1., 1., 0., 0., 0., 0., 1., 0., 0.,\n",
       "       0., 1., 0., 1., 0., 0., 1., 1., 0., 1., 1., 1., 1., 0., 0., 0., 0.,\n",
       "       1., 1., 1., 0., 0., 0., 0., 1., 1., 0., 0., 0., 0., 0., 1., 1., 1.,\n",
       "       0., 1., 0., 0., 1., 0., 1., 1., 1., 1., 0., 0., 0., 0., 0., 0., 0.,\n",
       "       1., 0., 1., 0., 1., 1., 0., 1., 0., 1., 0., 0., 1., 1., 1., 1., 1.,\n",
       "       0., 0., 1., 0., 0., 0., 1., 1., 1., 0., 0., 0., 0., 1., 0., 1., 1.,\n",
       "       1., 0., 1., 0., 0., 1., 0., 0., 0., 0., 0., 1., 0., 0., 1., 1., 0.,\n",
       "       1., 0., 1., 1., 0., 1., 1., 0., 1., 1., 1., 1., 0., 1., 0., 0., 1.,\n",
       "       0., 1., 1., 1., 0., 0., 0., 1., 0., 0., 0., 0., 0., 1., 1., 0., 1.,\n",
       "       0., 1., 0., 1., 0., 1., 1., 0., 0., 0., 0., 1., 1., 1., 1., 1., 0.,\n",
       "       0., 1., 1., 0., 1., 1., 1., 1., 0., 1., 0., 1., 1., 0., 1., 1., 1.,\n",
       "       1., 0., 1., 1., 0., 0., 1., 1., 1., 1., 1., 1., 0., 0.],\n",
       "      dtype=float32)"
      ]
     },
     "execution_count": 47,
     "metadata": {},
     "output_type": "execute_result"
    }
   ],
   "source": [
    "predictions"
   ]
  },
  {
   "cell_type": "code",
   "execution_count": 48,
   "metadata": {},
   "outputs": [
    {
     "data": {
      "text/plain": [
       "0.7447552447552448"
      ]
     },
     "execution_count": 48,
     "metadata": {},
     "output_type": "execute_result"
    }
   ],
   "source": [
    "from sklearn.metrics import accuracy_score\n",
    "accuracy_score(test_set_y, predictions)"
   ]
  },
  {
   "cell_type": "code",
   "execution_count": 49,
   "metadata": {},
   "outputs": [],
   "source": [
    "from sklearn.svm import SVC\n"
   ]
  },
  {
   "cell_type": "code",
   "execution_count": 50,
   "metadata": {},
   "outputs": [],
   "source": []
  },
  {
   "cell_type": "code",
   "execution_count": 51,
   "metadata": {},
   "outputs": [
    {
     "data": {
      "text/plain": [
       "SVC(C=1.0, break_ties=False, cache_size=200, class_weight=None, coef0=0.0,\n",
       "    decision_function_shape='ovr', degree=3, gamma='scale', kernel='rbf',\n",
       "    max_iter=-1, probability=False, random_state=None, shrinking=True,\n",
       "    tol=0.001, verbose=False)"
      ]
     },
     "execution_count": 51,
     "metadata": {},
     "output_type": "execute_result"
    }
   ],
   "source": [
    "SVC_model.fit(train_set_x, train_set_y)"
   ]
  },
  {
   "cell_type": "code",
   "execution_count": 52,
   "metadata": {},
   "outputs": [],
   "source": [
    "svc_prediction = SVC_model.predict(test_set_x)"
   ]
  },
  {
   "cell_type": "code",
   "execution_count": 53,
   "metadata": {},
   "outputs": [
    {
     "data": {
      "text/plain": [
       "0.6328671328671329"
      ]
     },
     "execution_count": 53,
     "metadata": {},
     "output_type": "execute_result"
    }
   ],
   "source": [
    "accuracy_score(test_set_y, svc_prediction)"
   ]
  },
  {
   "cell_type": "code",
   "execution_count": 54,
   "metadata": {},
   "outputs": [],
   "source": [
    "from sklearn.linear_model import LogisticRegression"
   ]
  },
  {
   "cell_type": "code",
   "execution_count": 55,
   "metadata": {},
   "outputs": [],
   "source": [
    "LR_model= LogisticRegression(max_iter=2000)"
   ]
  },
  {
   "cell_type": "code",
   "execution_count": 56,
   "metadata": {},
   "outputs": [
    {
     "data": {
      "text/plain": [
       "LogisticRegression(C=1.0, class_weight=None, dual=False, fit_intercept=True,\n",
       "                   intercept_scaling=1, l1_ratio=None, max_iter=2000,\n",
       "                   multi_class='auto', n_jobs=None, penalty='l2',\n",
       "                   random_state=None, solver='lbfgs', tol=0.0001, verbose=0,\n",
       "                   warm_start=False)"
      ]
     },
     "execution_count": 56,
     "metadata": {},
     "output_type": "execute_result"
    }
   ],
   "source": [
    "LR_model.fit(train_set_x, train_set_y)"
   ]
  },
  {
   "cell_type": "code",
   "execution_count": 57,
   "metadata": {},
   "outputs": [
    {
     "data": {
      "text/plain": [
       "0.7062937062937062"
      ]
     },
     "execution_count": 57,
     "metadata": {},
     "output_type": "execute_result"
    }
   ],
   "source": [
    "LR_model_predictions=LR_model.predict(test_set_x)\n",
    "accuracy_score(test_set_y,LR_model_predictions)"
   ]
  },
  {
   "cell_type": "code",
   "execution_count": 58,
   "metadata": {},
   "outputs": [
    {
     "data": {
      "text/html": [
       "<div>\n",
       "<style scoped>\n",
       "    .dataframe tbody tr th:only-of-type {\n",
       "        vertical-align: middle;\n",
       "    }\n",
       "\n",
       "    .dataframe tbody tr th {\n",
       "        vertical-align: top;\n",
       "    }\n",
       "\n",
       "    .dataframe thead th {\n",
       "        text-align: right;\n",
       "    }\n",
       "</style>\n",
       "<table border=\"1\" class=\"dataframe\">\n",
       "  <thead>\n",
       "    <tr style=\"text-align: right;\">\n",
       "      <th></th>\n",
       "      <th>KEY</th>\n",
       "      <th>MODE</th>\n",
       "      <th>TIME_SIGNATURE</th>\n",
       "      <th>ACOUSTICNESS</th>\n",
       "      <th>DANCEABILITY</th>\n",
       "      <th>ENERGY</th>\n",
       "      <th>INSTRUMENTALNESS</th>\n",
       "      <th>LIVENESS</th>\n",
       "      <th>LOUDNESS</th>\n",
       "      <th>SPEECHINESS</th>\n",
       "      <th>VALENCE</th>\n",
       "      <th>TEMPO</th>\n",
       "      <th>CLASS</th>\n",
       "    </tr>\n",
       "  </thead>\n",
       "  <tbody>\n",
       "    <tr>\n",
       "      <th>0</th>\n",
       "      <td>5</td>\n",
       "      <td>0</td>\n",
       "      <td>4</td>\n",
       "      <td>0.418000</td>\n",
       "      <td>0.457</td>\n",
       "      <td>0.553</td>\n",
       "      <td>0.000001</td>\n",
       "      <td>0.1130</td>\n",
       "      <td>-9.345</td>\n",
       "      <td>0.1620</td>\n",
       "      <td>0.448</td>\n",
       "      <td>89.905</td>\n",
       "      <td>1</td>\n",
       "    </tr>\n",
       "    <tr>\n",
       "      <th>1</th>\n",
       "      <td>1</td>\n",
       "      <td>0</td>\n",
       "      <td>4</td>\n",
       "      <td>0.191000</td>\n",
       "      <td>0.675</td>\n",
       "      <td>0.230</td>\n",
       "      <td>0.000000</td>\n",
       "      <td>0.1040</td>\n",
       "      <td>-10.363</td>\n",
       "      <td>0.2040</td>\n",
       "      <td>0.101</td>\n",
       "      <td>173.962</td>\n",
       "      <td>1</td>\n",
       "    </tr>\n",
       "    <tr>\n",
       "      <th>2</th>\n",
       "      <td>10</td>\n",
       "      <td>0</td>\n",
       "      <td>4</td>\n",
       "      <td>0.104000</td>\n",
       "      <td>0.896</td>\n",
       "      <td>0.586</td>\n",
       "      <td>0.000000</td>\n",
       "      <td>0.7900</td>\n",
       "      <td>-6.687</td>\n",
       "      <td>0.0559</td>\n",
       "      <td>0.642</td>\n",
       "      <td>116.971</td>\n",
       "      <td>1</td>\n",
       "    </tr>\n",
       "    <tr>\n",
       "      <th>3</th>\n",
       "      <td>6</td>\n",
       "      <td>0</td>\n",
       "      <td>4</td>\n",
       "      <td>0.340000</td>\n",
       "      <td>0.656</td>\n",
       "      <td>0.555</td>\n",
       "      <td>0.000000</td>\n",
       "      <td>0.0993</td>\n",
       "      <td>-7.600</td>\n",
       "      <td>0.0374</td>\n",
       "      <td>0.224</td>\n",
       "      <td>120.096</td>\n",
       "      <td>1</td>\n",
       "    </tr>\n",
       "    <tr>\n",
       "      <th>4</th>\n",
       "      <td>0</td>\n",
       "      <td>1</td>\n",
       "      <td>4</td>\n",
       "      <td>0.221000</td>\n",
       "      <td>0.588</td>\n",
       "      <td>0.301</td>\n",
       "      <td>0.002360</td>\n",
       "      <td>0.1280</td>\n",
       "      <td>-14.979</td>\n",
       "      <td>0.0294</td>\n",
       "      <td>0.190</td>\n",
       "      <td>112.458</td>\n",
       "      <td>1</td>\n",
       "    </tr>\n",
       "    <tr>\n",
       "      <th>...</th>\n",
       "      <td>...</td>\n",
       "      <td>...</td>\n",
       "      <td>...</td>\n",
       "      <td>...</td>\n",
       "      <td>...</td>\n",
       "      <td>...</td>\n",
       "      <td>...</td>\n",
       "      <td>...</td>\n",
       "      <td>...</td>\n",
       "      <td>...</td>\n",
       "      <td>...</td>\n",
       "      <td>...</td>\n",
       "      <td>...</td>\n",
       "    </tr>\n",
       "    <tr>\n",
       "      <th>1459</th>\n",
       "      <td>2</td>\n",
       "      <td>1</td>\n",
       "      <td>4</td>\n",
       "      <td>0.000050</td>\n",
       "      <td>0.387</td>\n",
       "      <td>0.954</td>\n",
       "      <td>0.000029</td>\n",
       "      <td>0.1910</td>\n",
       "      <td>-7.143</td>\n",
       "      <td>0.0555</td>\n",
       "      <td>0.696</td>\n",
       "      <td>146.300</td>\n",
       "      <td>0</td>\n",
       "    </tr>\n",
       "    <tr>\n",
       "      <th>1460</th>\n",
       "      <td>6</td>\n",
       "      <td>0</td>\n",
       "      <td>4</td>\n",
       "      <td>0.000005</td>\n",
       "      <td>0.414</td>\n",
       "      <td>0.869</td>\n",
       "      <td>0.000650</td>\n",
       "      <td>0.1680</td>\n",
       "      <td>-7.472</td>\n",
       "      <td>0.0311</td>\n",
       "      <td>0.589</td>\n",
       "      <td>131.905</td>\n",
       "      <td>0</td>\n",
       "    </tr>\n",
       "    <tr>\n",
       "      <th>1461</th>\n",
       "      <td>2</td>\n",
       "      <td>1</td>\n",
       "      <td>4</td>\n",
       "      <td>0.000008</td>\n",
       "      <td>0.381</td>\n",
       "      <td>0.947</td>\n",
       "      <td>0.000164</td>\n",
       "      <td>0.0860</td>\n",
       "      <td>-7.258</td>\n",
       "      <td>0.0872</td>\n",
       "      <td>0.426</td>\n",
       "      <td>84.126</td>\n",
       "      <td>0</td>\n",
       "    </tr>\n",
       "    <tr>\n",
       "      <th>1462</th>\n",
       "      <td>1</td>\n",
       "      <td>1</td>\n",
       "      <td>4</td>\n",
       "      <td>0.000005</td>\n",
       "      <td>0.407</td>\n",
       "      <td>0.877</td>\n",
       "      <td>0.016900</td>\n",
       "      <td>0.3200</td>\n",
       "      <td>-6.618</td>\n",
       "      <td>0.0565</td>\n",
       "      <td>0.533</td>\n",
       "      <td>129.852</td>\n",
       "      <td>0</td>\n",
       "    </tr>\n",
       "    <tr>\n",
       "      <th>1463</th>\n",
       "      <td>7</td>\n",
       "      <td>1</td>\n",
       "      <td>4</td>\n",
       "      <td>0.000057</td>\n",
       "      <td>0.284</td>\n",
       "      <td>0.965</td>\n",
       "      <td>0.092300</td>\n",
       "      <td>0.2710</td>\n",
       "      <td>-6.652</td>\n",
       "      <td>0.1040</td>\n",
       "      <td>0.399</td>\n",
       "      <td>156.558</td>\n",
       "      <td>0</td>\n",
       "    </tr>\n",
       "  </tbody>\n",
       "</table>\n",
       "<p>1426 rows × 13 columns</p>\n",
       "</div>"
      ],
      "text/plain": [
       "      KEY  MODE  TIME_SIGNATURE  ACOUSTICNESS  DANCEABILITY  ENERGY  \\\n",
       "0       5     0               4      0.418000         0.457   0.553   \n",
       "1       1     0               4      0.191000         0.675   0.230   \n",
       "2      10     0               4      0.104000         0.896   0.586   \n",
       "3       6     0               4      0.340000         0.656   0.555   \n",
       "4       0     1               4      0.221000         0.588   0.301   \n",
       "...   ...   ...             ...           ...           ...     ...   \n",
       "1459    2     1               4      0.000050         0.387   0.954   \n",
       "1460    6     0               4      0.000005         0.414   0.869   \n",
       "1461    2     1               4      0.000008         0.381   0.947   \n",
       "1462    1     1               4      0.000005         0.407   0.877   \n",
       "1463    7     1               4      0.000057         0.284   0.965   \n",
       "\n",
       "      INSTRUMENTALNESS  LIVENESS  LOUDNESS  SPEECHINESS  VALENCE    TEMPO  \\\n",
       "0             0.000001    0.1130    -9.345       0.1620    0.448   89.905   \n",
       "1             0.000000    0.1040   -10.363       0.2040    0.101  173.962   \n",
       "2             0.000000    0.7900    -6.687       0.0559    0.642  116.971   \n",
       "3             0.000000    0.0993    -7.600       0.0374    0.224  120.096   \n",
       "4             0.002360    0.1280   -14.979       0.0294    0.190  112.458   \n",
       "...                ...       ...       ...          ...      ...      ...   \n",
       "1459          0.000029    0.1910    -7.143       0.0555    0.696  146.300   \n",
       "1460          0.000650    0.1680    -7.472       0.0311    0.589  131.905   \n",
       "1461          0.000164    0.0860    -7.258       0.0872    0.426   84.126   \n",
       "1462          0.016900    0.3200    -6.618       0.0565    0.533  129.852   \n",
       "1463          0.092300    0.2710    -6.652       0.1040    0.399  156.558   \n",
       "\n",
       "      CLASS  \n",
       "0         1  \n",
       "1         1  \n",
       "2         1  \n",
       "3         1  \n",
       "4         1  \n",
       "...     ...  \n",
       "1459      0  \n",
       "1460      0  \n",
       "1461      0  \n",
       "1462      0  \n",
       "1463      0  \n",
       "\n",
       "[1426 rows x 13 columns]"
      ]
     },
     "execution_count": 58,
     "metadata": {},
     "output_type": "execute_result"
    }
   ],
   "source": [
    "songs\n"
   ]
  },
  {
   "cell_type": "code",
   "execution_count": 59,
   "metadata": {},
   "outputs": [
    {
     "name": "stdout",
     "output_type": "stream",
     "text": [
      "<class 'pandas.core.frame.DataFrame'>\n",
      "Int64Index: 1426 entries, 0 to 1463\n",
      "Data columns (total 13 columns):\n",
      " #   Column            Non-Null Count  Dtype  \n",
      "---  ------            --------------  -----  \n",
      " 0   KEY               1426 non-null   int64  \n",
      " 1   MODE              1426 non-null   int64  \n",
      " 2   TIME_SIGNATURE    1426 non-null   int64  \n",
      " 3   ACOUSTICNESS      1426 non-null   float64\n",
      " 4   DANCEABILITY      1426 non-null   float64\n",
      " 5   ENERGY            1426 non-null   float64\n",
      " 6   INSTRUMENTALNESS  1426 non-null   float64\n",
      " 7   LIVENESS          1426 non-null   float64\n",
      " 8   LOUDNESS          1426 non-null   float64\n",
      " 9   SPEECHINESS       1426 non-null   float64\n",
      " 10  VALENCE           1426 non-null   float64\n",
      " 11  TEMPO             1426 non-null   float64\n",
      " 12  CLASS             1426 non-null   int64  \n",
      "dtypes: float64(9), int64(4)\n",
      "memory usage: 156.0 KB\n"
     ]
    }
   ],
   "source": [
    "songs.info()"
   ]
  },
  {
   "cell_type": "code",
   "execution_count": 60,
   "metadata": {
    "scrolled": true
   },
   "outputs": [
    {
     "data": {
      "text/html": [
       "<div>\n",
       "<style scoped>\n",
       "    .dataframe tbody tr th:only-of-type {\n",
       "        vertical-align: middle;\n",
       "    }\n",
       "\n",
       "    .dataframe tbody tr th {\n",
       "        vertical-align: top;\n",
       "    }\n",
       "\n",
       "    .dataframe thead th {\n",
       "        text-align: right;\n",
       "    }\n",
       "</style>\n",
       "<table border=\"1\" class=\"dataframe\">\n",
       "  <thead>\n",
       "    <tr style=\"text-align: right;\">\n",
       "      <th></th>\n",
       "      <th>KEY</th>\n",
       "      <th>MODE</th>\n",
       "      <th>TIME_SIGNATURE</th>\n",
       "      <th>ACOUSTICNESS</th>\n",
       "      <th>DANCEABILITY</th>\n",
       "      <th>ENERGY</th>\n",
       "      <th>INSTRUMENTALNESS</th>\n",
       "      <th>LIVENESS</th>\n",
       "      <th>LOUDNESS</th>\n",
       "      <th>SPEECHINESS</th>\n",
       "      <th>VALENCE</th>\n",
       "      <th>TEMPO</th>\n",
       "      <th>CLASS</th>\n",
       "    </tr>\n",
       "  </thead>\n",
       "  <tbody>\n",
       "    <tr>\n",
       "      <th>KEY</th>\n",
       "      <td>1.000000</td>\n",
       "      <td>-0.171717</td>\n",
       "      <td>-0.013969</td>\n",
       "      <td>0.062447</td>\n",
       "      <td>0.031633</td>\n",
       "      <td>-0.027307</td>\n",
       "      <td>0.027458</td>\n",
       "      <td>-0.014305</td>\n",
       "      <td>-0.018370</td>\n",
       "      <td>0.078654</td>\n",
       "      <td>0.025309</td>\n",
       "      <td>0.025484</td>\n",
       "      <td>-0.005468</td>\n",
       "    </tr>\n",
       "    <tr>\n",
       "      <th>MODE</th>\n",
       "      <td>-0.171717</td>\n",
       "      <td>1.000000</td>\n",
       "      <td>-0.035153</td>\n",
       "      <td>-0.011035</td>\n",
       "      <td>-0.042532</td>\n",
       "      <td>-0.001132</td>\n",
       "      <td>0.001082</td>\n",
       "      <td>-0.021844</td>\n",
       "      <td>-0.010238</td>\n",
       "      <td>-0.059007</td>\n",
       "      <td>0.012503</td>\n",
       "      <td>0.023300</td>\n",
       "      <td>-0.046786</td>\n",
       "    </tr>\n",
       "    <tr>\n",
       "      <th>TIME_SIGNATURE</th>\n",
       "      <td>-0.013969</td>\n",
       "      <td>-0.035153</td>\n",
       "      <td>1.000000</td>\n",
       "      <td>-0.166761</td>\n",
       "      <td>0.144790</td>\n",
       "      <td>0.151721</td>\n",
       "      <td>-0.089706</td>\n",
       "      <td>-0.005271</td>\n",
       "      <td>0.173102</td>\n",
       "      <td>-0.002866</td>\n",
       "      <td>0.100022</td>\n",
       "      <td>-0.054395</td>\n",
       "      <td>0.076702</td>\n",
       "    </tr>\n",
       "    <tr>\n",
       "      <th>ACOUSTICNESS</th>\n",
       "      <td>0.062447</td>\n",
       "      <td>-0.011035</td>\n",
       "      <td>-0.166761</td>\n",
       "      <td>1.000000</td>\n",
       "      <td>-0.253396</td>\n",
       "      <td>-0.655783</td>\n",
       "      <td>0.221477</td>\n",
       "      <td>-0.126792</td>\n",
       "      <td>-0.578046</td>\n",
       "      <td>-0.011846</td>\n",
       "      <td>-0.238310</td>\n",
       "      <td>-0.160672</td>\n",
       "      <td>-0.131011</td>\n",
       "    </tr>\n",
       "    <tr>\n",
       "      <th>DANCEABILITY</th>\n",
       "      <td>0.031633</td>\n",
       "      <td>-0.042532</td>\n",
       "      <td>0.144790</td>\n",
       "      <td>-0.253396</td>\n",
       "      <td>1.000000</td>\n",
       "      <td>0.249351</td>\n",
       "      <td>-0.367929</td>\n",
       "      <td>-0.068400</td>\n",
       "      <td>0.406515</td>\n",
       "      <td>0.274151</td>\n",
       "      <td>0.450849</td>\n",
       "      <td>0.012345</td>\n",
       "      <td>0.314557</td>\n",
       "    </tr>\n",
       "    <tr>\n",
       "      <th>ENERGY</th>\n",
       "      <td>-0.027307</td>\n",
       "      <td>-0.001132</td>\n",
       "      <td>0.151721</td>\n",
       "      <td>-0.655783</td>\n",
       "      <td>0.249351</td>\n",
       "      <td>1.000000</td>\n",
       "      <td>-0.249787</td>\n",
       "      <td>0.135394</td>\n",
       "      <td>0.763390</td>\n",
       "      <td>0.148717</td>\n",
       "      <td>0.438750</td>\n",
       "      <td>0.173853</td>\n",
       "      <td>0.116960</td>\n",
       "    </tr>\n",
       "    <tr>\n",
       "      <th>INSTRUMENTALNESS</th>\n",
       "      <td>0.027458</td>\n",
       "      <td>0.001082</td>\n",
       "      <td>-0.089706</td>\n",
       "      <td>0.221477</td>\n",
       "      <td>-0.367929</td>\n",
       "      <td>-0.249787</td>\n",
       "      <td>1.000000</td>\n",
       "      <td>-0.066634</td>\n",
       "      <td>-0.469219</td>\n",
       "      <td>-0.206519</td>\n",
       "      <td>-0.207130</td>\n",
       "      <td>-0.047974</td>\n",
       "      <td>-0.318316</td>\n",
       "    </tr>\n",
       "    <tr>\n",
       "      <th>LIVENESS</th>\n",
       "      <td>-0.014305</td>\n",
       "      <td>-0.021844</td>\n",
       "      <td>-0.005271</td>\n",
       "      <td>-0.126792</td>\n",
       "      <td>-0.068400</td>\n",
       "      <td>0.135394</td>\n",
       "      <td>-0.066634</td>\n",
       "      <td>1.000000</td>\n",
       "      <td>0.020736</td>\n",
       "      <td>0.091554</td>\n",
       "      <td>0.012865</td>\n",
       "      <td>0.017731</td>\n",
       "      <td>0.076547</td>\n",
       "    </tr>\n",
       "    <tr>\n",
       "      <th>LOUDNESS</th>\n",
       "      <td>-0.018370</td>\n",
       "      <td>-0.010238</td>\n",
       "      <td>0.173102</td>\n",
       "      <td>-0.578046</td>\n",
       "      <td>0.406515</td>\n",
       "      <td>0.763390</td>\n",
       "      <td>-0.469219</td>\n",
       "      <td>0.020736</td>\n",
       "      <td>1.000000</td>\n",
       "      <td>0.139406</td>\n",
       "      <td>0.344025</td>\n",
       "      <td>0.142697</td>\n",
       "      <td>0.321206</td>\n",
       "    </tr>\n",
       "    <tr>\n",
       "      <th>SPEECHINESS</th>\n",
       "      <td>0.078654</td>\n",
       "      <td>-0.059007</td>\n",
       "      <td>-0.002866</td>\n",
       "      <td>-0.011846</td>\n",
       "      <td>0.274151</td>\n",
       "      <td>0.148717</td>\n",
       "      <td>-0.206519</td>\n",
       "      <td>0.091554</td>\n",
       "      <td>0.139406</td>\n",
       "      <td>1.000000</td>\n",
       "      <td>0.164833</td>\n",
       "      <td>0.030135</td>\n",
       "      <td>0.132061</td>\n",
       "    </tr>\n",
       "    <tr>\n",
       "      <th>VALENCE</th>\n",
       "      <td>0.025309</td>\n",
       "      <td>0.012503</td>\n",
       "      <td>0.100022</td>\n",
       "      <td>-0.238310</td>\n",
       "      <td>0.450849</td>\n",
       "      <td>0.438750</td>\n",
       "      <td>-0.207130</td>\n",
       "      <td>0.012865</td>\n",
       "      <td>0.344025</td>\n",
       "      <td>0.164833</td>\n",
       "      <td>1.000000</td>\n",
       "      <td>0.103938</td>\n",
       "      <td>0.055573</td>\n",
       "    </tr>\n",
       "    <tr>\n",
       "      <th>TEMPO</th>\n",
       "      <td>0.025484</td>\n",
       "      <td>0.023300</td>\n",
       "      <td>-0.054395</td>\n",
       "      <td>-0.160672</td>\n",
       "      <td>0.012345</td>\n",
       "      <td>0.173853</td>\n",
       "      <td>-0.047974</td>\n",
       "      <td>0.017731</td>\n",
       "      <td>0.142697</td>\n",
       "      <td>0.030135</td>\n",
       "      <td>0.103938</td>\n",
       "      <td>1.000000</td>\n",
       "      <td>0.037058</td>\n",
       "    </tr>\n",
       "    <tr>\n",
       "      <th>CLASS</th>\n",
       "      <td>-0.005468</td>\n",
       "      <td>-0.046786</td>\n",
       "      <td>0.076702</td>\n",
       "      <td>-0.131011</td>\n",
       "      <td>0.314557</td>\n",
       "      <td>0.116960</td>\n",
       "      <td>-0.318316</td>\n",
       "      <td>0.076547</td>\n",
       "      <td>0.321206</td>\n",
       "      <td>0.132061</td>\n",
       "      <td>0.055573</td>\n",
       "      <td>0.037058</td>\n",
       "      <td>1.000000</td>\n",
       "    </tr>\n",
       "  </tbody>\n",
       "</table>\n",
       "</div>"
      ],
      "text/plain": [
       "                       KEY      MODE  TIME_SIGNATURE  ACOUSTICNESS  \\\n",
       "KEY               1.000000 -0.171717       -0.013969      0.062447   \n",
       "MODE             -0.171717  1.000000       -0.035153     -0.011035   \n",
       "TIME_SIGNATURE   -0.013969 -0.035153        1.000000     -0.166761   \n",
       "ACOUSTICNESS      0.062447 -0.011035       -0.166761      1.000000   \n",
       "DANCEABILITY      0.031633 -0.042532        0.144790     -0.253396   \n",
       "ENERGY           -0.027307 -0.001132        0.151721     -0.655783   \n",
       "INSTRUMENTALNESS  0.027458  0.001082       -0.089706      0.221477   \n",
       "LIVENESS         -0.014305 -0.021844       -0.005271     -0.126792   \n",
       "LOUDNESS         -0.018370 -0.010238        0.173102     -0.578046   \n",
       "SPEECHINESS       0.078654 -0.059007       -0.002866     -0.011846   \n",
       "VALENCE           0.025309  0.012503        0.100022     -0.238310   \n",
       "TEMPO             0.025484  0.023300       -0.054395     -0.160672   \n",
       "CLASS            -0.005468 -0.046786        0.076702     -0.131011   \n",
       "\n",
       "                  DANCEABILITY    ENERGY  INSTRUMENTALNESS  LIVENESS  \\\n",
       "KEY                   0.031633 -0.027307          0.027458 -0.014305   \n",
       "MODE                 -0.042532 -0.001132          0.001082 -0.021844   \n",
       "TIME_SIGNATURE        0.144790  0.151721         -0.089706 -0.005271   \n",
       "ACOUSTICNESS         -0.253396 -0.655783          0.221477 -0.126792   \n",
       "DANCEABILITY          1.000000  0.249351         -0.367929 -0.068400   \n",
       "ENERGY                0.249351  1.000000         -0.249787  0.135394   \n",
       "INSTRUMENTALNESS     -0.367929 -0.249787          1.000000 -0.066634   \n",
       "LIVENESS             -0.068400  0.135394         -0.066634  1.000000   \n",
       "LOUDNESS              0.406515  0.763390         -0.469219  0.020736   \n",
       "SPEECHINESS           0.274151  0.148717         -0.206519  0.091554   \n",
       "VALENCE               0.450849  0.438750         -0.207130  0.012865   \n",
       "TEMPO                 0.012345  0.173853         -0.047974  0.017731   \n",
       "CLASS                 0.314557  0.116960         -0.318316  0.076547   \n",
       "\n",
       "                  LOUDNESS  SPEECHINESS   VALENCE     TEMPO     CLASS  \n",
       "KEY              -0.018370     0.078654  0.025309  0.025484 -0.005468  \n",
       "MODE             -0.010238    -0.059007  0.012503  0.023300 -0.046786  \n",
       "TIME_SIGNATURE    0.173102    -0.002866  0.100022 -0.054395  0.076702  \n",
       "ACOUSTICNESS     -0.578046    -0.011846 -0.238310 -0.160672 -0.131011  \n",
       "DANCEABILITY      0.406515     0.274151  0.450849  0.012345  0.314557  \n",
       "ENERGY            0.763390     0.148717  0.438750  0.173853  0.116960  \n",
       "INSTRUMENTALNESS -0.469219    -0.206519 -0.207130 -0.047974 -0.318316  \n",
       "LIVENESS          0.020736     0.091554  0.012865  0.017731  0.076547  \n",
       "LOUDNESS          1.000000     0.139406  0.344025  0.142697  0.321206  \n",
       "SPEECHINESS       0.139406     1.000000  0.164833  0.030135  0.132061  \n",
       "VALENCE           0.344025     0.164833  1.000000  0.103938  0.055573  \n",
       "TEMPO             0.142697     0.030135  0.103938  1.000000  0.037058  \n",
       "CLASS             0.321206     0.132061  0.055573  0.037058  1.000000  "
      ]
     },
     "execution_count": 60,
     "metadata": {},
     "output_type": "execute_result"
    }
   ],
   "source": [
    "songs.corr()"
   ]
  },
  {
   "cell_type": "code",
   "execution_count": null,
   "metadata": {},
   "outputs": [],
   "source": []
  },
  {
   "cell_type": "code",
   "execution_count": 61,
   "metadata": {},
   "outputs": [],
   "source": [
    "a=songs.iloc[:,0:-1]"
   ]
  },
  {
   "cell_type": "code",
   "execution_count": 62,
   "metadata": {},
   "outputs": [
    {
     "data": {
      "text/html": [
       "<div>\n",
       "<style scoped>\n",
       "    .dataframe tbody tr th:only-of-type {\n",
       "        vertical-align: middle;\n",
       "    }\n",
       "\n",
       "    .dataframe tbody tr th {\n",
       "        vertical-align: top;\n",
       "    }\n",
       "\n",
       "    .dataframe thead th {\n",
       "        text-align: right;\n",
       "    }\n",
       "</style>\n",
       "<table border=\"1\" class=\"dataframe\">\n",
       "  <thead>\n",
       "    <tr style=\"text-align: right;\">\n",
       "      <th></th>\n",
       "      <th>KEY</th>\n",
       "      <th>MODE</th>\n",
       "      <th>TIME_SIGNATURE</th>\n",
       "      <th>ACOUSTICNESS</th>\n",
       "      <th>DANCEABILITY</th>\n",
       "      <th>ENERGY</th>\n",
       "      <th>INSTRUMENTALNESS</th>\n",
       "      <th>LIVENESS</th>\n",
       "      <th>LOUDNESS</th>\n",
       "      <th>SPEECHINESS</th>\n",
       "      <th>VALENCE</th>\n",
       "      <th>TEMPO</th>\n",
       "    </tr>\n",
       "  </thead>\n",
       "  <tbody>\n",
       "    <tr>\n",
       "      <th>0</th>\n",
       "      <td>5</td>\n",
       "      <td>0</td>\n",
       "      <td>4</td>\n",
       "      <td>0.418000</td>\n",
       "      <td>0.457</td>\n",
       "      <td>0.553</td>\n",
       "      <td>0.000001</td>\n",
       "      <td>0.1130</td>\n",
       "      <td>-9.345</td>\n",
       "      <td>0.1620</td>\n",
       "      <td>0.448</td>\n",
       "      <td>89.905</td>\n",
       "    </tr>\n",
       "    <tr>\n",
       "      <th>1</th>\n",
       "      <td>1</td>\n",
       "      <td>0</td>\n",
       "      <td>4</td>\n",
       "      <td>0.191000</td>\n",
       "      <td>0.675</td>\n",
       "      <td>0.230</td>\n",
       "      <td>0.000000</td>\n",
       "      <td>0.1040</td>\n",
       "      <td>-10.363</td>\n",
       "      <td>0.2040</td>\n",
       "      <td>0.101</td>\n",
       "      <td>173.962</td>\n",
       "    </tr>\n",
       "    <tr>\n",
       "      <th>2</th>\n",
       "      <td>10</td>\n",
       "      <td>0</td>\n",
       "      <td>4</td>\n",
       "      <td>0.104000</td>\n",
       "      <td>0.896</td>\n",
       "      <td>0.586</td>\n",
       "      <td>0.000000</td>\n",
       "      <td>0.7900</td>\n",
       "      <td>-6.687</td>\n",
       "      <td>0.0559</td>\n",
       "      <td>0.642</td>\n",
       "      <td>116.971</td>\n",
       "    </tr>\n",
       "    <tr>\n",
       "      <th>3</th>\n",
       "      <td>6</td>\n",
       "      <td>0</td>\n",
       "      <td>4</td>\n",
       "      <td>0.340000</td>\n",
       "      <td>0.656</td>\n",
       "      <td>0.555</td>\n",
       "      <td>0.000000</td>\n",
       "      <td>0.0993</td>\n",
       "      <td>-7.600</td>\n",
       "      <td>0.0374</td>\n",
       "      <td>0.224</td>\n",
       "      <td>120.096</td>\n",
       "    </tr>\n",
       "    <tr>\n",
       "      <th>4</th>\n",
       "      <td>0</td>\n",
       "      <td>1</td>\n",
       "      <td>4</td>\n",
       "      <td>0.221000</td>\n",
       "      <td>0.588</td>\n",
       "      <td>0.301</td>\n",
       "      <td>0.002360</td>\n",
       "      <td>0.1280</td>\n",
       "      <td>-14.979</td>\n",
       "      <td>0.0294</td>\n",
       "      <td>0.190</td>\n",
       "      <td>112.458</td>\n",
       "    </tr>\n",
       "    <tr>\n",
       "      <th>...</th>\n",
       "      <td>...</td>\n",
       "      <td>...</td>\n",
       "      <td>...</td>\n",
       "      <td>...</td>\n",
       "      <td>...</td>\n",
       "      <td>...</td>\n",
       "      <td>...</td>\n",
       "      <td>...</td>\n",
       "      <td>...</td>\n",
       "      <td>...</td>\n",
       "      <td>...</td>\n",
       "      <td>...</td>\n",
       "    </tr>\n",
       "    <tr>\n",
       "      <th>1459</th>\n",
       "      <td>2</td>\n",
       "      <td>1</td>\n",
       "      <td>4</td>\n",
       "      <td>0.000050</td>\n",
       "      <td>0.387</td>\n",
       "      <td>0.954</td>\n",
       "      <td>0.000029</td>\n",
       "      <td>0.1910</td>\n",
       "      <td>-7.143</td>\n",
       "      <td>0.0555</td>\n",
       "      <td>0.696</td>\n",
       "      <td>146.300</td>\n",
       "    </tr>\n",
       "    <tr>\n",
       "      <th>1460</th>\n",
       "      <td>6</td>\n",
       "      <td>0</td>\n",
       "      <td>4</td>\n",
       "      <td>0.000005</td>\n",
       "      <td>0.414</td>\n",
       "      <td>0.869</td>\n",
       "      <td>0.000650</td>\n",
       "      <td>0.1680</td>\n",
       "      <td>-7.472</td>\n",
       "      <td>0.0311</td>\n",
       "      <td>0.589</td>\n",
       "      <td>131.905</td>\n",
       "    </tr>\n",
       "    <tr>\n",
       "      <th>1461</th>\n",
       "      <td>2</td>\n",
       "      <td>1</td>\n",
       "      <td>4</td>\n",
       "      <td>0.000008</td>\n",
       "      <td>0.381</td>\n",
       "      <td>0.947</td>\n",
       "      <td>0.000164</td>\n",
       "      <td>0.0860</td>\n",
       "      <td>-7.258</td>\n",
       "      <td>0.0872</td>\n",
       "      <td>0.426</td>\n",
       "      <td>84.126</td>\n",
       "    </tr>\n",
       "    <tr>\n",
       "      <th>1462</th>\n",
       "      <td>1</td>\n",
       "      <td>1</td>\n",
       "      <td>4</td>\n",
       "      <td>0.000005</td>\n",
       "      <td>0.407</td>\n",
       "      <td>0.877</td>\n",
       "      <td>0.016900</td>\n",
       "      <td>0.3200</td>\n",
       "      <td>-6.618</td>\n",
       "      <td>0.0565</td>\n",
       "      <td>0.533</td>\n",
       "      <td>129.852</td>\n",
       "    </tr>\n",
       "    <tr>\n",
       "      <th>1463</th>\n",
       "      <td>7</td>\n",
       "      <td>1</td>\n",
       "      <td>4</td>\n",
       "      <td>0.000057</td>\n",
       "      <td>0.284</td>\n",
       "      <td>0.965</td>\n",
       "      <td>0.092300</td>\n",
       "      <td>0.2710</td>\n",
       "      <td>-6.652</td>\n",
       "      <td>0.1040</td>\n",
       "      <td>0.399</td>\n",
       "      <td>156.558</td>\n",
       "    </tr>\n",
       "  </tbody>\n",
       "</table>\n",
       "<p>1426 rows × 12 columns</p>\n",
       "</div>"
      ],
      "text/plain": [
       "      KEY  MODE  TIME_SIGNATURE  ACOUSTICNESS  DANCEABILITY  ENERGY  \\\n",
       "0       5     0               4      0.418000         0.457   0.553   \n",
       "1       1     0               4      0.191000         0.675   0.230   \n",
       "2      10     0               4      0.104000         0.896   0.586   \n",
       "3       6     0               4      0.340000         0.656   0.555   \n",
       "4       0     1               4      0.221000         0.588   0.301   \n",
       "...   ...   ...             ...           ...           ...     ...   \n",
       "1459    2     1               4      0.000050         0.387   0.954   \n",
       "1460    6     0               4      0.000005         0.414   0.869   \n",
       "1461    2     1               4      0.000008         0.381   0.947   \n",
       "1462    1     1               4      0.000005         0.407   0.877   \n",
       "1463    7     1               4      0.000057         0.284   0.965   \n",
       "\n",
       "      INSTRUMENTALNESS  LIVENESS  LOUDNESS  SPEECHINESS  VALENCE    TEMPO  \n",
       "0             0.000001    0.1130    -9.345       0.1620    0.448   89.905  \n",
       "1             0.000000    0.1040   -10.363       0.2040    0.101  173.962  \n",
       "2             0.000000    0.7900    -6.687       0.0559    0.642  116.971  \n",
       "3             0.000000    0.0993    -7.600       0.0374    0.224  120.096  \n",
       "4             0.002360    0.1280   -14.979       0.0294    0.190  112.458  \n",
       "...                ...       ...       ...          ...      ...      ...  \n",
       "1459          0.000029    0.1910    -7.143       0.0555    0.696  146.300  \n",
       "1460          0.000650    0.1680    -7.472       0.0311    0.589  131.905  \n",
       "1461          0.000164    0.0860    -7.258       0.0872    0.426   84.126  \n",
       "1462          0.016900    0.3200    -6.618       0.0565    0.533  129.852  \n",
       "1463          0.092300    0.2710    -6.652       0.1040    0.399  156.558  \n",
       "\n",
       "[1426 rows x 12 columns]"
      ]
     },
     "execution_count": 62,
     "metadata": {},
     "output_type": "execute_result"
    }
   ],
   "source": [
    "a"
   ]
  },
  {
   "cell_type": "code",
   "execution_count": 63,
   "metadata": {},
   "outputs": [],
   "source": [
    "corr_matrix = songs.corr()"
   ]
  },
  {
   "cell_type": "code",
   "execution_count": 64,
   "metadata": {},
   "outputs": [],
   "source": [
    "z=corr_matrix['CLASS'].sort_values(ascending=False)"
   ]
  },
  {
   "cell_type": "code",
   "execution_count": 65,
   "metadata": {},
   "outputs": [
    {
     "data": {
      "text/plain": [
       "<bound method NDFrame.describe of CLASS               1.000000\n",
       "LOUDNESS            0.321206\n",
       "DANCEABILITY        0.314557\n",
       "SPEECHINESS         0.132061\n",
       "ENERGY              0.116960\n",
       "TIME_SIGNATURE      0.076702\n",
       "LIVENESS            0.076547\n",
       "VALENCE             0.055573\n",
       "TEMPO               0.037058\n",
       "KEY                -0.005468\n",
       "MODE               -0.046786\n",
       "ACOUSTICNESS       -0.131011\n",
       "INSTRUMENTALNESS   -0.318316\n",
       "Name: CLASS, dtype: float64>"
      ]
     },
     "execution_count": 65,
     "metadata": {},
     "output_type": "execute_result"
    }
   ],
   "source": [
    "z.describe\n"
   ]
  },
  {
   "cell_type": "code",
   "execution_count": null,
   "metadata": {},
   "outputs": [],
   "source": []
  },
  {
   "cell_type": "code",
   "execution_count": 66,
   "metadata": {},
   "outputs": [],
   "source": [
    "from matplotlib import pyplot as plt"
   ]
  },
  {
   "cell_type": "code",
   "execution_count": 67,
   "metadata": {},
   "outputs": [
    {
     "data": {
      "text/plain": [
       "<matplotlib.axes._subplots.AxesSubplot at 0x7fe6ae9bc250>"
      ]
     },
     "execution_count": 67,
     "metadata": {},
     "output_type": "execute_result"
    },
    {
     "data": {
      "image/png": "[encoded data removed]",
      "text/plain": [
       "<Figure size 432x288 with 1 Axes>"
      ]
     },
     "metadata": {
      "needs_background": "light"
     },
     "output_type": "display_data"
    }
   ],
   "source": [
    "z.plot(kind='bar')"
   ]
  },
  {
   "cell_type": "code",
   "execution_count": 68,
   "metadata": {},
   "outputs": [],
   "source": [
    "liked=songs[songs['CLASS']==1]\n",
    "disliked=songs[songs['CLASS']==0]"
   ]
  },
  {
   "cell_type": "code",
   "execution_count": 69,
   "metadata": {},
   "outputs": [
    {
     "data": {
      "text/plain": [
       "KEY                   5.258114\n",
       "MODE                  0.551777\n",
       "TIME_SIGNATURE        3.962906\n",
       "ACOUSTICNESS          0.251556\n",
       "DANCEABILITY          0.629594\n",
       "ENERGY                0.610783\n",
       "INSTRUMENTALNESS      0.039511\n",
       "LIVENESS              0.218442\n",
       "LOUDNESS             -7.189705\n",
       "SPEECHINESS           0.124365\n",
       "VALENCE               0.430685\n",
       "TEMPO               119.677910\n",
       "CLASS                 1.000000\n",
       "dtype: float64"
      ]
     },
     "execution_count": 69,
     "metadata": {},
     "output_type": "execute_result"
    }
   ],
   "source": [
    "liked.mean()"
   ]
  },
  {
   "cell_type": "code",
   "execution_count": 70,
   "metadata": {},
   "outputs": [
    {
     "data": {
      "text/plain": [
       "<matplotlib.axes._subplots.AxesSubplot at 0x7fe6aeab6fd0>"
      ]
     },
     "execution_count": 70,
     "metadata": {},
     "output_type": "execute_result"
    },
    {
     "data": {
      "image/png": "[encoded data removed]",
      "text/plain": [
       "<Figure size 432x288 with 1 Axes>"
      ]
     },
     "metadata": {
      "needs_background": "light"
     },
     "output_type": "display_data"
    }
   ],
   "source": [
    "disliked.mean().plot(kind='bar')"
   ]
  },
  {
   "cell_type": "code",
   "execution_count": 71,
   "metadata": {},
   "outputs": [
    {
     "data": {
      "text/plain": [
       "TEMPO               28.919945\n",
       "KEY                  3.721724\n",
       "LOUDNESS             3.421133\n",
       "MODE                 0.497697\n",
       "TIME_SIGNATURE       0.354340\n",
       "ACOUSTICNESS         0.266383\n",
       "VALENCE              0.221379\n",
       "LIVENESS             0.190812\n",
       "ENERGY               0.179740\n",
       "DANCEABILITY         0.160644\n",
       "INSTRUMENTALNESS     0.154337\n",
       "SPEECHINESS          0.126939\n",
       "CLASS                0.000000\n",
       "dtype: float64"
      ]
     },
     "execution_count": 71,
     "metadata": {},
     "output_type": "execute_result"
    }
   ],
   "source": [
    "liked.std().sort_values(ascending=False)"
   ]
  },
  {
   "cell_type": "code",
   "execution_count": 72,
   "metadata": {},
   "outputs": [
    {
     "data": {
      "text/plain": [
       "TEMPO               31.784395\n",
       "LOUDNESS             5.062696\n",
       "KEY                  3.528238\n",
       "MODE                 0.490576\n",
       "TIME_SIGNATURE       0.448061\n",
       "ACOUSTICNESS         0.338448\n",
       "INSTRUMENTALNESS     0.332732\n",
       "ENERGY               0.256191\n",
       "VALENCE              0.252562\n",
       "DANCEABILITY         0.186462\n",
       "LIVENESS             0.160232\n",
       "SPEECHINESS          0.107772\n",
       "CLASS                0.000000\n",
       "dtype: float64"
      ]
     },
     "execution_count": 72,
     "metadata": {},
     "output_type": "execute_result"
    }
   ],
   "source": [
    "disliked.std().sort_values(ascending=False)"
   ]
  },
  {
   "cell_type": "code",
   "execution_count": null,
   "metadata": {},
   "outputs": [],
   "source": [
    "songs.corr().plot()"
   ]
  },
  {
   "cell_type": "code",
   "execution_count": 73,
   "metadata": {},
   "outputs": [
    {
     "data": {
      "text/plain": [
       "SVC(C=1.0, break_ties=False, cache_size=200, class_weight=None, coef0=0.0,\n",
       "    decision_function_shape='ovr', degree=3, gamma='scale', kernel='linear',\n",
       "    max_iter=-1, probability=False, random_state=0, shrinking=True, tol=0.001,\n",
       "    verbose=False)"
      ]
     },
     "execution_count": 73,
     "metadata": {},
     "output_type": "execute_result"
    }
   ],
   "source": [
    "from sklearn.svm import SVC\n",
    "svc_classifier = SVC(\n",
    "    C=1.0,\n",
    "    kernel='linear',\n",
    "    degree=3,\n",
    "    gamma='scale',\n",
    "    coef0=0.0,\n",
    "    shrinking=True,\n",
    "    probability=False,\n",
    "    tol=0.001,\n",
    "    cache_size=200,\n",
    "    class_weight=None,\n",
    "    verbose=False,\n",
    "    max_iter=-1,\n",
    "    decision_function_shape='ovr',\n",
    "    break_ties=False,\n",
    "    random_state=0,\n",
    ")\n",
    "svc_classifier.fit(train_set_x,train_set_y)\n",
    "\n"
   ]
  },
  {
   "cell_type": "code",
   "execution_count": 74,
   "metadata": {},
   "outputs": [],
   "source": [
    "from sklearn.model_selection import GridSearchCV, RandomizedSearchCV\n"
   ]
  },
  {
   "cell_type": "code",
   "execution_count": 75,
   "metadata": {},
   "outputs": [],
   "source": [
    "svc_parameters = [{'C':[1, 10, 100, 1000], 'kernel':['linear']}, \n",
    "              {'C':[1, 10, 100, 1000], 'kernel':['rbf'], 'gamma' : [0.1,0.2, 0.3, 0.4, 0.5, 0.6, 0.7, 0.8, 0.9]}]\n"
   ]
  },
  {
   "cell_type": "code",
   "execution_count": 97,
   "metadata": {},
   "outputs": [
    {
     "data": {
      "text/plain": [
       "RandomizedSearchCV(cv=10, error_score=nan,\n",
       "                   estimator=SVC(C=1.0, break_ties=False, cache_size=200,\n",
       "                                 class_weight=None, coef0=0.0,\n",
       "                                 decision_function_shape='ovr', degree=3,\n",
       "                                 gamma='scale', kernel='linear', max_iter=-1,\n",
       "                                 probability=False, random_state=None,\n",
       "                                 shrinking=True, tol=0.001, verbose=False),\n",
       "                   iid='deprecated', n_iter=40, n_jobs=-1,\n",
       "                   param_distributions=[{'C': [1, 10, 100, 1000],\n",
       "                                         'kernel': ['linear']},\n",
       "                                        {'C': [1, 10, 100, 1000],\n",
       "                                         'gamma': [0.1, 0.2, 0.3, 0.4, 0.5, 0.6,\n",
       "                                                   0.7, 0.8, 0.9],\n",
       "                                         'kernel': ['rbf']}],\n",
       "                   pre_dispatch='2*n_jobs', random_state=None, refit=True,\n",
       "                   return_train_score=False, scoring='accuracy', verbose=0)"
      ]
     },
     "execution_count": 97,
     "metadata": {},
     "output_type": "execute_result"
    }
   ],
   "source": [
    "random_search_svc = RandomizedSearchCV(estimator= svc_classifier,\n",
    "                                param_distributions=svc_parameters,\n",
    "                               scoring= 'accuracy',\n",
    "                               cv = 10,n_iter=40,\n",
    "                               n_jobs= -1)\n",
    "random_search_svc.fit(train_set_x,train_set_y)"
   ]
  },
  {
   "cell_type": "code",
   "execution_count": null,
   "metadata": {},
   "outputs": [],
   "source": []
  },
  {
   "cell_type": "code",
   "execution_count": 98,
   "metadata": {},
   "outputs": [
    {
     "data": {
      "text/plain": [
       "SVC(C=1, break_ties=False, cache_size=200, class_weight=None, coef0=0.0,\n",
       "    decision_function_shape='ovr', degree=3, gamma='scale', kernel='linear',\n",
       "    max_iter=-1, probability=False, random_state=None, shrinking=True,\n",
       "    tol=0.001, verbose=False)"
      ]
     },
     "execution_count": 98,
     "metadata": {},
     "output_type": "execute_result"
    }
   ],
   "source": [
    "random_search_svc.best_estimator_"
   ]
  },
  {
   "cell_type": "code",
   "execution_count": 99,
   "metadata": {},
   "outputs": [
    {
     "data": {
      "text/plain": [
       "{'kernel': 'linear', 'C': 1}"
      ]
     },
     "execution_count": 99,
     "metadata": {},
     "output_type": "execute_result"
    }
   ],
   "source": [
    "random_search_svc.best_params_"
   ]
  },
  {
   "cell_type": "code",
   "execution_count": 100,
   "metadata": {},
   "outputs": [
    {
     "data": {
      "text/plain": [
       "0.7315789473684211"
      ]
     },
     "execution_count": 100,
     "metadata": {},
     "output_type": "execute_result"
    }
   ],
   "source": [
    "random_search_svc.best_score_"
   ]
  },
  {
   "cell_type": "code",
   "execution_count": 101,
   "metadata": {},
   "outputs": [],
   "source": [
    "svc_classifier = SVC(C=1.0, kernel='linear')"
   ]
  },
  {
   "cell_type": "code",
   "execution_count": 102,
   "metadata": {},
   "outputs": [],
   "source": [
    "svc_classifier.fit(train_set_x, train_set_y)\n",
    "svc_classifier_pred= svc_classifier.predict(test_set_x)"
   ]
  },
  {
   "cell_type": "code",
   "execution_count": 103,
   "metadata": {},
   "outputs": [
    {
     "data": {
      "text/plain": [
       "0.7132867132867133"
      ]
     },
     "execution_count": 103,
     "metadata": {},
     "output_type": "execute_result"
    }
   ],
   "source": [
    "accuracy_score(test_set_y, svc_classifier_pred)"
   ]
  },
  {
   "cell_type": "code",
   "execution_count": 104,
   "metadata": {},
   "outputs": [],
   "source": [
    "import numpy as np\n",
    "from sklearn.model_selection import GridSearchCV, RandomizedSearchCV\n",
    "from sklearn.neighbors import KNeighborsClassifier\n",
    "knn_classifier = KNeighborsClassifier()"
   ]
  },
  {
   "cell_type": "code",
   "execution_count": 108,
   "metadata": {},
   "outputs": [
    {
     "data": {
      "text/plain": [
       "KNeighborsClassifier(algorithm='auto', leaf_size=30, metric='minkowski',\n",
       "                     metric_params=None, n_jobs=None, n_neighbors=5, p=2,\n",
       "                     weights='uniform')"
      ]
     },
     "execution_count": 108,
     "metadata": {},
     "output_type": "execute_result"
    }
   ],
   "source": [
    "KNeighborsClassifier()"
   ]
  },
  {
   "cell_type": "code",
   "execution_count": 115,
   "metadata": {},
   "outputs": [],
   "source": [
    "knn_param_grid = {'n_neighbors' : [10, 15 ,20,25,30,50],\n",
    "                  'weights':['uniform','distance'],\n",
    "                 'metric' : ['minkowski'],\n",
    "                 'algorithm' : ['auto', 'ball_tree', 'kd_tree', 'brute']}"
   ]
  },
  {
   "cell_type": "code",
   "execution_count": 120,
   "metadata": {},
   "outputs": [],
   "source": [
    "grid_search_knn = RandomizedSearchCV(KNeighborsClassifier(), param_distributions=knn_param_grid, cv = 10, scoring= 'accuracy',n_iter=60, verbose=1)"
   ]
  },
  {
   "cell_type": "code",
   "execution_count": 121,
   "metadata": {},
   "outputs": [
    {
     "name": "stderr",
     "output_type": "stream",
     "text": [
      "/Users/syedrahimali/opt/anaconda3/lib/python3.7/site-packages/sklearn/model_selection/_search.py:281: UserWarning: The total space of parameters 48 is smaller than n_iter=60. Running 48 iterations. For exhaustive searches, use GridSearchCV.\n",
      "  % (grid_size, self.n_iter, grid_size), UserWarning)\n",
      "[Parallel(n_jobs=1)]: Using backend SequentialBackend with 1 concurrent workers.\n"
     ]
    },
    {
     "name": "stdout",
     "output_type": "stream",
     "text": [
      "Fitting 10 folds for each of 48 candidates, totalling 480 fits\n"
     ]
    },
    {
     "name": "stderr",
     "output_type": "stream",
     "text": [
      "[Parallel(n_jobs=1)]: Done 480 out of 480 | elapsed:    2.8s finished\n"
     ]
    },
    {
     "data": {
      "text/plain": [
       "RandomizedSearchCV(cv=10, error_score=nan,\n",
       "                   estimator=KNeighborsClassifier(algorithm='auto',\n",
       "                                                  leaf_size=30,\n",
       "                                                  metric='minkowski',\n",
       "                                                  metric_params=None,\n",
       "                                                  n_jobs=None, n_neighbors=5,\n",
       "                                                  p=2, weights='uniform'),\n",
       "                   iid='deprecated', n_iter=60, n_jobs=None,\n",
       "                   param_distributions={'algorithm': ['auto', 'ball_tree',\n",
       "                                                      'kd_tree', 'brute'],\n",
       "                                        'metric': ['minkowski'],\n",
       "                                        'n_neighbors': [10, 15, 20, 25, 30, 50],\n",
       "                                        'weights': ['uniform', 'distance']},\n",
       "                   pre_dispatch='2*n_jobs', random_state=None, refit=True,\n",
       "                   return_train_score=False, scoring='accuracy', verbose=1)"
      ]
     },
     "execution_count": 121,
     "metadata": {},
     "output_type": "execute_result"
    }
   ],
   "source": [
    "grid_search_knn.fit(train_set_x, train_set_y)"
   ]
  },
  {
   "cell_type": "markdown",
   "metadata": {},
   "source": [
    "# Decision Tree With Hyper-Parameter Tuning"
   ]
  },
  {
   "cell_type": "code",
   "execution_count": 122,
   "metadata": {},
   "outputs": [
    {
     "data": {
      "text/plain": [
       "{'weights': 'distance',\n",
       " 'n_neighbors': 25,\n",
       " 'metric': 'minkowski',\n",
       " 'algorithm': 'auto'}"
      ]
     },
     "execution_count": 122,
     "metadata": {},
     "output_type": "execute_result"
    }
   ],
   "source": [
    "grid_search_knn.best_params_"
   ]
  },
  {
   "cell_type": "code",
   "execution_count": 123,
   "metadata": {},
   "outputs": [
    {
     "data": {
      "text/plain": [
       "0.6403508771929824"
      ]
     },
     "execution_count": 123,
     "metadata": {},
     "output_type": "execute_result"
    }
   ],
   "source": [
    "grid_search_knn.best_score_"
   ]
  },
  {
   "cell_type": "code",
   "execution_count": 124,
   "metadata": {},
   "outputs": [],
   "source": [
    "op = grid_search_knn.predict(test_set_x)"
   ]
  },
  {
   "cell_type": "code",
   "execution_count": 125,
   "metadata": {},
   "outputs": [
    {
     "data": {
      "text/plain": [
       "0.5734265734265734"
      ]
     },
     "execution_count": 125,
     "metadata": {},
     "output_type": "execute_result"
    }
   ],
   "source": [
    "accuracy_score(test_set_y, op)"
   ]
  },
  {
   "cell_type": "code",
   "execution_count": null,
   "metadata": {},
   "outputs": [],
   "source": []
  },
  {
   "cell_type": "code",
   "execution_count": null,
   "metadata": {},
   "outputs": [],
   "source": [
    "from sklearn.tree import DecisionTreeClassifier\n",
    "decision_tree_classifier= DecisionTreeClassifier(random_state=42)\n",
    "decision_tree_classifier.fit(train_set_x,train_set_y)\n",
    "y_pred=decision_tree_classifier.predict(test_set_x)\n",
    "from sklearn import metrics\n",
    "metrics.accuracy_score(test_set_y, y_pred)"
   ]
  },
  {
   "cell_type": "code",
   "execution_count": null,
   "metadata": {},
   "outputs": [],
   "source": [
    "decision_tree_params= {'max_leaf_nodes' : list(range(2,100)),\n",
    "                       'min_samples_split' : list(range(2,10)),\n",
    "                       'criterion':['gini', 'entropy'],\n",
    "                       'max_depth': [1,2,3,4,5,6,7,8,9,10,11,12,13,15,14, None]}"
   ]
  },
  {
   "cell_type": "code",
   "execution_count": null,
   "metadata": {},
   "outputs": [],
   "source": [
    "grid_search_decision_tree=GridSearchCV(estimator=decision_tree_classifier,param_grid=decision_tree_params,cv=10,verbose=1)"
   ]
  },
  {
   "cell_type": "code",
   "execution_count": null,
   "metadata": {},
   "outputs": [],
   "source": [
    "grid_search_decision_tree.fit(train_set_x,train_set_y)"
   ]
  },
  {
   "cell_type": "code",
   "execution_count": null,
   "metadata": {},
   "outputs": [],
   "source": [
    "grid_search_decision_tree.best_score_"
   ]
  },
  {
   "cell_type": "code",
   "execution_count": null,
   "metadata": {},
   "outputs": [],
   "source": [
    "grid_search_decision_tree.best_params_"
   ]
  },
  {
   "cell_type": "code",
   "execution_count": null,
   "metadata": {},
   "outputs": [],
   "source": [
    "decision_tree_classifier=DecisionTreeClassifier(criterion='gini',max_depth=5, max_leaf_nodes=15, min_samples_split=2,random_state=42)"
   ]
  },
  {
   "cell_type": "code",
   "execution_count": null,
   "metadata": {},
   "outputs": [],
   "source": [
    "decision_tree_classifier.fit(train_set_x,train_set_y)"
   ]
  },
  {
   "cell_type": "code",
   "execution_count": null,
   "metadata": {},
   "outputs": [],
   "source": [
    "decision_tree_pred=decision_tree_classifier.predict(test_set_x)"
   ]
  },
  {
   "cell_type": "code",
   "execution_count": null,
   "metadata": {},
   "outputs": [],
   "source": [
    "accuracy_score(test_set_y,decision_tree_pred)"
   ]
  },
  {
   "cell_type": "code",
   "execution_count": null,
   "metadata": {},
   "outputs": [],
   "source": [
    "songs"
   ]
  },
  {
   "cell_type": "code",
   "execution_count": 146,
   "metadata": {},
   "outputs": [],
   "source": [
    "from sklearn.model_selection import GridSearchCV\n",
    "from sklearn.ensemble import RandomForestClassifier\n",
    "random_forest_classifier = RandomForestClassifier(random_state=42)"
   ]
  },
  {
   "cell_type": "code",
   "execution_count": 147,
   "metadata": {},
   "outputs": [],
   "source": [
    "random_forest_parameters = {'n_estimators' : list(range(2,200,25)),\n",
    "                            'criterion' : ['gini','entropy'],\n",
    "                            'max_depth': [1,2,3,5,13,15, None],\n",
    "                            'min_samples_split' : list(range(2,10,4))}"
   ]
  },
  {
   "cell_type": "code",
   "execution_count": 148,
   "metadata": {},
   "outputs": [],
   "source": [
    "grid_search_random_forest = GridSearchCV(estimator=random_forest_classifier,param_grid=random_forest_parameters,cv=10, scoring='accuracy')"
   ]
  },
  {
   "cell_type": "code",
   "execution_count": 149,
   "metadata": {},
   "outputs": [
    {
     "data": {
      "text/plain": [
       "GridSearchCV(cv=10, error_score=nan,\n",
       "             estimator=RandomForestClassifier(bootstrap=True, ccp_alpha=0.0,\n",
       "                                              class_weight=None,\n",
       "                                              criterion='gini', max_depth=None,\n",
       "                                              max_features='auto',\n",
       "                                              max_leaf_nodes=None,\n",
       "                                              max_samples=None,\n",
       "                                              min_impurity_decrease=0.0,\n",
       "                                              min_impurity_split=None,\n",
       "                                              min_samples_leaf=1,\n",
       "                                              min_samples_split=2,\n",
       "                                              min_weight_fraction_leaf=0.0,\n",
       "                                              n_estimators=100, n_jobs=None,\n",
       "                                              oob_score=False, random_state=42,\n",
       "                                              verbose=0, warm_start=False),\n",
       "             iid='deprecated', n_jobs=None,\n",
       "             param_grid={'criterion': ['gini', 'entropy'],\n",
       "                         'max_depth': [1, 2, 3, 5, 13, 15, None],\n",
       "                         'min_samples_split': [2, 6],\n",
       "                         'n_estimators': [2, 27, 52, 77, 102, 127, 152, 177]},\n",
       "             pre_dispatch='2*n_jobs', refit=True, return_train_score=False,\n",
       "             scoring='accuracy', verbose=0)"
      ]
     },
     "execution_count": 149,
     "metadata": {},
     "output_type": "execute_result"
    }
   ],
   "source": [
    "grid_search_random_forest.fit(train_set_x, train_set_y)"
   ]
  },
  {
   "cell_type": "code",
   "execution_count": 150,
   "metadata": {},
   "outputs": [
    {
     "data": {
      "text/plain": [
       "0.7535087719298246"
      ]
     },
     "execution_count": 150,
     "metadata": {},
     "output_type": "execute_result"
    }
   ],
   "source": [
    "grid_search_random_forest.best_score_"
   ]
  },
  {
   "cell_type": "code",
   "execution_count": 151,
   "metadata": {},
   "outputs": [
    {
     "data": {
      "text/plain": [
       "{'criterion': 'entropy',\n",
       " 'max_depth': 15,\n",
       " 'min_samples_split': 2,\n",
       " 'n_estimators': 102}"
      ]
     },
     "execution_count": 151,
     "metadata": {},
     "output_type": "execute_result"
    }
   ],
   "source": [
    "grid_search_random_forest.best_params_"
   ]
  },
  {
   "cell_type": "code",
   "execution_count": 152,
   "metadata": {},
   "outputs": [],
   "source": [
    "random_forest_classifier = RandomForestClassifier(criterion='entropy', max_depth=15,min_samples_split=2,n_estimators=102,random_state=42)"
   ]
  },
  {
   "cell_type": "code",
   "execution_count": 153,
   "metadata": {},
   "outputs": [
    {
     "data": {
      "text/plain": [
       "RandomForestClassifier(bootstrap=True, ccp_alpha=0.0, class_weight=None,\n",
       "                       criterion='entropy', max_depth=15, max_features='auto',\n",
       "                       max_leaf_nodes=None, max_samples=None,\n",
       "                       min_impurity_decrease=0.0, min_impurity_split=None,\n",
       "                       min_samples_leaf=1, min_samples_split=2,\n",
       "                       min_weight_fraction_leaf=0.0, n_estimators=102,\n",
       "                       n_jobs=None, oob_score=False, random_state=42, verbose=0,\n",
       "                       warm_start=False)"
      ]
     },
     "execution_count": 153,
     "metadata": {},
     "output_type": "execute_result"
    }
   ],
   "source": [
    "random_forest_classifier.fit(train_set_x,train_set_y)"
   ]
  },
  {
   "cell_type": "code",
   "execution_count": 154,
   "metadata": {},
   "outputs": [],
   "source": [
    "rf_predict = random_forest_classifier.predict(test_set_x)"
   ]
  },
  {
   "cell_type": "code",
   "execution_count": 155,
   "metadata": {},
   "outputs": [
    {
     "data": {
      "text/plain": [
       "0.7377622377622378"
      ]
     },
     "execution_count": 155,
     "metadata": {},
     "output_type": "execute_result"
    }
   ],
   "source": [
    "accuracy_score(test_set_y,rf_predict)"
   ]
  },
  {
   "cell_type": "code",
   "execution_count": 156,
   "metadata": {},
   "outputs": [
    {
     "data": {
      "text/plain": [
       "array([0.04459263, 0.01211289, 0.00837333, 0.08570604, 0.1055231 ,\n",
       "       0.10233231, 0.15871897, 0.08378739, 0.13689006, 0.0921485 ,\n",
       "       0.08544392, 0.08437087])"
      ]
     },
     "execution_count": 156,
     "metadata": {},
     "output_type": "execute_result"
    }
   ],
   "source": [
    "random_forest_classifier.feature_importances_"
   ]
  },
  {
   "cell_type": "code",
   "execution_count": 158,
   "metadata": {},
   "outputs": [],
   "source": [
    "feature_importance = pd.DataFrame(random_forest_classifier.feature_importances_,\n",
    "                                  index=train_set_x.columns,\n",
    "                                 columns=['Importance']).sort_values('Importance',ascending = False)"
   ]
  },
  {
   "cell_type": "code",
   "execution_count": 159,
   "metadata": {},
   "outputs": [
    {
     "data": {
      "text/html": [
       "<div>\n",
       "<style scoped>\n",
       "    .dataframe tbody tr th:only-of-type {\n",
       "        vertical-align: middle;\n",
       "    }\n",
       "\n",
       "    .dataframe tbody tr th {\n",
       "        vertical-align: top;\n",
       "    }\n",
       "\n",
       "    .dataframe thead th {\n",
       "        text-align: right;\n",
       "    }\n",
       "</style>\n",
       "<table border=\"1\" class=\"dataframe\">\n",
       "  <thead>\n",
       "    <tr style=\"text-align: right;\">\n",
       "      <th></th>\n",
       "      <th>Importance</th>\n",
       "    </tr>\n",
       "  </thead>\n",
       "  <tbody>\n",
       "    <tr>\n",
       "      <th>INSTRUMENTALNESS</th>\n",
       "      <td>0.158719</td>\n",
       "    </tr>\n",
       "    <tr>\n",
       "      <th>LOUDNESS</th>\n",
       "      <td>0.136890</td>\n",
       "    </tr>\n",
       "    <tr>\n",
       "      <th>DANCEABILITY</th>\n",
       "      <td>0.105523</td>\n",
       "    </tr>\n",
       "    <tr>\n",
       "      <th>ENERGY</th>\n",
       "      <td>0.102332</td>\n",
       "    </tr>\n",
       "    <tr>\n",
       "      <th>SPEECHINESS</th>\n",
       "      <td>0.092148</td>\n",
       "    </tr>\n",
       "    <tr>\n",
       "      <th>ACOUSTICNESS</th>\n",
       "      <td>0.085706</td>\n",
       "    </tr>\n",
       "    <tr>\n",
       "      <th>VALENCE</th>\n",
       "      <td>0.085444</td>\n",
       "    </tr>\n",
       "    <tr>\n",
       "      <th>TEMPO</th>\n",
       "      <td>0.084371</td>\n",
       "    </tr>\n",
       "    <tr>\n",
       "      <th>LIVENESS</th>\n",
       "      <td>0.083787</td>\n",
       "    </tr>\n",
       "    <tr>\n",
       "      <th>KEY</th>\n",
       "      <td>0.044593</td>\n",
       "    </tr>\n",
       "    <tr>\n",
       "      <th>MODE</th>\n",
       "      <td>0.012113</td>\n",
       "    </tr>\n",
       "    <tr>\n",
       "      <th>TIME_SIGNATURE</th>\n",
       "      <td>0.008373</td>\n",
       "    </tr>\n",
       "  </tbody>\n",
       "</table>\n",
       "</div>"
      ],
      "text/plain": [
       "                  Importance\n",
       "INSTRUMENTALNESS    0.158719\n",
       "LOUDNESS            0.136890\n",
       "DANCEABILITY        0.105523\n",
       "ENERGY              0.102332\n",
       "SPEECHINESS         0.092148\n",
       "ACOUSTICNESS        0.085706\n",
       "VALENCE             0.085444\n",
       "TEMPO               0.084371\n",
       "LIVENESS            0.083787\n",
       "KEY                 0.044593\n",
       "MODE                0.012113\n",
       "TIME_SIGNATURE      0.008373"
      ]
     },
     "execution_count": 159,
     "metadata": {},
     "output_type": "execute_result"
    }
   ],
   "source": [
    "feature_importance"
   ]
  },
  {
   "cell_type": "code",
   "execution_count": null,
   "metadata": {},
   "outputs": [],
   "source": []
  },
  {
   "cell_type": "code",
   "execution_count": null,
   "metadata": {},
   "outputs": [],
   "source": []
  },
  {
   "cell_type": "code",
   "execution_count": null,
   "metadata": {},
   "outputs": [],
   "source": [
    "from xgboost import XGBClassifier\n",
    "xgb_model = XGBClassifier()"
   ]
  },
  {
   "cell_type": "code",
   "execution_count": null,
   "metadata": {},
   "outputs": [],
   "source": [
    "xgb_model.fit(train_set_x,train_set_y)"
   ]
  },
  {
   "cell_type": "code",
   "execution_count": null,
   "metadata": {},
   "outputs": [],
   "source": [
    "xgb_pred = xgb_model.predict(test_set_x)"
   ]
  },
  {
   "cell_type": "code",
   "execution_count": null,
   "metadata": {},
   "outputs": [],
   "source": [
    "accuracy_score(test_set_y, xgb_pred)"
   ]
  },
  {
   "cell_type": "code",
   "execution_count": null,
   "metadata": {},
   "outputs": [],
   "source": [
    "from sklearn.metrics import classification_report"
   ]
  },
  {
   "cell_type": "code",
   "execution_count": null,
   "metadata": {},
   "outputs": [],
   "source": [
    "print(classification_report(test_set_y,xgb_pred))"
   ]
  },
  {
   "cell_type": "code",
   "execution_count": null,
   "metadata": {},
   "outputs": [],
   "source": [
    "pd.crosstab(test_set_y, xgb_pred)"
   ]
  },
  {
   "cell_type": "code",
   "execution_count": null,
   "metadata": {},
   "outputs": [],
   "source": [
    "xgb_params = {'max_depth' : list(range(10,30,5)),\n",
    "              'n_estimators' : list(range(100,500,99)),\n",
    "              'min_child_weight': [1,3,5,7,9],\n",
    "              'learning_rate' : [0.05, 0.1, 0.15, 0.2, 0.25, 0.3],\n",
    "              'gamma' : [0.0,0.1,0.2,0.3,0.4],\n",
    "              'colsample_bytree' : [0.3,0.4,0.5,0.7]\n",
    "}"
   ]
  },
  {
   "cell_type": "code",
   "execution_count": null,
   "metadata": {},
   "outputs": [],
   "source": [
    "from sklearn.model_selection import GridSearchCV\n",
    "\n",
    "gs_xgb = RandomizedSearchCV(XGBClassifier(),param_distributions=xgb_params,cv = 10, scoring='accuracy')"
   ]
  },
  {
   "cell_type": "code",
   "execution_count": null,
   "metadata": {},
   "outputs": [],
   "source": [
    " gs_xgb.fit(train_set_x,train_set_y)"
   ]
  },
  {
   "cell_type": "code",
   "execution_count": null,
   "metadata": {},
   "outputs": [],
   "source": [
    "gs_xgb.best_score_"
   ]
  },
  {
   "cell_type": "code",
   "execution_count": null,
   "metadata": {},
   "outputs": [],
   "source": [
    "gs_xgb.best_params_"
   ]
  },
  {
   "cell_type": "code",
   "execution_count": null,
   "metadata": {},
   "outputs": [],
   "source": [
    "gs_xgb.best_estimator_"
   ]
  },
  {
   "cell_type": "code",
   "execution_count": null,
   "metadata": {},
   "outputs": [],
   "source": []
  },
  {
   "cell_type": "code",
   "execution_count": null,
   "metadata": {},
   "outputs": [],
   "source": [
    "xgb_model = XGBClassifier(base_score=0.5, booster='gbtree', colsample_bylevel=1,\n",
    "              colsample_bynode=1, colsample_bytree=0.4, gamma=0.2,\n",
    "              learning_rate=0.2, max_delta_step=0, max_depth=10,\n",
    "              min_child_weight=9, missing=None, n_estimators=100, n_jobs=1,\n",
    "              nthread=None, objective='binary:logistic', random_state=None,\n",
    "              reg_alpha=0, reg_lambda=1, scale_pos_weight=1, seed=None,\n",
    "              silent=None, subsample=1, verbosity=1)"
   ]
  },
  {
   "cell_type": "code",
   "execution_count": null,
   "metadata": {},
   "outputs": [],
   "source": [
    "xgb_model.fit(train_set_x,train_set_y)"
   ]
  },
  {
   "cell_type": "code",
   "execution_count": null,
   "metadata": {},
   "outputs": [],
   "source": [
    "predict = xgb_model.predict(test_set_x)"
   ]
  },
  {
   "cell_type": "code",
   "execution_count": null,
   "metadata": {},
   "outputs": [],
   "source": [
    "accuracy_score(test_set_y,predict)"
   ]
  },
  {
   "cell_type": "code",
   "execution_count": null,
   "metadata": {},
   "outputs": [],
   "source": [
    "from sklearn import linear_model, model_selection\n",
    "linear_model.SGDClassifier()"
   ]
  },
  {
   "cell_type": "code",
   "execution_count": null,
   "metadata": {},
   "outputs": [],
   "source": [
    "from sklearn.model_selection import RandomizedSearchCV"
   ]
  },
  {
   "cell_type": "code",
   "execution_count": 126,
   "metadata": {},
   "outputs": [],
   "source": [
    "from sklearn.linear_model import SGDClassifier"
   ]
  },
  {
   "cell_type": "code",
   "execution_count": 127,
   "metadata": {},
   "outputs": [
    {
     "data": {
      "text/plain": [
       "SGDClassifier(alpha=0.0001, average=False, class_weight=None,\n",
       "              early_stopping=False, epsilon=0.1, eta0=0.0, fit_intercept=True,\n",
       "              l1_ratio=0.15, learning_rate='optimal', loss='hinge',\n",
       "              max_iter=1000, n_iter_no_change=5, n_jobs=None, penalty='l2',\n",
       "              power_t=0.5, random_state=None, shuffle=True, tol=0.001,\n",
       "              validation_fraction=0.1, verbose=0, warm_start=False)"
      ]
     },
     "execution_count": 127,
     "metadata": {},
     "output_type": "execute_result"
    }
   ],
   "source": [
    "SGDClassifier()"
   ]
  },
  {
   "cell_type": "code",
   "execution_count": 131,
   "metadata": {},
   "outputs": [],
   "source": [
    "sgd_param = {'loss' :['hinge', 'log', 'modified_huber', 'squared_hinge','perceptron'] ,\n",
    "             'penalty' : ['l1', 'l2', 'elasticnet'] ,\n",
    "             'alpha' : [0.0001, 0.001, 0.01, 0.1, 1, 10, 100, 1000],\n",
    "             'learning_rate' : ['constant', 'optimal', 'invscaling', 'adaptive'], \n",
    "             'class_weight' : [{1:0.5, 0:0.5}, {1:0.4, 0:0.6}, {1:0.6, 0:0.4}, {1:0.7, 0:0.3}],\n",
    "             'eta0' : [1, 10, 100]} "
   ]
  },
  {
   "cell_type": "code",
   "execution_count": 135,
   "metadata": {},
   "outputs": [],
   "source": [
    "random_search_sgd = RandomizedSearchCV(SGDClassifier(), param_distributions=sgd_param,n_iter=1000,cv = 10, verbose=1,scoring='accuracy')"
   ]
  },
  {
   "cell_type": "code",
   "execution_count": 136,
   "metadata": {},
   "outputs": [
    {
     "name": "stdout",
     "output_type": "stream",
     "text": [
      "Fitting 10 folds for each of 1000 candidates, totalling 10000 fits\n"
     ]
    },
    {
     "name": "stderr",
     "output_type": "stream",
     "text": [
      "[Parallel(n_jobs=1)]: Using backend SequentialBackend with 1 concurrent workers.\n",
      "/Users/syedrahimali/opt/anaconda3/lib/python3.7/site-packages/sklearn/linear_model/_stochastic_gradient.py:557: ConvergenceWarning: Maximum number of iteration reached before convergence. Consider increasing max_iter to improve the fit.\n",
      "  ConvergenceWarning)\n",
      "/Users/syedrahimali/opt/anaconda3/lib/python3.7/site-packages/sklearn/linear_model/_stochastic_gradient.py:557: ConvergenceWarning: Maximum number of iteration reached before convergence. Consider increasing max_iter to improve the fit.\n",
      "  ConvergenceWarning)\n",
      "/Users/syedrahimali/opt/anaconda3/lib/python3.7/site-packages/sklearn/linear_model/_stochastic_gradient.py:557: ConvergenceWarning: Maximum number of iteration reached before convergence. Consider increasing max_iter to improve the fit.\n",
      "  ConvergenceWarning)\n",
      "/Users/syedrahimali/opt/anaconda3/lib/python3.7/site-packages/sklearn/linear_model/_stochastic_gradient.py:557: ConvergenceWarning: Maximum number of iteration reached before convergence. Consider increasing max_iter to improve the fit.\n",
      "  ConvergenceWarning)\n",
      "/Users/syedrahimali/opt/anaconda3/lib/python3.7/site-packages/sklearn/linear_model/_stochastic_gradient.py:557: ConvergenceWarning: Maximum number of iteration reached before convergence. Consider increasing max_iter to improve the fit.\n",
      "  ConvergenceWarning)\n",
      "/Users/syedrahimali/opt/anaconda3/lib/python3.7/site-packages/sklearn/linear_model/_stochastic_gradient.py:557: ConvergenceWarning: Maximum number of iteration reached before convergence. Consider increasing max_iter to improve the fit.\n",
      "  ConvergenceWarning)\n",
      "/Users/syedrahimali/opt/anaconda3/lib/python3.7/site-packages/sklearn/linear_model/_stochastic_gradient.py:557: ConvergenceWarning: Maximum number of iteration reached before convergence. Consider increasing max_iter to improve the fit.\n",
      "  ConvergenceWarning)\n",
      "/Users/syedrahimali/opt/anaconda3/lib/python3.7/site-packages/sklearn/linear_model/_stochastic_gradient.py:557: ConvergenceWarning: Maximum number of iteration reached before convergence. Consider increasing max_iter to improve the fit.\n",
      "  ConvergenceWarning)\n",
      "/Users/syedrahimali/opt/anaconda3/lib/python3.7/site-packages/sklearn/linear_model/_stochastic_gradient.py:557: ConvergenceWarning: Maximum number of iteration reached before convergence. Consider increasing max_iter to improve the fit.\n",
      "  ConvergenceWarning)\n",
      "/Users/syedrahimali/opt/anaconda3/lib/python3.7/site-packages/sklearn/linear_model/_stochastic_gradient.py:557: ConvergenceWarning: Maximum number of iteration reached before convergence. Consider increasing max_iter to improve the fit.\n",
      "  ConvergenceWarning)\n",
      "/Users/syedrahimali/opt/anaconda3/lib/python3.7/site-packages/sklearn/linear_model/_stochastic_gradient.py:557: ConvergenceWarning: Maximum number of iteration reached before convergence. Consider increasing max_iter to improve the fit.\n",
      "  ConvergenceWarning)\n",
      "/Users/syedrahimali/opt/anaconda3/lib/python3.7/site-packages/sklearn/linear_model/_stochastic_gradient.py:557: ConvergenceWarning: Maximum number of iteration reached before convergence. Consider increasing max_iter to improve the fit.\n",
      "  ConvergenceWarning)\n",
      "/Users/syedrahimali/opt/anaconda3/lib/python3.7/site-packages/sklearn/linear_model/_stochastic_gradient.py:557: ConvergenceWarning: Maximum number of iteration reached before convergence. Consider increasing max_iter to improve the fit.\n",
      "  ConvergenceWarning)\n",
      "/Users/syedrahimali/opt/anaconda3/lib/python3.7/site-packages/sklearn/linear_model/_stochastic_gradient.py:557: ConvergenceWarning: Maximum number of iteration reached before convergence. Consider increasing max_iter to improve the fit.\n",
      "  ConvergenceWarning)\n",
      "/Users/syedrahimali/opt/anaconda3/lib/python3.7/site-packages/sklearn/linear_model/_stochastic_gradient.py:557: ConvergenceWarning: Maximum number of iteration reached before convergence. Consider increasing max_iter to improve the fit.\n",
      "  ConvergenceWarning)\n",
      "/Users/syedrahimali/opt/anaconda3/lib/python3.7/site-packages/sklearn/linear_model/_stochastic_gradient.py:557: ConvergenceWarning: Maximum number of iteration reached before convergence. Consider increasing max_iter to improve the fit.\n",
      "  ConvergenceWarning)\n",
      "/Users/syedrahimali/opt/anaconda3/lib/python3.7/site-packages/sklearn/linear_model/_stochastic_gradient.py:557: ConvergenceWarning: Maximum number of iteration reached before convergence. Consider increasing max_iter to improve the fit.\n",
      "  ConvergenceWarning)\n",
      "/Users/syedrahimali/opt/anaconda3/lib/python3.7/site-packages/sklearn/linear_model/_stochastic_gradient.py:557: ConvergenceWarning: Maximum number of iteration reached before convergence. Consider increasing max_iter to improve the fit.\n",
      "  ConvergenceWarning)\n",
      "/Users/syedrahimali/opt/anaconda3/lib/python3.7/site-packages/sklearn/linear_model/_stochastic_gradient.py:557: ConvergenceWarning: Maximum number of iteration reached before convergence. Consider increasing max_iter to improve the fit.\n",
      "  ConvergenceWarning)\n",
      "/Users/syedrahimali/opt/anaconda3/lib/python3.7/site-packages/sklearn/linear_model/_stochastic_gradient.py:557: ConvergenceWarning: Maximum number of iteration reached before convergence. Consider increasing max_iter to improve the fit.\n",
      "  ConvergenceWarning)\n",
      "/Users/syedrahimali/opt/anaconda3/lib/python3.7/site-packages/sklearn/linear_model/_stochastic_gradient.py:557: ConvergenceWarning: Maximum number of iteration reached before convergence. Consider increasing max_iter to improve the fit.\n",
      "  ConvergenceWarning)\n",
      "/Users/syedrahimali/opt/anaconda3/lib/python3.7/site-packages/sklearn/linear_model/_stochastic_gradient.py:557: ConvergenceWarning: Maximum number of iteration reached before convergence. Consider increasing max_iter to improve the fit.\n",
      "  ConvergenceWarning)\n",
      "/Users/syedrahimali/opt/anaconda3/lib/python3.7/site-packages/sklearn/linear_model/_stochastic_gradient.py:557: ConvergenceWarning: Maximum number of iteration reached before convergence. Consider increasing max_iter to improve the fit.\n",
      "  ConvergenceWarning)\n",
      "/Users/syedrahimali/opt/anaconda3/lib/python3.7/site-packages/sklearn/linear_model/_stochastic_gradient.py:557: ConvergenceWarning: Maximum number of iteration reached before convergence. Consider increasing max_iter to improve the fit.\n",
      "  ConvergenceWarning)\n",
      "/Users/syedrahimali/opt/anaconda3/lib/python3.7/site-packages/sklearn/linear_model/_stochastic_gradient.py:557: ConvergenceWarning: Maximum number of iteration reached before convergence. Consider increasing max_iter to improve the fit.\n",
      "  ConvergenceWarning)\n",
      "/Users/syedrahimali/opt/anaconda3/lib/python3.7/site-packages/sklearn/linear_model/_stochastic_gradient.py:557: ConvergenceWarning: Maximum number of iteration reached before convergence. Consider increasing max_iter to improve the fit.\n",
      "  ConvergenceWarning)\n",
      "/Users/syedrahimali/opt/anaconda3/lib/python3.7/site-packages/sklearn/linear_model/_stochastic_gradient.py:557: ConvergenceWarning: Maximum number of iteration reached before convergence. Consider increasing max_iter to improve the fit.\n",
      "  ConvergenceWarning)\n",
      "/Users/syedrahimali/opt/anaconda3/lib/python3.7/site-packages/sklearn/linear_model/_stochastic_gradient.py:557: ConvergenceWarning: Maximum number of iteration reached before convergence. Consider increasing max_iter to improve the fit.\n",
      "  ConvergenceWarning)\n",
      "/Users/syedrahimali/opt/anaconda3/lib/python3.7/site-packages/sklearn/linear_model/_stochastic_gradient.py:557: ConvergenceWarning: Maximum number of iteration reached before convergence. Consider increasing max_iter to improve the fit.\n",
      "  ConvergenceWarning)\n",
      "/Users/syedrahimali/opt/anaconda3/lib/python3.7/site-packages/sklearn/linear_model/_stochastic_gradient.py:557: ConvergenceWarning: Maximum number of iteration reached before convergence. Consider increasing max_iter to improve the fit.\n",
      "  ConvergenceWarning)\n",
      "/Users/syedrahimali/opt/anaconda3/lib/python3.7/site-packages/sklearn/linear_model/_stochastic_gradient.py:557: ConvergenceWarning: Maximum number of iteration reached before convergence. Consider increasing max_iter to improve the fit.\n",
      "  ConvergenceWarning)\n",
      "/Users/syedrahimali/opt/anaconda3/lib/python3.7/site-packages/sklearn/linear_model/_stochastic_gradient.py:557: ConvergenceWarning: Maximum number of iteration reached before convergence. Consider increasing max_iter to improve the fit.\n",
      "  ConvergenceWarning)\n"
     ]
    },
    {
     "name": "stderr",
     "output_type": "stream",
     "text": [
      "/Users/syedrahimali/opt/anaconda3/lib/python3.7/site-packages/sklearn/linear_model/_stochastic_gradient.py:557: ConvergenceWarning: Maximum number of iteration reached before convergence. Consider increasing max_iter to improve the fit.\n",
      "  ConvergenceWarning)\n",
      "[Parallel(n_jobs=1)]: Done 10000 out of 10000 | elapsed:  1.3min finished\n"
     ]
    },
    {
     "data": {
      "text/plain": [
       "RandomizedSearchCV(cv=10, error_score=nan,\n",
       "                   estimator=SGDClassifier(alpha=0.0001, average=False,\n",
       "                                           class_weight=None,\n",
       "                                           early_stopping=False, epsilon=0.1,\n",
       "                                           eta0=0.0, fit_intercept=True,\n",
       "                                           l1_ratio=0.15,\n",
       "                                           learning_rate='optimal',\n",
       "                                           loss='hinge', max_iter=1000,\n",
       "                                           n_iter_no_change=5, n_jobs=None,\n",
       "                                           penalty='l2', power_t=0.5,\n",
       "                                           random_state=None, shuffle=True,\n",
       "                                           tol=0.001, validation_fracti...\n",
       "                                        'class_weight': [{0: 0.5, 1: 0.5},\n",
       "                                                         {0: 0.6, 1: 0.4},\n",
       "                                                         {0: 0.4, 1: 0.6},\n",
       "                                                         {0: 0.3, 1: 0.7}],\n",
       "                                        'eta0': [1, 10, 100],\n",
       "                                        'learning_rate': ['constant', 'optimal',\n",
       "                                                          'invscaling',\n",
       "                                                          'adaptive'],\n",
       "                                        'loss': ['hinge', 'log',\n",
       "                                                 'modified_huber',\n",
       "                                                 'squared_hinge',\n",
       "                                                 'perceptron'],\n",
       "                                        'penalty': ['l1', 'l2', 'elasticnet']},\n",
       "                   pre_dispatch='2*n_jobs', random_state=None, refit=True,\n",
       "                   return_train_score=False, scoring='accuracy', verbose=1)"
      ]
     },
     "execution_count": 136,
     "metadata": {},
     "output_type": "execute_result"
    }
   ],
   "source": [
    "random_search_sgd.fit(train_set_x,train_set_y)"
   ]
  },
  {
   "cell_type": "code",
   "execution_count": 137,
   "metadata": {},
   "outputs": [
    {
     "data": {
      "text/plain": [
       "0.7"
      ]
     },
     "execution_count": 137,
     "metadata": {},
     "output_type": "execute_result"
    }
   ],
   "source": [
    "random_search_sgd.best_score_"
   ]
  },
  {
   "cell_type": "code",
   "execution_count": 138,
   "metadata": {},
   "outputs": [
    {
     "data": {
      "text/plain": [
       "{'penalty': 'l1',\n",
       " 'loss': 'perceptron',\n",
       " 'learning_rate': 'adaptive',\n",
       " 'eta0': 1,\n",
       " 'class_weight': {1: 0.5, 0: 0.5},\n",
       " 'alpha': 0.001}"
      ]
     },
     "execution_count": 138,
     "metadata": {},
     "output_type": "execute_result"
    }
   ],
   "source": [
    "random_search_sgd.best_params_"
   ]
  },
  {
   "cell_type": "code",
   "execution_count": 139,
   "metadata": {},
   "outputs": [
    {
     "data": {
      "text/plain": [
       "SGDClassifier(alpha=0.001, average=False, class_weight={0: 0.5, 1: 0.5},\n",
       "              early_stopping=False, epsilon=0.1, eta0=1, fit_intercept=True,\n",
       "              l1_ratio=0.15, learning_rate='adaptive', loss='perceptron',\n",
       "              max_iter=1000, n_iter_no_change=5, n_jobs=None, penalty='l1',\n",
       "              power_t=0.5, random_state=None, shuffle=True, tol=0.001,\n",
       "              validation_fraction=0.1, verbose=0, warm_start=False)"
      ]
     },
     "execution_count": 139,
     "metadata": {},
     "output_type": "execute_result"
    }
   ],
   "source": [
    "random_search_sgd.best_estimator_"
   ]
  },
  {
   "cell_type": "code",
   "execution_count": 142,
   "metadata": {},
   "outputs": [],
   "source": [
    "model_sgd= SGDClassifier(alpha=0.001, average=False, class_weight={0: 0.5, 1: 0.5},\n",
    "              early_stopping=False, epsilon=0.1, eta0=1, fit_intercept=True,\n",
    "              l1_ratio=0.15, learning_rate='adaptive', loss='perceptron',\n",
    "              max_iter=1000, n_iter_no_change=5, n_jobs=None, penalty='l1',\n",
    "              power_t=0.5, random_state=None, shuffle=True, tol=0.001,\n",
    "              validation_fraction=0.1, verbose=0, warm_start=False)"
   ]
  },
  {
   "cell_type": "code",
   "execution_count": 143,
   "metadata": {},
   "outputs": [
    {
     "data": {
      "text/plain": [
       "SGDClassifier(alpha=0.001, average=False, class_weight={0: 0.5, 1: 0.5},\n",
       "              early_stopping=False, epsilon=0.1, eta0=1, fit_intercept=True,\n",
       "              l1_ratio=0.15, learning_rate='adaptive', loss='perceptron',\n",
       "              max_iter=1000, n_iter_no_change=5, n_jobs=None, penalty='l1',\n",
       "              power_t=0.5, random_state=None, shuffle=True, tol=0.001,\n",
       "              validation_fraction=0.1, verbose=0, warm_start=False)"
      ]
     },
     "execution_count": 143,
     "metadata": {},
     "output_type": "execute_result"
    }
   ],
   "source": [
    "model_sgd.fit(train_set_x, train_set_y)"
   ]
  },
  {
   "cell_type": "code",
   "execution_count": 144,
   "metadata": {},
   "outputs": [],
   "source": [
    "sgd_predict = model_sgd.predict(test_set_x)"
   ]
  },
  {
   "cell_type": "code",
   "execution_count": 145,
   "metadata": {},
   "outputs": [
    {
     "data": {
      "text/plain": [
       "0.6818181818181818"
      ]
     },
     "execution_count": 145,
     "metadata": {},
     "output_type": "execute_result"
    }
   ],
   "source": [
    "accuracy_score(test_set_y, sgd_predict)"
   ]
  },
  {
   "cell_type": "code",
   "execution_count": 166,
   "metadata": {},
   "outputs": [
    {
     "ename": "TypeError",
     "evalue": "'DataFrame' object is not callable",
     "output_type": "error",
     "traceback": [
      "\u001b[0;31m---------------------------------------------------------------------------\u001b[0m",
      "\u001b[0;31mTypeError\u001b[0m                                 Traceback (most recent call last)",
      "\u001b[0;32m<ipython-input-166-b3f143b8a30d>\u001b[0m in \u001b[0;36m<module>\u001b[0;34m\u001b[0m\n\u001b[0;32m----> 1\u001b[0;31m \u001b[0mcorr_matrix\u001b[0m\u001b[0;34m(\u001b[0m\u001b[0mtrain_set_x\u001b[0m\u001b[0;34m)\u001b[0m\u001b[0;34m\u001b[0m\u001b[0;34m\u001b[0m\u001b[0m\n\u001b[0m",
      "\u001b[0;31mTypeError\u001b[0m: 'DataFrame' object is not callable"
     ]
    }
   ],
   "source": [
    "corr_matrix(train_set_x)"
   ]
  },
  {
   "cell_type": "code",
   "execution_count": 173,
   "metadata": {},
   "outputs": [
    {
     "data": {
      "text/html": [
       "<div>\n",
       "<style scoped>\n",
       "    .dataframe tbody tr th:only-of-type {\n",
       "        vertical-align: middle;\n",
       "    }\n",
       "\n",
       "    .dataframe tbody tr th {\n",
       "        vertical-align: top;\n",
       "    }\n",
       "\n",
       "    .dataframe thead th {\n",
       "        text-align: right;\n",
       "    }\n",
       "</style>\n",
       "<table border=\"1\" class=\"dataframe\">\n",
       "  <thead>\n",
       "    <tr style=\"text-align: right;\">\n",
       "      <th></th>\n",
       "      <th>KEY</th>\n",
       "      <th>MODE</th>\n",
       "      <th>TIME_SIGNATURE</th>\n",
       "      <th>ACOUSTICNESS</th>\n",
       "      <th>DANCEABILITY</th>\n",
       "      <th>ENERGY</th>\n",
       "      <th>INSTRUMENTALNESS</th>\n",
       "      <th>LIVENESS</th>\n",
       "      <th>LOUDNESS</th>\n",
       "      <th>SPEECHINESS</th>\n",
       "      <th>VALENCE</th>\n",
       "      <th>TEMPO</th>\n",
       "    </tr>\n",
       "  </thead>\n",
       "  <tbody>\n",
       "    <tr>\n",
       "      <th>KEY</th>\n",
       "      <td>1.000000</td>\n",
       "      <td>-0.168785</td>\n",
       "      <td>-0.031685</td>\n",
       "      <td>0.072094</td>\n",
       "      <td>0.013440</td>\n",
       "      <td>-0.040973</td>\n",
       "      <td>0.031113</td>\n",
       "      <td>-0.013555</td>\n",
       "      <td>-0.034054</td>\n",
       "      <td>0.088685</td>\n",
       "      <td>0.010396</td>\n",
       "      <td>0.044179</td>\n",
       "    </tr>\n",
       "    <tr>\n",
       "      <th>MODE</th>\n",
       "      <td>-0.168785</td>\n",
       "      <td>1.000000</td>\n",
       "      <td>-0.026564</td>\n",
       "      <td>-0.030901</td>\n",
       "      <td>-0.018260</td>\n",
       "      <td>0.020484</td>\n",
       "      <td>0.004838</td>\n",
       "      <td>-0.006237</td>\n",
       "      <td>0.021736</td>\n",
       "      <td>-0.055993</td>\n",
       "      <td>0.024279</td>\n",
       "      <td>0.018142</td>\n",
       "    </tr>\n",
       "    <tr>\n",
       "      <th>TIME_SIGNATURE</th>\n",
       "      <td>-0.031685</td>\n",
       "      <td>-0.026564</td>\n",
       "      <td>1.000000</td>\n",
       "      <td>-0.173402</td>\n",
       "      <td>0.121240</td>\n",
       "      <td>0.141681</td>\n",
       "      <td>-0.092063</td>\n",
       "      <td>0.021646</td>\n",
       "      <td>0.159552</td>\n",
       "      <td>-0.007028</td>\n",
       "      <td>0.090930</td>\n",
       "      <td>-0.040898</td>\n",
       "    </tr>\n",
       "    <tr>\n",
       "      <th>ACOUSTICNESS</th>\n",
       "      <td>0.072094</td>\n",
       "      <td>-0.030901</td>\n",
       "      <td>-0.173402</td>\n",
       "      <td>1.000000</td>\n",
       "      <td>-0.257870</td>\n",
       "      <td>-0.660877</td>\n",
       "      <td>0.227611</td>\n",
       "      <td>-0.155742</td>\n",
       "      <td>-0.583936</td>\n",
       "      <td>-0.021890</td>\n",
       "      <td>-0.245576</td>\n",
       "      <td>-0.170790</td>\n",
       "    </tr>\n",
       "    <tr>\n",
       "      <th>DANCEABILITY</th>\n",
       "      <td>0.013440</td>\n",
       "      <td>-0.018260</td>\n",
       "      <td>0.121240</td>\n",
       "      <td>-0.257870</td>\n",
       "      <td>1.000000</td>\n",
       "      <td>0.273690</td>\n",
       "      <td>-0.372387</td>\n",
       "      <td>-0.070163</td>\n",
       "      <td>0.404064</td>\n",
       "      <td>0.281029</td>\n",
       "      <td>0.460742</td>\n",
       "      <td>0.030281</td>\n",
       "    </tr>\n",
       "    <tr>\n",
       "      <th>ENERGY</th>\n",
       "      <td>-0.040973</td>\n",
       "      <td>0.020484</td>\n",
       "      <td>0.141681</td>\n",
       "      <td>-0.660877</td>\n",
       "      <td>0.273690</td>\n",
       "      <td>1.000000</td>\n",
       "      <td>-0.278911</td>\n",
       "      <td>0.152350</td>\n",
       "      <td>0.771771</td>\n",
       "      <td>0.153272</td>\n",
       "      <td>0.449314</td>\n",
       "      <td>0.196224</td>\n",
       "    </tr>\n",
       "    <tr>\n",
       "      <th>INSTRUMENTALNESS</th>\n",
       "      <td>0.031113</td>\n",
       "      <td>0.004838</td>\n",
       "      <td>-0.092063</td>\n",
       "      <td>0.227611</td>\n",
       "      <td>-0.372387</td>\n",
       "      <td>-0.278911</td>\n",
       "      <td>1.000000</td>\n",
       "      <td>-0.051643</td>\n",
       "      <td>-0.488949</td>\n",
       "      <td>-0.230094</td>\n",
       "      <td>-0.219007</td>\n",
       "      <td>-0.066522</td>\n",
       "    </tr>\n",
       "    <tr>\n",
       "      <th>LIVENESS</th>\n",
       "      <td>-0.013555</td>\n",
       "      <td>-0.006237</td>\n",
       "      <td>0.021646</td>\n",
       "      <td>-0.155742</td>\n",
       "      <td>-0.070163</td>\n",
       "      <td>0.152350</td>\n",
       "      <td>-0.051643</td>\n",
       "      <td>1.000000</td>\n",
       "      <td>0.028781</td>\n",
       "      <td>0.097934</td>\n",
       "      <td>0.010762</td>\n",
       "      <td>0.009099</td>\n",
       "    </tr>\n",
       "    <tr>\n",
       "      <th>LOUDNESS</th>\n",
       "      <td>-0.034054</td>\n",
       "      <td>0.021736</td>\n",
       "      <td>0.159552</td>\n",
       "      <td>-0.583936</td>\n",
       "      <td>0.404064</td>\n",
       "      <td>0.771771</td>\n",
       "      <td>-0.488949</td>\n",
       "      <td>0.028781</td>\n",
       "      <td>1.000000</td>\n",
       "      <td>0.140831</td>\n",
       "      <td>0.342822</td>\n",
       "      <td>0.168224</td>\n",
       "    </tr>\n",
       "    <tr>\n",
       "      <th>SPEECHINESS</th>\n",
       "      <td>0.088685</td>\n",
       "      <td>-0.055993</td>\n",
       "      <td>-0.007028</td>\n",
       "      <td>-0.021890</td>\n",
       "      <td>0.281029</td>\n",
       "      <td>0.153272</td>\n",
       "      <td>-0.230094</td>\n",
       "      <td>0.097934</td>\n",
       "      <td>0.140831</td>\n",
       "      <td>1.000000</td>\n",
       "      <td>0.152844</td>\n",
       "      <td>0.055312</td>\n",
       "    </tr>\n",
       "    <tr>\n",
       "      <th>VALENCE</th>\n",
       "      <td>0.010396</td>\n",
       "      <td>0.024279</td>\n",
       "      <td>0.090930</td>\n",
       "      <td>-0.245576</td>\n",
       "      <td>0.460742</td>\n",
       "      <td>0.449314</td>\n",
       "      <td>-0.219007</td>\n",
       "      <td>0.010762</td>\n",
       "      <td>0.342822</td>\n",
       "      <td>0.152844</td>\n",
       "      <td>1.000000</td>\n",
       "      <td>0.109810</td>\n",
       "    </tr>\n",
       "    <tr>\n",
       "      <th>TEMPO</th>\n",
       "      <td>0.044179</td>\n",
       "      <td>0.018142</td>\n",
       "      <td>-0.040898</td>\n",
       "      <td>-0.170790</td>\n",
       "      <td>0.030281</td>\n",
       "      <td>0.196224</td>\n",
       "      <td>-0.066522</td>\n",
       "      <td>0.009099</td>\n",
       "      <td>0.168224</td>\n",
       "      <td>0.055312</td>\n",
       "      <td>0.109810</td>\n",
       "      <td>1.000000</td>\n",
       "    </tr>\n",
       "  </tbody>\n",
       "</table>\n",
       "</div>"
      ],
      "text/plain": [
       "                       KEY      MODE  TIME_SIGNATURE  ACOUSTICNESS  \\\n",
       "KEY               1.000000 -0.168785       -0.031685      0.072094   \n",
       "MODE             -0.168785  1.000000       -0.026564     -0.030901   \n",
       "TIME_SIGNATURE   -0.031685 -0.026564        1.000000     -0.173402   \n",
       "ACOUSTICNESS      0.072094 -0.030901       -0.173402      1.000000   \n",
       "DANCEABILITY      0.013440 -0.018260        0.121240     -0.257870   \n",
       "ENERGY           -0.040973  0.020484        0.141681     -0.660877   \n",
       "INSTRUMENTALNESS  0.031113  0.004838       -0.092063      0.227611   \n",
       "LIVENESS         -0.013555 -0.006237        0.021646     -0.155742   \n",
       "LOUDNESS         -0.034054  0.021736        0.159552     -0.583936   \n",
       "SPEECHINESS       0.088685 -0.055993       -0.007028     -0.021890   \n",
       "VALENCE           0.010396  0.024279        0.090930     -0.245576   \n",
       "TEMPO             0.044179  0.018142       -0.040898     -0.170790   \n",
       "\n",
       "                  DANCEABILITY    ENERGY  INSTRUMENTALNESS  LIVENESS  \\\n",
       "KEY                   0.013440 -0.040973          0.031113 -0.013555   \n",
       "MODE                 -0.018260  0.020484          0.004838 -0.006237   \n",
       "TIME_SIGNATURE        0.121240  0.141681         -0.092063  0.021646   \n",
       "ACOUSTICNESS         -0.257870 -0.660877          0.227611 -0.155742   \n",
       "DANCEABILITY          1.000000  0.273690         -0.372387 -0.070163   \n",
       "ENERGY                0.273690  1.000000         -0.278911  0.152350   \n",
       "INSTRUMENTALNESS     -0.372387 -0.278911          1.000000 -0.051643   \n",
       "LIVENESS             -0.070163  0.152350         -0.051643  1.000000   \n",
       "LOUDNESS              0.404064  0.771771         -0.488949  0.028781   \n",
       "SPEECHINESS           0.281029  0.153272         -0.230094  0.097934   \n",
       "VALENCE               0.460742  0.449314         -0.219007  0.010762   \n",
       "TEMPO                 0.030281  0.196224         -0.066522  0.009099   \n",
       "\n",
       "                  LOUDNESS  SPEECHINESS   VALENCE     TEMPO  \n",
       "KEY              -0.034054     0.088685  0.010396  0.044179  \n",
       "MODE              0.021736    -0.055993  0.024279  0.018142  \n",
       "TIME_SIGNATURE    0.159552    -0.007028  0.090930 -0.040898  \n",
       "ACOUSTICNESS     -0.583936    -0.021890 -0.245576 -0.170790  \n",
       "DANCEABILITY      0.404064     0.281029  0.460742  0.030281  \n",
       "ENERGY            0.771771     0.153272  0.449314  0.196224  \n",
       "INSTRUMENTALNESS -0.488949    -0.230094 -0.219007 -0.066522  \n",
       "LIVENESS          0.028781     0.097934  0.010762  0.009099  \n",
       "LOUDNESS          1.000000     0.140831  0.342822  0.168224  \n",
       "SPEECHINESS       0.140831     1.000000  0.152844  0.055312  \n",
       "VALENCE           0.342822     0.152844  1.000000  0.109810  \n",
       "TEMPO             0.168224     0.055312  0.109810  1.000000  "
      ]
     },
     "execution_count": 173,
     "metadata": {},
     "output_type": "execute_result"
    }
   ],
   "source": [
    "cc = train_set_x.corr()\n",
    "cc"
   ]
  },
  {
   "cell_type": "code",
   "execution_count": 174,
   "metadata": {},
   "outputs": [],
   "source": [
    "import seaborn as sns\n"
   ]
  },
  {
   "cell_type": "code",
   "execution_count": 178,
   "metadata": {},
   "outputs": [
    {
     "data": {
      "text/plain": [
       "<matplotlib.axes._subplots.AxesSubplot at 0x7fe696c0aa50>"
      ]
     },
     "execution_count": 178,
     "metadata": {},
     "output_type": "execute_result"
    },
    {
     "data": {
      "image/png": "[encoded data removed]",
      "text/plain": [
       "<Figure size 432x288 with 2 Axes>"
      ]
     },
     "metadata": {
      "needs_background": "light"
     },
     "output_type": "display_data"
    }
   ],
   "source": [
    "sns.heatmap(cc,annot=True)"
   ]
  },
  {
   "cell_type": "code",
   "execution_count": 179,
   "metadata": {},
   "outputs": [
    {
     "data": {
      "text/plain": [
       "<module 'xgboost' from '/Users/syedrahimali/opt/anaconda3/lib/python3.7/site-packages/xgboost/__init__.py'>"
      ]
     },
     "execution_count": 179,
     "metadata": {},
     "output_type": "execute_result"
    }
   ],
   "source": [
    "xgb"
   ]
  },
  {
   "cell_type": "code",
   "execution_count": null,
   "metadata": {},
   "outputs": [],
   "source": []
  }
 ],
 "metadata": {
  "kernelspec": {
   "display_name": "Python 3",
   "language": "python",
   "name": "python3"
  },
  "language_info": {
   "codemirror_mode": {
    "name": "ipython",
    "version": 3
   },
   "file_extension": ".py",
   "mimetype": "text/x-python",
   "name": "python",
   "nbconvert_exporter": "python",
   "pygments_lexer": "ipython3",
   "version": "3.7.6"
  }
 },
 "nbformat": 4,
 "nbformat_minor": 4
}
