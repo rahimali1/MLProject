{
 "cells": [
  {
   "cell_type": "markdown",
   "metadata": {},
   "source": [
    "# 1. Import Libraries\n"
   ]
  },
  {
   "cell_type": "code",
   "execution_count": 1,
   "metadata": {},
   "outputs": [],
   "source": [
    "import numpy as np\n",
    "import pandas as pd \n",
    "import seaborn as sns\n",
    "import matplotlib as plt"
   ]
  },
  {
   "cell_type": "markdown",
   "metadata": {},
   "source": [
    "### Download Datafile"
   ]
  },
  {
   "cell_type": "code",
   "execution_count": 2,
   "metadata": {},
   "outputs": [],
   "source": [
    "songs=pd.read_csv('/Users/syedrahimali/Desktop/spotify/Final.csv')"
   ]
  },
  {
   "cell_type": "code",
   "execution_count": 5,
   "metadata": {},
   "outputs": [],
   "source": [
    "songs= songs.replace(to_replace='my old tracks.',value = 'Disliked')"
   ]
  },
  {
   "cell_type": "code",
   "execution_count": 6,
   "metadata": {},
   "outputs": [
    {
     "data": {
      "text/html": [
       "<div>\n",
       "<style scoped>\n",
       "    .dataframe tbody tr th:only-of-type {\n",
       "        vertical-align: middle;\n",
       "    }\n",
       "\n",
       "    .dataframe tbody tr th {\n",
       "        vertical-align: top;\n",
       "    }\n",
       "\n",
       "    .dataframe thead th {\n",
       "        text-align: right;\n",
       "    }\n",
       "</style>\n",
       "<table border=\"1\" class=\"dataframe\">\n",
       "  <thead>\n",
       "    <tr style=\"text-align: right;\">\n",
       "      <th></th>\n",
       "      <th>Unnamed: 0</th>\n",
       "      <th>ID</th>\n",
       "      <th>NAME</th>\n",
       "      <th>DURATION_MS</th>\n",
       "      <th>KEY</th>\n",
       "      <th>MODE</th>\n",
       "      <th>TIME_SIGNATURE</th>\n",
       "      <th>ACOUSTICNESS</th>\n",
       "      <th>DANCEABILITY</th>\n",
       "      <th>ENERGY</th>\n",
       "      <th>INSTRUMENTALNESS</th>\n",
       "      <th>LIVENESS</th>\n",
       "      <th>LOUDNESS</th>\n",
       "      <th>SPEECHINESS</th>\n",
       "      <th>VALENCE</th>\n",
       "      <th>TEMPO</th>\n",
       "      <th>PLAYLIST</th>\n",
       "      <th>CLASS</th>\n",
       "    </tr>\n",
       "  </thead>\n",
       "  <tbody>\n",
       "    <tr>\n",
       "      <th>0</th>\n",
       "      <td>0</td>\n",
       "      <td>4Jle0Cjj88YkM7jbAjiFjf</td>\n",
       "      <td>Nights</td>\n",
       "      <td>307151</td>\n",
       "      <td>5</td>\n",
       "      <td>0</td>\n",
       "      <td>4</td>\n",
       "      <td>0.418000</td>\n",
       "      <td>0.457</td>\n",
       "      <td>0.553</td>\n",
       "      <td>0.000001</td>\n",
       "      <td>0.1130</td>\n",
       "      <td>-9.345</td>\n",
       "      <td>0.1620</td>\n",
       "      <td>0.448</td>\n",
       "      <td>89.905</td>\n",
       "      <td>Liked</td>\n",
       "      <td>1</td>\n",
       "    </tr>\n",
       "    <tr>\n",
       "      <th>1</th>\n",
       "      <td>1</td>\n",
       "      <td>22ykS8KWpd2r4zcRZ0XMK5</td>\n",
       "      <td>Dreamcatcher (feat. Swae Lee &amp; Travis Scott)</td>\n",
       "      <td>211920</td>\n",
       "      <td>1</td>\n",
       "      <td>0</td>\n",
       "      <td>4</td>\n",
       "      <td>0.191000</td>\n",
       "      <td>0.675</td>\n",
       "      <td>0.230</td>\n",
       "      <td>0.000000</td>\n",
       "      <td>0.1040</td>\n",
       "      <td>-10.363</td>\n",
       "      <td>0.2040</td>\n",
       "      <td>0.101</td>\n",
       "      <td>173.962</td>\n",
       "      <td>Liked</td>\n",
       "      <td>1</td>\n",
       "    </tr>\n",
       "    <tr>\n",
       "      <th>2</th>\n",
       "      <td>2</td>\n",
       "      <td>0nbXyq5TXYPCO7pr3N8S4I</td>\n",
       "      <td>The Box</td>\n",
       "      <td>196653</td>\n",
       "      <td>10</td>\n",
       "      <td>0</td>\n",
       "      <td>4</td>\n",
       "      <td>0.104000</td>\n",
       "      <td>0.896</td>\n",
       "      <td>0.586</td>\n",
       "      <td>0.000000</td>\n",
       "      <td>0.7900</td>\n",
       "      <td>-6.687</td>\n",
       "      <td>0.0559</td>\n",
       "      <td>0.642</td>\n",
       "      <td>116.971</td>\n",
       "      <td>Liked</td>\n",
       "      <td>1</td>\n",
       "    </tr>\n",
       "    <tr>\n",
       "      <th>3</th>\n",
       "      <td>3</td>\n",
       "      <td>5ijr4mcVJokrKmtBy1XRPY</td>\n",
       "      <td>The Morning</td>\n",
       "      <td>312427</td>\n",
       "      <td>6</td>\n",
       "      <td>0</td>\n",
       "      <td>4</td>\n",
       "      <td>0.340000</td>\n",
       "      <td>0.656</td>\n",
       "      <td>0.555</td>\n",
       "      <td>0.000000</td>\n",
       "      <td>0.0993</td>\n",
       "      <td>-7.600</td>\n",
       "      <td>0.0374</td>\n",
       "      <td>0.224</td>\n",
       "      <td>120.096</td>\n",
       "      <td>Liked</td>\n",
       "      <td>1</td>\n",
       "    </tr>\n",
       "    <tr>\n",
       "      <th>4</th>\n",
       "      <td>4</td>\n",
       "      <td>7F02x6EKYIQV3VcTaTm7oN</td>\n",
       "      <td>Hey You</td>\n",
       "      <td>278441</td>\n",
       "      <td>0</td>\n",
       "      <td>1</td>\n",
       "      <td>4</td>\n",
       "      <td>0.221000</td>\n",
       "      <td>0.588</td>\n",
       "      <td>0.301</td>\n",
       "      <td>0.002360</td>\n",
       "      <td>0.1280</td>\n",
       "      <td>-14.979</td>\n",
       "      <td>0.0294</td>\n",
       "      <td>0.190</td>\n",
       "      <td>112.458</td>\n",
       "      <td>Liked</td>\n",
       "      <td>1</td>\n",
       "    </tr>\n",
       "    <tr>\n",
       "      <th>...</th>\n",
       "      <td>...</td>\n",
       "      <td>...</td>\n",
       "      <td>...</td>\n",
       "      <td>...</td>\n",
       "      <td>...</td>\n",
       "      <td>...</td>\n",
       "      <td>...</td>\n",
       "      <td>...</td>\n",
       "      <td>...</td>\n",
       "      <td>...</td>\n",
       "      <td>...</td>\n",
       "      <td>...</td>\n",
       "      <td>...</td>\n",
       "      <td>...</td>\n",
       "      <td>...</td>\n",
       "      <td>...</td>\n",
       "      <td>...</td>\n",
       "      <td>...</td>\n",
       "    </tr>\n",
       "    <tr>\n",
       "      <th>1421</th>\n",
       "      <td>1459</td>\n",
       "      <td>3ZjhlM8PttdrW2gImQQ0tN</td>\n",
       "      <td>Swap Meet - Remastered</td>\n",
       "      <td>183068</td>\n",
       "      <td>2</td>\n",
       "      <td>1</td>\n",
       "      <td>4</td>\n",
       "      <td>0.000050</td>\n",
       "      <td>0.387</td>\n",
       "      <td>0.954</td>\n",
       "      <td>0.000029</td>\n",
       "      <td>0.1910</td>\n",
       "      <td>-7.143</td>\n",
       "      <td>0.0555</td>\n",
       "      <td>0.696</td>\n",
       "      <td>146.300</td>\n",
       "      <td>Disliked</td>\n",
       "      <td>0</td>\n",
       "    </tr>\n",
       "    <tr>\n",
       "      <th>1422</th>\n",
       "      <td>1460</td>\n",
       "      <td>4T0OWC2ISMWVDAIdhIPXK4</td>\n",
       "      <td>About A Girl - Remastered</td>\n",
       "      <td>168429</td>\n",
       "      <td>6</td>\n",
       "      <td>0</td>\n",
       "      <td>4</td>\n",
       "      <td>0.000005</td>\n",
       "      <td>0.414</td>\n",
       "      <td>0.869</td>\n",
       "      <td>0.000650</td>\n",
       "      <td>0.1680</td>\n",
       "      <td>-7.472</td>\n",
       "      <td>0.0311</td>\n",
       "      <td>0.589</td>\n",
       "      <td>131.905</td>\n",
       "      <td>Disliked</td>\n",
       "      <td>0</td>\n",
       "    </tr>\n",
       "    <tr>\n",
       "      <th>1423</th>\n",
       "      <td>1461</td>\n",
       "      <td>4zIsMAQASzCg6XK7WExT54</td>\n",
       "      <td>Negative Creep - Remastered</td>\n",
       "      <td>175745</td>\n",
       "      <td>2</td>\n",
       "      <td>1</td>\n",
       "      <td>4</td>\n",
       "      <td>0.000008</td>\n",
       "      <td>0.381</td>\n",
       "      <td>0.947</td>\n",
       "      <td>0.000164</td>\n",
       "      <td>0.0860</td>\n",
       "      <td>-7.258</td>\n",
       "      <td>0.0872</td>\n",
       "      <td>0.426</td>\n",
       "      <td>84.126</td>\n",
       "      <td>Disliked</td>\n",
       "      <td>0</td>\n",
       "    </tr>\n",
       "    <tr>\n",
       "      <th>1424</th>\n",
       "      <td>1462</td>\n",
       "      <td>47iWAESq90vUl0VVPx4xLX</td>\n",
       "      <td>Blew - Remastered</td>\n",
       "      <td>174134</td>\n",
       "      <td>1</td>\n",
       "      <td>1</td>\n",
       "      <td>4</td>\n",
       "      <td>0.000005</td>\n",
       "      <td>0.407</td>\n",
       "      <td>0.877</td>\n",
       "      <td>0.016900</td>\n",
       "      <td>0.3200</td>\n",
       "      <td>-6.618</td>\n",
       "      <td>0.0565</td>\n",
       "      <td>0.533</td>\n",
       "      <td>129.852</td>\n",
       "      <td>Disliked</td>\n",
       "      <td>0</td>\n",
       "    </tr>\n",
       "    <tr>\n",
       "      <th>1425</th>\n",
       "      <td>1463</td>\n",
       "      <td>3UXwWy7q9UJZKZphAb4NC7</td>\n",
       "      <td>Molly's Lips (Live at Pine Street Theatre)</td>\n",
       "      <td>135840</td>\n",
       "      <td>7</td>\n",
       "      <td>1</td>\n",
       "      <td>4</td>\n",
       "      <td>0.000057</td>\n",
       "      <td>0.284</td>\n",
       "      <td>0.965</td>\n",
       "      <td>0.092300</td>\n",
       "      <td>0.2710</td>\n",
       "      <td>-6.652</td>\n",
       "      <td>0.1040</td>\n",
       "      <td>0.399</td>\n",
       "      <td>156.558</td>\n",
       "      <td>Disliked</td>\n",
       "      <td>0</td>\n",
       "    </tr>\n",
       "  </tbody>\n",
       "</table>\n",
       "<p>1426 rows × 18 columns</p>\n",
       "</div>"
      ],
      "text/plain": [
       "      Unnamed: 0                      ID  \\\n",
       "0              0  4Jle0Cjj88YkM7jbAjiFjf   \n",
       "1              1  22ykS8KWpd2r4zcRZ0XMK5   \n",
       "2              2  0nbXyq5TXYPCO7pr3N8S4I   \n",
       "3              3  5ijr4mcVJokrKmtBy1XRPY   \n",
       "4              4  7F02x6EKYIQV3VcTaTm7oN   \n",
       "...          ...                     ...   \n",
       "1421        1459  3ZjhlM8PttdrW2gImQQ0tN   \n",
       "1422        1460  4T0OWC2ISMWVDAIdhIPXK4   \n",
       "1423        1461  4zIsMAQASzCg6XK7WExT54   \n",
       "1424        1462  47iWAESq90vUl0VVPx4xLX   \n",
       "1425        1463  3UXwWy7q9UJZKZphAb4NC7   \n",
       "\n",
       "                                              NAME  DURATION_MS  KEY  MODE  \\\n",
       "0                                           Nights       307151    5     0   \n",
       "1     Dreamcatcher (feat. Swae Lee & Travis Scott)       211920    1     0   \n",
       "2                                          The Box       196653   10     0   \n",
       "3                                      The Morning       312427    6     0   \n",
       "4                                          Hey You       278441    0     1   \n",
       "...                                            ...          ...  ...   ...   \n",
       "1421                        Swap Meet - Remastered       183068    2     1   \n",
       "1422                     About A Girl - Remastered       168429    6     0   \n",
       "1423                   Negative Creep - Remastered       175745    2     1   \n",
       "1424                             Blew - Remastered       174134    1     1   \n",
       "1425    Molly's Lips (Live at Pine Street Theatre)       135840    7     1   \n",
       "\n",
       "      TIME_SIGNATURE  ACOUSTICNESS  DANCEABILITY  ENERGY  INSTRUMENTALNESS  \\\n",
       "0                  4      0.418000         0.457   0.553          0.000001   \n",
       "1                  4      0.191000         0.675   0.230          0.000000   \n",
       "2                  4      0.104000         0.896   0.586          0.000000   \n",
       "3                  4      0.340000         0.656   0.555          0.000000   \n",
       "4                  4      0.221000         0.588   0.301          0.002360   \n",
       "...              ...           ...           ...     ...               ...   \n",
       "1421               4      0.000050         0.387   0.954          0.000029   \n",
       "1422               4      0.000005         0.414   0.869          0.000650   \n",
       "1423               4      0.000008         0.381   0.947          0.000164   \n",
       "1424               4      0.000005         0.407   0.877          0.016900   \n",
       "1425               4      0.000057         0.284   0.965          0.092300   \n",
       "\n",
       "      LIVENESS  LOUDNESS  SPEECHINESS  VALENCE    TEMPO  PLAYLIST  CLASS  \n",
       "0       0.1130    -9.345       0.1620    0.448   89.905     Liked      1  \n",
       "1       0.1040   -10.363       0.2040    0.101  173.962     Liked      1  \n",
       "2       0.7900    -6.687       0.0559    0.642  116.971     Liked      1  \n",
       "3       0.0993    -7.600       0.0374    0.224  120.096     Liked      1  \n",
       "4       0.1280   -14.979       0.0294    0.190  112.458     Liked      1  \n",
       "...        ...       ...          ...      ...      ...       ...    ...  \n",
       "1421    0.1910    -7.143       0.0555    0.696  146.300  Disliked      0  \n",
       "1422    0.1680    -7.472       0.0311    0.589  131.905  Disliked      0  \n",
       "1423    0.0860    -7.258       0.0872    0.426   84.126  Disliked      0  \n",
       "1424    0.3200    -6.618       0.0565    0.533  129.852  Disliked      0  \n",
       "1425    0.2710    -6.652       0.1040    0.399  156.558  Disliked      0  \n",
       "\n",
       "[1426 rows x 18 columns]"
      ]
     },
     "execution_count": 6,
     "metadata": {},
     "output_type": "execute_result"
    }
   ],
   "source": [
    "songs"
   ]
  },
  {
   "cell_type": "code",
   "execution_count": 17,
   "metadata": {},
   "outputs": [
    {
     "data": {
      "text/plain": [
       "Index(['Unnamed: 0', 'ID', 'NAME', 'DURATION_MS', 'KEY', 'MODE',\n",
       "       'TIME_SIGNATURE', 'ACOUSTICNESS', 'DANCEABILITY', 'ENERGY',\n",
       "       'INSTRUMENTALNESS', 'LIVENESS', 'LOUDNESS', 'SPEECHINESS', 'VALENCE',\n",
       "       'TEMPO', 'PLAYLIST', 'CLASS'],\n",
       "      dtype='object')"
      ]
     },
     "execution_count": 17,
     "metadata": {},
     "output_type": "execute_result"
    }
   ],
   "source": [
    "songs.columns"
   ]
  },
  {
   "cell_type": "code",
   "execution_count": 24,
   "metadata": {},
   "outputs": [
    {
     "data": {
      "text/plain": [
       "Unnamed: 0            int64\n",
       "ID                   object\n",
       "NAME                 object\n",
       "DURATION_MS           int64\n",
       "KEY                   int64\n",
       "MODE                  int64\n",
       "TIME_SIGNATURE        int64\n",
       "ACOUSTICNESS        float64\n",
       "DANCEABILITY        float64\n",
       "ENERGY              float64\n",
       "INSTRUMENTALNESS    float64\n",
       "LIVENESS            float64\n",
       "LOUDNESS            float64\n",
       "SPEECHINESS         float64\n",
       "VALENCE             float64\n",
       "TEMPO               float64\n",
       "PLAYLIST             object\n",
       "CLASS                 int64\n",
       "dtype: object"
      ]
     },
     "execution_count": 24,
     "metadata": {},
     "output_type": "execute_result"
    }
   ],
   "source": [
    "songs.dtypes"
   ]
  },
  {
   "cell_type": "code",
   "execution_count": 699,
   "metadata": {},
   "outputs": [
    {
     "data": {
      "text/html": [
       "<div>\n",
       "<style scoped>\n",
       "    .dataframe tbody tr th:only-of-type {\n",
       "        vertical-align: middle;\n",
       "    }\n",
       "\n",
       "    .dataframe tbody tr th {\n",
       "        vertical-align: top;\n",
       "    }\n",
       "\n",
       "    .dataframe thead th {\n",
       "        text-align: right;\n",
       "    }\n",
       "</style>\n",
       "<table border=\"1\" class=\"dataframe\">\n",
       "  <thead>\n",
       "    <tr style=\"text-align: right;\">\n",
       "      <th></th>\n",
       "      <th>KEY</th>\n",
       "      <th>MODE</th>\n",
       "      <th>TIME_SIGNATURE</th>\n",
       "      <th>ACOUSTICNESS</th>\n",
       "      <th>DANCEABILITY</th>\n",
       "      <th>ENERGY</th>\n",
       "      <th>INSTRUMENTALNESS</th>\n",
       "      <th>LIVENESS</th>\n",
       "      <th>LOUDNESS</th>\n",
       "      <th>SPEECHINESS</th>\n",
       "      <th>VALENCE</th>\n",
       "      <th>TEMPO</th>\n",
       "      <th>CLASS</th>\n",
       "    </tr>\n",
       "  </thead>\n",
       "  <tbody>\n",
       "    <tr>\n",
       "      <th>count</th>\n",
       "      <td>1426.000000</td>\n",
       "      <td>1426.000000</td>\n",
       "      <td>1426.000000</td>\n",
       "      <td>1426.000000</td>\n",
       "      <td>1426.000000</td>\n",
       "      <td>1426.000000</td>\n",
       "      <td>1426.000000</td>\n",
       "      <td>1426.000000</td>\n",
       "      <td>1426.000000</td>\n",
       "      <td>1426.000000</td>\n",
       "      <td>1426.000000</td>\n",
       "      <td>1426.000000</td>\n",
       "      <td>1426.000000</td>\n",
       "    </tr>\n",
       "    <tr>\n",
       "      <th>mean</th>\n",
       "      <td>5.279804</td>\n",
       "      <td>0.577139</td>\n",
       "      <td>3.928471</td>\n",
       "      <td>0.296165</td>\n",
       "      <td>0.565925</td>\n",
       "      <td>0.581759</td>\n",
       "      <td>0.137820</td>\n",
       "      <td>0.203730</td>\n",
       "      <td>-8.824135</td>\n",
       "      <td>0.107294</td>\n",
       "      <td>0.416104</td>\n",
       "      <td>118.436957</td>\n",
       "      <td>0.453717</td>\n",
       "    </tr>\n",
       "    <tr>\n",
       "      <th>std</th>\n",
       "      <td>3.616081</td>\n",
       "      <td>0.494187</td>\n",
       "      <td>0.409282</td>\n",
       "      <td>0.310421</td>\n",
       "      <td>0.184527</td>\n",
       "      <td>0.226229</td>\n",
       "      <td>0.281558</td>\n",
       "      <td>0.175222</td>\n",
       "      <td>4.638934</td>\n",
       "      <td>0.117849</td>\n",
       "      <td>0.239206</td>\n",
       "      <td>30.528529</td>\n",
       "      <td>0.498028</td>\n",
       "    </tr>\n",
       "    <tr>\n",
       "      <th>min</th>\n",
       "      <td>0.000000</td>\n",
       "      <td>0.000000</td>\n",
       "      <td>0.000000</td>\n",
       "      <td>0.000002</td>\n",
       "      <td>0.000000</td>\n",
       "      <td>0.000472</td>\n",
       "      <td>0.000000</td>\n",
       "      <td>0.021500</td>\n",
       "      <td>-34.533000</td>\n",
       "      <td>0.000000</td>\n",
       "      <td>0.000000</td>\n",
       "      <td>0.000000</td>\n",
       "      <td>0.000000</td>\n",
       "    </tr>\n",
       "    <tr>\n",
       "      <th>25%</th>\n",
       "      <td>2.000000</td>\n",
       "      <td>0.000000</td>\n",
       "      <td>4.000000</td>\n",
       "      <td>0.035250</td>\n",
       "      <td>0.441000</td>\n",
       "      <td>0.440000</td>\n",
       "      <td>0.000000</td>\n",
       "      <td>0.101000</td>\n",
       "      <td>-10.581500</td>\n",
       "      <td>0.036700</td>\n",
       "      <td>0.218000</td>\n",
       "      <td>94.796750</td>\n",
       "      <td>0.000000</td>\n",
       "    </tr>\n",
       "    <tr>\n",
       "      <th>50%</th>\n",
       "      <td>5.000000</td>\n",
       "      <td>1.000000</td>\n",
       "      <td>4.000000</td>\n",
       "      <td>0.162000</td>\n",
       "      <td>0.573000</td>\n",
       "      <td>0.602500</td>\n",
       "      <td>0.000101</td>\n",
       "      <td>0.129000</td>\n",
       "      <td>-7.569500</td>\n",
       "      <td>0.053400</td>\n",
       "      <td>0.402500</td>\n",
       "      <td>116.188500</td>\n",
       "      <td>0.000000</td>\n",
       "    </tr>\n",
       "    <tr>\n",
       "      <th>75%</th>\n",
       "      <td>8.000000</td>\n",
       "      <td>1.000000</td>\n",
       "      <td>4.000000</td>\n",
       "      <td>0.516750</td>\n",
       "      <td>0.704000</td>\n",
       "      <td>0.757750</td>\n",
       "      <td>0.059425</td>\n",
       "      <td>0.241750</td>\n",
       "      <td>-5.704500</td>\n",
       "      <td>0.128000</td>\n",
       "      <td>0.588750</td>\n",
       "      <td>140.000750</td>\n",
       "      <td>1.000000</td>\n",
       "    </tr>\n",
       "    <tr>\n",
       "      <th>max</th>\n",
       "      <td>11.000000</td>\n",
       "      <td>1.000000</td>\n",
       "      <td>5.000000</td>\n",
       "      <td>0.994000</td>\n",
       "      <td>0.954000</td>\n",
       "      <td>0.984000</td>\n",
       "      <td>0.988000</td>\n",
       "      <td>0.995000</td>\n",
       "      <td>0.175000</td>\n",
       "      <td>0.925000</td>\n",
       "      <td>0.975000</td>\n",
       "      <td>205.470000</td>\n",
       "      <td>1.000000</td>\n",
       "    </tr>\n",
       "  </tbody>\n",
       "</table>\n",
       "</div>"
      ],
      "text/plain": [
       "               KEY         MODE  TIME_SIGNATURE  ACOUSTICNESS  DANCEABILITY  \\\n",
       "count  1426.000000  1426.000000     1426.000000   1426.000000   1426.000000   \n",
       "mean      5.279804     0.577139        3.928471      0.296165      0.565925   \n",
       "std       3.616081     0.494187        0.409282      0.310421      0.184527   \n",
       "min       0.000000     0.000000        0.000000      0.000002      0.000000   \n",
       "25%       2.000000     0.000000        4.000000      0.035250      0.441000   \n",
       "50%       5.000000     1.000000        4.000000      0.162000      0.573000   \n",
       "75%       8.000000     1.000000        4.000000      0.516750      0.704000   \n",
       "max      11.000000     1.000000        5.000000      0.994000      0.954000   \n",
       "\n",
       "            ENERGY  INSTRUMENTALNESS     LIVENESS     LOUDNESS  SPEECHINESS  \\\n",
       "count  1426.000000       1426.000000  1426.000000  1426.000000  1426.000000   \n",
       "mean      0.581759          0.137820     0.203730    -8.824135     0.107294   \n",
       "std       0.226229          0.281558     0.175222     4.638934     0.117849   \n",
       "min       0.000472          0.000000     0.021500   -34.533000     0.000000   \n",
       "25%       0.440000          0.000000     0.101000   -10.581500     0.036700   \n",
       "50%       0.602500          0.000101     0.129000    -7.569500     0.053400   \n",
       "75%       0.757750          0.059425     0.241750    -5.704500     0.128000   \n",
       "max       0.984000          0.988000     0.995000     0.175000     0.925000   \n",
       "\n",
       "           VALENCE        TEMPO        CLASS  \n",
       "count  1426.000000  1426.000000  1426.000000  \n",
       "mean      0.416104   118.436957     0.453717  \n",
       "std       0.239206    30.528529     0.498028  \n",
       "min       0.000000     0.000000     0.000000  \n",
       "25%       0.218000    94.796750     0.000000  \n",
       "50%       0.402500   116.188500     0.000000  \n",
       "75%       0.588750   140.000750     1.000000  \n",
       "max       0.975000   205.470000     1.000000  "
      ]
     },
     "execution_count": 699,
     "metadata": {},
     "output_type": "execute_result"
    }
   ],
   "source": [
    "songs_df.describe()"
   ]
  },
  {
   "cell_type": "markdown",
   "metadata": {},
   "source": [
    "### Data Cleaning And Prepration"
   ]
  },
  {
   "cell_type": "code",
   "execution_count": 18,
   "metadata": {},
   "outputs": [],
   "source": [
    "songs_df=songs.drop(labels=['ID','Unnamed: 0', 'DURATION_MS','NAME','PLAYLIST'],axis=1)"
   ]
  },
  {
   "cell_type": "code",
   "execution_count": 19,
   "metadata": {},
   "outputs": [
    {
     "data": {
      "text/html": [
       "<div>\n",
       "<style scoped>\n",
       "    .dataframe tbody tr th:only-of-type {\n",
       "        vertical-align: middle;\n",
       "    }\n",
       "\n",
       "    .dataframe tbody tr th {\n",
       "        vertical-align: top;\n",
       "    }\n",
       "\n",
       "    .dataframe thead th {\n",
       "        text-align: right;\n",
       "    }\n",
       "</style>\n",
       "<table border=\"1\" class=\"dataframe\">\n",
       "  <thead>\n",
       "    <tr style=\"text-align: right;\">\n",
       "      <th></th>\n",
       "      <th>KEY</th>\n",
       "      <th>MODE</th>\n",
       "      <th>TIME_SIGNATURE</th>\n",
       "      <th>ACOUSTICNESS</th>\n",
       "      <th>DANCEABILITY</th>\n",
       "      <th>ENERGY</th>\n",
       "      <th>INSTRUMENTALNESS</th>\n",
       "      <th>LIVENESS</th>\n",
       "      <th>LOUDNESS</th>\n",
       "      <th>SPEECHINESS</th>\n",
       "      <th>VALENCE</th>\n",
       "      <th>TEMPO</th>\n",
       "      <th>CLASS</th>\n",
       "    </tr>\n",
       "  </thead>\n",
       "  <tbody>\n",
       "    <tr>\n",
       "      <th>0</th>\n",
       "      <td>5</td>\n",
       "      <td>0</td>\n",
       "      <td>4</td>\n",
       "      <td>0.418000</td>\n",
       "      <td>0.457</td>\n",
       "      <td>0.553</td>\n",
       "      <td>0.000001</td>\n",
       "      <td>0.1130</td>\n",
       "      <td>-9.345</td>\n",
       "      <td>0.1620</td>\n",
       "      <td>0.448</td>\n",
       "      <td>89.905</td>\n",
       "      <td>1</td>\n",
       "    </tr>\n",
       "    <tr>\n",
       "      <th>1</th>\n",
       "      <td>1</td>\n",
       "      <td>0</td>\n",
       "      <td>4</td>\n",
       "      <td>0.191000</td>\n",
       "      <td>0.675</td>\n",
       "      <td>0.230</td>\n",
       "      <td>0.000000</td>\n",
       "      <td>0.1040</td>\n",
       "      <td>-10.363</td>\n",
       "      <td>0.2040</td>\n",
       "      <td>0.101</td>\n",
       "      <td>173.962</td>\n",
       "      <td>1</td>\n",
       "    </tr>\n",
       "    <tr>\n",
       "      <th>2</th>\n",
       "      <td>10</td>\n",
       "      <td>0</td>\n",
       "      <td>4</td>\n",
       "      <td>0.104000</td>\n",
       "      <td>0.896</td>\n",
       "      <td>0.586</td>\n",
       "      <td>0.000000</td>\n",
       "      <td>0.7900</td>\n",
       "      <td>-6.687</td>\n",
       "      <td>0.0559</td>\n",
       "      <td>0.642</td>\n",
       "      <td>116.971</td>\n",
       "      <td>1</td>\n",
       "    </tr>\n",
       "    <tr>\n",
       "      <th>3</th>\n",
       "      <td>6</td>\n",
       "      <td>0</td>\n",
       "      <td>4</td>\n",
       "      <td>0.340000</td>\n",
       "      <td>0.656</td>\n",
       "      <td>0.555</td>\n",
       "      <td>0.000000</td>\n",
       "      <td>0.0993</td>\n",
       "      <td>-7.600</td>\n",
       "      <td>0.0374</td>\n",
       "      <td>0.224</td>\n",
       "      <td>120.096</td>\n",
       "      <td>1</td>\n",
       "    </tr>\n",
       "    <tr>\n",
       "      <th>4</th>\n",
       "      <td>0</td>\n",
       "      <td>1</td>\n",
       "      <td>4</td>\n",
       "      <td>0.221000</td>\n",
       "      <td>0.588</td>\n",
       "      <td>0.301</td>\n",
       "      <td>0.002360</td>\n",
       "      <td>0.1280</td>\n",
       "      <td>-14.979</td>\n",
       "      <td>0.0294</td>\n",
       "      <td>0.190</td>\n",
       "      <td>112.458</td>\n",
       "      <td>1</td>\n",
       "    </tr>\n",
       "    <tr>\n",
       "      <th>...</th>\n",
       "      <td>...</td>\n",
       "      <td>...</td>\n",
       "      <td>...</td>\n",
       "      <td>...</td>\n",
       "      <td>...</td>\n",
       "      <td>...</td>\n",
       "      <td>...</td>\n",
       "      <td>...</td>\n",
       "      <td>...</td>\n",
       "      <td>...</td>\n",
       "      <td>...</td>\n",
       "      <td>...</td>\n",
       "      <td>...</td>\n",
       "    </tr>\n",
       "    <tr>\n",
       "      <th>1421</th>\n",
       "      <td>2</td>\n",
       "      <td>1</td>\n",
       "      <td>4</td>\n",
       "      <td>0.000050</td>\n",
       "      <td>0.387</td>\n",
       "      <td>0.954</td>\n",
       "      <td>0.000029</td>\n",
       "      <td>0.1910</td>\n",
       "      <td>-7.143</td>\n",
       "      <td>0.0555</td>\n",
       "      <td>0.696</td>\n",
       "      <td>146.300</td>\n",
       "      <td>0</td>\n",
       "    </tr>\n",
       "    <tr>\n",
       "      <th>1422</th>\n",
       "      <td>6</td>\n",
       "      <td>0</td>\n",
       "      <td>4</td>\n",
       "      <td>0.000005</td>\n",
       "      <td>0.414</td>\n",
       "      <td>0.869</td>\n",
       "      <td>0.000650</td>\n",
       "      <td>0.1680</td>\n",
       "      <td>-7.472</td>\n",
       "      <td>0.0311</td>\n",
       "      <td>0.589</td>\n",
       "      <td>131.905</td>\n",
       "      <td>0</td>\n",
       "    </tr>\n",
       "    <tr>\n",
       "      <th>1423</th>\n",
       "      <td>2</td>\n",
       "      <td>1</td>\n",
       "      <td>4</td>\n",
       "      <td>0.000008</td>\n",
       "      <td>0.381</td>\n",
       "      <td>0.947</td>\n",
       "      <td>0.000164</td>\n",
       "      <td>0.0860</td>\n",
       "      <td>-7.258</td>\n",
       "      <td>0.0872</td>\n",
       "      <td>0.426</td>\n",
       "      <td>84.126</td>\n",
       "      <td>0</td>\n",
       "    </tr>\n",
       "    <tr>\n",
       "      <th>1424</th>\n",
       "      <td>1</td>\n",
       "      <td>1</td>\n",
       "      <td>4</td>\n",
       "      <td>0.000005</td>\n",
       "      <td>0.407</td>\n",
       "      <td>0.877</td>\n",
       "      <td>0.016900</td>\n",
       "      <td>0.3200</td>\n",
       "      <td>-6.618</td>\n",
       "      <td>0.0565</td>\n",
       "      <td>0.533</td>\n",
       "      <td>129.852</td>\n",
       "      <td>0</td>\n",
       "    </tr>\n",
       "    <tr>\n",
       "      <th>1425</th>\n",
       "      <td>7</td>\n",
       "      <td>1</td>\n",
       "      <td>4</td>\n",
       "      <td>0.000057</td>\n",
       "      <td>0.284</td>\n",
       "      <td>0.965</td>\n",
       "      <td>0.092300</td>\n",
       "      <td>0.2710</td>\n",
       "      <td>-6.652</td>\n",
       "      <td>0.1040</td>\n",
       "      <td>0.399</td>\n",
       "      <td>156.558</td>\n",
       "      <td>0</td>\n",
       "    </tr>\n",
       "  </tbody>\n",
       "</table>\n",
       "<p>1426 rows × 13 columns</p>\n",
       "</div>"
      ],
      "text/plain": [
       "      KEY  MODE  TIME_SIGNATURE  ACOUSTICNESS  DANCEABILITY  ENERGY  \\\n",
       "0       5     0               4      0.418000         0.457   0.553   \n",
       "1       1     0               4      0.191000         0.675   0.230   \n",
       "2      10     0               4      0.104000         0.896   0.586   \n",
       "3       6     0               4      0.340000         0.656   0.555   \n",
       "4       0     1               4      0.221000         0.588   0.301   \n",
       "...   ...   ...             ...           ...           ...     ...   \n",
       "1421    2     1               4      0.000050         0.387   0.954   \n",
       "1422    6     0               4      0.000005         0.414   0.869   \n",
       "1423    2     1               4      0.000008         0.381   0.947   \n",
       "1424    1     1               4      0.000005         0.407   0.877   \n",
       "1425    7     1               4      0.000057         0.284   0.965   \n",
       "\n",
       "      INSTRUMENTALNESS  LIVENESS  LOUDNESS  SPEECHINESS  VALENCE    TEMPO  \\\n",
       "0             0.000001    0.1130    -9.345       0.1620    0.448   89.905   \n",
       "1             0.000000    0.1040   -10.363       0.2040    0.101  173.962   \n",
       "2             0.000000    0.7900    -6.687       0.0559    0.642  116.971   \n",
       "3             0.000000    0.0993    -7.600       0.0374    0.224  120.096   \n",
       "4             0.002360    0.1280   -14.979       0.0294    0.190  112.458   \n",
       "...                ...       ...       ...          ...      ...      ...   \n",
       "1421          0.000029    0.1910    -7.143       0.0555    0.696  146.300   \n",
       "1422          0.000650    0.1680    -7.472       0.0311    0.589  131.905   \n",
       "1423          0.000164    0.0860    -7.258       0.0872    0.426   84.126   \n",
       "1424          0.016900    0.3200    -6.618       0.0565    0.533  129.852   \n",
       "1425          0.092300    0.2710    -6.652       0.1040    0.399  156.558   \n",
       "\n",
       "      CLASS  \n",
       "0         1  \n",
       "1         1  \n",
       "2         1  \n",
       "3         1  \n",
       "4         1  \n",
       "...     ...  \n",
       "1421      0  \n",
       "1422      0  \n",
       "1423      0  \n",
       "1424      0  \n",
       "1425      0  \n",
       "\n",
       "[1426 rows x 13 columns]"
      ]
     },
     "execution_count": 19,
     "metadata": {},
     "output_type": "execute_result"
    }
   ],
   "source": [
    "songs_df"
   ]
  },
  {
   "cell_type": "markdown",
   "metadata": {},
   "source": [
    "#### Splitting Data"
   ]
  },
  {
   "cell_type": "code",
   "execution_count": 21,
   "metadata": {},
   "outputs": [],
   "source": [
    "from sklearn.model_selection import train_test_split"
   ]
  },
  {
   "cell_type": "code",
   "execution_count": 27,
   "metadata": {},
   "outputs": [],
   "source": [
    "train_set_x, test_set_x,train_set_y, test_set_y = train_test_split(songs_df,\n",
    "                                                                   songs_df['CLASS'],\n",
    "                                                                   train_size=0.8,\n",
    "                                                                   test_size=0.2,\n",
    "                                                                   random_state=42, \n",
    "                                                                   stratify=songs['CLASS'])"
   ]
  },
  {
   "cell_type": "code",
   "execution_count": 28,
   "metadata": {},
   "outputs": [],
   "source": [
    "train_set_x=train_set_x.drop(labels=['CLASS'],axis=1)\n",
    "test_set_x=test_set_x.drop(labels=['CLASS'], axis=1)"
   ]
  },
  {
   "cell_type": "code",
   "execution_count": 29,
   "metadata": {},
   "outputs": [
    {
     "data": {
      "text/html": [
       "<div>\n",
       "<style scoped>\n",
       "    .dataframe tbody tr th:only-of-type {\n",
       "        vertical-align: middle;\n",
       "    }\n",
       "\n",
       "    .dataframe tbody tr th {\n",
       "        vertical-align: top;\n",
       "    }\n",
       "\n",
       "    .dataframe thead th {\n",
       "        text-align: right;\n",
       "    }\n",
       "</style>\n",
       "<table border=\"1\" class=\"dataframe\">\n",
       "  <thead>\n",
       "    <tr style=\"text-align: right;\">\n",
       "      <th></th>\n",
       "      <th>KEY</th>\n",
       "      <th>MODE</th>\n",
       "      <th>TIME_SIGNATURE</th>\n",
       "      <th>ACOUSTICNESS</th>\n",
       "      <th>DANCEABILITY</th>\n",
       "      <th>ENERGY</th>\n",
       "      <th>INSTRUMENTALNESS</th>\n",
       "      <th>LIVENESS</th>\n",
       "      <th>LOUDNESS</th>\n",
       "      <th>SPEECHINESS</th>\n",
       "      <th>VALENCE</th>\n",
       "      <th>TEMPO</th>\n",
       "    </tr>\n",
       "  </thead>\n",
       "  <tbody>\n",
       "    <tr>\n",
       "      <th>1022</th>\n",
       "      <td>0</td>\n",
       "      <td>1</td>\n",
       "      <td>5</td>\n",
       "      <td>0.933000</td>\n",
       "      <td>0.498</td>\n",
       "      <td>0.2820</td>\n",
       "      <td>0.800000</td>\n",
       "      <td>0.2200</td>\n",
       "      <td>-16.171</td>\n",
       "      <td>0.0353</td>\n",
       "      <td>0.3190</td>\n",
       "      <td>99.976</td>\n",
       "    </tr>\n",
       "    <tr>\n",
       "      <th>812</th>\n",
       "      <td>4</td>\n",
       "      <td>0</td>\n",
       "      <td>4</td>\n",
       "      <td>0.477000</td>\n",
       "      <td>0.745</td>\n",
       "      <td>0.4190</td>\n",
       "      <td>0.000046</td>\n",
       "      <td>0.1120</td>\n",
       "      <td>-8.901</td>\n",
       "      <td>0.0343</td>\n",
       "      <td>0.4110</td>\n",
       "      <td>120.086</td>\n",
       "    </tr>\n",
       "    <tr>\n",
       "      <th>135</th>\n",
       "      <td>0</td>\n",
       "      <td>1</td>\n",
       "      <td>4</td>\n",
       "      <td>0.263000</td>\n",
       "      <td>0.200</td>\n",
       "      <td>0.7250</td>\n",
       "      <td>0.024200</td>\n",
       "      <td>0.2960</td>\n",
       "      <td>-6.742</td>\n",
       "      <td>0.0461</td>\n",
       "      <td>0.1710</td>\n",
       "      <td>154.866</td>\n",
       "    </tr>\n",
       "    <tr>\n",
       "      <th>1009</th>\n",
       "      <td>4</td>\n",
       "      <td>1</td>\n",
       "      <td>4</td>\n",
       "      <td>0.021200</td>\n",
       "      <td>0.493</td>\n",
       "      <td>0.5600</td>\n",
       "      <td>0.374000</td>\n",
       "      <td>0.1130</td>\n",
       "      <td>-9.100</td>\n",
       "      <td>0.0296</td>\n",
       "      <td>0.6410</td>\n",
       "      <td>95.523</td>\n",
       "    </tr>\n",
       "    <tr>\n",
       "      <th>617</th>\n",
       "      <td>1</td>\n",
       "      <td>1</td>\n",
       "      <td>4</td>\n",
       "      <td>0.000821</td>\n",
       "      <td>0.361</td>\n",
       "      <td>0.0851</td>\n",
       "      <td>0.391000</td>\n",
       "      <td>0.6250</td>\n",
       "      <td>-32.574</td>\n",
       "      <td>0.0981</td>\n",
       "      <td>0.0383</td>\n",
       "      <td>99.798</td>\n",
       "    </tr>\n",
       "    <tr>\n",
       "      <th>...</th>\n",
       "      <td>...</td>\n",
       "      <td>...</td>\n",
       "      <td>...</td>\n",
       "      <td>...</td>\n",
       "      <td>...</td>\n",
       "      <td>...</td>\n",
       "      <td>...</td>\n",
       "      <td>...</td>\n",
       "      <td>...</td>\n",
       "      <td>...</td>\n",
       "      <td>...</td>\n",
       "      <td>...</td>\n",
       "    </tr>\n",
       "    <tr>\n",
       "      <th>371</th>\n",
       "      <td>11</td>\n",
       "      <td>0</td>\n",
       "      <td>4</td>\n",
       "      <td>0.047000</td>\n",
       "      <td>0.224</td>\n",
       "      <td>0.4940</td>\n",
       "      <td>0.001580</td>\n",
       "      <td>0.9890</td>\n",
       "      <td>-12.241</td>\n",
       "      <td>0.0362</td>\n",
       "      <td>0.2180</td>\n",
       "      <td>123.566</td>\n",
       "    </tr>\n",
       "    <tr>\n",
       "      <th>464</th>\n",
       "      <td>5</td>\n",
       "      <td>1</td>\n",
       "      <td>4</td>\n",
       "      <td>0.029100</td>\n",
       "      <td>0.673</td>\n",
       "      <td>0.8780</td>\n",
       "      <td>0.477000</td>\n",
       "      <td>0.1930</td>\n",
       "      <td>-6.293</td>\n",
       "      <td>0.0312</td>\n",
       "      <td>0.0377</td>\n",
       "      <td>120.006</td>\n",
       "    </tr>\n",
       "    <tr>\n",
       "      <th>1142</th>\n",
       "      <td>0</td>\n",
       "      <td>0</td>\n",
       "      <td>4</td>\n",
       "      <td>0.002060</td>\n",
       "      <td>0.713</td>\n",
       "      <td>0.8680</td>\n",
       "      <td>0.000092</td>\n",
       "      <td>0.2250</td>\n",
       "      <td>-6.644</td>\n",
       "      <td>0.0305</td>\n",
       "      <td>0.6410</td>\n",
       "      <td>119.980</td>\n",
       "    </tr>\n",
       "    <tr>\n",
       "      <th>1067</th>\n",
       "      <td>1</td>\n",
       "      <td>0</td>\n",
       "      <td>4</td>\n",
       "      <td>0.689000</td>\n",
       "      <td>0.213</td>\n",
       "      <td>0.6640</td>\n",
       "      <td>0.134000</td>\n",
       "      <td>0.1020</td>\n",
       "      <td>-9.034</td>\n",
       "      <td>0.0642</td>\n",
       "      <td>0.2190</td>\n",
       "      <td>80.561</td>\n",
       "    </tr>\n",
       "    <tr>\n",
       "      <th>1278</th>\n",
       "      <td>4</td>\n",
       "      <td>1</td>\n",
       "      <td>4</td>\n",
       "      <td>0.890000</td>\n",
       "      <td>0.386</td>\n",
       "      <td>0.4330</td>\n",
       "      <td>0.977000</td>\n",
       "      <td>0.0887</td>\n",
       "      <td>-16.452</td>\n",
       "      <td>0.0399</td>\n",
       "      <td>0.0550</td>\n",
       "      <td>99.226</td>\n",
       "    </tr>\n",
       "  </tbody>\n",
       "</table>\n",
       "<p>1140 rows × 12 columns</p>\n",
       "</div>"
      ],
      "text/plain": [
       "      KEY  MODE  TIME_SIGNATURE  ACOUSTICNESS  DANCEABILITY  ENERGY  \\\n",
       "1022    0     1               5      0.933000         0.498  0.2820   \n",
       "812     4     0               4      0.477000         0.745  0.4190   \n",
       "135     0     1               4      0.263000         0.200  0.7250   \n",
       "1009    4     1               4      0.021200         0.493  0.5600   \n",
       "617     1     1               4      0.000821         0.361  0.0851   \n",
       "...   ...   ...             ...           ...           ...     ...   \n",
       "371    11     0               4      0.047000         0.224  0.4940   \n",
       "464     5     1               4      0.029100         0.673  0.8780   \n",
       "1142    0     0               4      0.002060         0.713  0.8680   \n",
       "1067    1     0               4      0.689000         0.213  0.6640   \n",
       "1278    4     1               4      0.890000         0.386  0.4330   \n",
       "\n",
       "      INSTRUMENTALNESS  LIVENESS  LOUDNESS  SPEECHINESS  VALENCE    TEMPO  \n",
       "1022          0.800000    0.2200   -16.171       0.0353   0.3190   99.976  \n",
       "812           0.000046    0.1120    -8.901       0.0343   0.4110  120.086  \n",
       "135           0.024200    0.2960    -6.742       0.0461   0.1710  154.866  \n",
       "1009          0.374000    0.1130    -9.100       0.0296   0.6410   95.523  \n",
       "617           0.391000    0.6250   -32.574       0.0981   0.0383   99.798  \n",
       "...                ...       ...       ...          ...      ...      ...  \n",
       "371           0.001580    0.9890   -12.241       0.0362   0.2180  123.566  \n",
       "464           0.477000    0.1930    -6.293       0.0312   0.0377  120.006  \n",
       "1142          0.000092    0.2250    -6.644       0.0305   0.6410  119.980  \n",
       "1067          0.134000    0.1020    -9.034       0.0642   0.2190   80.561  \n",
       "1278          0.977000    0.0887   -16.452       0.0399   0.0550   99.226  \n",
       "\n",
       "[1140 rows x 12 columns]"
      ]
     },
     "execution_count": 29,
     "metadata": {},
     "output_type": "execute_result"
    }
   ],
   "source": [
    "train_set_x"
   ]
  },
  {
   "cell_type": "markdown",
   "metadata": {},
   "source": [
    "# K-Nearest Neighbors"
   ]
  },
  {
   "cell_type": "code",
   "execution_count": 30,
   "metadata": {},
   "outputs": [
    {
     "data": {
      "text/plain": [
       "KNeighborsClassifier(algorithm='auto', leaf_size=30, metric='minkowski',\n",
       "                     metric_params=None, n_jobs=None, n_neighbors=50, p=2,\n",
       "                     weights='uniform')"
      ]
     },
     "execution_count": 30,
     "metadata": {},
     "output_type": "execute_result"
    }
   ],
   "source": [
    "from sklearn.neighbors import KNeighborsClassifier\n",
    "knn=KNeighborsClassifier(n_neighbors=50)\n",
    "knn.fit(train_set_x,train_set_y)"
   ]
  },
  {
   "cell_type": "code",
   "execution_count": 32,
   "metadata": {},
   "outputs": [],
   "source": [
    "knn_prediction = knn.predict(test_set_x)"
   ]
  },
  {
   "cell_type": "code",
   "execution_count": 33,
   "metadata": {},
   "outputs": [],
   "source": [
    "from sklearn.metrics import accuracy_score"
   ]
  },
  {
   "cell_type": "code",
   "execution_count": 35,
   "metadata": {},
   "outputs": [
    {
     "data": {
      "text/plain": [
       "0.527972027972028"
      ]
     },
     "execution_count": 35,
     "metadata": {},
     "output_type": "execute_result"
    }
   ],
   "source": [
    "knn_score = accuracy_score(test_set_y, knn_prediction)\n",
    "knn_score"
   ]
  },
  {
   "cell_type": "markdown",
   "metadata": {},
   "source": [
    "### Hyperparameter Tuning "
   ]
  },
  {
   "cell_type": "code",
   "execution_count": 36,
   "metadata": {},
   "outputs": [],
   "source": [
    "from sklearn.model_selection import GridSearchCV, RandomizedSearchCV"
   ]
  },
  {
   "cell_type": "code",
   "execution_count": 91,
   "metadata": {},
   "outputs": [],
   "source": [
    "knn_params= {'n_neighbors' : list(range(5, 120,5)),\n",
    "                  'weights':['uniform','distance'],\n",
    "                 'metric' : ['minkowski'],\n",
    "                 'algorithm' : ['auto', 'ball_tree', 'kd_tree', 'brute']}"
   ]
  },
  {
   "cell_type": "code",
   "execution_count": 92,
   "metadata": {},
   "outputs": [],
   "source": [
    "random_search_knn = RandomizedSearchCV(KNeighborsClassifier(),\n",
    "                                       param_distributions=knn_params,\n",
    "                                       cv = 10, \n",
    "                                       scoring= 'accuracy',\n",
    "                                       n_iter=200,\n",
    "                                       verbose=1)"
   ]
  },
  {
   "cell_type": "code",
   "execution_count": 93,
   "metadata": {},
   "outputs": [
    {
     "name": "stderr",
     "output_type": "stream",
     "text": [
      "/Users/syedrahimali/opt/anaconda3/lib/python3.7/site-packages/sklearn/model_selection/_search.py:281: UserWarning: The total space of parameters 184 is smaller than n_iter=200. Running 184 iterations. For exhaustive searches, use GridSearchCV.\n",
      "  % (grid_size, self.n_iter, grid_size), UserWarning)\n",
      "[Parallel(n_jobs=1)]: Using backend SequentialBackend with 1 concurrent workers.\n"
     ]
    },
    {
     "name": "stdout",
     "output_type": "stream",
     "text": [
      "Fitting 10 folds for each of 184 candidates, totalling 1840 fits\n"
     ]
    },
    {
     "name": "stderr",
     "output_type": "stream",
     "text": [
      "[Parallel(n_jobs=1)]: Done 1840 out of 1840 | elapsed:   11.6s finished\n"
     ]
    },
    {
     "data": {
      "text/plain": [
       "RandomizedSearchCV(cv=10, error_score=nan,\n",
       "                   estimator=KNeighborsClassifier(algorithm='auto',\n",
       "                                                  leaf_size=30,\n",
       "                                                  metric='minkowski',\n",
       "                                                  metric_params=None,\n",
       "                                                  n_jobs=None, n_neighbors=5,\n",
       "                                                  p=2, weights='uniform'),\n",
       "                   iid='deprecated', n_iter=200, n_jobs=None,\n",
       "                   param_distributions={'algorithm': ['auto', 'ball_tree',\n",
       "                                                      'kd_tree', 'brute'],\n",
       "                                        'metric': ['minkowski'],\n",
       "                                        'n_neighbors': [5, 10, 15, 20, 25, 30,\n",
       "                                                        35, 40, 45, 50, 55, 60,\n",
       "                                                        65, 70, 75, 80, 85, 90,\n",
       "                                                        95, 100, 105, 110,\n",
       "                                                        115],\n",
       "                                        'weights': ['uniform', 'distance']},\n",
       "                   pre_dispatch='2*n_jobs', random_state=None, refit=True,\n",
       "                   return_train_score=False, scoring='accuracy', verbose=1)"
      ]
     },
     "execution_count": 93,
     "metadata": {},
     "output_type": "execute_result"
    }
   ],
   "source": [
    "random_search_knn.fit(train_set_x,train_set_y)"
   ]
  },
  {
   "cell_type": "code",
   "execution_count": 94,
   "metadata": {},
   "outputs": [
    {
     "data": {
      "text/plain": [
       "KNeighborsClassifier(algorithm='auto', leaf_size=30, metric='minkowski',\n",
       "                     metric_params=None, n_jobs=None, n_neighbors=25, p=2,\n",
       "                     weights='distance')"
      ]
     },
     "execution_count": 94,
     "metadata": {},
     "output_type": "execute_result"
    }
   ],
   "source": [
    "random_search_knn.best_estimator_"
   ]
  },
  {
   "cell_type": "code",
   "execution_count": 95,
   "metadata": {},
   "outputs": [
    {
     "data": {
      "text/plain": [
       "{'weights': 'distance',\n",
       " 'n_neighbors': 25,\n",
       " 'metric': 'minkowski',\n",
       " 'algorithm': 'auto'}"
      ]
     },
     "execution_count": 95,
     "metadata": {},
     "output_type": "execute_result"
    }
   ],
   "source": [
    "random_search_knn.best_params_"
   ]
  },
  {
   "cell_type": "code",
   "execution_count": 96,
   "metadata": {},
   "outputs": [
    {
     "data": {
      "text/plain": [
       "0.6403508771929824"
      ]
     },
     "execution_count": 96,
     "metadata": {},
     "output_type": "execute_result"
    }
   ],
   "source": [
    "random_search_knn.best_score_"
   ]
  },
  {
   "cell_type": "code",
   "execution_count": 97,
   "metadata": {},
   "outputs": [],
   "source": [
    "knn = KNeighborsClassifier(algorithm='auto', leaf_size=30, metric='minkowski',\n",
    "                     metric_params=None, n_jobs=None, n_neighbors=25, p=2,\n",
    "                     weights='distance')"
   ]
  },
  {
   "cell_type": "code",
   "execution_count": 98,
   "metadata": {},
   "outputs": [
    {
     "data": {
      "text/plain": [
       "KNeighborsClassifier(algorithm='auto', leaf_size=30, metric='minkowski',\n",
       "                     metric_params=None, n_jobs=None, n_neighbors=25, p=2,\n",
       "                     weights='distance')"
      ]
     },
     "execution_count": 98,
     "metadata": {},
     "output_type": "execute_result"
    }
   ],
   "source": [
    "knn.fit(train_set_x,train_set_y)"
   ]
  },
  {
   "cell_type": "markdown",
   "metadata": {},
   "source": [
    "### K-Fold Cross Validation"
   ]
  },
  {
   "cell_type": "code",
   "execution_count": 453,
   "metadata": {},
   "outputs": [],
   "source": [
    "knn_final_prediction = knn.predict(test_set_x)\n",
    "knn_probab = knn.predict_proba(test_set_x)"
   ]
  },
  {
   "cell_type": "code",
   "execution_count": 454,
   "metadata": {},
   "outputs": [],
   "source": [
    "from sklearn.model_selection import cross_val_score\n",
    "knn_cross_val_array = cross_val_score(\n",
    "    knn,\n",
    "    train_set_x,\n",
    "    train_set_y,\n",
    "    groups=None,\n",
    "    scoring=\"accuracy\",\n",
    "    cv=6,\n",
    "    n_jobs=None,\n",
    "    verbose=0,\n",
    "    fit_params=None,\n",
    "    pre_dispatch='2*n_jobs',\n",
    "    \n",
    "\n",
    ")"
   ]
  },
  {
   "cell_type": "code",
   "execution_count": 455,
   "metadata": {},
   "outputs": [
    {
     "data": {
      "text/plain": [
       "array([0.61052632, 0.63684211, 0.61578947, 0.66842105, 0.64210526,\n",
       "       0.62105263])"
      ]
     },
     "execution_count": 455,
     "metadata": {},
     "output_type": "execute_result"
    }
   ],
   "source": [
    "knn_cross_val_array"
   ]
  },
  {
   "cell_type": "code",
   "execution_count": 396,
   "metadata": {},
   "outputs": [
    {
     "data": {
      "text/plain": [
       "0.6324561403508773"
      ]
     },
     "execution_count": 396,
     "metadata": {},
     "output_type": "execute_result"
    }
   ],
   "source": [
    "knn_cross_val_array.mean()"
   ]
  },
  {
   "cell_type": "code",
   "execution_count": 397,
   "metadata": {},
   "outputs": [],
   "source": [
    "knn_final_score = accuracy_score(test_set_y, knn_final_prediction)"
   ]
  },
  {
   "cell_type": "code",
   "execution_count": 398,
   "metadata": {},
   "outputs": [
    {
     "data": {
      "text/plain": [
       "0.5734265734265734"
      ]
     },
     "execution_count": 398,
     "metadata": {},
     "output_type": "execute_result"
    }
   ],
   "source": [
    "knn_final_score"
   ]
  },
  {
   "cell_type": "markdown",
   "metadata": {},
   "source": [
    "# Decision Tree Classifier"
   ]
  },
  {
   "cell_type": "code",
   "execution_count": 107,
   "metadata": {},
   "outputs": [],
   "source": [
    "from sklearn.tree import DecisionTreeClassifier\n",
    "decision_tree= DecisionTreeClassifier(random_state=42)\n"
   ]
  },
  {
   "cell_type": "code",
   "execution_count": 108,
   "metadata": {},
   "outputs": [
    {
     "data": {
      "text/plain": [
       "DecisionTreeClassifier(ccp_alpha=0.0, class_weight=None, criterion='gini',\n",
       "                       max_depth=None, max_features=None, max_leaf_nodes=None,\n",
       "                       min_impurity_decrease=0.0, min_impurity_split=None,\n",
       "                       min_samples_leaf=1, min_samples_split=2,\n",
       "                       min_weight_fraction_leaf=0.0, presort='deprecated',\n",
       "                       random_state=42, splitter='best')"
      ]
     },
     "execution_count": 108,
     "metadata": {},
     "output_type": "execute_result"
    }
   ],
   "source": [
    "decision_tree.fit(train_set_x,train_set_y)\n"
   ]
  },
  {
   "cell_type": "code",
   "execution_count": 109,
   "metadata": {},
   "outputs": [],
   "source": [
    "decision_tree_prediction=decsison_tree.predict(test_set_x)\n",
    "decision_tree_score = metrics.accuracy_score(test_set_y, decsison_tree_prediction)"
   ]
  },
  {
   "cell_type": "code",
   "execution_count": 110,
   "metadata": {},
   "outputs": [
    {
     "data": {
      "text/plain": [
       "0.6993006993006993"
      ]
     },
     "execution_count": 110,
     "metadata": {},
     "output_type": "execute_result"
    }
   ],
   "source": [
    "decision_tree_score"
   ]
  },
  {
   "cell_type": "markdown",
   "metadata": {},
   "source": [
    "### Hyperparameter Tuning"
   ]
  },
  {
   "cell_type": "code",
   "execution_count": 111,
   "metadata": {},
   "outputs": [],
   "source": [
    "decision_tree_params= {'max_leaf_nodes' : list(range(2,100)),\n",
    "                       'min_samples_split' : list(range(2,30,2)),\n",
    "                       'criterion':['gini', 'entropy'],\n",
    "                       'max_depth': [1,2,3,4,5,6,7,8,9,10,11,12,13,15,14, None]}"
   ]
  },
  {
   "cell_type": "code",
   "execution_count": 114,
   "metadata": {},
   "outputs": [],
   "source": [
    "random_search_decision_tree=RandomizedSearchCV(estimator=decision_tree,\n",
    "                                               param_distributions=decision_tree_params,\n",
    "                                               cv=10,\n",
    "                                               n_iter=2000,\n",
    "                                               verbose=1)"
   ]
  },
  {
   "cell_type": "code",
   "execution_count": 115,
   "metadata": {},
   "outputs": [
    {
     "name": "stdout",
     "output_type": "stream",
     "text": [
      "Fitting 10 folds for each of 2000 candidates, totalling 20000 fits\n"
     ]
    },
    {
     "name": "stderr",
     "output_type": "stream",
     "text": [
      "[Parallel(n_jobs=1)]: Using backend SequentialBackend with 1 concurrent workers.\n",
      "[Parallel(n_jobs=1)]: Done 20000 out of 20000 | elapsed:  2.3min finished\n"
     ]
    },
    {
     "data": {
      "text/plain": [
       "RandomizedSearchCV(cv=10, error_score=nan,\n",
       "                   estimator=DecisionTreeClassifier(ccp_alpha=0.0,\n",
       "                                                    class_weight=None,\n",
       "                                                    criterion='gini',\n",
       "                                                    max_depth=None,\n",
       "                                                    max_features=None,\n",
       "                                                    max_leaf_nodes=None,\n",
       "                                                    min_impurity_decrease=0.0,\n",
       "                                                    min_impurity_split=None,\n",
       "                                                    min_samples_leaf=1,\n",
       "                                                    min_samples_split=2,\n",
       "                                                    min_weight_fraction_leaf=0.0,\n",
       "                                                    presort='deprecated',\n",
       "                                                    random_state=42,\n",
       "                                                    splitter='best'),\n",
       "                   ii...\n",
       "                   param_distributions={'criterion': ['gini', 'entropy'],\n",
       "                                        'max_depth': [1, 2, 3, 4, 5, 6, 7, 8, 9,\n",
       "                                                      10, 11, 12, 13, 15, 14,\n",
       "                                                      None],\n",
       "                                        'max_leaf_nodes': [2, 3, 4, 5, 6, 7, 8,\n",
       "                                                           9, 10, 11, 12, 13,\n",
       "                                                           14, 15, 16, 17, 18,\n",
       "                                                           19, 20, 21, 22, 23,\n",
       "                                                           24, 25, 26, 27, 28,\n",
       "                                                           29, 30, 31, ...],\n",
       "                                        'min_samples_split': [2, 4, 6, 8, 10,\n",
       "                                                              12, 14, 16, 18,\n",
       "                                                              20, 22, 24, 26,\n",
       "                                                              28]},\n",
       "                   pre_dispatch='2*n_jobs', random_state=None, refit=True,\n",
       "                   return_train_score=False, scoring=None, verbose=1)"
      ]
     },
     "execution_count": 115,
     "metadata": {},
     "output_type": "execute_result"
    }
   ],
   "source": [
    "random_search_decision_tree.fit(train_set_x, train_set_y)"
   ]
  },
  {
   "cell_type": "code",
   "execution_count": 116,
   "metadata": {},
   "outputs": [
    {
     "data": {
      "text/plain": [
       "DecisionTreeClassifier(ccp_alpha=0.0, class_weight=None, criterion='gini',\n",
       "                       max_depth=5, max_features=None, max_leaf_nodes=16,\n",
       "                       min_impurity_decrease=0.0, min_impurity_split=None,\n",
       "                       min_samples_leaf=1, min_samples_split=4,\n",
       "                       min_weight_fraction_leaf=0.0, presort='deprecated',\n",
       "                       random_state=42, splitter='best')"
      ]
     },
     "execution_count": 116,
     "metadata": {},
     "output_type": "execute_result"
    }
   ],
   "source": [
    "random_search_decision_tree.best_estimator_"
   ]
  },
  {
   "cell_type": "code",
   "execution_count": 117,
   "metadata": {},
   "outputs": [
    {
     "data": {
      "text/plain": [
       "{'min_samples_split': 4,\n",
       " 'max_leaf_nodes': 16,\n",
       " 'max_depth': 5,\n",
       " 'criterion': 'gini'}"
      ]
     },
     "execution_count": 117,
     "metadata": {},
     "output_type": "execute_result"
    }
   ],
   "source": [
    "random_search_decision_tree.best_params_"
   ]
  },
  {
   "cell_type": "code",
   "execution_count": 118,
   "metadata": {},
   "outputs": [
    {
     "data": {
      "text/plain": [
       "0.7447368421052631"
      ]
     },
     "execution_count": 118,
     "metadata": {},
     "output_type": "execute_result"
    }
   ],
   "source": [
    "random_search_decision_tree.best_score_"
   ]
  },
  {
   "cell_type": "code",
   "execution_count": 119,
   "metadata": {},
   "outputs": [],
   "source": [
    "decision_tree = DecisionTreeClassifier(ccp_alpha=0.0, class_weight=None, criterion='gini',\n",
    "                       max_depth=5, max_features=None, max_leaf_nodes=16,\n",
    "                       min_impurity_decrease=0.0, min_impurity_split=None,\n",
    "                       min_samples_leaf=1, min_samples_split=4,\n",
    "                       min_weight_fraction_leaf=0.0, presort='deprecated',\n",
    "                       random_state=42, splitter='best')"
   ]
  },
  {
   "cell_type": "code",
   "execution_count": 120,
   "metadata": {},
   "outputs": [
    {
     "data": {
      "text/plain": [
       "DecisionTreeClassifier(ccp_alpha=0.0, class_weight=None, criterion='gini',\n",
       "                       max_depth=5, max_features=None, max_leaf_nodes=16,\n",
       "                       min_impurity_decrease=0.0, min_impurity_split=None,\n",
       "                       min_samples_leaf=1, min_samples_split=4,\n",
       "                       min_weight_fraction_leaf=0.0, presort='deprecated',\n",
       "                       random_state=42, splitter='best')"
      ]
     },
     "execution_count": 120,
     "metadata": {},
     "output_type": "execute_result"
    }
   ],
   "source": [
    "decision_tree.fit(train_set_x,train_set_y)"
   ]
  },
  {
   "cell_type": "code",
   "execution_count": 456,
   "metadata": {},
   "outputs": [],
   "source": [
    "decision_tree_final_prediction = decision_tree.predict(test_set_x)\n",
    "decsison_tree_proba = decision_tree.predict_proba(test_set_x)"
   ]
  },
  {
   "cell_type": "markdown",
   "metadata": {},
   "source": [
    "### K-Fold Cross Validation "
   ]
  },
  {
   "cell_type": "code",
   "execution_count": 399,
   "metadata": {},
   "outputs": [],
   "source": [
    "decision_tree_cross_val_array = cross_val_score(\n",
    "    decision_tree,\n",
    "    train_set_x,\n",
    "    train_set_y,\n",
    "    groups=None,\n",
    "    scoring=\"accuracy\",\n",
    "    cv=6,\n",
    "    n_jobs=None,\n",
    "    verbose=0,\n",
    "    fit_params=None,\n",
    "    pre_dispatch='2*n_jobs',\n",
    "    \n",
    "\n",
    ")"
   ]
  },
  {
   "cell_type": "code",
   "execution_count": 400,
   "metadata": {},
   "outputs": [
    {
     "data": {
      "text/plain": [
       "array([0.7       , 0.78947368, 0.65263158, 0.72105263, 0.71052632,\n",
       "       0.74210526])"
      ]
     },
     "execution_count": 400,
     "metadata": {},
     "output_type": "execute_result"
    }
   ],
   "source": [
    "decision_tree_cross_val_array"
   ]
  },
  {
   "cell_type": "code",
   "execution_count": 401,
   "metadata": {},
   "outputs": [
    {
     "data": {
      "text/plain": [
       "0.7192982456140351"
      ]
     },
     "execution_count": 401,
     "metadata": {},
     "output_type": "execute_result"
    }
   ],
   "source": [
    "decision_tree_cross_val_array.mean()"
   ]
  },
  {
   "cell_type": "code",
   "execution_count": 402,
   "metadata": {},
   "outputs": [],
   "source": [
    "decision_tree_final_score = accuracy_score(test_set_y, decision_tree_final_prediction)"
   ]
  },
  {
   "cell_type": "code",
   "execution_count": 403,
   "metadata": {},
   "outputs": [
    {
     "data": {
      "text/plain": [
       "0.7307692307692307"
      ]
     },
     "execution_count": 403,
     "metadata": {},
     "output_type": "execute_result"
    }
   ],
   "source": [
    "decision_tree_final_score"
   ]
  },
  {
   "cell_type": "markdown",
   "metadata": {},
   "source": [
    "# Stochastic Gradient Descent Classifier "
   ]
  },
  {
   "cell_type": "code",
   "execution_count": 131,
   "metadata": {},
   "outputs": [],
   "source": [
    "from sklearn.linear_model import SGDClassifier\n",
    "sgd = SGDClassifier(loss='log',max_iter=10000,random_state=100)"
   ]
  },
  {
   "cell_type": "code",
   "execution_count": 132,
   "metadata": {},
   "outputs": [
    {
     "data": {
      "text/plain": [
       "SGDClassifier(alpha=0.0001, average=False, class_weight=None,\n",
       "              early_stopping=False, epsilon=0.1, eta0=0.0, fit_intercept=True,\n",
       "              l1_ratio=0.15, learning_rate='optimal', loss='log',\n",
       "              max_iter=10000, n_iter_no_change=5, n_jobs=None, penalty='l2',\n",
       "              power_t=0.5, random_state=100, shuffle=True, tol=0.001,\n",
       "              validation_fraction=0.1, verbose=0, warm_start=False)"
      ]
     },
     "execution_count": 132,
     "metadata": {},
     "output_type": "execute_result"
    }
   ],
   "source": [
    "sgd.fit(train_set_x,train_set_y)"
   ]
  },
  {
   "cell_type": "code",
   "execution_count": 134,
   "metadata": {},
   "outputs": [],
   "source": [
    "sgd_prediction = sgd.predict(test_set_x)"
   ]
  },
  {
   "cell_type": "code",
   "execution_count": 135,
   "metadata": {},
   "outputs": [],
   "source": [
    "sgd_score = accuracy_score(test_set_y, sgd_prediction)"
   ]
  },
  {
   "cell_type": "code",
   "execution_count": 136,
   "metadata": {},
   "outputs": [
    {
     "data": {
      "text/plain": [
       "0.5664335664335665"
      ]
     },
     "execution_count": 136,
     "metadata": {},
     "output_type": "execute_result"
    }
   ],
   "source": [
    "sgd_score"
   ]
  },
  {
   "cell_type": "code",
   "execution_count": 157,
   "metadata": {},
   "outputs": [],
   "source": [
    "sgd_param = {'loss' :['hinge', 'log', 'modified_huber', 'squared_hinge','perceptron'] ,\n",
    "             'penalty' : ['l1', 'l2', 'elasticnet'] ,\n",
    "             'alpha' : [0.0001, 0.001, 0.01, 0.1, 1, 10, 100, 1000],\n",
    "             'max_iter' : [2000],\n",
    "             'learning_rate' : ['constant', 'optimal', 'invscaling', 'adaptive'], \n",
    "             'class_weight' : [{1:0.5, 0:0.5}, {1:0.4, 0:0.6}, {1:0.6, 0:0.4}, {1:0.7, 0:0.3}],\n",
    "             'eta0' : [1, 10, 100]} "
   ]
  },
  {
   "cell_type": "code",
   "execution_count": 158,
   "metadata": {},
   "outputs": [],
   "source": [
    "random_search_sgd = RandomizedSearchCV(SGDClassifier(), \n",
    "                                       param_distributions=sgd_param,\n",
    "                                       n_iter=1000,\n",
    "                                       cv = 10, \n",
    "                                       verbose=1,\n",
    "                                       scoring='accuracy')"
   ]
  },
  {
   "cell_type": "code",
   "execution_count": 159,
   "metadata": {},
   "outputs": [
    {
     "name": "stdout",
     "output_type": "stream",
     "text": [
      "Fitting 10 folds for each of 1000 candidates, totalling 10000 fits\n"
     ]
    },
    {
     "name": "stderr",
     "output_type": "stream",
     "text": [
      "[Parallel(n_jobs=1)]: Using backend SequentialBackend with 1 concurrent workers.\n",
      "/Users/syedrahimali/opt/anaconda3/lib/python3.7/site-packages/sklearn/linear_model/_stochastic_gradient.py:557: ConvergenceWarning: Maximum number of iteration reached before convergence. Consider increasing max_iter to improve the fit.\n",
      "  ConvergenceWarning)\n",
      "/Users/syedrahimali/opt/anaconda3/lib/python3.7/site-packages/sklearn/linear_model/_stochastic_gradient.py:557: ConvergenceWarning: Maximum number of iteration reached before convergence. Consider increasing max_iter to improve the fit.\n",
      "  ConvergenceWarning)\n",
      "/Users/syedrahimali/opt/anaconda3/lib/python3.7/site-packages/sklearn/linear_model/_stochastic_gradient.py:557: ConvergenceWarning: Maximum number of iteration reached before convergence. Consider increasing max_iter to improve the fit.\n",
      "  ConvergenceWarning)\n",
      "/Users/syedrahimali/opt/anaconda3/lib/python3.7/site-packages/sklearn/linear_model/_stochastic_gradient.py:557: ConvergenceWarning: Maximum number of iteration reached before convergence. Consider increasing max_iter to improve the fit.\n",
      "  ConvergenceWarning)\n",
      "/Users/syedrahimali/opt/anaconda3/lib/python3.7/site-packages/sklearn/linear_model/_stochastic_gradient.py:557: ConvergenceWarning: Maximum number of iteration reached before convergence. Consider increasing max_iter to improve the fit.\n",
      "  ConvergenceWarning)\n",
      "/Users/syedrahimali/opt/anaconda3/lib/python3.7/site-packages/sklearn/linear_model/_stochastic_gradient.py:557: ConvergenceWarning: Maximum number of iteration reached before convergence. Consider increasing max_iter to improve the fit.\n",
      "  ConvergenceWarning)\n",
      "/Users/syedrahimali/opt/anaconda3/lib/python3.7/site-packages/sklearn/linear_model/_stochastic_gradient.py:557: ConvergenceWarning: Maximum number of iteration reached before convergence. Consider increasing max_iter to improve the fit.\n",
      "  ConvergenceWarning)\n",
      "/Users/syedrahimali/opt/anaconda3/lib/python3.7/site-packages/sklearn/linear_model/_stochastic_gradient.py:557: ConvergenceWarning: Maximum number of iteration reached before convergence. Consider increasing max_iter to improve the fit.\n",
      "  ConvergenceWarning)\n",
      "/Users/syedrahimali/opt/anaconda3/lib/python3.7/site-packages/sklearn/linear_model/_stochastic_gradient.py:557: ConvergenceWarning: Maximum number of iteration reached before convergence. Consider increasing max_iter to improve the fit.\n",
      "  ConvergenceWarning)\n",
      "/Users/syedrahimali/opt/anaconda3/lib/python3.7/site-packages/sklearn/linear_model/_stochastic_gradient.py:557: ConvergenceWarning: Maximum number of iteration reached before convergence. Consider increasing max_iter to improve the fit.\n",
      "  ConvergenceWarning)\n",
      "/Users/syedrahimali/opt/anaconda3/lib/python3.7/site-packages/sklearn/linear_model/_stochastic_gradient.py:557: ConvergenceWarning: Maximum number of iteration reached before convergence. Consider increasing max_iter to improve the fit.\n",
      "  ConvergenceWarning)\n",
      "/Users/syedrahimali/opt/anaconda3/lib/python3.7/site-packages/sklearn/linear_model/_stochastic_gradient.py:557: ConvergenceWarning: Maximum number of iteration reached before convergence. Consider increasing max_iter to improve the fit.\n",
      "  ConvergenceWarning)\n",
      "/Users/syedrahimali/opt/anaconda3/lib/python3.7/site-packages/sklearn/linear_model/_stochastic_gradient.py:557: ConvergenceWarning: Maximum number of iteration reached before convergence. Consider increasing max_iter to improve the fit.\n",
      "  ConvergenceWarning)\n",
      "/Users/syedrahimali/opt/anaconda3/lib/python3.7/site-packages/sklearn/linear_model/_stochastic_gradient.py:557: ConvergenceWarning: Maximum number of iteration reached before convergence. Consider increasing max_iter to improve the fit.\n",
      "  ConvergenceWarning)\n",
      "/Users/syedrahimali/opt/anaconda3/lib/python3.7/site-packages/sklearn/linear_model/_stochastic_gradient.py:557: ConvergenceWarning: Maximum number of iteration reached before convergence. Consider increasing max_iter to improve the fit.\n",
      "  ConvergenceWarning)\n",
      "/Users/syedrahimali/opt/anaconda3/lib/python3.7/site-packages/sklearn/linear_model/_stochastic_gradient.py:557: ConvergenceWarning: Maximum number of iteration reached before convergence. Consider increasing max_iter to improve the fit.\n",
      "  ConvergenceWarning)\n",
      "/Users/syedrahimali/opt/anaconda3/lib/python3.7/site-packages/sklearn/linear_model/_stochastic_gradient.py:557: ConvergenceWarning: Maximum number of iteration reached before convergence. Consider increasing max_iter to improve the fit.\n",
      "  ConvergenceWarning)\n",
      "/Users/syedrahimali/opt/anaconda3/lib/python3.7/site-packages/sklearn/linear_model/_stochastic_gradient.py:557: ConvergenceWarning: Maximum number of iteration reached before convergence. Consider increasing max_iter to improve the fit.\n",
      "  ConvergenceWarning)\n",
      "/Users/syedrahimali/opt/anaconda3/lib/python3.7/site-packages/sklearn/linear_model/_stochastic_gradient.py:557: ConvergenceWarning: Maximum number of iteration reached before convergence. Consider increasing max_iter to improve the fit.\n",
      "  ConvergenceWarning)\n",
      "/Users/syedrahimali/opt/anaconda3/lib/python3.7/site-packages/sklearn/linear_model/_stochastic_gradient.py:557: ConvergenceWarning: Maximum number of iteration reached before convergence. Consider increasing max_iter to improve the fit.\n",
      "  ConvergenceWarning)\n",
      "/Users/syedrahimali/opt/anaconda3/lib/python3.7/site-packages/sklearn/linear_model/_stochastic_gradient.py:557: ConvergenceWarning: Maximum number of iteration reached before convergence. Consider increasing max_iter to improve the fit.\n",
      "  ConvergenceWarning)\n",
      "/Users/syedrahimali/opt/anaconda3/lib/python3.7/site-packages/sklearn/linear_model/_stochastic_gradient.py:557: ConvergenceWarning: Maximum number of iteration reached before convergence. Consider increasing max_iter to improve the fit.\n",
      "  ConvergenceWarning)\n",
      "/Users/syedrahimali/opt/anaconda3/lib/python3.7/site-packages/sklearn/linear_model/_stochastic_gradient.py:557: ConvergenceWarning: Maximum number of iteration reached before convergence. Consider increasing max_iter to improve the fit.\n",
      "  ConvergenceWarning)\n",
      "/Users/syedrahimali/opt/anaconda3/lib/python3.7/site-packages/sklearn/linear_model/_stochastic_gradient.py:557: ConvergenceWarning: Maximum number of iteration reached before convergence. Consider increasing max_iter to improve the fit.\n",
      "  ConvergenceWarning)\n",
      "/Users/syedrahimali/opt/anaconda3/lib/python3.7/site-packages/sklearn/linear_model/_stochastic_gradient.py:557: ConvergenceWarning: Maximum number of iteration reached before convergence. Consider increasing max_iter to improve the fit.\n",
      "  ConvergenceWarning)\n",
      "/Users/syedrahimali/opt/anaconda3/lib/python3.7/site-packages/sklearn/linear_model/_stochastic_gradient.py:557: ConvergenceWarning: Maximum number of iteration reached before convergence. Consider increasing max_iter to improve the fit.\n",
      "  ConvergenceWarning)\n",
      "/Users/syedrahimali/opt/anaconda3/lib/python3.7/site-packages/sklearn/linear_model/_stochastic_gradient.py:557: ConvergenceWarning: Maximum number of iteration reached before convergence. Consider increasing max_iter to improve the fit.\n",
      "  ConvergenceWarning)\n",
      "/Users/syedrahimali/opt/anaconda3/lib/python3.7/site-packages/sklearn/linear_model/_stochastic_gradient.py:557: ConvergenceWarning: Maximum number of iteration reached before convergence. Consider increasing max_iter to improve the fit.\n",
      "  ConvergenceWarning)\n",
      "[Parallel(n_jobs=1)]: Done 10000 out of 10000 | elapsed:  1.4min finished\n"
     ]
    },
    {
     "data": {
      "text/plain": [
       "RandomizedSearchCV(cv=10, error_score=nan,\n",
       "                   estimator=SGDClassifier(alpha=0.0001, average=False,\n",
       "                                           class_weight=None,\n",
       "                                           early_stopping=False, epsilon=0.1,\n",
       "                                           eta0=0.0, fit_intercept=True,\n",
       "                                           l1_ratio=0.15,\n",
       "                                           learning_rate='optimal',\n",
       "                                           loss='hinge', max_iter=1000,\n",
       "                                           n_iter_no_change=5, n_jobs=None,\n",
       "                                           penalty='l2', power_t=0.5,\n",
       "                                           random_state=None, shuffle=True,\n",
       "                                           tol=0.001, validation_fracti...\n",
       "                                                         {0: 0.6, 1: 0.4},\n",
       "                                                         {0: 0.4, 1: 0.6},\n",
       "                                                         {0: 0.3, 1: 0.7}],\n",
       "                                        'eta0': [1, 10, 100],\n",
       "                                        'learning_rate': ['constant', 'optimal',\n",
       "                                                          'invscaling',\n",
       "                                                          'adaptive'],\n",
       "                                        'loss': ['hinge', 'log',\n",
       "                                                 'modified_huber',\n",
       "                                                 'squared_hinge',\n",
       "                                                 'perceptron'],\n",
       "                                        'max_iter': [2000],\n",
       "                                        'penalty': ['l1', 'l2', 'elasticnet']},\n",
       "                   pre_dispatch='2*n_jobs', random_state=None, refit=True,\n",
       "                   return_train_score=False, scoring='accuracy', verbose=1)"
      ]
     },
     "execution_count": 159,
     "metadata": {},
     "output_type": "execute_result"
    }
   ],
   "source": [
    "random_search_sgd.fit(train_set_x,train_set_y)"
   ]
  },
  {
   "cell_type": "code",
   "execution_count": 160,
   "metadata": {},
   "outputs": [
    {
     "data": {
      "text/plain": [
       "SGDClassifier(alpha=0.001, average=False, class_weight={0: 0.5, 1: 0.5},\n",
       "              early_stopping=False, epsilon=0.1, eta0=10, fit_intercept=True,\n",
       "              l1_ratio=0.15, learning_rate='adaptive', loss='log',\n",
       "              max_iter=2000, n_iter_no_change=5, n_jobs=None, penalty='l1',\n",
       "              power_t=0.5, random_state=None, shuffle=True, tol=0.001,\n",
       "              validation_fraction=0.1, verbose=0, warm_start=False)"
      ]
     },
     "execution_count": 160,
     "metadata": {},
     "output_type": "execute_result"
    }
   ],
   "source": [
    "random_search_sgd.best_estimator_"
   ]
  },
  {
   "cell_type": "code",
   "execution_count": 161,
   "metadata": {},
   "outputs": [
    {
     "data": {
      "text/plain": [
       "{'penalty': 'l1',\n",
       " 'max_iter': 2000,\n",
       " 'loss': 'log',\n",
       " 'learning_rate': 'adaptive',\n",
       " 'eta0': 10,\n",
       " 'class_weight': {1: 0.5, 0: 0.5},\n",
       " 'alpha': 0.001}"
      ]
     },
     "execution_count": 161,
     "metadata": {},
     "output_type": "execute_result"
    }
   ],
   "source": [
    "random_search_sgd.best_params_"
   ]
  },
  {
   "cell_type": "code",
   "execution_count": 162,
   "metadata": {},
   "outputs": [
    {
     "data": {
      "text/plain": [
       "0.7087719298245615"
      ]
     },
     "execution_count": 162,
     "metadata": {},
     "output_type": "execute_result"
    }
   ],
   "source": [
    "random_search_sgd.best_score_"
   ]
  },
  {
   "cell_type": "code",
   "execution_count": 163,
   "metadata": {},
   "outputs": [],
   "source": [
    "sgd = SGDClassifier(alpha=0.001, average=False, class_weight={0: 0.5, 1: 0.5},\n",
    "              early_stopping=False, epsilon=0.1, eta0=10, fit_intercept=True,\n",
    "              l1_ratio=0.15, learning_rate='adaptive', loss='log',\n",
    "              max_iter=2000, n_iter_no_change=5, n_jobs=None, penalty='l1',\n",
    "              power_t=0.5, random_state=None, shuffle=True, tol=0.001,\n",
    "              validation_fraction=0.1, verbose=0, warm_start=False)"
   ]
  },
  {
   "cell_type": "code",
   "execution_count": 164,
   "metadata": {},
   "outputs": [
    {
     "data": {
      "text/plain": [
       "SGDClassifier(alpha=0.001, average=False, class_weight={0: 0.5, 1: 0.5},\n",
       "              early_stopping=False, epsilon=0.1, eta0=10, fit_intercept=True,\n",
       "              l1_ratio=0.15, learning_rate='adaptive', loss='log',\n",
       "              max_iter=2000, n_iter_no_change=5, n_jobs=None, penalty='l1',\n",
       "              power_t=0.5, random_state=None, shuffle=True, tol=0.001,\n",
       "              validation_fraction=0.1, verbose=0, warm_start=False)"
      ]
     },
     "execution_count": 164,
     "metadata": {},
     "output_type": "execute_result"
    }
   ],
   "source": [
    "sgd.fit(train_set_x, train_set_y)"
   ]
  },
  {
   "cell_type": "code",
   "execution_count": 457,
   "metadata": {},
   "outputs": [],
   "source": [
    "sgd_final_prediction = sgd.predict(test_set_x)\n",
    "sgd_probab = sgd.predict_proba(test_set_x)"
   ]
  },
  {
   "cell_type": "code",
   "execution_count": 458,
   "metadata": {},
   "outputs": [],
   "source": [
    "sgd_final_score = accuracy_score(test_set_y, sgd_final_prediction)"
   ]
  },
  {
   "cell_type": "markdown",
   "metadata": {},
   "source": [
    "### K-Fold Cross Validation "
   ]
  },
  {
   "cell_type": "code",
   "execution_count": 404,
   "metadata": {},
   "outputs": [],
   "source": [
    "sgd_cross_val_array = cross_val_score(\n",
    "    sgd,\n",
    "    train_set_x,\n",
    "    train_set_y,\n",
    "    groups=None,\n",
    "    scoring=\"accuracy\",\n",
    "    cv=6,\n",
    "    n_jobs=None,\n",
    "    verbose=0,\n",
    "    fit_params=None,\n",
    "    pre_dispatch='2*n_jobs',\n",
    "    \n",
    "\n",
    ")"
   ]
  },
  {
   "cell_type": "code",
   "execution_count": 405,
   "metadata": {},
   "outputs": [
    {
     "data": {
      "text/plain": [
       "array([0.65263158, 0.72631579, 0.63684211, 0.62631579, 0.68947368,\n",
       "       0.71578947])"
      ]
     },
     "execution_count": 405,
     "metadata": {},
     "output_type": "execute_result"
    }
   ],
   "source": [
    "sgd_cross_val_array"
   ]
  },
  {
   "cell_type": "code",
   "execution_count": 406,
   "metadata": {},
   "outputs": [
    {
     "data": {
      "text/plain": [
       "0.6745614035087719"
      ]
     },
     "execution_count": 406,
     "metadata": {},
     "output_type": "execute_result"
    }
   ],
   "source": [
    "sgd_cross_val_array.mean()"
   ]
  },
  {
   "cell_type": "code",
   "execution_count": 407,
   "metadata": {},
   "outputs": [
    {
     "data": {
      "text/plain": [
       "0.6853146853146853"
      ]
     },
     "execution_count": 407,
     "metadata": {},
     "output_type": "execute_result"
    }
   ],
   "source": [
    "sgd_final_score"
   ]
  },
  {
   "cell_type": "markdown",
   "metadata": {},
   "source": [
    "# Support Vector Classifier"
   ]
  },
  {
   "cell_type": "code",
   "execution_count": 174,
   "metadata": {},
   "outputs": [],
   "source": [
    "from sklearn.svm import SVC"
   ]
  },
  {
   "cell_type": "code",
   "execution_count": 175,
   "metadata": {},
   "outputs": [],
   "source": [
    "svc = SVC()"
   ]
  },
  {
   "cell_type": "code",
   "execution_count": 176,
   "metadata": {},
   "outputs": [
    {
     "data": {
      "text/plain": [
       "SVC(C=1.0, break_ties=False, cache_size=200, class_weight=None, coef0=0.0,\n",
       "    decision_function_shape='ovr', degree=3, gamma='scale', kernel='rbf',\n",
       "    max_iter=-1, probability=False, random_state=None, shrinking=True,\n",
       "    tol=0.001, verbose=False)"
      ]
     },
     "execution_count": 176,
     "metadata": {},
     "output_type": "execute_result"
    }
   ],
   "source": [
    "svc.fit(train_set_x, train_set_y)"
   ]
  },
  {
   "cell_type": "code",
   "execution_count": 177,
   "metadata": {},
   "outputs": [],
   "source": [
    "svc_prediction = svc.predict(test_set_x)"
   ]
  },
  {
   "cell_type": "code",
   "execution_count": 178,
   "metadata": {},
   "outputs": [],
   "source": [
    "svc_score = accuracy_score(test_set_y, svc_prediction)"
   ]
  },
  {
   "cell_type": "code",
   "execution_count": 180,
   "metadata": {},
   "outputs": [
    {
     "data": {
      "text/plain": [
       "0.6328671328671329"
      ]
     },
     "execution_count": 180,
     "metadata": {},
     "output_type": "execute_result"
    }
   ],
   "source": [
    "svc_score"
   ]
  },
  {
   "cell_type": "code",
   "execution_count": 185,
   "metadata": {},
   "outputs": [],
   "source": [
    "svc_parameters = [{'C':[1, 10, 100, 1000], 'kernel':['linear']}, \n",
    "              {'C':[1, 10, 100, 1000], 'kernel':['rbf'], 'gamma' : [0.1,0.2, 0.3, 0.4, 0.5, 0.6, 0.7, 0.8, 0.9]}]\n",
    "\n"
   ]
  },
  {
   "cell_type": "code",
   "execution_count": 188,
   "metadata": {},
   "outputs": [
    {
     "data": {
      "text/plain": [
       "RandomizedSearchCV(cv=10, error_score=nan,\n",
       "                   estimator=SVC(C=1.0, break_ties=False, cache_size=200,\n",
       "                                 class_weight=None, coef0=0.0,\n",
       "                                 decision_function_shape='ovr', degree=3,\n",
       "                                 gamma='scale', kernel='rbf', max_iter=-1,\n",
       "                                 probability=False, random_state=None,\n",
       "                                 shrinking=True, tol=0.001, verbose=False),\n",
       "                   iid='deprecated', n_iter=40, n_jobs=-1,\n",
       "                   param_distributions=[{'C': [1, 10, 100, 1000],\n",
       "                                         'kernel': ['linear']},\n",
       "                                        {'C': [1, 10, 100, 1000],\n",
       "                                         'gamma': [0.1, 0.2, 0.3, 0.4, 0.5, 0.6,\n",
       "                                                   0.7, 0.8, 0.9],\n",
       "                                         'kernel': ['rbf']}],\n",
       "                   pre_dispatch='2*n_jobs', random_state=None, refit=True,\n",
       "                   return_train_score=False, scoring='accuracy', verbose=0)"
      ]
     },
     "execution_count": 188,
     "metadata": {},
     "output_type": "execute_result"
    }
   ],
   "source": [
    "random_search_svc = RandomizedSearchCV(estimator= svc,\n",
    "                                param_distributions=svc_parameters,\n",
    "                               scoring= 'accuracy',\n",
    "                               cv = 10,n_iter=40,\n",
    "                               n_jobs= -1)\n",
    "random_search_svc.fit(train_set_x,train_set_y)"
   ]
  },
  {
   "cell_type": "code",
   "execution_count": 189,
   "metadata": {},
   "outputs": [
    {
     "data": {
      "text/plain": [
       "SVC(C=1, break_ties=False, cache_size=200, class_weight=None, coef0=0.0,\n",
       "    decision_function_shape='ovr', degree=3, gamma='scale', kernel='linear',\n",
       "    max_iter=-1, probability=False, random_state=None, shrinking=True,\n",
       "    tol=0.001, verbose=False)"
      ]
     },
     "execution_count": 189,
     "metadata": {},
     "output_type": "execute_result"
    }
   ],
   "source": [
    "random_search_svc.best_estimator_"
   ]
  },
  {
   "cell_type": "code",
   "execution_count": 190,
   "metadata": {},
   "outputs": [
    {
     "data": {
      "text/plain": [
       "0.7315789473684211"
      ]
     },
     "execution_count": 190,
     "metadata": {},
     "output_type": "execute_result"
    }
   ],
   "source": [
    "random_search_svc.best_score_"
   ]
  },
  {
   "cell_type": "code",
   "execution_count": 462,
   "metadata": {},
   "outputs": [],
   "source": [
    "svc = SVC(C=1, break_ties=False, cache_size=200, class_weight=None, coef0=0.0,\n",
    "    decision_function_shape='ovr', degree=3, gamma='scale', kernel='linear',\n",
    "    max_iter=-1, probability=True, random_state=None, shrinking=True,\n",
    "    tol=0.001, verbose=False)"
   ]
  },
  {
   "cell_type": "code",
   "execution_count": 463,
   "metadata": {},
   "outputs": [
    {
     "data": {
      "text/plain": [
       "SVC(C=1, break_ties=False, cache_size=200, class_weight=None, coef0=0.0,\n",
       "    decision_function_shape='ovr', degree=3, gamma='scale', kernel='linear',\n",
       "    max_iter=-1, probability=True, random_state=None, shrinking=True, tol=0.001,\n",
       "    verbose=False)"
      ]
     },
     "execution_count": 463,
     "metadata": {},
     "output_type": "execute_result"
    }
   ],
   "source": [
    "svc.fit(train_set_x, train_set_y)"
   ]
  },
  {
   "cell_type": "code",
   "execution_count": 464,
   "metadata": {},
   "outputs": [],
   "source": [
    "svc_final_prediction = svc.predict(test_set_x)\n",
    "svc_probab = svc.predict_proba(test_set_x)"
   ]
  },
  {
   "cell_type": "code",
   "execution_count": 465,
   "metadata": {},
   "outputs": [],
   "source": [
    "svc_final_score = accuracy_score(test_set_y, svc_final_prediction)"
   ]
  },
  {
   "cell_type": "markdown",
   "metadata": {},
   "source": [
    "### K-Fold Cross Validation"
   ]
  },
  {
   "cell_type": "code",
   "execution_count": 408,
   "metadata": {},
   "outputs": [],
   "source": [
    "svc_cross_val_array = cross_val_score(\n",
    "    svc,\n",
    "    train_set_x,\n",
    "    train_set_y,\n",
    "    groups=None,\n",
    "    scoring=\"accuracy\",\n",
    "    cv=6,\n",
    "    n_jobs=None,\n",
    "    verbose=0,\n",
    "    fit_params=None,\n",
    "    pre_dispatch='2*n_jobs',\n",
    "    \n",
    "\n",
    ")"
   ]
  },
  {
   "cell_type": "code",
   "execution_count": 409,
   "metadata": {},
   "outputs": [
    {
     "data": {
      "text/plain": [
       "array([0.71052632, 0.77368421, 0.68421053, 0.72105263, 0.75789474,\n",
       "       0.77894737])"
      ]
     },
     "execution_count": 409,
     "metadata": {},
     "output_type": "execute_result"
    }
   ],
   "source": [
    "svc_cross_val_array"
   ]
  },
  {
   "cell_type": "code",
   "execution_count": 410,
   "metadata": {},
   "outputs": [
    {
     "data": {
      "text/plain": [
       "0.7377192982456141"
      ]
     },
     "execution_count": 410,
     "metadata": {},
     "output_type": "execute_result"
    }
   ],
   "source": [
    "svc_cross_val_array.mean()"
   ]
  },
  {
   "cell_type": "code",
   "execution_count": 411,
   "metadata": {},
   "outputs": [
    {
     "data": {
      "text/plain": [
       "0.7132867132867133"
      ]
     },
     "execution_count": 411,
     "metadata": {},
     "output_type": "execute_result"
    }
   ],
   "source": [
    "svc_final_score"
   ]
  },
  {
   "cell_type": "markdown",
   "metadata": {},
   "source": [
    "# XG-Boost"
   ]
  },
  {
   "cell_type": "code",
   "execution_count": 202,
   "metadata": {},
   "outputs": [],
   "source": [
    "from xgboost import XGBClassifier"
   ]
  },
  {
   "cell_type": "code",
   "execution_count": 204,
   "metadata": {},
   "outputs": [],
   "source": [
    "xgb = XGBClassifier()"
   ]
  },
  {
   "cell_type": "code",
   "execution_count": 205,
   "metadata": {},
   "outputs": [
    {
     "data": {
      "text/plain": [
       "XGBClassifier(base_score=0.5, booster='gbtree', colsample_bylevel=1,\n",
       "              colsample_bynode=1, colsample_bytree=1, gamma=0,\n",
       "              learning_rate=0.1, max_delta_step=0, max_depth=3,\n",
       "              min_child_weight=1, missing=None, n_estimators=100, n_jobs=1,\n",
       "              nthread=None, objective='binary:logistic', random_state=0,\n",
       "              reg_alpha=0, reg_lambda=1, scale_pos_weight=1, seed=None,\n",
       "              silent=None, subsample=1, verbosity=1)"
      ]
     },
     "execution_count": 205,
     "metadata": {},
     "output_type": "execute_result"
    }
   ],
   "source": [
    "xgb.fit(train_set_x,train_set_y)"
   ]
  },
  {
   "cell_type": "code",
   "execution_count": 207,
   "metadata": {},
   "outputs": [],
   "source": [
    "xgb_prediction = xgb.predict(test_set_x)"
   ]
  },
  {
   "cell_type": "code",
   "execution_count": 210,
   "metadata": {},
   "outputs": [],
   "source": [
    "xgb_score = accuracy_score(test_set_y, xgb_prediction)"
   ]
  },
  {
   "cell_type": "code",
   "execution_count": 211,
   "metadata": {},
   "outputs": [
    {
     "data": {
      "text/plain": [
       "0.7202797202797203"
      ]
     },
     "execution_count": 211,
     "metadata": {},
     "output_type": "execute_result"
    }
   ],
   "source": [
    "xgb_score"
   ]
  },
  {
   "cell_type": "markdown",
   "metadata": {},
   "source": [
    "### Hyperparameter Tuning "
   ]
  },
  {
   "cell_type": "code",
   "execution_count": 219,
   "metadata": {},
   "outputs": [],
   "source": [
    "xgb_parameters = {'max_depth' : list(range(10,30,5)),\n",
    "              'n_estimators' : list(range(100,500,99)),\n",
    "              'min_child_weight': [1,3,5,7,9],\n",
    "              'learning_rate' : [0.05, 0.1, 0.15, 0.2, 0.25, 0.3],\n",
    "              'gamma' : [0.0,0.1,0.2,0.3,0.4],\n",
    "              'colsample_bytree' : [0.3,0.4,0.5,0.7]\n",
    "}"
   ]
  },
  {
   "cell_type": "code",
   "execution_count": 222,
   "metadata": {},
   "outputs": [],
   "source": [
    "random_search_xgb = RandomizedSearchCV(XGBClassifier(),\n",
    "                            param_distributions=xgb_parameters,\n",
    "                            cv = 10, \n",
    "                            scoring='accuracy',\n",
    "                           n_iter=20)"
   ]
  },
  {
   "cell_type": "code",
   "execution_count": 223,
   "metadata": {},
   "outputs": [
    {
     "data": {
      "text/plain": [
       "RandomizedSearchCV(cv=10, error_score=nan,\n",
       "                   estimator=XGBClassifier(base_score=0.5, booster='gbtree',\n",
       "                                           colsample_bylevel=1,\n",
       "                                           colsample_bynode=1,\n",
       "                                           colsample_bytree=1, gamma=0,\n",
       "                                           learning_rate=0.1, max_delta_step=0,\n",
       "                                           max_depth=3, min_child_weight=1,\n",
       "                                           missing=None, n_estimators=100,\n",
       "                                           n_jobs=1, nthread=None,\n",
       "                                           objective='binary:logistic',\n",
       "                                           random_state=0, reg_alpha=0,\n",
       "                                           reg_lambda=1, s...\n",
       "                   iid='deprecated', n_iter=20, n_jobs=None,\n",
       "                   param_distributions={'colsample_bytree': [0.3, 0.4, 0.5,\n",
       "                                                             0.7],\n",
       "                                        'gamma': [0.0, 0.1, 0.2, 0.3, 0.4],\n",
       "                                        'learning_rate': [0.05, 0.1, 0.15, 0.2,\n",
       "                                                          0.25, 0.3],\n",
       "                                        'max_depth': [10, 15, 20, 25],\n",
       "                                        'min_child_weight': [1, 3, 5, 7, 9],\n",
       "                                        'n_estimators': [100, 199, 298, 397,\n",
       "                                                         496]},\n",
       "                   pre_dispatch='2*n_jobs', random_state=None, refit=True,\n",
       "                   return_train_score=False, scoring='accuracy', verbose=0)"
      ]
     },
     "execution_count": 223,
     "metadata": {},
     "output_type": "execute_result"
    }
   ],
   "source": [
    "random_search_xgb.fit(train_set_x,train_set_y)"
   ]
  },
  {
   "cell_type": "code",
   "execution_count": 224,
   "metadata": {},
   "outputs": [
    {
     "data": {
      "text/plain": [
       "XGBClassifier(base_score=0.5, booster='gbtree', colsample_bylevel=1,\n",
       "              colsample_bynode=1, colsample_bytree=0.4, gamma=0.4,\n",
       "              learning_rate=0.1, max_delta_step=0, max_depth=25,\n",
       "              min_child_weight=1, missing=None, n_estimators=496, n_jobs=1,\n",
       "              nthread=None, objective='binary:logistic', random_state=0,\n",
       "              reg_alpha=0, reg_lambda=1, scale_pos_weight=1, seed=None,\n",
       "              silent=None, subsample=1, verbosity=1)"
      ]
     },
     "execution_count": 224,
     "metadata": {},
     "output_type": "execute_result"
    }
   ],
   "source": [
    "random_search_xgb.best_estimator_"
   ]
  },
  {
   "cell_type": "code",
   "execution_count": 225,
   "metadata": {},
   "outputs": [
    {
     "data": {
      "text/plain": [
       "0.737719298245614"
      ]
     },
     "execution_count": 225,
     "metadata": {},
     "output_type": "execute_result"
    }
   ],
   "source": [
    "random_search_xgb.best_score_"
   ]
  },
  {
   "cell_type": "code",
   "execution_count": 226,
   "metadata": {},
   "outputs": [],
   "source": [
    "xgb = XGBClassifier(base_score=0.5, booster='gbtree', colsample_bylevel=1,\n",
    "              colsample_bynode=1, colsample_bytree=0.4, gamma=0.4,\n",
    "              learning_rate=0.1, max_delta_step=0, max_depth=25,\n",
    "              min_child_weight=1, missing=None, n_estimators=496, n_jobs=1,\n",
    "              nthread=None, objective='binary:logistic', random_state=0,\n",
    "              reg_alpha=0, reg_lambda=1, scale_pos_weight=1, seed=None,\n",
    "              silent=None, subsample=1, verbosity=1)"
   ]
  },
  {
   "cell_type": "code",
   "execution_count": 228,
   "metadata": {},
   "outputs": [
    {
     "data": {
      "text/plain": [
       "XGBClassifier(base_score=0.5, booster='gbtree', colsample_bylevel=1,\n",
       "              colsample_bynode=1, colsample_bytree=0.4, gamma=0.4,\n",
       "              learning_rate=0.1, max_delta_step=0, max_depth=25,\n",
       "              min_child_weight=1, missing=None, n_estimators=496, n_jobs=1,\n",
       "              nthread=None, objective='binary:logistic', random_state=0,\n",
       "              reg_alpha=0, reg_lambda=1, scale_pos_weight=1, seed=None,\n",
       "              silent=None, subsample=1, verbosity=1)"
      ]
     },
     "execution_count": 228,
     "metadata": {},
     "output_type": "execute_result"
    }
   ],
   "source": [
    "xgb.fit(train_set_x, train_set_y)"
   ]
  },
  {
   "cell_type": "code",
   "execution_count": 466,
   "metadata": {},
   "outputs": [],
   "source": [
    "xgb_final_prediction = xgb.predict(test_set_x)\n",
    "xgb_probab = xgb.predict_proba(test_set_x)"
   ]
  },
  {
   "cell_type": "code",
   "execution_count": 467,
   "metadata": {},
   "outputs": [],
   "source": [
    "xgb_final_score = accuracy_score(test_set_y, xgb_final_prediction)"
   ]
  },
  {
   "cell_type": "markdown",
   "metadata": {},
   "source": [
    "### K-Fold Cross Validation "
   ]
  },
  {
   "cell_type": "code",
   "execution_count": 412,
   "metadata": {},
   "outputs": [],
   "source": [
    "xgb_cross_val_array = cross_val_score(\n",
    "    xgb,\n",
    "    train_set_x,\n",
    "    train_set_y,\n",
    "    groups=None,\n",
    "    scoring=\"accuracy\",\n",
    "    cv=6,\n",
    "    n_jobs=None,\n",
    "    verbose=0,\n",
    "    fit_params=None,\n",
    "    pre_dispatch='2*n_jobs',\n",
    ")"
   ]
  },
  {
   "cell_type": "code",
   "execution_count": 413,
   "metadata": {},
   "outputs": [
    {
     "data": {
      "text/plain": [
       "array([0.7       , 0.73157895, 0.68421053, 0.73157895, 0.73684211,\n",
       "       0.78421053])"
      ]
     },
     "execution_count": 413,
     "metadata": {},
     "output_type": "execute_result"
    }
   ],
   "source": [
    "xgb_cross_val_array"
   ]
  },
  {
   "cell_type": "code",
   "execution_count": 414,
   "metadata": {},
   "outputs": [
    {
     "data": {
      "text/plain": [
       "0.7280701754385964"
      ]
     },
     "execution_count": 414,
     "metadata": {},
     "output_type": "execute_result"
    }
   ],
   "source": [
    "xgb_cross_val_array.mean()"
   ]
  },
  {
   "cell_type": "code",
   "execution_count": 415,
   "metadata": {},
   "outputs": [
    {
     "data": {
      "text/plain": [
       "0.7272727272727273"
      ]
     },
     "execution_count": 415,
     "metadata": {},
     "output_type": "execute_result"
    }
   ],
   "source": [
    "xgb_final_score"
   ]
  },
  {
   "cell_type": "markdown",
   "metadata": {},
   "source": [
    "# Random Forest Classifier"
   ]
  },
  {
   "cell_type": "code",
   "execution_count": 760,
   "metadata": {},
   "outputs": [],
   "source": [
    "from sklearn.ensemble import RandomForestClassifier\n",
    "random_forest = RandomForestClassifier(random_state=42)"
   ]
  },
  {
   "cell_type": "code",
   "execution_count": 761,
   "metadata": {},
   "outputs": [
    {
     "data": {
      "text/plain": [
       "RandomForestClassifier(bootstrap=True, ccp_alpha=0.0, class_weight=None,\n",
       "                       criterion='gini', max_depth=None, max_features='auto',\n",
       "                       max_leaf_nodes=None, max_samples=None,\n",
       "                       min_impurity_decrease=0.0, min_impurity_split=None,\n",
       "                       min_samples_leaf=1, min_samples_split=2,\n",
       "                       min_weight_fraction_leaf=0.0, n_estimators=100,\n",
       "                       n_jobs=None, oob_score=False, random_state=42, verbose=0,\n",
       "                       warm_start=False)"
      ]
     },
     "execution_count": 761,
     "metadata": {},
     "output_type": "execute_result"
    }
   ],
   "source": [
    "random_forest.fit(train_set_x, train_set_y)"
   ]
  },
  {
   "cell_type": "code",
   "execution_count": 762,
   "metadata": {},
   "outputs": [],
   "source": [
    "random_forest_prediction = random_forest.predict(test_set_x)"
   ]
  },
  {
   "cell_type": "code",
   "execution_count": 763,
   "metadata": {},
   "outputs": [],
   "source": [
    "random_forest_score = accuracy_score(test_set_y, random_forest_prediction)"
   ]
  },
  {
   "cell_type": "code",
   "execution_count": 764,
   "metadata": {},
   "outputs": [
    {
     "data": {
      "text/plain": [
       "0.7377622377622378"
      ]
     },
     "execution_count": 764,
     "metadata": {},
     "output_type": "execute_result"
    }
   ],
   "source": [
    "random_forest_score"
   ]
  },
  {
   "cell_type": "markdown",
   "metadata": {},
   "source": [
    "### Hyperparameter Tuning"
   ]
  },
  {
   "cell_type": "code",
   "execution_count": 765,
   "metadata": {},
   "outputs": [],
   "source": [
    "random_forest_parameters =  {'n_estimators' : list(range(2,200,25)),\n",
    "                            'criterion' : ['gini','entropy'],\n",
    "                            'max_depth': [1,2,3,5,13,15, None],\n",
    "                            'min_samples_split' : list(range(2,10,4))}"
   ]
  },
  {
   "cell_type": "code",
   "execution_count": 766,
   "metadata": {},
   "outputs": [],
   "source": [
    "random_search_random_forest = RandomizedSearchCV(estimator=random_forest,\n",
    "                                                 param_distributions=random_forest_parameters,\n",
    "                                                 cv=10, scoring='accuracy',n_iter = 100)"
   ]
  },
  {
   "cell_type": "code",
   "execution_count": 767,
   "metadata": {},
   "outputs": [
    {
     "data": {
      "text/plain": [
       "RandomizedSearchCV(cv=10, error_score=nan,\n",
       "                   estimator=RandomForestClassifier(bootstrap=True,\n",
       "                                                    ccp_alpha=0.0,\n",
       "                                                    class_weight=None,\n",
       "                                                    criterion='gini',\n",
       "                                                    max_depth=None,\n",
       "                                                    max_features='auto',\n",
       "                                                    max_leaf_nodes=None,\n",
       "                                                    max_samples=None,\n",
       "                                                    min_impurity_decrease=0.0,\n",
       "                                                    min_impurity_split=None,\n",
       "                                                    min_samples_leaf=1,\n",
       "                                                    min_samples_split=2,\n",
       "                                                    min_weight_fraction_leaf=0.0,\n",
       "                                                    n_estimators=100,\n",
       "                                                    n_job...\n",
       "                                                    oob_score=False,\n",
       "                                                    random_state=42, verbose=0,\n",
       "                                                    warm_start=False),\n",
       "                   iid='deprecated', n_iter=100, n_jobs=None,\n",
       "                   param_distributions={'criterion': ['gini', 'entropy'],\n",
       "                                        'max_depth': [1, 2, 3, 5, 13, 15, None],\n",
       "                                        'min_samples_split': [2, 6],\n",
       "                                        'n_estimators': [2, 27, 52, 77, 102,\n",
       "                                                         127, 152, 177]},\n",
       "                   pre_dispatch='2*n_jobs', random_state=None, refit=True,\n",
       "                   return_train_score=False, scoring='accuracy', verbose=0)"
      ]
     },
     "execution_count": 767,
     "metadata": {},
     "output_type": "execute_result"
    }
   ],
   "source": [
    "random_search_random_forest.fit(train_set_x,train_set_y)"
   ]
  },
  {
   "cell_type": "code",
   "execution_count": 768,
   "metadata": {},
   "outputs": [
    {
     "data": {
      "text/plain": [
       "RandomForestClassifier(bootstrap=True, ccp_alpha=0.0, class_weight=None,\n",
       "                       criterion='entropy', max_depth=15, max_features='auto',\n",
       "                       max_leaf_nodes=None, max_samples=None,\n",
       "                       min_impurity_decrease=0.0, min_impurity_split=None,\n",
       "                       min_samples_leaf=1, min_samples_split=2,\n",
       "                       min_weight_fraction_leaf=0.0, n_estimators=102,\n",
       "                       n_jobs=None, oob_score=False, random_state=42, verbose=0,\n",
       "                       warm_start=False)"
      ]
     },
     "execution_count": 768,
     "metadata": {},
     "output_type": "execute_result"
    }
   ],
   "source": [
    "random_search_random_forest.best_estimator_"
   ]
  },
  {
   "cell_type": "code",
   "execution_count": 769,
   "metadata": {},
   "outputs": [
    {
     "data": {
      "text/plain": [
       "0.7535087719298246"
      ]
     },
     "execution_count": 769,
     "metadata": {},
     "output_type": "execute_result"
    }
   ],
   "source": [
    "random_search_random_forest.best_score_"
   ]
  },
  {
   "cell_type": "code",
   "execution_count": 770,
   "metadata": {},
   "outputs": [],
   "source": [
    "random_forest = RandomForestClassifier(bootstrap=True, ccp_alpha=0.0, class_weight=None,\n",
    "                       criterion='entropy', max_depth=15, max_features='auto',\n",
    "                       max_leaf_nodes=None, max_samples=None,\n",
    "                       min_impurity_decrease=0.0, min_impurity_split=None,\n",
    "                       min_samples_leaf=1, min_samples_split=6,\n",
    "                       min_weight_fraction_leaf=0.0, n_estimators=127,\n",
    "                       n_jobs=None, oob_score=False, random_state=429, verbose=0,\n",
    "                       warm_start=False)"
   ]
  },
  {
   "cell_type": "code",
   "execution_count": 771,
   "metadata": {},
   "outputs": [
    {
     "data": {
      "text/plain": [
       "RandomForestClassifier(bootstrap=True, ccp_alpha=0.0, class_weight=None,\n",
       "                       criterion='entropy', max_depth=15, max_features='auto',\n",
       "                       max_leaf_nodes=None, max_samples=None,\n",
       "                       min_impurity_decrease=0.0, min_impurity_split=None,\n",
       "                       min_samples_leaf=1, min_samples_split=6,\n",
       "                       min_weight_fraction_leaf=0.0, n_estimators=127,\n",
       "                       n_jobs=None, oob_score=False, random_state=429,\n",
       "                       verbose=0, warm_start=False)"
      ]
     },
     "execution_count": 771,
     "metadata": {},
     "output_type": "execute_result"
    }
   ],
   "source": [
    "random_forest.fit(train_set_x,train_set_y)"
   ]
  },
  {
   "cell_type": "code",
   "execution_count": 468,
   "metadata": {},
   "outputs": [],
   "source": [
    "random_forest_final_prediction = random_forest.predict(test_set_x)\n",
    "random_forest_probab = random_forest.predict_proba(test_set_x)"
   ]
  },
  {
   "cell_type": "code",
   "execution_count": 266,
   "metadata": {},
   "outputs": [],
   "source": [
    "random_forest_final_score = accuracy_score(test_set_y, random_forest_final_prediction)"
   ]
  },
  {
   "cell_type": "code",
   "execution_count": 418,
   "metadata": {},
   "outputs": [],
   "source": [
    "random_forest_cross_val_array = cross_val_score(\n",
    "    random_forest,\n",
    "    train_set_x,\n",
    "    train_set_y,\n",
    "    groups=None,\n",
    "    scoring=\"accuracy\",\n",
    "    cv=6,\n",
    "    n_jobs=None,\n",
    "    verbose=0,\n",
    "    fit_params=None,\n",
    "    pre_dispatch='2*n_jobs',\n",
    ")"
   ]
  },
  {
   "cell_type": "code",
   "execution_count": 419,
   "metadata": {},
   "outputs": [
    {
     "data": {
      "text/plain": [
       "array([0.74736842, 0.78947368, 0.71052632, 0.76315789, 0.76315789,\n",
       "       0.79473684])"
      ]
     },
     "execution_count": 419,
     "metadata": {},
     "output_type": "execute_result"
    }
   ],
   "source": [
    "random_forest_cross_val_array"
   ]
  },
  {
   "cell_type": "code",
   "execution_count": 420,
   "metadata": {},
   "outputs": [
    {
     "data": {
      "text/plain": [
       "0.7614035087719299"
      ]
     },
     "execution_count": 420,
     "metadata": {},
     "output_type": "execute_result"
    }
   ],
   "source": [
    "random_forest_cross_val_array.mean()"
   ]
  },
  {
   "cell_type": "code",
   "execution_count": 421,
   "metadata": {},
   "outputs": [
    {
     "data": {
      "text/plain": [
       "0.7447552447552448"
      ]
     },
     "execution_count": 421,
     "metadata": {},
     "output_type": "execute_result"
    }
   ],
   "source": [
    "random_forest_final_score"
   ]
  },
  {
   "cell_type": "code",
   "execution_count": 422,
   "metadata": {},
   "outputs": [
    {
     "data": {
      "text/plain": [
       "0.7272727272727273"
      ]
     },
     "execution_count": 422,
     "metadata": {},
     "output_type": "execute_result"
    }
   ],
   "source": [
    "xgb_final_score"
   ]
  },
  {
   "cell_type": "code",
   "execution_count": 423,
   "metadata": {},
   "outputs": [
    {
     "data": {
      "text/plain": [
       "0.7307692307692307"
      ]
     },
     "execution_count": 423,
     "metadata": {},
     "output_type": "execute_result"
    }
   ],
   "source": [
    "decision_tree_final_score"
   ]
  },
  {
   "cell_type": "code",
   "execution_count": 260,
   "metadata": {},
   "outputs": [
    {
     "data": {
      "text/plain": [
       "0.7132867132867133"
      ]
     },
     "execution_count": 260,
     "metadata": {},
     "output_type": "execute_result"
    }
   ],
   "source": [
    "svc_final_score"
   ]
  },
  {
   "cell_type": "code",
   "execution_count": 261,
   "metadata": {},
   "outputs": [
    {
     "data": {
      "text/plain": [
       "0.5734265734265734"
      ]
     },
     "execution_count": 261,
     "metadata": {},
     "output_type": "execute_result"
    }
   ],
   "source": [
    "knn_final_score"
   ]
  },
  {
   "cell_type": "code",
   "execution_count": 262,
   "metadata": {},
   "outputs": [
    {
     "data": {
      "text/plain": [
       "0.6853146853146853"
      ]
     },
     "execution_count": 262,
     "metadata": {},
     "output_type": "execute_result"
    }
   ],
   "source": [
    "sgd_final_score"
   ]
  },
  {
   "cell_type": "code",
   "execution_count": 272,
   "metadata": {},
   "outputs": [
    {
     "data": {
      "text/plain": [
       "array([[0.46706919, 0.53293081],\n",
       "       [0.66709005, 0.33290995],\n",
       "       [0.58467149, 0.41532851],\n",
       "       [0.96422991, 0.03577009],\n",
       "       [0.69666534, 0.30333466],\n",
       "       [0.56372282, 0.43627718],\n",
       "       [0.30864514, 0.69135486],\n",
       "       [0.53037265, 0.46962735],\n",
       "       [0.59445395, 0.40554605],\n",
       "       [0.63286777, 0.36713223],\n",
       "       [0.17334053, 0.82665947],\n",
       "       [0.9828005 , 0.0171995 ],\n",
       "       [0.06729497, 0.93270503],\n",
       "       [0.44284432, 0.55715568],\n",
       "       [0.51434767, 0.48565233],\n",
       "       [0.31636569, 0.68363431],\n",
       "       [0.21919956, 0.78080044],\n",
       "       [0.60004025, 0.39995975],\n",
       "       [0.38772514, 0.61227486],\n",
       "       [0.54413446, 0.45586554],\n",
       "       [0.90187234, 0.09812766],\n",
       "       [0.85374328, 0.14625672],\n",
       "       [0.47164618, 0.52835382],\n",
       "       [0.76029318, 0.23970682],\n",
       "       [0.71602681, 0.28397319],\n",
       "       [0.86220743, 0.13779257],\n",
       "       [0.92473968, 0.07526032],\n",
       "       [0.31385928, 0.68614072],\n",
       "       [0.97237823, 0.02762177],\n",
       "       [0.47004367, 0.52995633],\n",
       "       [0.28880455, 0.71119545],\n",
       "       [0.04409766, 0.95590234],\n",
       "       [0.34361427, 0.65638573],\n",
       "       [0.91411699, 0.08588301],\n",
       "       [0.49805226, 0.50194774],\n",
       "       [0.51727753, 0.48272247],\n",
       "       [0.95488159, 0.04511841],\n",
       "       [0.25136888, 0.74863112],\n",
       "       [0.28709974, 0.71290026],\n",
       "       [0.32375759, 0.67624241],\n",
       "       [0.81888382, 0.18111618],\n",
       "       [0.40732413, 0.59267587],\n",
       "       [0.84855904, 0.15144096],\n",
       "       [0.74763674, 0.25236326],\n",
       "       [0.70772185, 0.29227815],\n",
       "       [0.77289314, 0.22710686],\n",
       "       [0.48014192, 0.51985808],\n",
       "       [0.58404749, 0.41595251],\n",
       "       [0.64694386, 0.35305614],\n",
       "       [0.75207642, 0.24792358],\n",
       "       [0.83571031, 0.16428969],\n",
       "       [0.92303677, 0.07696323],\n",
       "       [0.83058711, 0.16941289],\n",
       "       [0.28678543, 0.71321457],\n",
       "       [0.49469386, 0.50530614],\n",
       "       [0.51658586, 0.48341414],\n",
       "       [0.85508477, 0.14491523],\n",
       "       [0.59591778, 0.40408222],\n",
       "       [0.53462468, 0.46537532],\n",
       "       [0.47193147, 0.52806853],\n",
       "       [0.27512796, 0.72487204],\n",
       "       [0.54197148, 0.45802852],\n",
       "       [0.74589739, 0.25410261],\n",
       "       [0.93334603, 0.06665397],\n",
       "       [0.23634092, 0.76365908],\n",
       "       [0.86670788, 0.13329212],\n",
       "       [0.38936928, 0.61063072],\n",
       "       [0.26042945, 0.73957055],\n",
       "       [0.24226843, 0.75773157],\n",
       "       [0.43084781, 0.56915219],\n",
       "       [0.94088808, 0.05911192],\n",
       "       [0.81825882, 0.18174118],\n",
       "       [0.80491773, 0.19508227],\n",
       "       [0.15024831, 0.84975169],\n",
       "       [0.63605076, 0.36394924],\n",
       "       [0.57428917, 0.42571083],\n",
       "       [0.20796903, 0.79203097],\n",
       "       [0.94630671, 0.05369329],\n",
       "       [0.29496286, 0.70503714],\n",
       "       [0.32313233, 0.67686767],\n",
       "       [0.1523572 , 0.8476428 ],\n",
       "       [0.87807501, 0.12192499],\n",
       "       [0.95651922, 0.04348078],\n",
       "       [0.52696065, 0.47303935],\n",
       "       [0.71466067, 0.28533933],\n",
       "       [0.3002702 , 0.6997298 ],\n",
       "       [0.95740304, 0.04259696],\n",
       "       [0.37230671, 0.62769329],\n",
       "       [0.53575721, 0.46424279],\n",
       "       [0.14740393, 0.85259607],\n",
       "       [0.7088195 , 0.2911805 ],\n",
       "       [0.97074116, 0.02925884],\n",
       "       [0.12774107, 0.87225893],\n",
       "       [0.33723973, 0.66276027],\n",
       "       [0.42266355, 0.57733645],\n",
       "       [0.89173119, 0.10826881],\n",
       "       [0.89762842, 0.10237158],\n",
       "       [0.87740737, 0.12259263],\n",
       "       [0.70211138, 0.29788862],\n",
       "       [0.2667912 , 0.7332088 ],\n",
       "       [0.56713946, 0.43286054],\n",
       "       [0.6339859 , 0.3660141 ],\n",
       "       [0.61040841, 0.38959159],\n",
       "       [0.29765606, 0.70234394],\n",
       "       [0.70494325, 0.29505675],\n",
       "       [0.42173896, 0.57826104],\n",
       "       [0.76014832, 0.23985168],\n",
       "       [0.91257246, 0.08742754],\n",
       "       [0.23209392, 0.76790608],\n",
       "       [0.28688867, 0.71311133],\n",
       "       [0.83512373, 0.16487627],\n",
       "       [0.17111974, 0.82888026],\n",
       "       [0.40053182, 0.59946818],\n",
       "       [0.46642325, 0.53357675],\n",
       "       [0.39707449, 0.60292551],\n",
       "       [0.60466314, 0.39533686],\n",
       "       [0.94963076, 0.05036924],\n",
       "       [0.90086959, 0.09913041],\n",
       "       [0.53183233, 0.46816767],\n",
       "       [0.38951508, 0.61048492],\n",
       "       [0.09350077, 0.90649923],\n",
       "       [0.25461396, 0.74538604],\n",
       "       [0.45697036, 0.54302964],\n",
       "       [0.5818347 , 0.4181653 ],\n",
       "       [0.75393043, 0.24606957],\n",
       "       [0.65571737, 0.34428263],\n",
       "       [0.42858239, 0.57141761],\n",
       "       [0.25480754, 0.74519246],\n",
       "       [0.5908324 , 0.4091676 ],\n",
       "       [0.70223   , 0.29777   ],\n",
       "       [0.70626343, 0.29373657],\n",
       "       [0.67753053, 0.32246947],\n",
       "       [0.63556648, 0.36443352],\n",
       "       [0.37067032, 0.62932968],\n",
       "       [0.09287705, 0.90712295],\n",
       "       [0.4870223 , 0.5129777 ],\n",
       "       [0.61029457, 0.38970543],\n",
       "       [0.41464263, 0.58535737],\n",
       "       [0.30656609, 0.69343391],\n",
       "       [0.58898724, 0.41101276],\n",
       "       [0.48165466, 0.51834534],\n",
       "       [0.34154902, 0.65845098],\n",
       "       [0.29291153, 0.70708847],\n",
       "       [0.16222684, 0.83777316],\n",
       "       [0.0686018 , 0.9313982 ],\n",
       "       [0.12827767, 0.87172233],\n",
       "       [0.89168114, 0.10831886],\n",
       "       [0.94485127, 0.05514873],\n",
       "       [0.61888608, 0.38111392],\n",
       "       [0.89214901, 0.10785099],\n",
       "       [0.35175767, 0.64824233],\n",
       "       [0.92832771, 0.07167229],\n",
       "       [0.47658282, 0.52341718],\n",
       "       [0.06980803, 0.93019197],\n",
       "       [0.71905843, 0.28094157],\n",
       "       [0.32831835, 0.67168165],\n",
       "       [0.85835977, 0.14164023],\n",
       "       [0.31934472, 0.68065528],\n",
       "       [0.22377825, 0.77622175],\n",
       "       [0.61161741, 0.38838259],\n",
       "       [0.11181471, 0.88818529],\n",
       "       [0.80404643, 0.19595357],\n",
       "       [0.27460873, 0.72539127],\n",
       "       [0.46025129, 0.53974871],\n",
       "       [0.76112132, 0.23887868],\n",
       "       [0.31464212, 0.68535788],\n",
       "       [0.06786323, 0.93213677],\n",
       "       [0.32463244, 0.67536756],\n",
       "       [0.29385201, 0.70614799],\n",
       "       [0.22095922, 0.77904078],\n",
       "       [0.80559535, 0.19440465],\n",
       "       [0.96260058, 0.03739942],\n",
       "       [0.34705004, 0.65294996],\n",
       "       [0.92316273, 0.07683727],\n",
       "       [0.75205455, 0.24794545],\n",
       "       [0.47583074, 0.52416926],\n",
       "       [0.14149338, 0.85850662],\n",
       "       [0.34721133, 0.65278867],\n",
       "       [0.36373107, 0.63626893],\n",
       "       [0.79208015, 0.20791985],\n",
       "       [0.49987279, 0.50012721],\n",
       "       [0.61367888, 0.38632112],\n",
       "       [0.72186304, 0.27813696],\n",
       "       [0.26394292, 0.73605708],\n",
       "       [0.71080212, 0.28919788],\n",
       "       [0.24862325, 0.75137675],\n",
       "       [0.12996826, 0.87003174],\n",
       "       [0.21923605, 0.78076395],\n",
       "       [0.75284854, 0.24715146],\n",
       "       [0.22940065, 0.77059935],\n",
       "       [0.9035808 , 0.0964192 ],\n",
       "       [0.74064023, 0.25935977],\n",
       "       [0.47662648, 0.52337352],\n",
       "       [0.87758713, 0.12241287],\n",
       "       [0.76005725, 0.23994275],\n",
       "       [0.66704954, 0.33295046],\n",
       "       [0.82711598, 0.17288402],\n",
       "       [0.74122638, 0.25877362],\n",
       "       [0.26891633, 0.73108367],\n",
       "       [0.75734777, 0.24265223],\n",
       "       [0.91841076, 0.08158924],\n",
       "       [0.35534243, 0.64465757],\n",
       "       [0.19591057, 0.80408943],\n",
       "       [0.41311376, 0.58688624],\n",
       "       [0.26018088, 0.73981912],\n",
       "       [0.85536808, 0.14463192],\n",
       "       [0.22958203, 0.77041797],\n",
       "       [0.3978021 , 0.6021979 ],\n",
       "       [0.9331646 , 0.0668354 ],\n",
       "       [0.41366842, 0.58633158],\n",
       "       [0.47979654, 0.52020346],\n",
       "       [0.79136961, 0.20863039],\n",
       "       [0.45044256, 0.54955744],\n",
       "       [0.27756054, 0.72243946],\n",
       "       [0.42537813, 0.57462187],\n",
       "       [0.24603735, 0.75396265],\n",
       "       [0.6513266 , 0.3486734 ],\n",
       "       [0.46349711, 0.53650289],\n",
       "       [0.56160016, 0.43839984],\n",
       "       [0.63153235, 0.36846765],\n",
       "       [0.45450635, 0.54549365],\n",
       "       [0.41357078, 0.58642922],\n",
       "       [0.1781426 , 0.8218574 ],\n",
       "       [0.37800738, 0.62199262],\n",
       "       [0.35520872, 0.64479128],\n",
       "       [0.86388973, 0.13611027],\n",
       "       [0.36071948, 0.63928052],\n",
       "       [0.93166956, 0.06833044],\n",
       "       [0.63166209, 0.36833791],\n",
       "       [0.74265092, 0.25734908],\n",
       "       [0.83730471, 0.16269529],\n",
       "       [0.62330647, 0.37669353],\n",
       "       [0.39034317, 0.60965683],\n",
       "       [0.86511374, 0.13488626],\n",
       "       [0.46579461, 0.53420539],\n",
       "       [0.1941117 , 0.8058883 ],\n",
       "       [0.7995586 , 0.2004414 ],\n",
       "       [0.40682992, 0.59317008],\n",
       "       [0.86972637, 0.13027363],\n",
       "       [0.25977931, 0.74022069],\n",
       "       [0.47966124, 0.52033876],\n",
       "       [0.07971766, 0.92028234],\n",
       "       [0.84130109, 0.15869891],\n",
       "       [0.08918765, 0.91081235],\n",
       "       [0.19603259, 0.80396741],\n",
       "       [0.67484759, 0.32515241],\n",
       "       [0.5167574 , 0.4832426 ],\n",
       "       [0.63137055, 0.36862945],\n",
       "       [0.62815695, 0.37184305],\n",
       "       [0.05135009, 0.94864991],\n",
       "       [0.5859788 , 0.4140212 ],\n",
       "       [0.42508096, 0.57491904],\n",
       "       [0.24880102, 0.75119898],\n",
       "       [0.20642276, 0.79357724],\n",
       "       [0.52238174, 0.47761826],\n",
       "       [0.79326316, 0.20673684],\n",
       "       [0.17000421, 0.82999579],\n",
       "       [0.24690693, 0.75309307],\n",
       "       [0.89312898, 0.10687102],\n",
       "       [0.50837972, 0.49162028],\n",
       "       [0.54560026, 0.45439974],\n",
       "       [0.46561272, 0.53438728],\n",
       "       [0.58931576, 0.41068424],\n",
       "       [0.87973284, 0.12026716],\n",
       "       [0.46984198, 0.53015802],\n",
       "       [0.9108285 , 0.0891715 ],\n",
       "       [0.34143808, 0.65856192],\n",
       "       [0.32974073, 0.67025927],\n",
       "       [0.90258253, 0.09741747],\n",
       "       [0.22397931, 0.77602069],\n",
       "       [0.48122291, 0.51877709],\n",
       "       [0.43194441, 0.56805559],\n",
       "       [0.43816474, 0.56183526],\n",
       "       [0.90487698, 0.09512302],\n",
       "       [0.41144368, 0.58855632],\n",
       "       [0.13233472, 0.86766528],\n",
       "       [0.8831528 , 0.1168472 ],\n",
       "       [0.54847025, 0.45152975],\n",
       "       [0.32558019, 0.67441981],\n",
       "       [0.3038917 , 0.6961083 ],\n",
       "       [0.48049032, 0.51950968],\n",
       "       [0.29686541, 0.70313459],\n",
       "       [0.40426576, 0.59573424],\n",
       "       [0.06393952, 0.93606048],\n",
       "       [0.84372679, 0.15627321],\n",
       "       [0.64534623, 0.35465377]])"
      ]
     },
     "execution_count": 272,
     "metadata": {},
     "output_type": "execute_result"
    }
   ],
   "source": [
    "random_forest.predict_proba(test_set_x)"
   ]
  },
  {
   "cell_type": "code",
   "execution_count": 335,
   "metadata": {},
   "outputs": [],
   "source": [
    "from sklearn.metrics import confusion_matrix\n",
    "from sklearn.metrics import accuracy_score\n",
    "from sklearn.metrics import classification_report\n",
    "from sklearn.metrics import roc_auc_score\n",
    "from sklearn.metrics import f1_score"
   ]
  },
  {
   "cell_type": "code",
   "execution_count": 336,
   "metadata": {},
   "outputs": [],
   "source": [
    "knn_confusion_matrix = confusion_matrix(test_set_y, knn_final_prediction)"
   ]
  },
  {
   "cell_type": "code",
   "execution_count": 337,
   "metadata": {},
   "outputs": [
    {
     "data": {
      "text/plain": [
       "array([[94, 62],\n",
       "       [60, 70]])"
      ]
     },
     "execution_count": 337,
     "metadata": {},
     "output_type": "execute_result"
    }
   ],
   "source": [
    "knn_confusion_matrix"
   ]
  },
  {
   "cell_type": "code",
   "execution_count": 338,
   "metadata": {},
   "outputs": [],
   "source": [
    "knn_auc_roc =roc_auc_score(test_set_y, knn_final_prediction)"
   ]
  },
  {
   "cell_type": "code",
   "execution_count": 339,
   "metadata": {},
   "outputs": [
    {
     "data": {
      "text/plain": [
       "0.5705128205128205"
      ]
     },
     "execution_count": 339,
     "metadata": {},
     "output_type": "execute_result"
    }
   ],
   "source": [
    "knn_auc_roc"
   ]
  },
  {
   "cell_type": "code",
   "execution_count": null,
   "metadata": {},
   "outputs": [],
   "source": []
  },
  {
   "cell_type": "code",
   "execution_count": null,
   "metadata": {},
   "outputs": [],
   "source": []
  },
  {
   "cell_type": "code",
   "execution_count": 342,
   "metadata": {},
   "outputs": [],
   "source": [
    "from sklearn.metrics import precision_score, recall_score"
   ]
  },
  {
   "cell_type": "code",
   "execution_count": 343,
   "metadata": {},
   "outputs": [],
   "source": [
    "knn_precision = precision_score(test_set_y, knn_final_prediction)"
   ]
  },
  {
   "cell_type": "code",
   "execution_count": 344,
   "metadata": {},
   "outputs": [
    {
     "data": {
      "text/plain": [
       "0.5303030303030303"
      ]
     },
     "execution_count": 344,
     "metadata": {},
     "output_type": "execute_result"
    }
   ],
   "source": [
    "knn_precision"
   ]
  },
  {
   "cell_type": "code",
   "execution_count": 345,
   "metadata": {},
   "outputs": [],
   "source": [
    "knn_recall = recall_score(test_set_y, knn_final_prediction)"
   ]
  },
  {
   "cell_type": "code",
   "execution_count": 346,
   "metadata": {},
   "outputs": [
    {
     "data": {
      "text/plain": [
       "0.5384615384615384"
      ]
     },
     "execution_count": 346,
     "metadata": {},
     "output_type": "execute_result"
    }
   ],
   "source": [
    "knn_recall"
   ]
  },
  {
   "cell_type": "code",
   "execution_count": 510,
   "metadata": {},
   "outputs": [],
   "source": [
    " def model_evaluation(pred, actual):\n",
    "        m =[]\n",
    "        m.append(accuracy_score(actual, pred))\n",
    "        m.append(precision_score(actual, pred))\n",
    "        m.append(recall_score(actual, pred))\n",
    "        m.append(f1_score(actual, pred))\n",
    "        return m"
   ]
  },
  {
   "cell_type": "code",
   "execution_count": 511,
   "metadata": {},
   "outputs": [],
   "source": [
    "knn_evaluation = model_evaluation(test_set_y, knn_final_prediction)"
   ]
  },
  {
   "cell_type": "code",
   "execution_count": null,
   "metadata": {},
   "outputs": [],
   "source": []
  },
  {
   "cell_type": "code",
   "execution_count": 512,
   "metadata": {},
   "outputs": [],
   "source": [
    "decision_tree_evaluation=model_evaluation(test_set_y, decision_tree_final_prediction)"
   ]
  },
  {
   "cell_type": "code",
   "execution_count": 513,
   "metadata": {},
   "outputs": [],
   "source": [
    "sgd_evaluation = model_evaluation(test_set_y, sgd_final_prediction)"
   ]
  },
  {
   "cell_type": "code",
   "execution_count": 514,
   "metadata": {},
   "outputs": [],
   "source": [
    "svc_evaluation = model_evaluation(test_set_y, svc_final_prediction)"
   ]
  },
  {
   "cell_type": "code",
   "execution_count": 515,
   "metadata": {},
   "outputs": [],
   "source": [
    "random_forest_evaluation = model_evaluation(test_set_y, random_forest_final_prediction)"
   ]
  },
  {
   "cell_type": "code",
   "execution_count": 516,
   "metadata": {},
   "outputs": [],
   "source": [
    "xgb_evaluation = model_evaluation(test_set_y, xgb_final_prediction)"
   ]
  },
  {
   "cell_type": "code",
   "execution_count": 517,
   "metadata": {},
   "outputs": [],
   "source": [
    "model_list = [knn_evaluation, \n",
    "              decision_tree_evaluation, \n",
    "              sgd_evaluation,\n",
    "              svc_evaluation,\n",
    "              random_forest_evaluation,\n",
    "              xgb_evaluation]"
   ]
  },
  {
   "cell_type": "code",
   "execution_count": 518,
   "metadata": {},
   "outputs": [],
   "source": [
    "accuracy_models = [x[0] for x in model_list]"
   ]
  },
  {
   "cell_type": "code",
   "execution_count": 519,
   "metadata": {},
   "outputs": [
    {
     "data": {
      "text/plain": [
       "[0.5734265734265734,\n",
       " 0.7307692307692307,\n",
       " 0.6853146853146853,\n",
       " 0.7132867132867133,\n",
       " 0.7377622377622378,\n",
       " 0.7272727272727273]"
      ]
     },
     "execution_count": 519,
     "metadata": {},
     "output_type": "execute_result"
    }
   ],
   "source": [
    "accuracy_models"
   ]
  },
  {
   "cell_type": "code",
   "execution_count": 521,
   "metadata": {},
   "outputs": [],
   "source": [
    "precision_models = [x[1] for x in model_list]"
   ]
  },
  {
   "cell_type": "code",
   "execution_count": 522,
   "metadata": {},
   "outputs": [],
   "source": [
    "recall_models = [x[2] for x in model_list]\n",
    "f1_models = [x[3] for x in model_list]"
   ]
  },
  {
   "cell_type": "code",
   "execution_count": 523,
   "metadata": {},
   "outputs": [
    {
     "data": {
      "text/plain": [
       "[0.534351145038168,\n",
       " 0.7158671586715868,\n",
       " 0.6564885496183206,\n",
       " 0.7132867132867133,\n",
       " 0.7169811320754716,\n",
       " 0.6976744186046512]"
      ]
     },
     "execution_count": 523,
     "metadata": {},
     "output_type": "execute_result"
    }
   ],
   "source": [
    "f1_models"
   ]
  },
  {
   "cell_type": "code",
   "execution_count": null,
   "metadata": {},
   "outputs": [],
   "source": []
  },
  {
   "cell_type": "code",
   "execution_count": 737,
   "metadata": {},
   "outputs": [
    {
     "data": {
      "image/png": "[encoded data removed]",
      "text/plain": [
       "<Figure size 1800x1080 with 1 Axes>"
      ]
     },
     "metadata": {},
     "output_type": "display_data"
    }
   ],
   "source": [
    "\n",
    "\n",
    "import numpy as np\n",
    "import matplotlib.pyplot as plt\n",
    "with plt.rc_context({'axes.edgecolor':'black', 'xtick.color':'black', 'ytick.color':'black', 'figure.facecolor':'white'}):\n",
    "    # Temporary rc parameters in effect\n",
    "    plt.figure(figsize=(25,15))\n",
    "    w =0.15\n",
    "    x = ['Accuracy', 'Precision','Recall', 'F1']\n",
    "    bar1 = np.arange(len(x))\n",
    "    bar2 = [i+w for i in bar1]\n",
    "    bar3 = [i+w for i in bar2]\n",
    "    bar4 = [i+w for i in bar3]\n",
    "    bar5 = [i+w for i in bar4]\n",
    "    bar6 = [i+w for i in bar5]\n",
    "    plt.bar(bar1, knn_evaluation, w,color = 'b',label = 'KNN')\n",
    "    plt.bar(bar2, decision_tree_evaluation,w, color = 'g', label = 'Decision Tree')\n",
    "    plt.bar(bar3, sgd_evaluation,w, color = 'r',label = 'SGD')\n",
    "    plt.bar(bar4, svc_evaluation,w, color = 'y',label = 'SVC')\n",
    "    plt.bar(bar5, random_forest_evaluation,w, color = 'grey', label = 'Random Forest')\n",
    "    plt.bar(bar6, xgb_evaluation,w, color = 'orange', label = 'XGBoost')\n",
    "    plt.title('Performance Measures Of Models')\n",
    "    plt.xticks(bar4, x)\n",
    "    plt.legend(loc = 0)\n",
    "    plt.grid()\n",
    "    plt.ylim(0.5,0.9)\n",
    "    plt.show()\n",
    "\n"
   ]
  },
  {
   "cell_type": "code",
   "execution_count": 381,
   "metadata": {},
   "outputs": [
    {
     "data": {
      "text/plain": [
       "array([0, 1, 2, 3])"
      ]
     },
     "execution_count": 381,
     "metadata": {},
     "output_type": "execute_result"
    }
   ],
   "source": [
    "np.arange(4)"
   ]
  },
  {
   "cell_type": "code",
   "execution_count": 430,
   "metadata": {},
   "outputs": [
    {
     "data": {
      "image/png": "[encoded data removed]",
      "text/plain": [
       "<Figure size 432x288 with 1 Axes>"
      ]
     },
     "metadata": {
      "needs_background": "light"
     },
     "output_type": "display_data"
    }
   ],
   "source": [
    "x=[1,2,3,4,5,6]\n",
    "plt.plot(x,knn_cross_val_array)\n",
    "plt.plot(x,svc_cross_val_array)\n",
    "plt.plot(x,xgb_cross_val_array)\n",
    "plt.plot(x,sgd_cross_val_array)\n",
    "plt.plot(x,decision_tree_cross_val_array)\n",
    "plt.plot(x,random_forest_cross_val_array)\n",
    "plt.show()"
   ]
  },
  {
   "cell_type": "code",
   "execution_count": 431,
   "metadata": {},
   "outputs": [
    {
     "data": {
      "text/plain": [
       "[0.5734265734265734,\n",
       " 0.5384615384615384,\n",
       " 0.5303030303030303,\n",
       " 0.534351145038168,\n",
       " 0.5703463203463204]"
      ]
     },
     "execution_count": 431,
     "metadata": {},
     "output_type": "execute_result"
    }
   ],
   "source": [
    "knn_evaluation"
   ]
  },
  {
   "cell_type": "code",
   "execution_count": 432,
   "metadata": {},
   "outputs": [
    {
     "data": {
      "text/plain": [
       "[0.7272727272727273,\n",
       " 0.6923076923076923,\n",
       " 0.703125,\n",
       " 0.6976744186046512,\n",
       " 0.7249802215189873]"
      ]
     },
     "execution_count": 432,
     "metadata": {},
     "output_type": "execute_result"
    }
   ],
   "source": [
    "xgb_evaluation"
   ]
  },
  {
   "cell_type": "code",
   "execution_count": 433,
   "metadata": {},
   "outputs": [
    {
     "data": {
      "text/plain": [
       "[0.7307692307692307,\n",
       " 0.7461538461538462,\n",
       " 0.6879432624113475,\n",
       " 0.7158671586715868,\n",
       " 0.7301785277573979]"
      ]
     },
     "execution_count": 433,
     "metadata": {},
     "output_type": "execute_result"
    }
   ],
   "source": [
    "decision_tree_evaluation"
   ]
  },
  {
   "cell_type": "code",
   "execution_count": 434,
   "metadata": {},
   "outputs": [
    {
     "data": {
      "text/plain": [
       "[0.7447552447552448,\n",
       " 0.7692307692307693,\n",
       " 0.6993006993006993,\n",
       " 0.7326007326007327,\n",
       " 0.7447552447552447]"
      ]
     },
     "execution_count": 434,
     "metadata": {},
     "output_type": "execute_result"
    }
   ],
   "source": [
    "random_forest_evaluation"
   ]
  },
  {
   "cell_type": "code",
   "execution_count": 435,
   "metadata": {},
   "outputs": [
    {
     "data": {
      "text/plain": [
       "[0.7132867132867133,\n",
       " 0.7846153846153846,\n",
       " 0.6538461538461539,\n",
       " 0.7132867132867133,\n",
       " 0.7192307692307692]"
      ]
     },
     "execution_count": 435,
     "metadata": {},
     "output_type": "execute_result"
    }
   ],
   "source": [
    "svc_evaluation"
   ]
  },
  {
   "cell_type": "code",
   "execution_count": 436,
   "metadata": {},
   "outputs": [
    {
     "data": {
      "text/plain": [
       "array([0.7       , 0.73157895, 0.68421053, 0.73157895, 0.73684211,\n",
       "       0.78421053])"
      ]
     },
     "execution_count": 436,
     "metadata": {},
     "output_type": "execute_result"
    }
   ],
   "source": [
    "xgb_cross_val_array"
   ]
  },
  {
   "cell_type": "code",
   "execution_count": 439,
   "metadata": {},
   "outputs": [],
   "source": [
    "a =xgb.predict_proba(test_set_x)"
   ]
  },
  {
   "cell_type": "code",
   "execution_count": 445,
   "metadata": {},
   "outputs": [
    {
     "data": {
      "text/plain": [
       "array([0.84851986, 0.15148014], dtype=float32)"
      ]
     },
     "execution_count": 445,
     "metadata": {},
     "output_type": "execute_result"
    }
   ],
   "source": []
  },
  {
   "cell_type": "code",
   "execution_count": 483,
   "metadata": {},
   "outputs": [],
   "source": [
    "knn_probab_1 =  [x[1] for x in knn_probab]\n",
    "decision_tree_probab_1 = [x[1] for x in decsison_tree_proba]\n",
    "sgd_probab_1 = [x[1] for x in sgd_probab]\n",
    "svc_probab_1 = [x[1] for x in svc_probab]\n",
    "xgb_probab_1 = [x[1] for x in xgb_probab]\n",
    "random_forest_probab_1 = [x[1] for x in random_forest_probab]"
   ]
  },
  {
   "cell_type": "code",
   "execution_count": 485,
   "metadata": {},
   "outputs": [],
   "source": [
    "def auc(target_values, predict_probab):\n",
    "    z= roc_auc_score(target_values, predict_probab)\n",
    "    return z"
   ]
  },
  {
   "cell_type": "code",
   "execution_count": 487,
   "metadata": {},
   "outputs": [],
   "source": [
    "knn_auc= auc(test_set_y,knn_probab_1)\n",
    "decision_tree_auc = auc(test_set_y,decision_tree_probab_1)\n",
    "svc_auc = auc(test_set_y,svc_probab_1)\n",
    "sgd_auc = auc(test_set_y,sgd_probab_1)\n",
    "xgb_auc = auc(test_set_y,xgb_probab_1)\n",
    "random_forest_auc = auc(test_set_y,random_forest_probab_1)"
   ]
  },
  {
   "cell_type": "code",
   "execution_count": 488,
   "metadata": {},
   "outputs": [
    {
     "data": {
      "text/plain": [
       "0.598767258382643"
      ]
     },
     "execution_count": 488,
     "metadata": {},
     "output_type": "execute_result"
    }
   ],
   "source": [
    "knn_auc"
   ]
  },
  {
   "cell_type": "code",
   "execution_count": 489,
   "metadata": {},
   "outputs": [
    {
     "data": {
      "text/plain": [
       "0.8259615384615384"
      ]
     },
     "execution_count": 489,
     "metadata": {},
     "output_type": "execute_result"
    }
   ],
   "source": [
    "random_forest_auc"
   ]
  },
  {
   "cell_type": "code",
   "execution_count": 490,
   "metadata": {},
   "outputs": [
    {
     "data": {
      "text/plain": [
       "0.789447731755424"
      ]
     },
     "execution_count": 490,
     "metadata": {},
     "output_type": "execute_result"
    }
   ],
   "source": [
    "decision_tree_auc"
   ]
  },
  {
   "cell_type": "code",
   "execution_count": 491,
   "metadata": {},
   "outputs": [
    {
     "data": {
      "text/plain": [
       "0.7743589743589744"
      ]
     },
     "execution_count": 491,
     "metadata": {},
     "output_type": "execute_result"
    }
   ],
   "source": [
    "svc_auc"
   ]
  },
  {
   "cell_type": "code",
   "execution_count": 492,
   "metadata": {},
   "outputs": [
    {
     "data": {
      "text/plain": [
       "0.8079388560157791"
      ]
     },
     "execution_count": 492,
     "metadata": {},
     "output_type": "execute_result"
    }
   ],
   "source": [
    "xgb_auc"
   ]
  },
  {
   "cell_type": "code",
   "execution_count": 746,
   "metadata": {},
   "outputs": [
    {
     "data": {
      "image/png": "[encoded data removed]",
      "text/plain": [
       "<Figure size 500x500 with 1 Axes>"
      ]
     },
     "metadata": {},
     "output_type": "display_data"
    }
   ],
   "source": [
    "from sklearn.metrics import roc_curve, auc\n",
    "\n",
    "knn_fpr, knn_tpr, threshold = roc_curve(test_set_y, knn_probab_1)\n",
    "auc_knn = auc(knn_fpr, knn_tpr)\n",
    "sgd_fpr, sgd_tpr, threshold = roc_curve(test_set_y, sgd_probab_1)\n",
    "auc_sgd = auc(sgd_fpr, sgd_tpr)\n",
    "\n",
    "svc_fpr, svc_tpr, threshold = roc_curve(test_set_y, svc_probab_1)\n",
    "auc_svc = auc(svc_fpr, svc_tpr)\n",
    "decision_tree_fpr, decision_tree_tpr, threshold = roc_curve(test_set_y, decision_tree_probab_1)\n",
    "auc_decision_tree = auc(decision_tree_fpr, decision_tree_tpr)\n",
    "random_forest_fpr, random_forest_tpr, threshold = roc_curve(test_set_y, random_forest_probab_1)\n",
    "auc_random_forest = auc(random_forest_fpr, random_forest_tpr)\n",
    "xgb_fpr, xgb_tpr, threshold = roc_curve(test_set_y, xgb_probab_1)\n",
    "auc_xgb = auc(xgb_fpr, xgb_tpr)\n",
    "with plt.rc_context({'axes.edgecolor':'black', 'xtick.color':'black', 'ytick.color':'black', 'figure.facecolor':'white'}):\n",
    "\n",
    "    plt.figure(figsize=(5, 5), dpi=100)\n",
    "    plt.plot(svc_fpr, svc_tpr, linestyle='-', label='SVC (auc = %0.3f)' % auc_svc)\n",
    "    plt.plot(knn_fpr, knn_tpr, linestyle='-', label='KNN (auc = %0.3f)' % auc_knn)\n",
    "    plt.plot(random_forest_fpr, random_forest_tpr, linestyle='-', label='Random Forest (auc = %0.3f)' % auc_random_forest)\n",
    "    plt.plot(xgb_fpr, xgb_tpr, linestyle='-', label='XGB (auc = %0.3f)' % auc_xgb)\n",
    "\n",
    "    plt.plot([0,1],[0,1], color = 'navy', linestyle = '--')\n",
    "    plt.xlabel('False Positive Rate -->')\n",
    "    plt.ylabel('True Positive Rate -->')\n",
    "    plt.title('ROC-AUC')\n",
    "    plt.legend()\n",
    "\n",
    "    plt.show()"
   ]
  },
  {
   "cell_type": "code",
   "execution_count": 506,
   "metadata": {},
   "outputs": [],
   "source": [
    "auc_models = [auc_knn,auc_decision_tree,auc_random_forest,auc_svc,auc_svm,auc_xgb]"
   ]
  },
  {
   "cell_type": "code",
   "execution_count": 530,
   "metadata": {},
   "outputs": [
    {
     "data": {
      "text/plain": [
       "[0.5734265734265734,\n",
       " 0.7307692307692307,\n",
       " 0.6853146853146853,\n",
       " 0.7132867132867133,\n",
       " 0.7377622377622378,\n",
       " 0.7272727272727273]"
      ]
     },
     "execution_count": 530,
     "metadata": {},
     "output_type": "execute_result"
    }
   ],
   "source": [
    "a"
   ]
  },
  {
   "cell_type": "code",
   "execution_count": 752,
   "metadata": {},
   "outputs": [
    {
     "data": {
      "text/plain": [
       "['KEY',\n",
       " 'MODE',\n",
       " 'TIME_SIGNATURE',\n",
       " 'ACOUSTICNESS',\n",
       " 'DANCEABILITY',\n",
       " 'ENERGY',\n",
       " 'INSTRUMENTALNESS',\n",
       " 'LIVENESS',\n",
       " 'LOUDNESS',\n",
       " 'SPEECHINESS',\n",
       " 'VALENCE',\n",
       " 'TEMPO']"
      ]
     },
     "execution_count": 752,
     "metadata": {},
     "output_type": "execute_result"
    }
   ],
   "source": [
    "attributes = list(train_set_x.columns)\n",
    "attributes"
   ]
  },
  {
   "cell_type": "code",
   "execution_count": 753,
   "metadata": {},
   "outputs": [
    {
     "ename": "ValueError",
     "evalue": "shape mismatch: objects cannot be broadcast to a single shape",
     "output_type": "error",
     "traceback": [
      "\u001b[0;31m---------------------------------------------------------------------------\u001b[0m",
      "\u001b[0;31mValueError\u001b[0m                                Traceback (most recent call last)",
      "\u001b[0;32m<ipython-input-753-b8bc24bd5a52>\u001b[0m in \u001b[0;36m<module>\u001b[0;34m\u001b[0m\n\u001b[1;32m      1\u001b[0m \u001b[0;32mwith\u001b[0m \u001b[0mplt\u001b[0m\u001b[0;34m.\u001b[0m\u001b[0mrc_context\u001b[0m\u001b[0;34m(\u001b[0m\u001b[0;34m{\u001b[0m\u001b[0;34m'axes.edgecolor'\u001b[0m\u001b[0;34m:\u001b[0m\u001b[0;34m'black'\u001b[0m\u001b[0;34m,\u001b[0m \u001b[0;34m'xtick.color'\u001b[0m\u001b[0;34m:\u001b[0m\u001b[0;34m'black'\u001b[0m\u001b[0;34m,\u001b[0m \u001b[0;34m'ytick.color'\u001b[0m\u001b[0;34m:\u001b[0m\u001b[0;34m'black'\u001b[0m\u001b[0;34m,\u001b[0m \u001b[0;34m'figure.facecolor'\u001b[0m\u001b[0;34m:\u001b[0m\u001b[0;34m'white'\u001b[0m\u001b[0;34m}\u001b[0m\u001b[0;34m)\u001b[0m\u001b[0;34m:\u001b[0m\u001b[0;34m\u001b[0m\u001b[0;34m\u001b[0m\u001b[0m\n\u001b[0;32m----> 2\u001b[0;31m     \u001b[0mplt\u001b[0m\u001b[0;34m.\u001b[0m\u001b[0mbarh\u001b[0m\u001b[0;34m(\u001b[0m\u001b[0mattributes\u001b[0m\u001b[0;34m,\u001b[0m \u001b[0mrandom_forest\u001b[0m\u001b[0;34m.\u001b[0m\u001b[0mfeature_importances_\u001b[0m\u001b[0;34m)\u001b[0m\u001b[0;34m\u001b[0m\u001b[0;34m\u001b[0m\u001b[0m\n\u001b[0m\u001b[1;32m      3\u001b[0m \u001b[0;34m\u001b[0m\u001b[0m\n",
      "\u001b[0;32m~/opt/anaconda3/lib/python3.7/site-packages/matplotlib/pyplot.py\u001b[0m in \u001b[0;36mbarh\u001b[0;34m(y, width, height, left, align, **kwargs)\u001b[0m\n\u001b[1;32m   2453\u001b[0m \u001b[0;32mdef\u001b[0m \u001b[0mbarh\u001b[0m\u001b[0;34m(\u001b[0m\u001b[0my\u001b[0m\u001b[0;34m,\u001b[0m \u001b[0mwidth\u001b[0m\u001b[0;34m,\u001b[0m \u001b[0mheight\u001b[0m\u001b[0;34m=\u001b[0m\u001b[0;36m0.8\u001b[0m\u001b[0;34m,\u001b[0m \u001b[0mleft\u001b[0m\u001b[0;34m=\u001b[0m\u001b[0;32mNone\u001b[0m\u001b[0;34m,\u001b[0m \u001b[0;34m*\u001b[0m\u001b[0;34m,\u001b[0m \u001b[0malign\u001b[0m\u001b[0;34m=\u001b[0m\u001b[0;34m'center'\u001b[0m\u001b[0;34m,\u001b[0m \u001b[0;34m**\u001b[0m\u001b[0mkwargs\u001b[0m\u001b[0;34m)\u001b[0m\u001b[0;34m:\u001b[0m\u001b[0;34m\u001b[0m\u001b[0;34m\u001b[0m\u001b[0m\n\u001b[1;32m   2454\u001b[0m     return gca().barh(\n\u001b[0;32m-> 2455\u001b[0;31m         y, width, height=height, left=left, align=align, **kwargs)\n\u001b[0m\u001b[1;32m   2456\u001b[0m \u001b[0;34m\u001b[0m\u001b[0m\n\u001b[1;32m   2457\u001b[0m \u001b[0;34m\u001b[0m\u001b[0m\n",
      "\u001b[0;32m~/opt/anaconda3/lib/python3.7/site-packages/matplotlib/axes/_axes.py\u001b[0m in \u001b[0;36mbarh\u001b[0;34m(self, y, width, height, left, align, **kwargs)\u001b[0m\n\u001b[1;32m   2594\u001b[0m         \u001b[0mkwargs\u001b[0m\u001b[0;34m.\u001b[0m\u001b[0msetdefault\u001b[0m\u001b[0;34m(\u001b[0m\u001b[0;34m'orientation'\u001b[0m\u001b[0;34m,\u001b[0m \u001b[0;34m'horizontal'\u001b[0m\u001b[0;34m)\u001b[0m\u001b[0;34m\u001b[0m\u001b[0;34m\u001b[0m\u001b[0m\n\u001b[1;32m   2595\u001b[0m         patches = self.bar(x=left, height=height, width=width, bottom=y,\n\u001b[0;32m-> 2596\u001b[0;31m                            align=align, **kwargs)\n\u001b[0m\u001b[1;32m   2597\u001b[0m         \u001b[0;32mreturn\u001b[0m \u001b[0mpatches\u001b[0m\u001b[0;34m\u001b[0m\u001b[0;34m\u001b[0m\u001b[0m\n\u001b[1;32m   2598\u001b[0m \u001b[0;34m\u001b[0m\u001b[0m\n",
      "\u001b[0;32m~/opt/anaconda3/lib/python3.7/site-packages/matplotlib/__init__.py\u001b[0m in \u001b[0;36minner\u001b[0;34m(ax, data, *args, **kwargs)\u001b[0m\n\u001b[1;32m   1597\u001b[0m     \u001b[0;32mdef\u001b[0m \u001b[0minner\u001b[0m\u001b[0;34m(\u001b[0m\u001b[0max\u001b[0m\u001b[0;34m,\u001b[0m \u001b[0;34m*\u001b[0m\u001b[0margs\u001b[0m\u001b[0;34m,\u001b[0m \u001b[0mdata\u001b[0m\u001b[0;34m=\u001b[0m\u001b[0;32mNone\u001b[0m\u001b[0;34m,\u001b[0m \u001b[0;34m**\u001b[0m\u001b[0mkwargs\u001b[0m\u001b[0;34m)\u001b[0m\u001b[0;34m:\u001b[0m\u001b[0;34m\u001b[0m\u001b[0;34m\u001b[0m\u001b[0m\n\u001b[1;32m   1598\u001b[0m         \u001b[0;32mif\u001b[0m \u001b[0mdata\u001b[0m \u001b[0;32mis\u001b[0m \u001b[0;32mNone\u001b[0m\u001b[0;34m:\u001b[0m\u001b[0;34m\u001b[0m\u001b[0;34m\u001b[0m\u001b[0m\n\u001b[0;32m-> 1599\u001b[0;31m             \u001b[0;32mreturn\u001b[0m \u001b[0mfunc\u001b[0m\u001b[0;34m(\u001b[0m\u001b[0max\u001b[0m\u001b[0;34m,\u001b[0m \u001b[0;34m*\u001b[0m\u001b[0mmap\u001b[0m\u001b[0;34m(\u001b[0m\u001b[0msanitize_sequence\u001b[0m\u001b[0;34m,\u001b[0m \u001b[0margs\u001b[0m\u001b[0;34m)\u001b[0m\u001b[0;34m,\u001b[0m \u001b[0;34m**\u001b[0m\u001b[0mkwargs\u001b[0m\u001b[0;34m)\u001b[0m\u001b[0;34m\u001b[0m\u001b[0;34m\u001b[0m\u001b[0m\n\u001b[0m\u001b[1;32m   1600\u001b[0m \u001b[0;34m\u001b[0m\u001b[0m\n\u001b[1;32m   1601\u001b[0m         \u001b[0mbound\u001b[0m \u001b[0;34m=\u001b[0m \u001b[0mnew_sig\u001b[0m\u001b[0;34m.\u001b[0m\u001b[0mbind\u001b[0m\u001b[0;34m(\u001b[0m\u001b[0max\u001b[0m\u001b[0;34m,\u001b[0m \u001b[0;34m*\u001b[0m\u001b[0margs\u001b[0m\u001b[0;34m,\u001b[0m \u001b[0;34m**\u001b[0m\u001b[0mkwargs\u001b[0m\u001b[0;34m)\u001b[0m\u001b[0;34m\u001b[0m\u001b[0;34m\u001b[0m\u001b[0m\n",
      "\u001b[0;32m~/opt/anaconda3/lib/python3.7/site-packages/matplotlib/axes/_axes.py\u001b[0m in \u001b[0;36mbar\u001b[0;34m(self, x, height, width, bottom, align, **kwargs)\u001b[0m\n\u001b[1;32m   2372\u001b[0m         x, height, width, y, linewidth = np.broadcast_arrays(\n\u001b[1;32m   2373\u001b[0m             \u001b[0;31m# Make args iterable too.\u001b[0m\u001b[0;34m\u001b[0m\u001b[0;34m\u001b[0m\u001b[0;34m\u001b[0m\u001b[0m\n\u001b[0;32m-> 2374\u001b[0;31m             np.atleast_1d(x), height, width, y, linewidth)\n\u001b[0m\u001b[1;32m   2375\u001b[0m \u001b[0;34m\u001b[0m\u001b[0m\n\u001b[1;32m   2376\u001b[0m         \u001b[0;31m# Now that units have been converted, set the tick locations.\u001b[0m\u001b[0;34m\u001b[0m\u001b[0;34m\u001b[0m\u001b[0;34m\u001b[0m\u001b[0m\n",
      "\u001b[0;32m<__array_function__ internals>\u001b[0m in \u001b[0;36mbroadcast_arrays\u001b[0;34m(*args, **kwargs)\u001b[0m\n",
      "\u001b[0;32m~/opt/anaconda3/lib/python3.7/site-packages/numpy/lib/stride_tricks.py\u001b[0m in \u001b[0;36mbroadcast_arrays\u001b[0;34m(*args, **kwargs)\u001b[0m\n\u001b[1;32m    262\u001b[0m     \u001b[0margs\u001b[0m \u001b[0;34m=\u001b[0m \u001b[0;34m[\u001b[0m\u001b[0mnp\u001b[0m\u001b[0;34m.\u001b[0m\u001b[0marray\u001b[0m\u001b[0;34m(\u001b[0m\u001b[0m_m\u001b[0m\u001b[0;34m,\u001b[0m \u001b[0mcopy\u001b[0m\u001b[0;34m=\u001b[0m\u001b[0;32mFalse\u001b[0m\u001b[0;34m,\u001b[0m \u001b[0msubok\u001b[0m\u001b[0;34m=\u001b[0m\u001b[0msubok\u001b[0m\u001b[0;34m)\u001b[0m \u001b[0;32mfor\u001b[0m \u001b[0m_m\u001b[0m \u001b[0;32min\u001b[0m \u001b[0margs\u001b[0m\u001b[0;34m]\u001b[0m\u001b[0;34m\u001b[0m\u001b[0;34m\u001b[0m\u001b[0m\n\u001b[1;32m    263\u001b[0m \u001b[0;34m\u001b[0m\u001b[0m\n\u001b[0;32m--> 264\u001b[0;31m     \u001b[0mshape\u001b[0m \u001b[0;34m=\u001b[0m \u001b[0m_broadcast_shape\u001b[0m\u001b[0;34m(\u001b[0m\u001b[0;34m*\u001b[0m\u001b[0margs\u001b[0m\u001b[0;34m)\u001b[0m\u001b[0;34m\u001b[0m\u001b[0;34m\u001b[0m\u001b[0m\n\u001b[0m\u001b[1;32m    265\u001b[0m \u001b[0;34m\u001b[0m\u001b[0m\n\u001b[1;32m    266\u001b[0m     \u001b[0;32mif\u001b[0m \u001b[0mall\u001b[0m\u001b[0;34m(\u001b[0m\u001b[0marray\u001b[0m\u001b[0;34m.\u001b[0m\u001b[0mshape\u001b[0m \u001b[0;34m==\u001b[0m \u001b[0mshape\u001b[0m \u001b[0;32mfor\u001b[0m \u001b[0marray\u001b[0m \u001b[0;32min\u001b[0m \u001b[0margs\u001b[0m\u001b[0;34m)\u001b[0m\u001b[0;34m:\u001b[0m\u001b[0;34m\u001b[0m\u001b[0;34m\u001b[0m\u001b[0m\n",
      "\u001b[0;32m~/opt/anaconda3/lib/python3.7/site-packages/numpy/lib/stride_tricks.py\u001b[0m in \u001b[0;36m_broadcast_shape\u001b[0;34m(*args)\u001b[0m\n\u001b[1;32m    189\u001b[0m     \u001b[0;31m# use the old-iterator because np.nditer does not handle size 0 arrays\u001b[0m\u001b[0;34m\u001b[0m\u001b[0;34m\u001b[0m\u001b[0;34m\u001b[0m\u001b[0m\n\u001b[1;32m    190\u001b[0m     \u001b[0;31m# consistently\u001b[0m\u001b[0;34m\u001b[0m\u001b[0;34m\u001b[0m\u001b[0;34m\u001b[0m\u001b[0m\n\u001b[0;32m--> 191\u001b[0;31m     \u001b[0mb\u001b[0m \u001b[0;34m=\u001b[0m \u001b[0mnp\u001b[0m\u001b[0;34m.\u001b[0m\u001b[0mbroadcast\u001b[0m\u001b[0;34m(\u001b[0m\u001b[0;34m*\u001b[0m\u001b[0margs\u001b[0m\u001b[0;34m[\u001b[0m\u001b[0;34m:\u001b[0m\u001b[0;36m32\u001b[0m\u001b[0;34m]\u001b[0m\u001b[0;34m)\u001b[0m\u001b[0;34m\u001b[0m\u001b[0;34m\u001b[0m\u001b[0m\n\u001b[0m\u001b[1;32m    192\u001b[0m     \u001b[0;31m# unfortunately, it cannot handle 32 or more arguments directly\u001b[0m\u001b[0;34m\u001b[0m\u001b[0;34m\u001b[0m\u001b[0;34m\u001b[0m\u001b[0m\n\u001b[1;32m    193\u001b[0m     \u001b[0;32mfor\u001b[0m \u001b[0mpos\u001b[0m \u001b[0;32min\u001b[0m \u001b[0mrange\u001b[0m\u001b[0;34m(\u001b[0m\u001b[0;36m32\u001b[0m\u001b[0;34m,\u001b[0m \u001b[0mlen\u001b[0m\u001b[0;34m(\u001b[0m\u001b[0margs\u001b[0m\u001b[0;34m)\u001b[0m\u001b[0;34m,\u001b[0m \u001b[0;36m31\u001b[0m\u001b[0;34m)\u001b[0m\u001b[0;34m:\u001b[0m\u001b[0;34m\u001b[0m\u001b[0;34m\u001b[0m\u001b[0m\n",
      "\u001b[0;31mValueError\u001b[0m: shape mismatch: objects cannot be broadcast to a single shape"
     ]
    },
    {
     "data": {
      "image/png": "[encoded data removed]",
      "text/plain": [
       "<Figure size 432x288 with 1 Axes>"
      ]
     },
     "metadata": {},
     "output_type": "display_data"
    }
   ],
   "source": [
    "with plt.rc_context({'axes.edgecolor':'black', 'xtick.color':'black', 'ytick.color':'black', 'figure.facecolor':'white'}):    \n",
    "    plt.barh(attributes, random_forest.feature_importances_)\n",
    " "
   ]
  },
  {
   "cell_type": "code",
   "execution_count": 776,
   "metadata": {},
   "outputs": [
    {
     "ename": "ValueError",
     "evalue": "shape mismatch: objects cannot be broadcast to a single shape",
     "output_type": "error",
     "traceback": [
      "\u001b[0;31m---------------------------------------------------------------------------\u001b[0m",
      "\u001b[0;31mValueError\u001b[0m                                Traceback (most recent call last)",
      "\u001b[0;32m<ipython-input-776-58cb778ced53>\u001b[0m in \u001b[0;36m<module>\u001b[0;34m\u001b[0m\n\u001b[1;32m      1\u001b[0m \u001b[0;32mwith\u001b[0m \u001b[0mplt\u001b[0m\u001b[0;34m.\u001b[0m\u001b[0mrc_context\u001b[0m\u001b[0;34m(\u001b[0m\u001b[0;34m{\u001b[0m\u001b[0;34m'axes.edgecolor'\u001b[0m\u001b[0;34m:\u001b[0m\u001b[0;34m'black'\u001b[0m\u001b[0;34m,\u001b[0m \u001b[0;34m'xtick.color'\u001b[0m\u001b[0;34m:\u001b[0m\u001b[0;34m'black'\u001b[0m\u001b[0;34m,\u001b[0m \u001b[0;34m'ytick.color'\u001b[0m\u001b[0;34m:\u001b[0m\u001b[0;34m'black'\u001b[0m\u001b[0;34m,\u001b[0m \u001b[0;34m'figure.facecolor'\u001b[0m\u001b[0;34m:\u001b[0m\u001b[0;34m'white'\u001b[0m\u001b[0;34m}\u001b[0m\u001b[0;34m)\u001b[0m\u001b[0;34m:\u001b[0m\u001b[0;34m\u001b[0m\u001b[0;34m\u001b[0m\u001b[0m\n\u001b[0;32m----> 2\u001b[0;31m     \u001b[0mplt\u001b[0m\u001b[0;34m.\u001b[0m\u001b[0mbarh\u001b[0m\u001b[0;34m(\u001b[0m\u001b[0mattributes\u001b[0m\u001b[0;34m,\u001b[0m\u001b[0mxgb\u001b[0m\u001b[0;34m.\u001b[0m\u001b[0mfeature_importances_\u001b[0m\u001b[0;34m)\u001b[0m\u001b[0;34m\u001b[0m\u001b[0;34m\u001b[0m\u001b[0m\n\u001b[0m\u001b[1;32m      3\u001b[0m     \u001b[0mplt\u001b[0m\u001b[0;34m.\u001b[0m\u001b[0mtitle\u001b[0m\u001b[0;34m(\u001b[0m\u001b[0;34m'XG-Boost Feature Importance'\u001b[0m\u001b[0;34m)\u001b[0m\u001b[0;34m\u001b[0m\u001b[0;34m\u001b[0m\u001b[0m\n",
      "\u001b[0;32m~/opt/anaconda3/lib/python3.7/site-packages/matplotlib/pyplot.py\u001b[0m in \u001b[0;36mbarh\u001b[0;34m(y, width, height, left, align, **kwargs)\u001b[0m\n\u001b[1;32m   2453\u001b[0m \u001b[0;32mdef\u001b[0m \u001b[0mbarh\u001b[0m\u001b[0;34m(\u001b[0m\u001b[0my\u001b[0m\u001b[0;34m,\u001b[0m \u001b[0mwidth\u001b[0m\u001b[0;34m,\u001b[0m \u001b[0mheight\u001b[0m\u001b[0;34m=\u001b[0m\u001b[0;36m0.8\u001b[0m\u001b[0;34m,\u001b[0m \u001b[0mleft\u001b[0m\u001b[0;34m=\u001b[0m\u001b[0;32mNone\u001b[0m\u001b[0;34m,\u001b[0m \u001b[0;34m*\u001b[0m\u001b[0;34m,\u001b[0m \u001b[0malign\u001b[0m\u001b[0;34m=\u001b[0m\u001b[0;34m'center'\u001b[0m\u001b[0;34m,\u001b[0m \u001b[0;34m**\u001b[0m\u001b[0mkwargs\u001b[0m\u001b[0;34m)\u001b[0m\u001b[0;34m:\u001b[0m\u001b[0;34m\u001b[0m\u001b[0;34m\u001b[0m\u001b[0m\n\u001b[1;32m   2454\u001b[0m     return gca().barh(\n\u001b[0;32m-> 2455\u001b[0;31m         y, width, height=height, left=left, align=align, **kwargs)\n\u001b[0m\u001b[1;32m   2456\u001b[0m \u001b[0;34m\u001b[0m\u001b[0m\n\u001b[1;32m   2457\u001b[0m \u001b[0;34m\u001b[0m\u001b[0m\n",
      "\u001b[0;32m~/opt/anaconda3/lib/python3.7/site-packages/matplotlib/axes/_axes.py\u001b[0m in \u001b[0;36mbarh\u001b[0;34m(self, y, width, height, left, align, **kwargs)\u001b[0m\n\u001b[1;32m   2594\u001b[0m         \u001b[0mkwargs\u001b[0m\u001b[0;34m.\u001b[0m\u001b[0msetdefault\u001b[0m\u001b[0;34m(\u001b[0m\u001b[0;34m'orientation'\u001b[0m\u001b[0;34m,\u001b[0m \u001b[0;34m'horizontal'\u001b[0m\u001b[0;34m)\u001b[0m\u001b[0;34m\u001b[0m\u001b[0;34m\u001b[0m\u001b[0m\n\u001b[1;32m   2595\u001b[0m         patches = self.bar(x=left, height=height, width=width, bottom=y,\n\u001b[0;32m-> 2596\u001b[0;31m                            align=align, **kwargs)\n\u001b[0m\u001b[1;32m   2597\u001b[0m         \u001b[0;32mreturn\u001b[0m \u001b[0mpatches\u001b[0m\u001b[0;34m\u001b[0m\u001b[0;34m\u001b[0m\u001b[0m\n\u001b[1;32m   2598\u001b[0m \u001b[0;34m\u001b[0m\u001b[0m\n",
      "\u001b[0;32m~/opt/anaconda3/lib/python3.7/site-packages/matplotlib/__init__.py\u001b[0m in \u001b[0;36minner\u001b[0;34m(ax, data, *args, **kwargs)\u001b[0m\n\u001b[1;32m   1597\u001b[0m     \u001b[0;32mdef\u001b[0m \u001b[0minner\u001b[0m\u001b[0;34m(\u001b[0m\u001b[0max\u001b[0m\u001b[0;34m,\u001b[0m \u001b[0;34m*\u001b[0m\u001b[0margs\u001b[0m\u001b[0;34m,\u001b[0m \u001b[0mdata\u001b[0m\u001b[0;34m=\u001b[0m\u001b[0;32mNone\u001b[0m\u001b[0;34m,\u001b[0m \u001b[0;34m**\u001b[0m\u001b[0mkwargs\u001b[0m\u001b[0;34m)\u001b[0m\u001b[0;34m:\u001b[0m\u001b[0;34m\u001b[0m\u001b[0;34m\u001b[0m\u001b[0m\n\u001b[1;32m   1598\u001b[0m         \u001b[0;32mif\u001b[0m \u001b[0mdata\u001b[0m \u001b[0;32mis\u001b[0m \u001b[0;32mNone\u001b[0m\u001b[0;34m:\u001b[0m\u001b[0;34m\u001b[0m\u001b[0;34m\u001b[0m\u001b[0m\n\u001b[0;32m-> 1599\u001b[0;31m             \u001b[0;32mreturn\u001b[0m \u001b[0mfunc\u001b[0m\u001b[0;34m(\u001b[0m\u001b[0max\u001b[0m\u001b[0;34m,\u001b[0m \u001b[0;34m*\u001b[0m\u001b[0mmap\u001b[0m\u001b[0;34m(\u001b[0m\u001b[0msanitize_sequence\u001b[0m\u001b[0;34m,\u001b[0m \u001b[0margs\u001b[0m\u001b[0;34m)\u001b[0m\u001b[0;34m,\u001b[0m \u001b[0;34m**\u001b[0m\u001b[0mkwargs\u001b[0m\u001b[0;34m)\u001b[0m\u001b[0;34m\u001b[0m\u001b[0;34m\u001b[0m\u001b[0m\n\u001b[0m\u001b[1;32m   1600\u001b[0m \u001b[0;34m\u001b[0m\u001b[0m\n\u001b[1;32m   1601\u001b[0m         \u001b[0mbound\u001b[0m \u001b[0;34m=\u001b[0m \u001b[0mnew_sig\u001b[0m\u001b[0;34m.\u001b[0m\u001b[0mbind\u001b[0m\u001b[0;34m(\u001b[0m\u001b[0max\u001b[0m\u001b[0;34m,\u001b[0m \u001b[0;34m*\u001b[0m\u001b[0margs\u001b[0m\u001b[0;34m,\u001b[0m \u001b[0;34m**\u001b[0m\u001b[0mkwargs\u001b[0m\u001b[0;34m)\u001b[0m\u001b[0;34m\u001b[0m\u001b[0;34m\u001b[0m\u001b[0m\n",
      "\u001b[0;32m~/opt/anaconda3/lib/python3.7/site-packages/matplotlib/axes/_axes.py\u001b[0m in \u001b[0;36mbar\u001b[0;34m(self, x, height, width, bottom, align, **kwargs)\u001b[0m\n\u001b[1;32m   2372\u001b[0m         x, height, width, y, linewidth = np.broadcast_arrays(\n\u001b[1;32m   2373\u001b[0m             \u001b[0;31m# Make args iterable too.\u001b[0m\u001b[0;34m\u001b[0m\u001b[0;34m\u001b[0m\u001b[0;34m\u001b[0m\u001b[0m\n\u001b[0;32m-> 2374\u001b[0;31m             np.atleast_1d(x), height, width, y, linewidth)\n\u001b[0m\u001b[1;32m   2375\u001b[0m \u001b[0;34m\u001b[0m\u001b[0m\n\u001b[1;32m   2376\u001b[0m         \u001b[0;31m# Now that units have been converted, set the tick locations.\u001b[0m\u001b[0;34m\u001b[0m\u001b[0;34m\u001b[0m\u001b[0;34m\u001b[0m\u001b[0m\n",
      "\u001b[0;32m<__array_function__ internals>\u001b[0m in \u001b[0;36mbroadcast_arrays\u001b[0;34m(*args, **kwargs)\u001b[0m\n",
      "\u001b[0;32m~/opt/anaconda3/lib/python3.7/site-packages/numpy/lib/stride_tricks.py\u001b[0m in \u001b[0;36mbroadcast_arrays\u001b[0;34m(*args, **kwargs)\u001b[0m\n\u001b[1;32m    262\u001b[0m     \u001b[0margs\u001b[0m \u001b[0;34m=\u001b[0m \u001b[0;34m[\u001b[0m\u001b[0mnp\u001b[0m\u001b[0;34m.\u001b[0m\u001b[0marray\u001b[0m\u001b[0;34m(\u001b[0m\u001b[0m_m\u001b[0m\u001b[0;34m,\u001b[0m \u001b[0mcopy\u001b[0m\u001b[0;34m=\u001b[0m\u001b[0;32mFalse\u001b[0m\u001b[0;34m,\u001b[0m \u001b[0msubok\u001b[0m\u001b[0;34m=\u001b[0m\u001b[0msubok\u001b[0m\u001b[0;34m)\u001b[0m \u001b[0;32mfor\u001b[0m \u001b[0m_m\u001b[0m \u001b[0;32min\u001b[0m \u001b[0margs\u001b[0m\u001b[0;34m]\u001b[0m\u001b[0;34m\u001b[0m\u001b[0;34m\u001b[0m\u001b[0m\n\u001b[1;32m    263\u001b[0m \u001b[0;34m\u001b[0m\u001b[0m\n\u001b[0;32m--> 264\u001b[0;31m     \u001b[0mshape\u001b[0m \u001b[0;34m=\u001b[0m \u001b[0m_broadcast_shape\u001b[0m\u001b[0;34m(\u001b[0m\u001b[0;34m*\u001b[0m\u001b[0margs\u001b[0m\u001b[0;34m)\u001b[0m\u001b[0;34m\u001b[0m\u001b[0;34m\u001b[0m\u001b[0m\n\u001b[0m\u001b[1;32m    265\u001b[0m \u001b[0;34m\u001b[0m\u001b[0m\n\u001b[1;32m    266\u001b[0m     \u001b[0;32mif\u001b[0m \u001b[0mall\u001b[0m\u001b[0;34m(\u001b[0m\u001b[0marray\u001b[0m\u001b[0;34m.\u001b[0m\u001b[0mshape\u001b[0m \u001b[0;34m==\u001b[0m \u001b[0mshape\u001b[0m \u001b[0;32mfor\u001b[0m \u001b[0marray\u001b[0m \u001b[0;32min\u001b[0m \u001b[0margs\u001b[0m\u001b[0;34m)\u001b[0m\u001b[0;34m:\u001b[0m\u001b[0;34m\u001b[0m\u001b[0;34m\u001b[0m\u001b[0m\n",
      "\u001b[0;32m~/opt/anaconda3/lib/python3.7/site-packages/numpy/lib/stride_tricks.py\u001b[0m in \u001b[0;36m_broadcast_shape\u001b[0;34m(*args)\u001b[0m\n\u001b[1;32m    189\u001b[0m     \u001b[0;31m# use the old-iterator because np.nditer does not handle size 0 arrays\u001b[0m\u001b[0;34m\u001b[0m\u001b[0;34m\u001b[0m\u001b[0;34m\u001b[0m\u001b[0m\n\u001b[1;32m    190\u001b[0m     \u001b[0;31m# consistently\u001b[0m\u001b[0;34m\u001b[0m\u001b[0;34m\u001b[0m\u001b[0;34m\u001b[0m\u001b[0m\n\u001b[0;32m--> 191\u001b[0;31m     \u001b[0mb\u001b[0m \u001b[0;34m=\u001b[0m \u001b[0mnp\u001b[0m\u001b[0;34m.\u001b[0m\u001b[0mbroadcast\u001b[0m\u001b[0;34m(\u001b[0m\u001b[0;34m*\u001b[0m\u001b[0margs\u001b[0m\u001b[0;34m[\u001b[0m\u001b[0;34m:\u001b[0m\u001b[0;36m32\u001b[0m\u001b[0;34m]\u001b[0m\u001b[0;34m)\u001b[0m\u001b[0;34m\u001b[0m\u001b[0;34m\u001b[0m\u001b[0m\n\u001b[0m\u001b[1;32m    192\u001b[0m     \u001b[0;31m# unfortunately, it cannot handle 32 or more arguments directly\u001b[0m\u001b[0;34m\u001b[0m\u001b[0;34m\u001b[0m\u001b[0;34m\u001b[0m\u001b[0m\n\u001b[1;32m    193\u001b[0m     \u001b[0;32mfor\u001b[0m \u001b[0mpos\u001b[0m \u001b[0;32min\u001b[0m \u001b[0mrange\u001b[0m\u001b[0;34m(\u001b[0m\u001b[0;36m32\u001b[0m\u001b[0;34m,\u001b[0m \u001b[0mlen\u001b[0m\u001b[0;34m(\u001b[0m\u001b[0margs\u001b[0m\u001b[0;34m)\u001b[0m\u001b[0;34m,\u001b[0m \u001b[0;36m31\u001b[0m\u001b[0;34m)\u001b[0m\u001b[0;34m:\u001b[0m\u001b[0;34m\u001b[0m\u001b[0;34m\u001b[0m\u001b[0m\n",
      "\u001b[0;31mValueError\u001b[0m: shape mismatch: objects cannot be broadcast to a single shape"
     ]
    },
    {
     "data": {
      "image/png": "[encoded data removed]",
      "text/plain": [
       "<Figure size 432x288 with 1 Axes>"
      ]
     },
     "metadata": {},
     "output_type": "display_data"
    }
   ],
   "source": [
    "with plt.rc_context({'axes.edgecolor':'black', 'xtick.color':'black', 'ytick.color':'black', 'figure.facecolor':'white'}):    \n",
    "    plt.barh(attributes,xgb.feature_importances_)\n",
    "    plt.title('XG-Boost Feature Importance')"
   ]
  },
  {
   "cell_type": "code",
   "execution_count": 759,
   "metadata": {},
   "outputs": [
    {
     "data": {
      "image/png": "[encoded data removed]",
      "text/plain": [
       "<Figure size 432x288 with 1 Axes>"
      ]
     },
     "metadata": {},
     "output_type": "display_data"
    }
   ],
   "source": [
    "with plt.rc_context({'axes.edgecolor':'black', 'xtick.color':'black', 'ytick.color':'black', 'figure.facecolor':'white'}):    \n",
    "    plt.barh(attributes, decision_tree.feature_importances_)\n",
    "    atures = ['LOUDNESS',\n",
    "'ENERGY',\n",
    "'DURATION_MS',\n",
    "'TEMPO',\n",
    "'ACOUSTICNESS',\n",
    "'LIVENESS',\n",
    "'DANCEABILITY',\n",
    "'VALENCE']\n",
    "    plt.title('')"
   ]
  },
  {
   "cell_type": "code",
   "execution_count": null,
   "metadata": {},
   "outputs": [],
   "source": [
    "def plot_precsion_recall_vs_threshold(precision, recall, threshold):\n",
    "    plt.plot"
   ]
  },
  {
   "cell_type": "code",
   "execution_count": 576,
   "metadata": {},
   "outputs": [
    {
     "ename": "NameError",
     "evalue": "name 'cross_val_predict' is not defined",
     "output_type": "error",
     "traceback": [
      "\u001b[0;31m---------------------------------------------------------------------------\u001b[0m",
      "\u001b[0;31mNameError\u001b[0m                                 Traceback (most recent call last)",
      "\u001b[0;32m<ipython-input-576-8f867ccf8833>\u001b[0m in \u001b[0;36m<module>\u001b[0;34m\u001b[0m\n\u001b[0;32m----> 1\u001b[0;31m y_scores = cross_val_predict(sgd_clf, X_train, y_train_5, cv=3,\n\u001b[0m\u001b[1;32m      2\u001b[0m                              method=\"decision_function\")\n",
      "\u001b[0;31mNameError\u001b[0m: name 'cross_val_predict' is not defined"
     ]
    }
   ],
   "source": [
    "y_scores = cross_val_predict(sgd_clf, X_train, y_train_5, cv=3,\n",
    "                             method=\"decision_function\")"
   ]
  },
  {
   "cell_type": "code",
   "execution_count": null,
   "metadata": {},
   "outputs": [],
   "source": [
    "from sklearn.metrics import precision_recall_curve\n",
    "\n",
    "precisions, recalls, thresholds = precision_recall_curve(y_train_5, y_scores"
   ]
  },
  {
   "cell_type": "code",
   "execution_count": 577,
   "metadata": {},
   "outputs": [
    {
     "ename": "NameError",
     "evalue": "name 'precisions' is not defined",
     "output_type": "error",
     "traceback": [
      "\u001b[0;31m---------------------------------------------------------------------------\u001b[0m",
      "\u001b[0;31mNameError\u001b[0m                                 Traceback (most recent call last)",
      "\u001b[0;32m<ipython-input-577-1d7d9eea628c>\u001b[0m in \u001b[0;36m<module>\u001b[0;34m\u001b[0m\n\u001b[1;32m      6\u001b[0m \u001b[0;34m\u001b[0m\u001b[0m\n\u001b[1;32m      7\u001b[0m \u001b[0mplt\u001b[0m\u001b[0;34m.\u001b[0m\u001b[0mfigure\u001b[0m\u001b[0;34m(\u001b[0m\u001b[0mfigsize\u001b[0m\u001b[0;34m=\u001b[0m\u001b[0;34m(\u001b[0m\u001b[0;36m8\u001b[0m\u001b[0;34m,\u001b[0m \u001b[0;36m6\u001b[0m\u001b[0;34m)\u001b[0m\u001b[0;34m)\u001b[0m\u001b[0;34m\u001b[0m\u001b[0;34m\u001b[0m\u001b[0m\n\u001b[0;32m----> 8\u001b[0;31m \u001b[0mplot_precision_vs_recall\u001b[0m\u001b[0;34m(\u001b[0m\u001b[0mprecisions\u001b[0m\u001b[0;34m,\u001b[0m \u001b[0mrecalls\u001b[0m\u001b[0;34m)\u001b[0m\u001b[0;34m\u001b[0m\u001b[0;34m\u001b[0m\u001b[0m\n\u001b[0m\u001b[1;32m      9\u001b[0m \u001b[0msave_fig\u001b[0m\u001b[0;34m(\u001b[0m\u001b[0;34m\"precision_vs_recall_plot\"\u001b[0m\u001b[0;34m)\u001b[0m\u001b[0;34m\u001b[0m\u001b[0;34m\u001b[0m\u001b[0m\n\u001b[1;32m     10\u001b[0m \u001b[0mplt\u001b[0m\u001b[0;34m.\u001b[0m\u001b[0mshow\u001b[0m\u001b[0;34m(\u001b[0m\u001b[0;34m)\u001b[0m\u001b[0;34m\u001b[0m\u001b[0;34m\u001b[0m\u001b[0m\n",
      "\u001b[0;31mNameError\u001b[0m: name 'precisions' is not defined"
     ]
    },
    {
     "data": {
      "text/plain": [
       "<Figure size 576x432 with 0 Axes>"
      ]
     },
     "metadata": {},
     "output_type": "display_data"
    }
   ],
   "source": [
    "def plot_precision_vs_recall(precisions, recalls):\n",
    "    plt.plot(recalls, precisions, \"b-\", linewidth=2)\n",
    "    plt.xlabel(\"Recall\", fontsize=16)\n",
    "    plt.ylabel(\"Precision\", fontsize=16)\n",
    "    plt.axis([0, 1, 0, 1])\n",
    "\n",
    "plt.figure(figsize=(8, 6))\n",
    "plot_precision_vs_recall(precisions, recalls)\n",
    "save_fig(\"precision_vs_recall_plot\")\n",
    "plt.show()"
   ]
  },
  {
   "cell_type": "code",
   "execution_count": 743,
   "metadata": {},
   "outputs": [
    {
     "data": {
      "image/png": "[encoded data removed]",
      "text/plain": [
       "<Figure size 576x288 with 1 Axes>"
      ]
     },
     "metadata": {},
     "output_type": "display_data"
    }
   ],
   "source": [
    "from sklearn.metrics import precision_recall_curve\n",
    "\n",
    "precisions, recalls, thresholds = precision_recall_curve(test_set_y, svc_probab_1)\n",
    "\n",
    "def plot_precision_recall_vs_threshold(precisions, recalls, thresholds):\n",
    "    plt.plot(thresholds, precisions[:-1], \"b--\", label=\"Precision\", linewidth=2)\n",
    "    plt.plot(thresholds, recalls[:-1], \"g-\", label=\"Recall\", linewidth=2)\n",
    "    plt.xlabel(\"Threshold\", fontsize=16)\n",
    "    plt.legend(loc=\"upper left\", fontsize=16)\n",
    "    plt.ylim([0, 1])\n",
    "with plt.rc_context({'axes.edgecolor':'black', 'xtick.color':'black', 'ytick.color':'black', 'figure.facecolor':'white'}):    \n",
    "    plt.figure(figsize=(8, 4))\n",
    "    plot_precision_recall_vs_threshold(precisions, recalls, thresholds)\n",
    "    plt.xlim([0,1])\n",
    "    plt.ylim([-0.1,1.2])\n",
    "    plt.title('SVC')\n",
    "    plt.legend(loc = 3)\n",
    "    plt.grid(linewidth = 1)\n",
    "    plt.show()"
   ]
  },
  {
   "cell_type": "code",
   "execution_count": 673,
   "metadata": {},
   "outputs": [],
   "source": [
    "threshold=0.6# apply threshold to positive probabilities to create labels\n",
    "def to_labels(pos_probs, threshold):\n",
    "    a=[]\n",
    "    for i in pos_probs:\n",
    "        if (i>=threshold):\n",
    "            a.append(1)\n",
    "        else:\n",
    "            a.append(0)\n",
    "    \n",
    "         \n",
    "    return a"
   ]
  },
  {
   "cell_type": "code",
   "execution_count": 674,
   "metadata": {},
   "outputs": [],
   "source": [
    "hh = to_labels(random_forest_probab_1, threshold)"
   ]
  },
  {
   "cell_type": "code",
   "execution_count": 675,
   "metadata": {},
   "outputs": [
    {
     "data": {
      "text/plain": [
       "0.7938144329896907"
      ]
     },
     "execution_count": 675,
     "metadata": {},
     "output_type": "execute_result"
    }
   ],
   "source": [
    "precision_score(test_set_y, hh)"
   ]
  },
  {
   "cell_type": "code",
   "execution_count": 676,
   "metadata": {},
   "outputs": [
    {
     "data": {
      "text/plain": [
       "0.5923076923076923"
      ]
     },
     "execution_count": 676,
     "metadata": {},
     "output_type": "execute_result"
    }
   ],
   "source": [
    "recall_score(test_set_y, hh)"
   ]
  },
  {
   "cell_type": "code",
   "execution_count": 677,
   "metadata": {},
   "outputs": [
    {
     "data": {
      "text/plain": [
       "0.7447552447552448"
      ]
     },
     "execution_count": 677,
     "metadata": {},
     "output_type": "execute_result"
    }
   ],
   "source": [
    "accuracy_score(test_set_y, hh)"
   ]
  },
  {
   "cell_type": "code",
   "execution_count": 678,
   "metadata": {},
   "outputs": [],
   "source": [
    "rf_cm = confusion_matrix(test_set_y, random_forest_final_prediction)"
   ]
  },
  {
   "cell_type": "code",
   "execution_count": 683,
   "metadata": {},
   "outputs": [],
   "source": [
    "rf_cm = list(rf_cm)"
   ]
  },
  {
   "cell_type": "code",
   "execution_count": 687,
   "metadata": {},
   "outputs": [],
   "source": [
    "def to_1d_list(list_2d):\n",
    "    a=[]\n",
    "    for i in list_2d:\n",
    "        for j in i:\n",
    "            a.append(j)\n",
    "    return a\n",
    "rf_cm=to_1d_list(rf_cm)"
   ]
  },
  {
   "cell_type": "code",
   "execution_count": 689,
   "metadata": {},
   "outputs": [],
   "source": [
    "l=['True Positive ','False Positive','False Negative', 'True Negative']\n"
   ]
  },
  {
   "cell_type": "code",
   "execution_count": 725,
   "metadata": {},
   "outputs": [
    {
     "data": {
      "image/png": "[encoded data removed]",
      "text/plain": [
       "<Figure size 720x720 with 1 Axes>"
      ]
     },
     "metadata": {},
     "output_type": "display_data"
    }
   ],
   "source": [
    "with plt.rc_context({'axes.edgecolor':'black', 'xtick.color':'black', 'ytick.color':'black', 'figure.facecolor':'white'}): \n",
    "    plt.figure(figsize=(10,10))\n",
    "    plt.pie(rf_cm,labels=l,autopct='%2.1f%%')\n",
    "    plt.legend()\n",
    "    plt.title('Random Forest Confusion Matrix')"
   ]
  },
  {
   "cell_type": "code",
   "execution_count": 705,
   "metadata": {},
   "outputs": [
    {
     "data": {
      "text/plain": [
       "0.0069"
      ]
     },
     "execution_count": 705,
     "metadata": {},
     "output_type": "execute_result"
    }
   ],
   "source": [
    "train_set_x['ENERGY'].min()"
   ]
  },
  {
   "cell_type": "code",
   "execution_count": 709,
   "metadata": {},
   "outputs": [
    {
     "data": {
      "image/png": "[encoded data removed]",
      "text/plain": [
       "<Figure size 1800x1080 with 1 Axes>"
      ]
     },
     "metadata": {},
     "output_type": "display_data"
    }
   ],
   "source": [
    "\n",
    "\n",
    "import numpy as np\n",
    "import matplotlib.pyplot as plt\n",
    "acc_score = [knn_score,decsison_tree_score,sgd_score,svc_score,random_forest_score,xgb_score]\n",
    "final_acc_score = [knn_final_score,decision_tree_final_score,sgd_final_score,svc_final_score,random_forest_final_score,xgb_final_score]\n",
    "with plt.rc_context({'axes.edgecolor':'black', 'xtick.color':'black', 'ytick.color':'black', 'figure.facecolor':'white'}):\n",
    "    # Temporary rc parameters in effect\n",
    "    plt.figure(figsize=(25,15))\n",
    "    w =0.25\n",
    "    x = ['KNN','Decision Tree','SGD','SVC','Random Forest','XGBoost']\n",
    "    bar1 = np.arange(len(x))\n",
    "    bar2 = [i+w for i in bar1]\n",
    "\n",
    "    plt.bar(bar1, acc_score, w,color = 'grey',label = 'Pre Tuning')\n",
    "    plt.bar(bar2, final_acc_score,w, color = 'lightgreen', label = 'Post Tuning')\n",
    "\n",
    "\n",
    "    plt.xticks(bar1, x)\n",
    "    plt.legend()\n",
    "    plt.grid()\n",
    "    plt.ylim(0.5,0.8)\n",
    "    plt.show()\n",
    "\n",
    "\n"
   ]
  },
  {
   "cell_type": "code",
   "execution_count": 716,
   "metadata": {},
   "outputs": [],
   "source": [
    "k_fold_mean = [knn_cross_val_array.mean(),decision_tree_cross_val_array.mean(),sgd_cross_val_array.mean(), svc_cross_val_array.mean(),random_forest_cross_val_array.mean(), xgb_cross_val_array.mean()]\n",
    "    "
   ]
  },
  {
   "cell_type": "code",
   "execution_count": 717,
   "metadata": {},
   "outputs": [
    {
     "data": {
      "text/plain": [
       "[0.6324561403508773,\n",
       " 0.7192982456140351,\n",
       " 0.6745614035087719,\n",
       " 0.7377192982456141,\n",
       " 0.7614035087719299,\n",
       " 0.7280701754385964]"
      ]
     },
     "execution_count": 717,
     "metadata": {},
     "output_type": "execute_result"
    }
   ],
   "source": [
    "k_fold_mean"
   ]
  },
  {
   "cell_type": "code",
   "execution_count": 724,
   "metadata": {},
   "outputs": [
    {
     "name": "stderr",
     "output_type": "stream",
     "text": [
      "No handles with labels found to put in legend.\n"
     ]
    },
    {
     "data": {
      "image/png": "[encoded data removed]",
      "text/plain": [
       "<Figure size 1800x1080 with 1 Axes>"
      ]
     },
     "metadata": {},
     "output_type": "display_data"
    }
   ],
   "source": [
    "\n",
    "import numpy as np\n",
    "import matplotlib.pyplot as plt\n",
    "acc_score = [knn_score,decsison_tree_score,sgd_score,svc_score,random_forest_score,xgb_score]\n",
    "final_acc_score = [knn_final_score,decision_tree_final_score,sgd_final_score,svc_final_score,random_forest_final_score,xgb_final_score]\n",
    "with plt.rc_context({'axes.edgecolor':'black', 'xtick.color':'black', 'ytick.color':'black', 'figure.facecolor':'white'}):\n",
    "    # Temporary rc parameters in effect\n",
    "    plt.figure(figsize=(25,15))\n",
    "    w =0.5\n",
    "    x = ['KNN','Decision Tree','SGD','SVC','Random Forest','XGBoost']\n",
    "    bar1 = np.arange(len(x))\n",
    "    \n",
    "\n",
    "    plt.bar(bar1, k_fold_mean, w,color = 'lightgreen',)\n",
    " \n",
    "\n",
    "\n",
    "    plt.xticks(bar1, x)\n",
    "    plt.legend()\n",
    "    plt.title('K-Fold Validation Means')\n",
    "    plt.grid()\n",
    "    plt.ylim(0.6,0.8)\n",
    "    plt.show()\n",
    "\n",
    "\n"
   ]
  },
  {
   "cell_type": "code",
   "execution_count": 726,
   "metadata": {},
   "outputs": [],
   "source": [
    "xg_cm = confusion_matrix(test_set_y, xgb_final_prediction)"
   ]
  },
  {
   "cell_type": "code",
   "execution_count": 727,
   "metadata": {},
   "outputs": [],
   "source": [
    "xg_cm = to_1d_list(xg_cm)"
   ]
  },
  {
   "cell_type": "code",
   "execution_count": 728,
   "metadata": {},
   "outputs": [
    {
     "data": {
      "image/png": "[encoded data removed]",
      "text/plain": [
       "<Figure size 720x720 with 1 Axes>"
      ]
     },
     "metadata": {},
     "output_type": "display_data"
    }
   ],
   "source": [
    "with plt.rc_context({'axes.edgecolor':'black', 'xtick.color':'black', 'ytick.color':'black', 'figure.facecolor':'white'}): \n",
    "    plt.figure(figsize=(10,10))\n",
    "    plt.pie(xg_cm,labels=l,autopct='%2.1f%%')\n",
    "    plt.legend()\n",
    "    plt.title('XGBoost Confusion Matrix')"
   ]
  },
  {
   "cell_type": "code",
   "execution_count": 729,
   "metadata": {},
   "outputs": [
    {
     "data": {
      "image/png": "[encoded data removed]",
      "text/plain": [
       "<Figure size 720x720 with 1 Axes>"
      ]
     },
     "metadata": {},
     "output_type": "display_data"
    }
   ],
   "source": [
    "knn_cm = confusion_matrix(test_set_y,knn_final_prediction)\n",
    "knn_cm = to_1d_list(knn_cm)\n",
    "with plt.rc_context({'axes.edgecolor':'black', 'xtick.color':'black', 'ytick.color':'black', 'figure.facecolor':'white'}): \n",
    "    plt.figure(figsize=(10,10))\n",
    "    plt.pie(knn_cm,labels=l,autopct='%2.1f%%')\n",
    "    plt.legend()\n",
    "    plt.title('K-Nearest Neighbor Confusion Matrix')\n"
   ]
  },
  {
   "cell_type": "code",
   "execution_count": 775,
   "metadata": {},
   "outputs": [
    {
     "data": {
      "image/png": "[encoded data removed]",
      "text/plain": [
       "<Figure size 432x288 with 1 Axes>"
      ]
     },
     "metadata": {},
     "output_type": "display_data"
    }
   ],
   "source": [
    "with plt.rc_context({'axes.edgecolor':'black', 'xtick.color':'black', 'ytick.color':'black', 'figure.facecolor':'white'}):    \n",
    "    plt.barh(attributes,random_forest.feature_importances_)\n",
    "    plt.title(' Random Forest Feature Importance')"
   ]
  },
  {
   "cell_type": "code",
   "execution_count": 756,
   "metadata": {},
   "outputs": [
    {
     "data": {
      "text/plain": [
       "array([0.1900463 , 0.15382311, 0.1869939 , 0.24441903, 0.22471766])"
      ]
     },
     "execution_count": 756,
     "metadata": {},
     "output_type": "execute_result"
    }
   ],
   "source": [
    "fi = random_forest.feature_importances_\n",
    "fi"
   ]
  },
  {
   "cell_type": "code",
   "execution_count": 772,
   "metadata": {},
   "outputs": [
    {
     "data": {
      "text/plain": [
       "array([0.04156541, 0.00970012, 0.00807783, 0.08372587, 0.1143194 ,\n",
       "       0.10684375, 0.16527379, 0.07873624, 0.13863795, 0.089174  ,\n",
       "       0.08187674, 0.0820689 ])"
      ]
     },
     "execution_count": 772,
     "metadata": {},
     "output_type": "execute_result"
    }
   ],
   "source": [
    "random_forest.feature_importances_"
   ]
  },
  {
   "cell_type": "code",
   "execution_count": null,
   "metadata": {},
   "outputs": [],
   "source": []
  }
 ],
 "metadata": {
  "kernelspec": {
   "display_name": "Python 3",
   "language": "python",
   "name": "python3"
  },
  "language_info": {
   "codemirror_mode": {
    "name": "ipython",
    "version": 3
   },
   "file_extension": ".py",
   "mimetype": "text/x-python",
   "name": "python",
   "nbconvert_exporter": "python",
   "pygments_lexer": "ipython3",
   "version": "3.7.6"
  }
 },
 "nbformat": 4,
 "nbformat_minor": 4
}
